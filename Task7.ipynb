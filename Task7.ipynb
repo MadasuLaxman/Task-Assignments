{
 "cells": [
  {
   "cell_type": "markdown",
   "id": "f02710a3",
   "metadata": {},
   "source": [
    "\n",
    "**Task 1: Dictionary Basics**\n",
    "Create a Python program that defines a dictionary to store information about your `favorite book`. Include the title, author, publication year, and genre as key-value pairs. Print out the dictionary.and do atleast 5 dictionary methods on it.\n"
   ]
  },
  {
   "cell_type": "code",
   "execution_count": 79,
   "id": "6e0f4bee",
   "metadata": {},
   "outputs": [],
   "source": [
    "favorite_book = { \"Title\":\"Apple Cart\",\"Author\":\"George Bernard Shaw\",\"published\":1929,\"genre\":\"satirical comedy\"}"
   ]
  },
  {
   "cell_type": "code",
   "execution_count": 80,
   "id": "d4d7b558",
   "metadata": {},
   "outputs": [
    {
     "data": {
      "text/plain": [
       "{'Title': 'Apple Cart',\n",
       " 'Author': 'George Bernard Shaw',\n",
       " 'published': 1929,\n",
       " 'genre': 'satirical comedy'}"
      ]
     },
     "execution_count": 80,
     "metadata": {},
     "output_type": "execute_result"
    }
   ],
   "source": [
    "favorite_book"
   ]
  },
  {
   "cell_type": "code",
   "execution_count": 82,
   "id": "2ea0ee4b",
   "metadata": {},
   "outputs": [
    {
     "data": {
      "text/plain": [
       "'Apple Cart'"
      ]
     },
     "execution_count": 82,
     "metadata": {},
     "output_type": "execute_result"
    }
   ],
   "source": [
    "favorite_book.get(\"Title\")"
   ]
  },
  {
   "cell_type": "code",
   "execution_count": 83,
   "id": "d94530be",
   "metadata": {},
   "outputs": [
    {
     "data": {
      "text/plain": [
       "dict_items([('Title', 'Apple Cart'), ('Author', 'George Bernard Shaw'), ('published', 1929), ('genre', 'satirical comedy')])"
      ]
     },
     "execution_count": 83,
     "metadata": {},
     "output_type": "execute_result"
    }
   ],
   "source": [
    "favorite_book.items()"
   ]
  },
  {
   "cell_type": "code",
   "execution_count": 84,
   "id": "f0e46eb1",
   "metadata": {},
   "outputs": [
    {
     "data": {
      "text/plain": [
       "dict_keys(['Title', 'Author', 'published', 'genre'])"
      ]
     },
     "execution_count": 84,
     "metadata": {},
     "output_type": "execute_result"
    }
   ],
   "source": [
    "favorite_book.keys()"
   ]
  },
  {
   "cell_type": "code",
   "execution_count": 86,
   "id": "fc816ea1",
   "metadata": {},
   "outputs": [
    {
     "data": {
      "text/plain": [
       "dict_values(['Apple Cart', 'George Bernard Shaw', 1929, 'satirical comedy'])"
      ]
     },
     "execution_count": 86,
     "metadata": {},
     "output_type": "execute_result"
    }
   ],
   "source": [
    "favorite_book.values()"
   ]
  },
  {
   "cell_type": "code",
   "execution_count": 88,
   "id": "444a041d",
   "metadata": {},
   "outputs": [
    {
     "data": {
      "text/plain": [
       "'satirical comedy'"
      ]
     },
     "execution_count": 88,
     "metadata": {},
     "output_type": "execute_result"
    }
   ],
   "source": [
    "favorite_book.pop(\"genre\")"
   ]
  },
  {
   "cell_type": "code",
   "execution_count": 89,
   "id": "cb6ba65a",
   "metadata": {},
   "outputs": [
    {
     "data": {
      "text/plain": [
       "{'Title': 'Apple Cart', 'Author': 'George Bernard Shaw', 'published': 1929}"
      ]
     },
     "execution_count": 89,
     "metadata": {},
     "output_type": "execute_result"
    }
   ],
   "source": [
    "favorite_book"
   ]
  },
  {
   "cell_type": "markdown",
   "id": "4e5a0063",
   "metadata": {},
   "source": [
    "**Task 2: Dictionary Lookup**\n",
    "Write a Python program that simulates a simple dictionary for translating `English words to Spanish`. Define a dictionary containing a few English words as `keys` and their corresponding Spanish translations as `values`. Allow `users to enter` an English word, and then display its Spanish translation `if it exists` in the dictionary.(use google for English to Spanish translator)"
   ]
  },
  {
   "cell_type": "code",
   "execution_count": 36,
   "id": "4c040312",
   "metadata": {},
   "outputs": [
    {
     "name": "stdout",
     "output_type": "stream",
     "text": [
      "Enter a English Word to translate::loves\n"
     ]
    },
    {
     "data": {
      "text/plain": [
       "{'afición', 'amado', 'amor', 'cariño', 'gusto'}"
      ]
     },
     "execution_count": 36,
     "metadata": {},
     "output_type": "execute_result"
    }
   ],
   "source": [
    "Dictionary = {'Loves': {\"amor\", \"cariño\", \"afición\", \"gusto\", \"amado\"},\n",
    "              'Book': {\"libro\"},\n",
    "              'Student':{\"alumna\",\"alumno\"},\n",
    "              'Class':{\"clase\"},\n",
    "              'Text':{\"texto\"},\n",
    "              'College':{\"colega\"},\n",
    "              'Computer':{\"computadora\"},\n",
    "              'Dictionary':{\"diccionario\"},}\n",
    "select = input(\"Enter a English Word to translate::\")\n",
    "Dictionary[select.capitalize()]            "
   ]
  },
  {
   "cell_type": "markdown",
   "id": "896b0433",
   "metadata": {},
   "source": [
    "**Task 3: Student Grades**\n",
    "Create a Python program that stores the `grades of five students` in a dictionary. Allow users to input the names of the students and their respective grades. Calculate and display the `average grade` of the students."
   ]
  },
  {
   "cell_type": "code",
   "execution_count": 33,
   "id": "ece336d7",
   "metadata": {},
   "outputs": [
    {
     "name": "stdout",
     "output_type": "stream",
     "text": [
      "Enter a name : ram\n"
     ]
    },
    {
     "data": {
      "text/plain": [
       "9.1"
      ]
     },
     "execution_count": 33,
     "metadata": {},
     "output_type": "execute_result"
    }
   ],
   "source": [
    "students_grades = {\"Laxman\":8.8,\"Sathish\":9.0,\"venky\":8.7,\"Ram\":9.1,\"Charan\":7.5}\n",
    "search = input(\"Enter a name : \")\n",
    "students_grades[search.capitalize()]\n"
   ]
  },
  {
   "cell_type": "raw",
   "id": "292bca89",
   "metadata": {},
   "source": [
    "#not yet done\n",
    "a = input(\"Enter the name: \")\n",
    "b = input(\"Enter the grade : \")\n",
    "values = sum{grades.}\n",
    "total = len(students and grades)\n",
    "avg = values/total\n",
    "print(grades)\n",
    "print(\"average grade of students is \" , avg)\n",
    "grades = {\"8.8\",\"9.0\",\"8.7\",\"9.1\",\"7.5\"}\n",
    "average = dict(zip(students,grades))\n",
    "print(average)"
   ]
  },
  {
   "cell_type": "raw",
   "id": "475d7fd5",
   "metadata": {},
   "source": [
    "students = {\"Laxman\",\"Sathish\",\"venky\",\"Ram\",\"Charan\"}\n",
    "grades = {\"8.8\",\"9.0\",\"8.7\",\"9.1\",\"7.5\"}\n",
    "average = dict(zip(students,grades))\n",
    "students = grades\n",
    "search = input(\"Enter the name or score: \")\n",
    "search1 = input(\"Enter the grade:\")\n",
    "students[search.capitalize()]\n",
    "students_grades[search.capitalize()]\n",
    "values = (students_grades.keys())\n",
    "total = (students_grades.values())\n",
    "avg = sum(search1/1)\n",
    "print(students_grades)\n",
    "print(\"average grade of students is \" , avg)"
   ]
  },
  {
   "cell_type": "code",
   "execution_count": null,
   "id": "79c3ca66",
   "metadata": {},
   "outputs": [],
   "source": []
  },
  {
   "cell_type": "markdown",
   "id": "30a64e47",
   "metadata": {},
   "source": [
    "**Task 4: Contact List**\n",
    "Build a basic contact list using a dictionary. Initially, the dictionary can be `empty`. Allow users to `add new contacts` with `names and phone numbers`. Users should also be able to search for contacts by name and display their phone numbers(use in operator)."
   ]
  },
  {
   "cell_type": "code",
   "execution_count": 51,
   "id": "e188ea24",
   "metadata": {},
   "outputs": [],
   "source": [
    "contacts = {}"
   ]
  },
  {
   "cell_type": "code",
   "execution_count": 52,
   "id": "07ccd19a",
   "metadata": {},
   "outputs": [
    {
     "data": {
      "text/plain": [
       "{}"
      ]
     },
     "execution_count": 52,
     "metadata": {},
     "output_type": "execute_result"
    }
   ],
   "source": [
    "contacts"
   ]
  },
  {
   "cell_type": "code",
   "execution_count": 53,
   "id": "cb40ae67",
   "metadata": {},
   "outputs": [
    {
     "data": {
      "text/plain": [
       "dict"
      ]
     },
     "execution_count": 53,
     "metadata": {},
     "output_type": "execute_result"
    }
   ],
   "source": [
    "type(contacts)"
   ]
  },
  {
   "cell_type": "code",
   "execution_count": 58,
   "id": "357e769e",
   "metadata": {
    "scrolled": true
   },
   "outputs": [
    {
     "name": "stdout",
     "output_type": "stream",
     "text": [
      "Enter a contact name::ram\n"
     ]
    },
    {
     "data": {
      "text/plain": [
       "8688215573"
      ]
     },
     "execution_count": 58,
     "metadata": {},
     "output_type": "execute_result"
    }
   ],
   "source": [
    "contacts.update({\"Laxman\":9502513183,\"Sathish\":9121363314,\"charan\":9550461534,\"Venky\":8009554252,\"Ram\":8688215573})\n",
    "select = input(\"Enter a contact name::\")\n",
    "contacts[select.capitalize()]"
   ]
  },
  {
   "cell_type": "code",
   "execution_count": 59,
   "id": "dc66ec46",
   "metadata": {},
   "outputs": [
    {
     "data": {
      "text/plain": [
       "{'Laxman': 9502513183,\n",
       " 'Sathish': 9121363314,\n",
       " 'charan': 9550461534,\n",
       " 'Venky': 8009554252,\n",
       " 'Ram': 8688215573}"
      ]
     },
     "execution_count": 59,
     "metadata": {},
     "output_type": "execute_result"
    }
   ],
   "source": [
    "contacts"
   ]
  },
  {
   "cell_type": "markdown",
   "id": "158975b8",
   "metadata": {},
   "source": [
    "\n",
    "\n",
    "\n",
    "\n",
    "**Task 5: Dictionary Iteration**\n",
    "Write a Python program that defines a dictionary containing the names of `fruits as keys` and their corresponding `colors as values` (e.g., 'apple': 'red').Do atleast 5 dictionary methods on it."
   ]
  },
  {
   "cell_type": "code",
   "execution_count": 96,
   "id": "feab232a",
   "metadata": {},
   "outputs": [
    {
     "data": {
      "text/plain": [
       "{'apple': 'red',\n",
       " 'mango': 'green',\n",
       " 'banana': 'yellow',\n",
       " 'orange': 'orange',\n",
       " 'red grapes': 'violet'}"
      ]
     },
     "execution_count": 96,
     "metadata": {},
     "output_type": "execute_result"
    }
   ],
   "source": [
    "fruits = {'apple': 'red','mango': 'green','banana': 'yellow','orange': 'orange','red grapes': 'violet'}\n",
    "fruits"
   ]
  },
  {
   "cell_type": "code",
   "execution_count": 97,
   "id": "0f049768",
   "metadata": {},
   "outputs": [
    {
     "data": {
      "text/plain": [
       "{'apple': 'red',\n",
       " 'mango': 'green',\n",
       " 'banana': 'yellow',\n",
       " 'orange': 'orange',\n",
       " 'red grapes': 'violet'}"
      ]
     },
     "execution_count": 97,
     "metadata": {},
     "output_type": "execute_result"
    }
   ],
   "source": [
    "fruits1 = dict((['apple', 'red'], ['mango', 'green'], ['banana', 'yellow'], ['orange', 'orange'],['red grapes', 'violet']))\n",
    "fruits1"
   ]
  },
  {
   "cell_type": "code",
   "execution_count": 99,
   "id": "85a0c001",
   "metadata": {},
   "outputs": [
    {
     "data": {
      "text/plain": [
       "{'apple': 'red',\n",
       " 'mango': 'green',\n",
       " 'banana': 'yellow',\n",
       " 'orange': 'orange',\n",
       " 'redgrapes': 'violet'}"
      ]
     },
     "execution_count": 99,
     "metadata": {},
     "output_type": "execute_result"
    }
   ],
   "source": [
    "dict(apple = 'red',mango = 'green',banana = 'yellow',orange = 'orange',redgrapes = 'violet')"
   ]
  },
  {
   "cell_type": "code",
   "execution_count": 100,
   "id": "1d8909d5",
   "metadata": {},
   "outputs": [
    {
     "data": {
      "text/plain": [
       "{'apple': 'red',\n",
       " 'mango': 'green',\n",
       " 'banana': 'yellow',\n",
       " 'orange': 'orange',\n",
       " 'red grapes': 'violet'}"
      ]
     },
     "execution_count": 100,
     "metadata": {},
     "output_type": "execute_result"
    }
   ],
   "source": [
    "key = (\"apple\",\"mango\",\"banana\",\"orange\",\"red grapes\")\n",
    "value = (\"red\",\"green\",\"yellow\",\"orange\",\"violet\")\n",
    "fruits2 = dict(zip(key,value))\n",
    "fruits2"
   ]
  },
  {
   "cell_type": "code",
   "execution_count": 101,
   "id": "b6edc2bd",
   "metadata": {},
   "outputs": [
    {
     "data": {
      "text/plain": [
       "dict_items([('apple', 'red'), ('mango', 'green'), ('banana', 'yellow'), ('orange', 'orange'), ('red grapes', 'violet')])"
      ]
     },
     "execution_count": 101,
     "metadata": {},
     "output_type": "execute_result"
    }
   ],
   "source": [
    "fruits.items() "
   ]
  },
  {
   "cell_type": "code",
   "execution_count": 102,
   "id": "6316865a",
   "metadata": {},
   "outputs": [
    {
     "data": {
      "text/plain": [
       "dict_keys(['apple', 'mango', 'banana', 'orange', 'red grapes'])"
      ]
     },
     "execution_count": 102,
     "metadata": {},
     "output_type": "execute_result"
    }
   ],
   "source": [
    "fruits.keys()"
   ]
  },
  {
   "cell_type": "code",
   "execution_count": 103,
   "id": "5e321924",
   "metadata": {},
   "outputs": [
    {
     "data": {
      "text/plain": [
       "dict_values(['red', 'green', 'yellow', 'orange', 'violet'])"
      ]
     },
     "execution_count": 103,
     "metadata": {},
     "output_type": "execute_result"
    }
   ],
   "source": [
    "fruits.values()"
   ]
  },
  {
   "cell_type": "code",
   "execution_count": 104,
   "id": "59577001",
   "metadata": {},
   "outputs": [
    {
     "data": {
      "text/plain": [
       "'red'"
      ]
     },
     "execution_count": 104,
     "metadata": {},
     "output_type": "execute_result"
    }
   ],
   "source": [
    "fruits.get(\"apple\")"
   ]
  },
  {
   "cell_type": "code",
   "execution_count": 105,
   "id": "73546e96",
   "metadata": {},
   "outputs": [
    {
     "data": {
      "text/plain": [
       "'green'"
      ]
     },
     "execution_count": 105,
     "metadata": {},
     "output_type": "execute_result"
    }
   ],
   "source": [
    "fruits.pop(\"mango\")"
   ]
  },
  {
   "cell_type": "code",
   "execution_count": 106,
   "id": "ef833746",
   "metadata": {},
   "outputs": [],
   "source": [
    "fruits.update({\"kiwi\": \"green\",\"white grape\": \"green\"})"
   ]
  },
  {
   "cell_type": "code",
   "execution_count": 107,
   "id": "9187f7f7",
   "metadata": {},
   "outputs": [
    {
     "data": {
      "text/plain": [
       "{'apple': 'red',\n",
       " 'banana': 'yellow',\n",
       " 'orange': 'orange',\n",
       " 'red grapes': 'violet',\n",
       " 'kiwi': 'green',\n",
       " 'white grape': 'green'}"
      ]
     },
     "execution_count": 107,
     "metadata": {},
     "output_type": "execute_result"
    }
   ],
   "source": [
    "fruits"
   ]
  },
  {
   "cell_type": "code",
   "execution_count": null,
   "id": "00c7b32d",
   "metadata": {},
   "outputs": [],
   "source": []
  }
 ],
 "metadata": {
  "kernelspec": {
   "display_name": "Python 3 (ipykernel)",
   "language": "python",
   "name": "python3"
  },
  "language_info": {
   "codemirror_mode": {
    "name": "ipython",
    "version": 3
   },
   "file_extension": ".py",
   "mimetype": "text/x-python",
   "name": "python",
   "nbconvert_exporter": "python",
   "pygments_lexer": "ipython3",
   "version": "3.11.4"
  }
 },
 "nbformat": 4,
 "nbformat_minor": 5
}
