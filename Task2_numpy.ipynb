{
 "cells": [
  {
   "cell_type": "markdown",
   "id": "e4decde1",
   "metadata": {},
   "source": [
    "**Creation of ndarray**\n",
    "\n",
    "1. Write python code to create 3d array in different ways with 15 elements.\n",
    "2. Array Creation:\n",
    "a. Create a 4D NumPy array containing the first 12 positive integers as arr1.\n",
    "b. Create a 3D NumPy array1 with 20 random elements containing integers between 0 and 1.\n",
    "3. Find all attributes of array1 and array2\n",
    "4. Apply measure and describe the data (attributes and descriptive statistics) to above arrays using NumPy.\n",
    "\n",
    "\n",
    "**Array Slicing and Indexing:**\n",
    "\n",
    "a. Creating Arrays:\n",
    "      - Create a 1-dimensional NumPy array  arr1 with the values [0, 11, 26, 73, 42, 51, 6,77, 8,29].\n",
    "      - Create a 2-dimensional NumPy array  arr2  with the values  [[0, 1, 2], [3, 4, 5], [6, 7, 8]].\n",
    "      \n",
    " b.Basic Indexing:\n",
    "      - Print the element at index 3 of  arr1.\n",
    "      - Print the element at row 2, column 1 of  arr2\n",
    "\n",
    "   c. Array Slicing:\n",
    "      - Print the first five elements of `arr1`.\n",
    "      - Print the subarray of `arr2` consisting of the last two rows and the first two columns.\n",
    "       - Print every second element starting from index 1 up to index 7 of `arr1`.\n",
    "\n",
    "\n",
    "\n",
    "\n",
    "\n",
    "\n",
    "\n",
    "**Data Type Manipulation**\n",
    "\n",
    "a. Creating Arrays with Specific Data Types:\n",
    "      - Create a 1-dimensional NumPy array `int_array` with the values `[1, 2, 3, 4, 5]` and the data type `int16`.\n",
    "      - Create a 1-dimensional NumPy array `float_array` with the values `[0.1, 0.2, 0.3, 0.4, 0.5]` and the data type `float64`.\n",
    "      \n",
    "b. Data Type Conversion:\n",
    "      - Convert the `float_array` to an array with data type `int32`. Print the result.\n",
    "      - Convert the `int_array` to an array with data type `float32`. Print the result.\n",
    "\n",
    "**Generating Random Numbers:**\n",
    "\n",
    "1.\tUse numpy.random.randint() to create an array rand_integers containing 10 random integers between 0 and 100 (inclusive).\n",
    "\n",
    "2.\tUse numpy.random.uniform() to create an array rand_uniform containing 5 random numbers sampled from a uniform distribution between -1 and 1.\n",
    "\n",
    "3.\tCreate an array rand_matrix with random integers between 50 and 100 (inclusive).and reshape it to 2-dimensional (4 x 4) matrix\n",
    "\n",
    "4.\tApply descriptive statistics for rand_matrix.\n",
    "\n",
    "\n",
    "**Analyze the Data:**\n",
    "\n",
    "Salaries = [87877, 54494, 54804, 85051, 52453, 31250, 94868, 66349, 39828, 60501, 58570, 74906, 41671, 51428, 56414, 98446, 56819, 82833, 50477, 62898, 99658, 89224, 34225, 79172, 32199, 63795, 90947, 55723, 64557, 3113638]\n",
    "\n",
    "\n",
    "\n",
    "\n",
    "Describe the data using numpy array.\n",
    "Measure the following:\n",
    "1.\tHow many employees are getting more less than 50000?\n",
    "\n",
    "2.\tIs it following Normal Distribution?\n",
    "\n",
    "3.\tWhat is the median salary?\n",
    "\n",
    "4.\tWhat is the range of salaries for this company?\n",
    "\n",
    "5.\tFind the salaries between average salary and 75% of salaries?\n",
    "\n",
    "6.\tHow many employees are getting less than 25 % of salaries ?\n",
    "\n"
   ]
  },
  {
   "cell_type": "markdown",
   "id": "b43defcc",
   "metadata": {},
   "source": [
    "**Creation of ndarray**\n",
    "\n",
    "1. Write python code to create 3d array in different ways with 15 elements.\n",
    "2. Array Creation:\n",
    "\n",
    "a. Create a 4D NumPy array containing the first 12 positive integers as arr1.\n",
    "\n",
    "b. Create a 3D NumPy array1 with 20 random elements containing integers between 0 and 1.\n",
    "\n",
    "3. Find all attributes of array1 and array2\n",
    "4. Apply measure and describe the data (attributes and descriptive statistics) to above arrays using NumPy.\n"
   ]
  },
  {
   "cell_type": "code",
   "execution_count": 1,
   "id": "7d1226d2",
   "metadata": {},
   "outputs": [],
   "source": [
    "import numpy as np"
   ]
  },
  {
   "cell_type": "code",
   "execution_count": 5,
   "id": "63771dbf",
   "metadata": {},
   "outputs": [
    {
     "data": {
      "text/plain": [
       "array([[[ 1,  2,  3,  4,  5],\n",
       "        [ 6,  7,  8,  9, 10],\n",
       "        [11, 12, 13, 14, 15]]])"
      ]
     },
     "execution_count": 5,
     "metadata": {},
     "output_type": "execute_result"
    }
   ],
   "source": [
    "np.arange(1,16).reshape(1,3,5)"
   ]
  },
  {
   "cell_type": "code",
   "execution_count": 6,
   "id": "50b2faab",
   "metadata": {},
   "outputs": [
    {
     "data": {
      "text/plain": [
       "array([[[ 1,  2,  3,  4,  5],\n",
       "        [ 6,  7,  8,  9, 10],\n",
       "        [11, 12, 13, 14, 15]]])"
      ]
     },
     "execution_count": 6,
     "metadata": {},
     "output_type": "execute_result"
    }
   ],
   "source": [
    "np.array([[[1,  2,  3,  4,  5],[ 6,  7,  8,  9, 10],[11, 12, 13, 14, 15]]])"
   ]
  },
  {
   "cell_type": "code",
   "execution_count": 7,
   "id": "52a82600",
   "metadata": {},
   "outputs": [
    {
     "data": {
      "text/plain": [
       "array([[[ 1,  2,  3],\n",
       "        [ 4,  5,  6],\n",
       "        [ 7,  8,  9],\n",
       "        [10, 11, 12],\n",
       "        [13, 14, 15]]])"
      ]
     },
     "execution_count": 7,
     "metadata": {},
     "output_type": "execute_result"
    }
   ],
   "source": [
    "np.arange(1,16).reshape(1,5,3)"
   ]
  },
  {
   "cell_type": "code",
   "execution_count": 9,
   "id": "191f7ef7",
   "metadata": {},
   "outputs": [
    {
     "data": {
      "text/plain": [
       "array([[[ 1,  2,  3,  4,  5,  6,  7,  8,  9, 10, 11, 12, 13, 14, 15]]])"
      ]
     },
     "execution_count": 9,
     "metadata": {},
     "output_type": "execute_result"
    }
   ],
   "source": [
    "np.arange(1,16).reshape(1,1,15)"
   ]
  },
  {
   "cell_type": "code",
   "execution_count": 10,
   "id": "c75a4021",
   "metadata": {},
   "outputs": [
    {
     "data": {
      "text/plain": [
       "array([[[ 1],\n",
       "        [ 2],\n",
       "        [ 3],\n",
       "        [ 4],\n",
       "        [ 5],\n",
       "        [ 6],\n",
       "        [ 7],\n",
       "        [ 8],\n",
       "        [ 9],\n",
       "        [10],\n",
       "        [11],\n",
       "        [12],\n",
       "        [13],\n",
       "        [14],\n",
       "        [15]]])"
      ]
     },
     "execution_count": 10,
     "metadata": {},
     "output_type": "execute_result"
    }
   ],
   "source": [
    "np.arange(1,16).reshape(1,15,1)"
   ]
  },
  {
   "cell_type": "code",
   "execution_count": 11,
   "id": "ee903de5",
   "metadata": {},
   "outputs": [
    {
     "data": {
      "text/plain": [
       "array([[[ 1]],\n",
       "\n",
       "       [[ 2]],\n",
       "\n",
       "       [[ 3]],\n",
       "\n",
       "       [[ 4]],\n",
       "\n",
       "       [[ 5]],\n",
       "\n",
       "       [[ 6]],\n",
       "\n",
       "       [[ 7]],\n",
       "\n",
       "       [[ 8]],\n",
       "\n",
       "       [[ 9]],\n",
       "\n",
       "       [[10]],\n",
       "\n",
       "       [[11]],\n",
       "\n",
       "       [[12]],\n",
       "\n",
       "       [[13]],\n",
       "\n",
       "       [[14]],\n",
       "\n",
       "       [[15]]])"
      ]
     },
     "execution_count": 11,
     "metadata": {},
     "output_type": "execute_result"
    }
   ],
   "source": [
    "np.arange(1,16).reshape(15,1,1)"
   ]
  },
  {
   "cell_type": "code",
   "execution_count": 13,
   "id": "4c888120",
   "metadata": {},
   "outputs": [],
   "source": [
    "##Array Creation:\n",
    "arr1 = np.array([[[[1,2,3],[4,5,6],[7,8,9,],[10,11,12]]]])"
   ]
  },
  {
   "cell_type": "code",
   "execution_count": 15,
   "id": "6e6b0118",
   "metadata": {},
   "outputs": [
    {
     "data": {
      "text/plain": [
       "array([[[[ 1,  2,  3],\n",
       "         [ 4,  5,  6],\n",
       "         [ 7,  8,  9],\n",
       "         [10, 11, 12]]]])"
      ]
     },
     "execution_count": 15,
     "metadata": {},
     "output_type": "execute_result"
    }
   ],
   "source": [
    "arr1"
   ]
  },
  {
   "cell_type": "code",
   "execution_count": 21,
   "id": "f5252340",
   "metadata": {},
   "outputs": [
    {
     "data": {
      "text/plain": [
       "array([[[0, 0, 0, 0, 0],\n",
       "        [0, 0, 0, 0, 0],\n",
       "        [0, 0, 0, 0, 0],\n",
       "        [0, 0, 0, 0, 0]]])"
      ]
     },
     "execution_count": 21,
     "metadata": {},
     "output_type": "execute_result"
    }
   ],
   "source": [
    "array1 = np.random.randint(0,1,20).reshape(1,4,5)\n",
    "array1"
   ]
  },
  {
   "cell_type": "code",
   "execution_count": 47,
   "id": "be90f631",
   "metadata": {},
   "outputs": [],
   "source": [
    "#Find all attributes of array1 and array2"
   ]
  },
  {
   "cell_type": "code",
   "execution_count": 48,
   "id": "d7a3920d",
   "metadata": {},
   "outputs": [
    {
     "data": {
      "text/plain": [
       "dtype('int32')"
      ]
     },
     "execution_count": 48,
     "metadata": {},
     "output_type": "execute_result"
    }
   ],
   "source": [
    "#array1\n",
    "arr1.dtype"
   ]
  },
  {
   "cell_type": "code",
   "execution_count": 29,
   "id": "9d9f0727",
   "metadata": {},
   "outputs": [
    {
     "data": {
      "text/plain": [
       "4"
      ]
     },
     "execution_count": 29,
     "metadata": {},
     "output_type": "execute_result"
    }
   ],
   "source": [
    "arr1.itemsize"
   ]
  },
  {
   "cell_type": "code",
   "execution_count": 35,
   "id": "3615c8b6",
   "metadata": {},
   "outputs": [
    {
     "data": {
      "text/plain": [
       "12"
      ]
     },
     "execution_count": 35,
     "metadata": {},
     "output_type": "execute_result"
    }
   ],
   "source": [
    "arr1.size"
   ]
  },
  {
   "cell_type": "code",
   "execution_count": 36,
   "id": "41d6efa6",
   "metadata": {},
   "outputs": [
    {
     "data": {
      "text/plain": [
       "48"
      ]
     },
     "execution_count": 36,
     "metadata": {},
     "output_type": "execute_result"
    }
   ],
   "source": [
    "arr1.nbytes"
   ]
  },
  {
   "cell_type": "code",
   "execution_count": 37,
   "id": "7ce059a7",
   "metadata": {},
   "outputs": [
    {
     "data": {
      "text/plain": [
       "4"
      ]
     },
     "execution_count": 37,
     "metadata": {},
     "output_type": "execute_result"
    }
   ],
   "source": [
    "arr1.ndim"
   ]
  },
  {
   "cell_type": "code",
   "execution_count": 50,
   "id": "1acc7abc",
   "metadata": {},
   "outputs": [
    {
     "data": {
      "text/plain": [
       "dtype('int32')"
      ]
     },
     "execution_count": 50,
     "metadata": {},
     "output_type": "execute_result"
    }
   ],
   "source": [
    "#array2\n",
    "array1.dtype"
   ]
  },
  {
   "cell_type": "code",
   "execution_count": 51,
   "id": "18bbb6c4",
   "metadata": {},
   "outputs": [
    {
     "data": {
      "text/plain": [
       "3"
      ]
     },
     "execution_count": 51,
     "metadata": {},
     "output_type": "execute_result"
    }
   ],
   "source": [
    "array1.ndim"
   ]
  },
  {
   "cell_type": "code",
   "execution_count": 52,
   "id": "2407bf3a",
   "metadata": {},
   "outputs": [
    {
     "data": {
      "text/plain": [
       "20"
      ]
     },
     "execution_count": 52,
     "metadata": {},
     "output_type": "execute_result"
    }
   ],
   "source": [
    "array1.size"
   ]
  },
  {
   "cell_type": "code",
   "execution_count": 53,
   "id": "afb806f5",
   "metadata": {},
   "outputs": [
    {
     "data": {
      "text/plain": [
       "80"
      ]
     },
     "execution_count": 53,
     "metadata": {},
     "output_type": "execute_result"
    }
   ],
   "source": [
    "array1.nbytes"
   ]
  },
  {
   "cell_type": "code",
   "execution_count": 54,
   "id": "9e88411a",
   "metadata": {},
   "outputs": [
    {
     "data": {
      "text/plain": [
       "4"
      ]
     },
     "execution_count": 54,
     "metadata": {},
     "output_type": "execute_result"
    }
   ],
   "source": [
    "array1.itemsize"
   ]
  },
  {
   "cell_type": "code",
   "execution_count": 58,
   "id": "be1191ce",
   "metadata": {},
   "outputs": [],
   "source": [
    "#Apply measure and describe the data (attributes and descriptive statistics) to above arrays using NumPy."
   ]
  },
  {
   "cell_type": "code",
   "execution_count": 60,
   "id": "fd7d5613",
   "metadata": {},
   "outputs": [
    {
     "data": {
      "text/plain": [
       "array([[[[ 1,  2,  3],\n",
       "         [ 4,  5,  6],\n",
       "         [ 7,  8,  9],\n",
       "         [10, 11, 12]]]])"
      ]
     },
     "execution_count": 60,
     "metadata": {},
     "output_type": "execute_result"
    }
   ],
   "source": [
    "arr1"
   ]
  },
  {
   "cell_type": "code",
   "execution_count": 63,
   "id": "37543237",
   "metadata": {},
   "outputs": [
    {
     "data": {
      "text/plain": [
       "6.5"
      ]
     },
     "execution_count": 63,
     "metadata": {},
     "output_type": "execute_result"
    }
   ],
   "source": [
    "np.mean(arr1)"
   ]
  },
  {
   "cell_type": "code",
   "execution_count": 64,
   "id": "054b96f2",
   "metadata": {},
   "outputs": [
    {
     "data": {
      "text/plain": [
       "6.5"
      ]
     },
     "execution_count": 64,
     "metadata": {},
     "output_type": "execute_result"
    }
   ],
   "source": [
    "np.median(arr1)"
   ]
  },
  {
   "cell_type": "code",
   "execution_count": 65,
   "id": "f5f23e92",
   "metadata": {},
   "outputs": [
    {
     "data": {
      "text/plain": [
       "12"
      ]
     },
     "execution_count": 65,
     "metadata": {},
     "output_type": "execute_result"
    }
   ],
   "source": [
    "np.max(arr1)"
   ]
  },
  {
   "cell_type": "code",
   "execution_count": 66,
   "id": "6b0b57d0",
   "metadata": {},
   "outputs": [
    {
     "data": {
      "text/plain": [
       "1"
      ]
     },
     "execution_count": 66,
     "metadata": {},
     "output_type": "execute_result"
    }
   ],
   "source": [
    "np.min(arr1)"
   ]
  },
  {
   "cell_type": "code",
   "execution_count": 69,
   "id": "0ab64bec",
   "metadata": {},
   "outputs": [
    {
     "data": {
      "text/plain": [
       "11"
      ]
     },
     "execution_count": 69,
     "metadata": {},
     "output_type": "execute_result"
    }
   ],
   "source": [
    "range1 = np.max(arr1)-np.min(arr1)\n",
    "range1"
   ]
  },
  {
   "cell_type": "code",
   "execution_count": 70,
   "id": "b4a79c7c",
   "metadata": {},
   "outputs": [
    {
     "data": {
      "text/plain": [
       "11.916666666666666"
      ]
     },
     "execution_count": 70,
     "metadata": {},
     "output_type": "execute_result"
    }
   ],
   "source": [
    "np.var(arr1)"
   ]
  },
  {
   "cell_type": "code",
   "execution_count": 71,
   "id": "4f962554",
   "metadata": {},
   "outputs": [
    {
     "data": {
      "text/plain": [
       "3.452052529534663"
      ]
     },
     "execution_count": 71,
     "metadata": {},
     "output_type": "execute_result"
    }
   ],
   "source": [
    "np.std(arr1)"
   ]
  },
  {
   "cell_type": "code",
   "execution_count": 72,
   "id": "3cd7d295",
   "metadata": {},
   "outputs": [],
   "source": [
    "Q1 = np.percentile(arr1,25)\n",
    "Q3 = np.percentile(arr1,75) \n",
    "IQR = Q3-Q1\n",
    "low = Q1 - (1.5*IQR)\n",
    "upp = Q3 + (1.5*IQR)"
   ]
  },
  {
   "cell_type": "code",
   "execution_count": 73,
   "id": "43049c53",
   "metadata": {},
   "outputs": [
    {
     "data": {
      "text/plain": [
       "5.5"
      ]
     },
     "execution_count": 73,
     "metadata": {},
     "output_type": "execute_result"
    }
   ],
   "source": [
    "IQR"
   ]
  },
  {
   "cell_type": "code",
   "execution_count": 74,
   "id": "f129ad8f",
   "metadata": {},
   "outputs": [
    {
     "data": {
      "text/plain": [
       "-4.5"
      ]
     },
     "execution_count": 74,
     "metadata": {},
     "output_type": "execute_result"
    }
   ],
   "source": [
    "low"
   ]
  },
  {
   "cell_type": "code",
   "execution_count": 75,
   "id": "3292cbe0",
   "metadata": {},
   "outputs": [
    {
     "data": {
      "text/plain": [
       "17.5"
      ]
     },
     "execution_count": 75,
     "metadata": {},
     "output_type": "execute_result"
    }
   ],
   "source": [
    "upp"
   ]
  },
  {
   "cell_type": "code",
   "execution_count": 77,
   "id": "27b1f69b",
   "metadata": {},
   "outputs": [
    {
     "data": {
      "text/plain": [
       "array([], dtype=int32)"
      ]
     },
     "execution_count": 77,
     "metadata": {},
     "output_type": "execute_result"
    }
   ],
   "source": [
    "arr1[(arr1<low)|(arr1>upp)]"
   ]
  },
  {
   "cell_type": "markdown",
   "id": "d180a922",
   "metadata": {},
   "source": [
    "**Array Slicing and Indexing:**\n",
    "\n",
    "a. Creating Arrays:\n",
    "      \n",
    "   - Create a 1-dimensional NumPy array  arr1 with the values [0, 11, 26, 73, 42, 51, 6,77, 8,29].\n",
    "      \n",
    "   - Create a 2-dimensional NumPy array  arr2  with the values  [[0, 1, 2], [3, 4, 5], [6, 7, 8]].\n",
    "      \n",
    " b.Basic Indexing:\n",
    "      \n",
    "   - Print the element at index 3 of  arr1.\n",
    "      \n",
    "   - Print the element at row 2, column 1 of  arr2\n",
    "\n",
    "   c. Array Slicing:\n",
    "      \n",
    "   - Print the first five elements of `arr1`.\n",
    "      \n",
    "   - Print the subarray of `arr2` consisting of the last two rows and the first two columns.\n",
    "     \n",
    "   - Print every second element starting from index 1 up to index 7 of `arr1`."
   ]
  },
  {
   "cell_type": "code",
   "execution_count": 80,
   "id": "ee391a6a",
   "metadata": {},
   "outputs": [
    {
     "data": {
      "text/plain": [
       "array([ 0, 11, 26, 73, 42, 51,  6, 77,  8, 29])"
      ]
     },
     "execution_count": 80,
     "metadata": {},
     "output_type": "execute_result"
    }
   ],
   "source": [
    "arr1 = np.array([0, 11, 26, 73, 42, 51, 6,77, 8,29])\n",
    "arr1"
   ]
  },
  {
   "cell_type": "code",
   "execution_count": 83,
   "id": "e88a2ba2",
   "metadata": {},
   "outputs": [
    {
     "data": {
      "text/plain": [
       "array([[0, 1, 2],\n",
       "       [3, 4, 5],\n",
       "       [6, 7, 8]])"
      ]
     },
     "execution_count": 83,
     "metadata": {},
     "output_type": "execute_result"
    }
   ],
   "source": [
    "arr2 = np.array([[0, 1, 2], [3, 4, 5], [6, 7, 8]])\n",
    "arr2"
   ]
  },
  {
   "cell_type": "code",
   "execution_count": 88,
   "id": "240bba6f",
   "metadata": {},
   "outputs": [
    {
     "data": {
      "text/plain": [
       "73"
      ]
     },
     "execution_count": 88,
     "metadata": {},
     "output_type": "execute_result"
    }
   ],
   "source": [
    "arr1[3]"
   ]
  },
  {
   "cell_type": "code",
   "execution_count": 90,
   "id": "0a052c88",
   "metadata": {},
   "outputs": [
    {
     "data": {
      "text/plain": [
       "3"
      ]
     },
     "execution_count": 90,
     "metadata": {},
     "output_type": "execute_result"
    }
   ],
   "source": [
    "arr2[1,0]"
   ]
  },
  {
   "cell_type": "code",
   "execution_count": 92,
   "id": "78e769f7",
   "metadata": {},
   "outputs": [
    {
     "data": {
      "text/plain": [
       "array([ 0, 11, 26, 73, 42])"
      ]
     },
     "execution_count": 92,
     "metadata": {},
     "output_type": "execute_result"
    }
   ],
   "source": [
    "arr1[:5]"
   ]
  },
  {
   "cell_type": "code",
   "execution_count": 93,
   "id": "31fce727",
   "metadata": {},
   "outputs": [
    {
     "data": {
      "text/plain": [
       "array([[3, 4],\n",
       "       [6, 7]])"
      ]
     },
     "execution_count": 93,
     "metadata": {},
     "output_type": "execute_result"
    }
   ],
   "source": [
    "arr2[1:,:2]"
   ]
  },
  {
   "cell_type": "code",
   "execution_count": 96,
   "id": "42866e48",
   "metadata": {},
   "outputs": [
    {
     "data": {
      "text/plain": [
       "array([11, 73, 51])"
      ]
     },
     "execution_count": 96,
     "metadata": {},
     "output_type": "execute_result"
    }
   ],
   "source": [
    "arr1[1:7:2]"
   ]
  },
  {
   "cell_type": "markdown",
   "id": "23de6f36",
   "metadata": {},
   "source": [
    "**Data Type Manipulation**\n",
    "\n",
    "a. Creating Arrays with Specific Data Types:\n",
    "      \n",
    "   - Create a 1-dimensional NumPy array `int_array` with the values `[1, 2, 3, 4, 5]` and the data type `int16`.\n",
    "      \n",
    "   - Create a 1-dimensional NumPy array `float_array` with the values `[0.1, 0.2, 0.3, 0.4, 0.5]` and the data type `float64`.\n",
    "      \n",
    "b. Data Type Conversion:\n",
    "      \n",
    "   - Convert the `float_array` to an array with data type `int32`. Print the result.\n",
    "      \n",
    "   - Convert the `int_array` to an array with data type `float32`. Print the result.\n"
   ]
  },
  {
   "cell_type": "code",
   "execution_count": 104,
   "id": "31f89e7b",
   "metadata": {},
   "outputs": [
    {
     "data": {
      "text/plain": [
       "array([1, 2, 3, 4, 5], dtype=int16)"
      ]
     },
     "execution_count": 104,
     "metadata": {},
     "output_type": "execute_result"
    }
   ],
   "source": [
    "int_array = np.array([1, 2, 3, 4, 5],dtype=\"int16\")\n",
    "int_array"
   ]
  },
  {
   "cell_type": "code",
   "execution_count": 105,
   "id": "d6d77c49",
   "metadata": {},
   "outputs": [
    {
     "data": {
      "text/plain": [
       "dtype('int16')"
      ]
     },
     "execution_count": 105,
     "metadata": {},
     "output_type": "execute_result"
    }
   ],
   "source": [
    "int_array.dtype"
   ]
  },
  {
   "cell_type": "code",
   "execution_count": 101,
   "id": "d99e8697",
   "metadata": {},
   "outputs": [
    {
     "data": {
      "text/plain": [
       "array([0.1, 0.2, 0.3, 0.4, 0.5])"
      ]
     },
     "execution_count": 101,
     "metadata": {},
     "output_type": "execute_result"
    }
   ],
   "source": [
    "float_array = np.array([0.1, 0.2, 0.3, 0.4, 0.5])\n",
    "float_array"
   ]
  },
  {
   "cell_type": "code",
   "execution_count": 102,
   "id": "5d8639f2",
   "metadata": {},
   "outputs": [
    {
     "data": {
      "text/plain": [
       "dtype('float64')"
      ]
     },
     "execution_count": 102,
     "metadata": {},
     "output_type": "execute_result"
    }
   ],
   "source": [
    "float_array.dtype"
   ]
  },
  {
   "cell_type": "code",
   "execution_count": 106,
   "id": "5115a0e5",
   "metadata": {},
   "outputs": [
    {
     "name": "stdout",
     "output_type": "stream",
     "text": [
      "[0 0 0 0 0]\n"
     ]
    }
   ],
   "source": [
    "f = float_array.astype(\"int32\")\n",
    "print(f)"
   ]
  },
  {
   "cell_type": "code",
   "execution_count": 107,
   "id": "b0a83633",
   "metadata": {},
   "outputs": [
    {
     "data": {
      "text/plain": [
       "dtype('int32')"
      ]
     },
     "execution_count": 107,
     "metadata": {},
     "output_type": "execute_result"
    }
   ],
   "source": [
    "f.dtype"
   ]
  },
  {
   "cell_type": "code",
   "execution_count": 108,
   "id": "a2b6c4be",
   "metadata": {},
   "outputs": [
    {
     "name": "stdout",
     "output_type": "stream",
     "text": [
      "[1. 2. 3. 4. 5.]\n"
     ]
    }
   ],
   "source": [
    "i = int_array.astype(\"float32\")\n",
    "print(i)"
   ]
  },
  {
   "cell_type": "code",
   "execution_count": 109,
   "id": "57ebf77c",
   "metadata": {},
   "outputs": [
    {
     "data": {
      "text/plain": [
       "dtype('float32')"
      ]
     },
     "execution_count": 109,
     "metadata": {},
     "output_type": "execute_result"
    }
   ],
   "source": [
    "i.dtype"
   ]
  },
  {
   "cell_type": "markdown",
   "id": "93050e9f",
   "metadata": {},
   "source": [
    "\n",
    "**Generating Random Numbers:**\n",
    "\n",
    "1. Use numpy.random.randint() to create an array rand_integers containing 10 random integers between 0 and 100 (inclusive).\n",
    "\n",
    "2. Use numpy.random.uniform() to create an array rand_uniform containing 5 random numbers sampled from a uniform distribution between -1 and 1.\n",
    "\n",
    "3. Create an array rand_matrix with random integers between 50 and 100 (inclusive).and reshape it to 2-dimensional (4 x 4) matrix\n",
    "\n",
    "4. Apply descriptive statistics for rand_matrix."
   ]
  },
  {
   "cell_type": "code",
   "execution_count": 120,
   "id": "c740e65c",
   "metadata": {},
   "outputs": [
    {
     "data": {
      "text/plain": [
       "array([22, 24, 65,  2, 57,  9, 78, 25, 94,  9])"
      ]
     },
     "execution_count": 120,
     "metadata": {},
     "output_type": "execute_result"
    }
   ],
   "source": [
    "rand_integers = np.random.randint(0,101,10)\n",
    "rand_integers"
   ]
  },
  {
   "cell_type": "code",
   "execution_count": 114,
   "id": "055966a5",
   "metadata": {},
   "outputs": [
    {
     "data": {
      "text/plain": [
       "array([-0.9315225 , -0.89300978, -0.14553273,  0.71802218,  0.89768846])"
      ]
     },
     "execution_count": 114,
     "metadata": {},
     "output_type": "execute_result"
    }
   ],
   "source": [
    "rand_uniform = np.random.uniform(-1,1,5)\n",
    "rand_uniform"
   ]
  },
  {
   "cell_type": "code",
   "execution_count": 124,
   "id": "3e8ea5d6",
   "metadata": {},
   "outputs": [
    {
     "data": {
      "text/plain": [
       "array([[ 92,  78,  66, 100],\n",
       "       [ 65,  66,  51,  88],\n",
       "       [ 93,  97,  92,  65],\n",
       "       [ 78,  56,  66,  54]])"
      ]
     },
     "execution_count": 124,
     "metadata": {},
     "output_type": "execute_result"
    }
   ],
   "source": [
    "rand_matrix = np.random.randint(50,101,16).reshape(4,4)\n",
    "rand_matrix"
   ]
  },
  {
   "cell_type": "code",
   "execution_count": 128,
   "id": "fe087554",
   "metadata": {},
   "outputs": [
    {
     "data": {
      "text/plain": [
       "75.4375"
      ]
     },
     "execution_count": 128,
     "metadata": {},
     "output_type": "execute_result"
    }
   ],
   "source": [
    "np.mean(rand_matrix)"
   ]
  },
  {
   "cell_type": "code",
   "execution_count": 127,
   "id": "7cc6f480",
   "metadata": {},
   "outputs": [
    {
     "data": {
      "text/plain": [
       "72.0"
      ]
     },
     "execution_count": 127,
     "metadata": {},
     "output_type": "execute_result"
    }
   ],
   "source": [
    "np.median(rand_matrix)"
   ]
  },
  {
   "cell_type": "code",
   "execution_count": 129,
   "id": "6af99de9",
   "metadata": {},
   "outputs": [
    {
     "data": {
      "text/plain": [
       "49"
      ]
     },
     "execution_count": 129,
     "metadata": {},
     "output_type": "execute_result"
    }
   ],
   "source": [
    "range1 = np.max(rand_matrix)-np.min(rand_matrix)\n",
    "range1"
   ]
  },
  {
   "cell_type": "code",
   "execution_count": 130,
   "id": "88b7d65d",
   "metadata": {},
   "outputs": [
    {
     "data": {
      "text/plain": [
       "250.99609375"
      ]
     },
     "execution_count": 130,
     "metadata": {},
     "output_type": "execute_result"
    }
   ],
   "source": [
    "np.var(rand_matrix)"
   ]
  },
  {
   "cell_type": "code",
   "execution_count": 131,
   "id": "b21a1cd3",
   "metadata": {},
   "outputs": [
    {
     "data": {
      "text/plain": [
       "15.842856237118356"
      ]
     },
     "execution_count": 131,
     "metadata": {},
     "output_type": "execute_result"
    }
   ],
   "source": [
    "np.std(rand_matrix)"
   ]
  },
  {
   "cell_type": "code",
   "execution_count": 132,
   "id": "d9c5d528",
   "metadata": {},
   "outputs": [],
   "source": [
    "Q1 = np.percentile(rand_matrix,25)\n",
    "Q3 = np.percentile(rand_matrix,75) \n",
    "IQR = Q3-Q1\n",
    "low = Q1 - (1.5*IQR)\n",
    "upp = Q3 + (1.5*IQR)"
   ]
  },
  {
   "cell_type": "code",
   "execution_count": 133,
   "id": "abd979a8",
   "metadata": {},
   "outputs": [
    {
     "data": {
      "text/plain": [
       "27.0"
      ]
     },
     "execution_count": 133,
     "metadata": {},
     "output_type": "execute_result"
    }
   ],
   "source": [
    "IQR"
   ]
  },
  {
   "cell_type": "code",
   "execution_count": 134,
   "id": "ef2be30c",
   "metadata": {},
   "outputs": [
    {
     "data": {
      "text/plain": [
       "24.5"
      ]
     },
     "execution_count": 134,
     "metadata": {},
     "output_type": "execute_result"
    }
   ],
   "source": [
    "low"
   ]
  },
  {
   "cell_type": "code",
   "execution_count": 135,
   "id": "33b346aa",
   "metadata": {},
   "outputs": [
    {
     "data": {
      "text/plain": [
       "132.5"
      ]
     },
     "execution_count": 135,
     "metadata": {},
     "output_type": "execute_result"
    }
   ],
   "source": [
    "upp"
   ]
  },
  {
   "cell_type": "code",
   "execution_count": 136,
   "id": "02f51274",
   "metadata": {},
   "outputs": [
    {
     "data": {
      "text/plain": [
       "array([], dtype=int32)"
      ]
     },
     "execution_count": 136,
     "metadata": {},
     "output_type": "execute_result"
    }
   ],
   "source": [
    "rand_matrix[(rand_matrix < low)|(rand_matrix > upp)]"
   ]
  },
  {
   "cell_type": "markdown",
   "id": "cfc8b2c5",
   "metadata": {},
   "source": [
    "**Analyze the Data:**\n",
    "\n",
    "Salaries = [87877, 54494, 54804, 85051, 52453, 31250, 94868, 66349, 39828, 60501, 58570, 74906, 41671, 51428, 56414, 98446, 56819, 82833, 50477, 62898, 99658, 89224, 34225, 79172, 32199, 63795, 90947, 55723, 64557, 3113638]\n",
    "\n",
    "\n",
    "\n",
    "\n",
    "Describe the data using numpy array.\n",
    "Measure the following:\n",
    "\n",
    "1.\tHow many employees are getting less than 50000?\n",
    "\n",
    "2.\tIs it following Normal Distribution?\n",
    "\n",
    "3.\tWhat is the median salary?\n",
    "\n",
    "4.\tWhat is the range of salaries for this company?\n",
    "\n",
    "5.\tFind the salaries between average salary and 75% of salaries?\n",
    "\n",
    "6.\tHow many employees are getting less than 25 % of salaries ?\n",
    "\n"
   ]
  },
  {
   "cell_type": "code",
   "execution_count": 138,
   "id": "295a89f4",
   "metadata": {},
   "outputs": [],
   "source": [
    "Salaries = np.array([87877, 54494, 54804, 85051, 52453, 31250, 94868, 66349, 39828, 60501, 58570, 74906, 41671, 51428, 56414, 98446, 56819, 82833, 50477, 62898, 99658, 89224, 34225, 79172, 32199, 63795, 90947, 55723, 64557, 3113638])\n"
   ]
  },
  {
   "cell_type": "code",
   "execution_count": 141,
   "id": "9c1b1a2b",
   "metadata": {},
   "outputs": [
    {
     "data": {
      "text/plain": [
       "array([31250, 39828, 41671, 34225, 32199])"
      ]
     },
     "execution_count": 141,
     "metadata": {},
     "output_type": "execute_result"
    }
   ],
   "source": [
    "Salaries[Salaries<50000]"
   ]
  },
  {
   "cell_type": "code",
   "execution_count": 140,
   "id": "1be8826a",
   "metadata": {},
   "outputs": [
    {
     "data": {
      "text/plain": [
       "5"
      ]
     },
     "execution_count": 140,
     "metadata": {},
     "output_type": "execute_result"
    }
   ],
   "source": [
    "emp = Salaries[Salaries<50000]\n",
    "emp.size"
   ]
  },
  {
   "cell_type": "code",
   "execution_count": 142,
   "id": "4409b41f",
   "metadata": {},
   "outputs": [
    {
     "data": {
      "text/plain": [
       "61699.5"
      ]
     },
     "execution_count": 142,
     "metadata": {},
     "output_type": "execute_result"
    }
   ],
   "source": [
    "np.median(Salaries)"
   ]
  },
  {
   "cell_type": "code",
   "execution_count": 163,
   "id": "57b974a2",
   "metadata": {},
   "outputs": [],
   "source": [
    "#it is not following Normal Distribution because mean and median values not closed values"
   ]
  },
  {
   "cell_type": "code",
   "execution_count": 144,
   "id": "7c255459",
   "metadata": {},
   "outputs": [
    {
     "data": {
      "text/plain": [
       "3082388"
      ]
     },
     "execution_count": 144,
     "metadata": {},
     "output_type": "execute_result"
    }
   ],
   "source": [
    "range1 = np.max(Salaries)-np.min(Salaries)\n",
    "range1"
   ]
  },
  {
   "cell_type": "code",
   "execution_count": 157,
   "id": "8495a7a0",
   "metadata": {},
   "outputs": [
    {
     "data": {
      "text/plain": [
       "166169.16666666666"
      ]
     },
     "execution_count": 157,
     "metadata": {},
     "output_type": "execute_result"
    }
   ],
   "source": [
    "a= np.mean(Salaries)\n",
    "a"
   ]
  },
  {
   "cell_type": "code",
   "execution_count": 147,
   "id": "0e27a7ac",
   "metadata": {},
   "outputs": [],
   "source": [
    "Q1 = np.percentile(Salaries,25)\n",
    "Q3 = np.percentile(Salaries,75) \n",
    "IQR = Q3-Q1"
   ]
  },
  {
   "cell_type": "code",
   "execution_count": 181,
   "id": "96834878",
   "metadata": {},
   "outputs": [
    {
     "data": {
      "text/plain": [
       "array([87877, 85051, 94868, 98446, 99658, 89224, 90947])"
      ]
     },
     "execution_count": 181,
     "metadata": {},
     "output_type": "execute_result"
    }
   ],
   "source": [
    "Salaries[(Salaries<a)&(Salaries>Q3)]"
   ]
  },
  {
   "cell_type": "code",
   "execution_count": 149,
   "id": "387db6db",
   "metadata": {},
   "outputs": [
    {
     "data": {
      "text/plain": [
       "52963.25"
      ]
     },
     "execution_count": 149,
     "metadata": {},
     "output_type": "execute_result"
    }
   ],
   "source": [
    "Q1"
   ]
  },
  {
   "cell_type": "code",
   "execution_count": 166,
   "id": "8eb18282",
   "metadata": {},
   "outputs": [
    {
     "data": {
      "text/plain": [
       "84496.5"
      ]
     },
     "execution_count": 166,
     "metadata": {},
     "output_type": "execute_result"
    }
   ],
   "source": [
    "Q3"
   ]
  },
  {
   "cell_type": "code",
   "execution_count": 174,
   "id": "bd565803",
   "metadata": {},
   "outputs": [
    {
     "data": {
      "text/plain": [
       "array([52453, 31250, 39828, 41671, 51428, 50477, 34225, 32199])"
      ]
     },
     "execution_count": 174,
     "metadata": {},
     "output_type": "execute_result"
    }
   ],
   "source": [
    "emp = Salaries[Salaries<52963.25]\n",
    "emp"
   ]
  },
  {
   "cell_type": "code",
   "execution_count": 175,
   "id": "0db37110",
   "metadata": {},
   "outputs": [
    {
     "data": {
      "text/plain": [
       "8"
      ]
     },
     "execution_count": 175,
     "metadata": {},
     "output_type": "execute_result"
    }
   ],
   "source": [
    "emp.size"
   ]
  },
  {
   "cell_type": "code",
   "execution_count": 173,
   "id": "3578f761",
   "metadata": {},
   "outputs": [
    {
     "data": {
      "text/plain": [
       "8"
      ]
     },
     "execution_count": 173,
     "metadata": {},
     "output_type": "execute_result"
    }
   ],
   "source": [
    "len(Salaries[Salaries<52963.25])"
   ]
  },
  {
   "cell_type": "code",
   "execution_count": 176,
   "id": "ceb60d83",
   "metadata": {},
   "outputs": [
    {
     "data": {
      "text/plain": [
       "547678.585700353"
      ]
     },
     "execution_count": 176,
     "metadata": {},
     "output_type": "execute_result"
    }
   ],
   "source": [
    "np.std(Salaries)"
   ]
  },
  {
   "cell_type": "code",
   "execution_count": 177,
   "id": "c28b1dc2",
   "metadata": {},
   "outputs": [
    {
     "data": {
      "text/plain": [
       "3113638"
      ]
     },
     "execution_count": 177,
     "metadata": {},
     "output_type": "execute_result"
    }
   ],
   "source": [
    "np.max(Salaries)"
   ]
  },
  {
   "cell_type": "code",
   "execution_count": 178,
   "id": "8923efb6",
   "metadata": {},
   "outputs": [
    {
     "data": {
      "text/plain": [
       "31250"
      ]
     },
     "execution_count": 178,
     "metadata": {},
     "output_type": "execute_result"
    }
   ],
   "source": [
    "np.min(Salaries)"
   ]
  },
  {
   "cell_type": "code",
   "execution_count": null,
   "id": "169ba825",
   "metadata": {},
   "outputs": [],
   "source": []
  }
 ],
 "metadata": {
  "kernelspec": {
   "display_name": "Python 3 (ipykernel)",
   "language": "python",
   "name": "python3"
  },
  "language_info": {
   "codemirror_mode": {
    "name": "ipython",
    "version": 3
   },
   "file_extension": ".py",
   "mimetype": "text/x-python",
   "name": "python",
   "nbconvert_exporter": "python",
   "pygments_lexer": "ipython3",
   "version": "3.11.4"
  }
 },
 "nbformat": 4,
 "nbformat_minor": 5
}
