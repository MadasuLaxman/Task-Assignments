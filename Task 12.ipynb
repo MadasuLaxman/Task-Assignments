{
 "cells": [
  {
   "cell_type": "markdown",
   "id": "ceaa9598",
   "metadata": {},
   "source": [
    "**while loops and their use in programming.**\n",
    "1. Write a Python program that uses a while loop to print the numbers from `A` to `P`.\n"
   ]
  },
  {
   "cell_type": "code",
   "execution_count": 15,
   "id": "3eefa196",
   "metadata": {},
   "outputs": [
    {
     "name": "stdout",
     "output_type": "stream",
     "text": [
      "A\n",
      "B\n",
      "C\n",
      "D\n",
      "E\n",
      "F\n",
      "G\n",
      "H\n",
      "I\n",
      "J\n",
      "K\n",
      "L\n",
      "M\n",
      "N\n",
      "O\n",
      "P\n"
     ]
    }
   ],
   "source": [
    "a = 65\n",
    "\n",
    "while a <= 80:\n",
    "    print(chr(a))\n",
    "    a = a+1"
   ]
  },
  {
   "cell_type": "markdown",
   "id": "cecbd07c",
   "metadata": {},
   "source": [
    "2. Modify the program to print only the even numbers from `1 to 20 except mutiple of 3` using a while loop.\n"
   ]
  },
  {
   "cell_type": "code",
   "execution_count": 2,
   "id": "3e777b38",
   "metadata": {},
   "outputs": [
    {
     "name": "stdout",
     "output_type": "stream",
     "text": [
      "2\n",
      "4\n",
      "8\n",
      "10\n",
      "14\n",
      "16\n",
      "20\n"
     ]
    }
   ],
   "source": [
    "a = 1\n",
    "\n",
    "while a <= 20:\n",
    "    if a%2==0:\n",
    "        if a%3!=0:\n",
    "            print(a)\n",
    "    a = a+1\n",
    "        "
   ]
  },
  {
   "cell_type": "markdown",
   "id": "77d08837",
   "metadata": {},
   "source": [
    "3. Create a program that prompts the user for an integer input and then uses a while loop to print the countdown from `that number to 1`."
   ]
  },
  {
   "cell_type": "code",
   "execution_count": 13,
   "id": "d605c277",
   "metadata": {},
   "outputs": [
    {
     "name": "stdout",
     "output_type": "stream",
     "text": [
      "Enter an integer::5\n",
      "5\n",
      "4\n",
      "3\n",
      "2\n",
      "1\n"
     ]
    }
   ],
   "source": [
    "a = int(input(\"Enter an integer::\"))\n",
    "while a > 0:\n",
    "    if a <= 100:\n",
    "        print(a)\n",
    "    a = a-1"
   ]
  },
  {
   "cell_type": "markdown",
   "id": "15d525f2",
   "metadata": {},
   "source": [
    "4. Write a Python program that uses a while loop to repeatedly ask the user to enter a number. If the user enters 0, exit the loop using the `break` statement. Otherwise, continue prompting for numbers.\n"
   ]
  },
  {
   "cell_type": "code",
   "execution_count": 2,
   "id": "bbb0fc10",
   "metadata": {},
   "outputs": [
    {
     "name": "stdout",
     "output_type": "stream",
     "text": [
      "Enter a number (0 to exit): 1\n",
      "You entered: 1\n",
      "Enter a number (0 to exit): 2\n",
      "You entered: 2\n",
      "Enter a number (0 to exit): 3\n",
      "You entered: 3\n",
      "Enter a number (0 to exit): 4\n",
      "You entered: 4\n",
      "Enter a number (0 to exit): 5\n",
      "You entered: 5\n",
      "Enter a number (0 to exit): 6\n",
      "You entered: 6\n",
      "Enter a number (0 to exit): 0\n",
      "Exiting the loop.\n"
     ]
    }
   ],
   "source": [
    "while True:\n",
    "    user_input = int(input(\"Enter a number (0 to exit): \"))\n",
    "    \n",
    "    if user_input == 0:\n",
    "        print(\"Exiting the loop.\")\n",
    "        break\n",
    "    else:\n",
    "        print(f\"You entered: {user_input}\")\n"
   ]
  },
  {
   "cell_type": "markdown",
   "id": "b038902f",
   "metadata": {},
   "source": [
    "5. Create a program that uses a while loop to print the numbers from 1 to 20, but skip printing the numbers 5, 10, and 15 using the `continue` statement.\n"
   ]
  },
  {
   "cell_type": "code",
   "execution_count": 1,
   "id": "ed3257f2",
   "metadata": {},
   "outputs": [
    {
     "name": "stdout",
     "output_type": "stream",
     "text": [
      "1\n",
      "2\n",
      "3\n",
      "4\n",
      "6\n",
      "7\n",
      "8\n",
      "9\n",
      "11\n",
      "12\n",
      "13\n",
      "14\n",
      "16\n",
      "17\n",
      "18\n",
      "19\n",
      "20\n"
     ]
    }
   ],
   "source": [
    "a = 1\n",
    "\n",
    "while a <= 20:\n",
    "    if a in [5, 10, 15]:\n",
    "        a += 1\n",
    "        continue\n",
    "    print(a)\n",
    "    a = a+1\n",
    "        "
   ]
  },
  {
   "cell_type": "markdown",
   "id": "2a7e5ac2",
   "metadata": {},
   "source": [
    "6. Write a Python program that simulates a simple password entry system. Ask the user to enter a password, and use a while loop to repeatedly prompt for the password until the correct password \"abc123\" is entered. Once the correct password is entered, exit the loop."
   ]
  },
  {
   "cell_type": "code",
   "execution_count": 3,
   "id": "70a07c02",
   "metadata": {},
   "outputs": [
    {
     "name": "stdout",
     "output_type": "stream",
     "text": [
      "Enter your password ::g\n",
      "Incorrect password. Please try again.\n",
      "Enter your password ::d\n",
      "Incorrect password. Please try again.\n",
      "Enter your password ::d\n",
      "Incorrect password. Please try again.\n",
      "Enter your password ::abc123\n",
      "Password accepted. Access granted!\n"
     ]
    }
   ],
   "source": [
    "a = True\n",
    "while a:\n",
    "    password = input(\"Enter your password ::\")\n",
    "    \n",
    "    if password.endswith('abc123'):\n",
    "        print(\"Password accepted. Access granted!\")\n",
    "        a = \"\"\n",
    "    else:\n",
    "         print(\"Incorrect password. Please try again.\")\n"
   ]
  },
  {
   "cell_type": "markdown",
   "id": "817a51c5",
   "metadata": {},
   "source": [
    "7. Calculate and print the sum of all the positive integers entered by the user."
   ]
  },
  {
   "cell_type": "code",
   "execution_count": 4,
   "id": "503ea844",
   "metadata": {},
   "outputs": [
    {
     "data": {
      "text/plain": [
       "45"
      ]
     },
     "execution_count": 4,
     "metadata": {},
     "output_type": "execute_result"
    }
   ],
   "source": [
    "user_input = 1,2,3,4,5,6,7,8,9\n",
    "sum(user_input)"
   ]
  },
  {
   "cell_type": "code",
   "execution_count": null,
   "id": "94a43fa0",
   "metadata": {},
   "outputs": [],
   "source": []
  }
 ],
 "metadata": {
  "kernelspec": {
   "display_name": "Python 3 (ipykernel)",
   "language": "python",
   "name": "python3"
  },
  "language_info": {
   "codemirror_mode": {
    "name": "ipython",
    "version": 3
   },
   "file_extension": ".py",
   "mimetype": "text/x-python",
   "name": "python",
   "nbconvert_exporter": "python",
   "pygments_lexer": "ipython3",
   "version": "3.11.4"
  }
 },
 "nbformat": 4,
 "nbformat_minor": 5
}
