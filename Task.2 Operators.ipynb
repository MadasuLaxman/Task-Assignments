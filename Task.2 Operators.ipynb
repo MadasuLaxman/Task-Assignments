{
 "cells": [
  {
   "cell_type": "markdown",
   "id": "453fd6f4",
   "metadata": {},
   "source": [
    "**Task 1: Arithmetic Operators**\n"
   ]
  },
  {
   "cell_type": "markdown",
   "id": "7e64660c",
   "metadata": {},
   "source": [
    "1. Create a Python script that defines two variables, `num1` and `num2`, with any numeric values.\n"
   ]
  },
  {
   "cell_type": "code",
   "execution_count": 2,
   "id": "44b2f48f",
   "metadata": {},
   "outputs": [],
   "source": [
    "num =  17\n",
    "num = 7"
   ]
  },
  {
   "cell_type": "markdown",
   "id": "08dd164a",
   "metadata": {},
   "source": [
    "**2. Use arithmetic operators** (+, -, *, /, //, %, **) to perform the following operations:**\n",
    "   - Add `num1` and `num2`.\n",
    "   - Subtract `num2` from `num1`.\n",
    "   - Multiply `num1` and `num2`.\n",
    "   - Divide `num1` by `num2`.\n",
    "   - Find the floor division of `num1` by `num2`.\n",
    "   - Find the remainder when dividing `num1` by `num2`.\n",
    "   - Calculate `num1` raised to the power of `num2`."
   ]
  },
  {
   "cell_type": "code",
   "execution_count": 3,
   "id": "0904d2e2",
   "metadata": {},
   "outputs": [
    {
     "data": {
      "text/plain": [
       "30"
      ]
     },
     "execution_count": 3,
     "metadata": {},
     "output_type": "execute_result"
    }
   ],
   "source": [
    "num1 = 10 #Addition\n",
    "num2 = 20\n",
    "num1 + num2"
   ]
  },
  {
   "cell_type": "code",
   "execution_count": 5,
   "id": "4c55e8b1",
   "metadata": {},
   "outputs": [
    {
     "data": {
      "text/plain": [
       "-20"
      ]
     },
     "execution_count": 5,
     "metadata": {},
     "output_type": "execute_result"
    }
   ],
   "source": [
    "num1 = 10  # subtraction\n",
    "num2 = 30\n",
    "num1 - num2"
   ]
  },
  {
   "cell_type": "code",
   "execution_count": 30,
   "id": "e5b69cf1",
   "metadata": {},
   "outputs": [
    {
     "data": {
      "text/plain": [
       "200"
      ]
     },
     "execution_count": 30,
     "metadata": {},
     "output_type": "execute_result"
    }
   ],
   "source": [
    "10 * 20 # multiplication"
   ]
  },
  {
   "cell_type": "code",
   "execution_count": 7,
   "id": "b50bdd0b",
   "metadata": {},
   "outputs": [
    {
     "data": {
      "text/plain": [
       "1.0"
      ]
     },
     "execution_count": 7,
     "metadata": {},
     "output_type": "execute_result"
    }
   ],
   "source": [
    "10 / 10 # Normal Division"
   ]
  },
  {
   "cell_type": "code",
   "execution_count": 8,
   "id": "e16cd4e2",
   "metadata": {},
   "outputs": [
    {
     "data": {
      "text/plain": [
       "1"
      ]
     },
     "execution_count": 8,
     "metadata": {},
     "output_type": "execute_result"
    }
   ],
   "source": [
    "10 // 10 # Floor Division"
   ]
  },
  {
   "cell_type": "code",
   "execution_count": 9,
   "id": "02b15a21",
   "metadata": {},
   "outputs": [
    {
     "data": {
      "text/plain": [
       "0"
      ]
     },
     "execution_count": 9,
     "metadata": {},
     "output_type": "execute_result"
    }
   ],
   "source": [
    "10 % 10 # Modulo Division"
   ]
  },
  {
   "cell_type": "code",
   "execution_count": 10,
   "id": "399a02f3",
   "metadata": {},
   "outputs": [
    {
     "data": {
      "text/plain": [
       "4"
      ]
     },
     "execution_count": 10,
     "metadata": {},
     "output_type": "execute_result"
    }
   ],
   "source": [
    "2 ** 2 # power / Exponent operator"
   ]
  },
  {
   "cell_type": "markdown",
   "id": "6e5a8297",
   "metadata": {},
   "source": [
    "**Task 2: Logical Operators**"
   ]
  },
  {
   "cell_type": "markdown",
   "id": "e731f14a",
   "metadata": {},
   "source": [
    "1. Create a Python script that defines two boolean variables, `is_sunny` and `is_warm`, with appropriate values (True or False)."
   ]
  },
  {
   "cell_type": "code",
   "execution_count": 11,
   "id": "42da0cfa",
   "metadata": {},
   "outputs": [],
   "source": [
    "is_sunny = True\n",
    "is_warm = False"
   ]
  },
  {
   "cell_type": "markdown",
   "id": "e230914a",
   "metadata": {},
   "source": [
    "**2. Use logical operators (and, or, not) to create the following conditions:**\n",
    "   - Check if it's both sunny and warm and print the result.\n",
    "   - Check if it's either sunny or warm and print the result.\n",
    "   - Check if it's not sunny and print the result."
   ]
  },
  {
   "cell_type": "code",
   "execution_count": 32,
   "id": "9bce7b91",
   "metadata": {},
   "outputs": [
    {
     "data": {
      "text/plain": [
       "False"
      ]
     },
     "execution_count": 32,
     "metadata": {},
     "output_type": "execute_result"
    }
   ],
   "source": [
    "a = \"sunny\"\n",
    "b = \"warm\"\n",
    "(a<b) and (a>b)"
   ]
  },
  {
   "cell_type": "code",
   "execution_count": 33,
   "id": "9d21b6f9",
   "metadata": {},
   "outputs": [
    {
     "data": {
      "text/plain": [
       "True"
      ]
     },
     "execution_count": 33,
     "metadata": {},
     "output_type": "execute_result"
    }
   ],
   "source": [
    "a = \"sunny\"\n",
    "b = \"warm\"\n",
    "(a<b) or (a>b)"
   ]
  },
  {
   "cell_type": "code",
   "execution_count": 37,
   "id": "dd5c6c12",
   "metadata": {},
   "outputs": [
    {
     "data": {
      "text/plain": [
       "False"
      ]
     },
     "execution_count": 37,
     "metadata": {},
     "output_type": "execute_result"
    }
   ],
   "source": [
    "a = \"sunny\"\n",
    "b = \"warm\"\n",
    "not a"
   ]
  },
  {
   "cell_type": "markdown",
   "id": "9b56d6e3",
   "metadata": {},
   "source": [
    "**Task 3: Relational / Comparative Operators**\n",
    "\n",
    "**1. Create a Python script that defines two variables, `a` and `b`, with any numeric values.**"
   ]
  },
  {
   "cell_type": "code",
   "execution_count": 16,
   "id": "18b34e97",
   "metadata": {},
   "outputs": [],
   "source": [
    "a = 17\n",
    "b = 7"
   ]
  },
  {
   "cell_type": "markdown",
   "id": "3ad95609",
   "metadata": {},
   "source": [
    "**2. Use comparative operators (==, !=, <, >, <=, >=) to create the following conditions:**\n",
    "   - Check if `a` is equal to `b` and print the result.\n",
    "   - Check if `a` is not equal to `b` and print the result.\n",
    "   - Check if `a` is less than `b` and print the result.\n",
    "   - Check if `a` is greater than `b` and print the result.\n",
    "   - Check if `a` is less than or equal to `b` and print the result.\n",
    "   - Check if `a` is greater than or equal to `b` and print the result.\n",
    "."
   ]
  },
  {
   "cell_type": "code",
   "execution_count": 17,
   "id": "27e710c7",
   "metadata": {},
   "outputs": [
    {
     "data": {
      "text/plain": [
       "True"
      ]
     },
     "execution_count": 17,
     "metadata": {},
     "output_type": "execute_result"
    }
   ],
   "source": [
    "a = 15\n",
    "b = 15\n",
    "a == b"
   ]
  },
  {
   "cell_type": "code",
   "execution_count": 18,
   "id": "f2878bc9",
   "metadata": {},
   "outputs": [
    {
     "data": {
      "text/plain": [
       "True"
      ]
     },
     "execution_count": 18,
     "metadata": {},
     "output_type": "execute_result"
    }
   ],
   "source": [
    "a = 10 \n",
    "b = 12\n",
    "a != b"
   ]
  },
  {
   "cell_type": "code",
   "execution_count": 19,
   "id": "2c97b7e2",
   "metadata": {},
   "outputs": [
    {
     "data": {
      "text/plain": [
       "True"
      ]
     },
     "execution_count": 19,
     "metadata": {},
     "output_type": "execute_result"
    }
   ],
   "source": [
    "a = 10\n",
    "b = 20 \n",
    "a < b"
   ]
  },
  {
   "cell_type": "code",
   "execution_count": 20,
   "id": "8cf4297f",
   "metadata": {},
   "outputs": [
    {
     "data": {
      "text/plain": [
       "True"
      ]
     },
     "execution_count": 20,
     "metadata": {},
     "output_type": "execute_result"
    }
   ],
   "source": [
    "a = 20\n",
    "b = 10\n",
    "a > b"
   ]
  },
  {
   "cell_type": "code",
   "execution_count": 22,
   "id": "c0f1d16e",
   "metadata": {},
   "outputs": [
    {
     "data": {
      "text/plain": [
       "True"
      ]
     },
     "execution_count": 22,
     "metadata": {},
     "output_type": "execute_result"
    }
   ],
   "source": [
    "a = 5\n",
    "b = 10\n",
    "a <= b"
   ]
  },
  {
   "cell_type": "code",
   "execution_count": 23,
   "id": "6fe0f89b",
   "metadata": {},
   "outputs": [
    {
     "data": {
      "text/plain": [
       "True"
      ]
     },
     "execution_count": 23,
     "metadata": {},
     "output_type": "execute_result"
    }
   ],
   "source": [
    "a = 10\n",
    "b = 10\n",
    "a >= b"
   ]
  },
  {
   "cell_type": "markdown",
   "id": "3677e9b6",
   "metadata": {},
   "source": [
    "**Task4: Concatenation and Repetetion**\n",
    "\n",
    "1. Take two variables as first_name and last_name ..concatenate them."
   ]
  },
  {
   "cell_type": "code",
   "execution_count": 26,
   "id": "ff6012b4",
   "metadata": {},
   "outputs": [
    {
     "data": {
      "text/plain": [
       "'LaxmanMadasu'"
      ]
     },
     "execution_count": 26,
     "metadata": {},
     "output_type": "execute_result"
    }
   ],
   "source": [
    "first_name = \"Laxman\"\n",
    "last_name = \"Madasu\"\n",
    "first_name + last_name\n"
   ]
  },
  {
   "cell_type": "markdown",
   "id": "aa112205",
   "metadata": {},
   "source": [
    "\n",
    "\n",
    "\n",
    "\n",
    "   \n",
    "\n",
    "\n",
    "\n",
    "\n",
    "**2. print \"Innomatics\" for 5 times in same line.**"
   ]
  },
  {
   "cell_type": "code",
   "execution_count": 29,
   "id": "208f20be",
   "metadata": {},
   "outputs": [
    {
     "data": {
      "text/plain": [
       "'Innomatics Innomatics Innomatics Innomatics Innomatics '"
      ]
     },
     "execution_count": 29,
     "metadata": {},
     "output_type": "execute_result"
    }
   ],
   "source": [
    "A = \"Innomatics \"\n",
    "B = 5\n",
    "A * B"
   ]
  },
  {
   "cell_type": "code",
   "execution_count": null,
   "id": "d17ed5e7",
   "metadata": {},
   "outputs": [],
   "source": []
  }
 ],
 "metadata": {
  "kernelspec": {
   "display_name": "Python 3 (ipykernel)",
   "language": "python",
   "name": "python3"
  },
  "language_info": {
   "codemirror_mode": {
    "name": "ipython",
    "version": 3
   },
   "file_extension": ".py",
   "mimetype": "text/x-python",
   "name": "python",
   "nbconvert_exporter": "python",
   "pygments_lexer": "ipython3",
   "version": "3.11.4"
  }
 },
 "nbformat": 4,
 "nbformat_minor": 5
}
