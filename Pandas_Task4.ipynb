{
 "cells": [
  {
   "cell_type": "markdown",
   "id": "8c2ff3f7",
   "metadata": {},
   "source": [
    "### Clean the data.i.e missing values with all possible filling methods, Duplicates and Outliers."
   ]
  },
  {
   "cell_type": "code",
   "execution_count": 1,
   "id": "84aa3af9",
   "metadata": {},
   "outputs": [],
   "source": [
    "import pandas as pd"
   ]
  },
  {
   "cell_type": "code",
   "execution_count": 52,
   "id": "075377f8",
   "metadata": {},
   "outputs": [
    {
     "data": {
      "text/html": [
       "<div>\n",
       "<style scoped>\n",
       "    .dataframe tbody tr th:only-of-type {\n",
       "        vertical-align: middle;\n",
       "    }\n",
       "\n",
       "    .dataframe tbody tr th {\n",
       "        vertical-align: top;\n",
       "    }\n",
       "\n",
       "    .dataframe thead th {\n",
       "        text-align: right;\n",
       "    }\n",
       "</style>\n",
       "<table border=\"1\" class=\"dataframe\">\n",
       "  <thead>\n",
       "    <tr style=\"text-align: right;\">\n",
       "      <th></th>\n",
       "      <th>SepalLengthCm</th>\n",
       "      <th>SepalWidthCm</th>\n",
       "      <th>PetalLengthCm</th>\n",
       "      <th>PetalWidthCm</th>\n",
       "    </tr>\n",
       "  </thead>\n",
       "  <tbody>\n",
       "    <tr>\n",
       "      <th>0</th>\n",
       "      <td>5.1</td>\n",
       "      <td>3.5</td>\n",
       "      <td>1.4</td>\n",
       "      <td>0.2</td>\n",
       "    </tr>\n",
       "    <tr>\n",
       "      <th>1</th>\n",
       "      <td>4.9</td>\n",
       "      <td>3.0</td>\n",
       "      <td>1.4</td>\n",
       "      <td>0.2</td>\n",
       "    </tr>\n",
       "    <tr>\n",
       "      <th>2</th>\n",
       "      <td>4.7</td>\n",
       "      <td>3.2</td>\n",
       "      <td>1.3</td>\n",
       "      <td>0.2</td>\n",
       "    </tr>\n",
       "    <tr>\n",
       "      <th>3</th>\n",
       "      <td>4.6</td>\n",
       "      <td>3.1</td>\n",
       "      <td>1.5</td>\n",
       "      <td>10.2</td>\n",
       "    </tr>\n",
       "    <tr>\n",
       "      <th>4</th>\n",
       "      <td>50.0</td>\n",
       "      <td>3.6</td>\n",
       "      <td>1.4</td>\n",
       "      <td>0.2</td>\n",
       "    </tr>\n",
       "    <tr>\n",
       "      <th>...</th>\n",
       "      <td>...</td>\n",
       "      <td>...</td>\n",
       "      <td>...</td>\n",
       "      <td>...</td>\n",
       "    </tr>\n",
       "    <tr>\n",
       "      <th>162</th>\n",
       "      <td>7.2</td>\n",
       "      <td>3.6</td>\n",
       "      <td>6.1</td>\n",
       "      <td>2.5</td>\n",
       "    </tr>\n",
       "    <tr>\n",
       "      <th>163</th>\n",
       "      <td>6.5</td>\n",
       "      <td>3.2</td>\n",
       "      <td>5.1</td>\n",
       "      <td>2.0</td>\n",
       "    </tr>\n",
       "    <tr>\n",
       "      <th>164</th>\n",
       "      <td>6.4</td>\n",
       "      <td>2.7</td>\n",
       "      <td>5.3</td>\n",
       "      <td>1.9</td>\n",
       "    </tr>\n",
       "    <tr>\n",
       "      <th>165</th>\n",
       "      <td>7.3</td>\n",
       "      <td>2.9</td>\n",
       "      <td>6.3</td>\n",
       "      <td>1.8</td>\n",
       "    </tr>\n",
       "    <tr>\n",
       "      <th>166</th>\n",
       "      <td>6.7</td>\n",
       "      <td>2.5</td>\n",
       "      <td>5.8</td>\n",
       "      <td>1.8</td>\n",
       "    </tr>\n",
       "  </tbody>\n",
       "</table>\n",
       "<p>167 rows × 4 columns</p>\n",
       "</div>"
      ],
      "text/plain": [
       "     SepalLengthCm  SepalWidthCm  PetalLengthCm  PetalWidthCm\n",
       "0              5.1           3.5            1.4           0.2\n",
       "1              4.9           3.0            1.4           0.2\n",
       "2              4.7           3.2            1.3           0.2\n",
       "3              4.6           3.1            1.5          10.2\n",
       "4             50.0           3.6            1.4           0.2\n",
       "..             ...           ...            ...           ...\n",
       "162            7.2           3.6            6.1           2.5\n",
       "163            6.5           3.2            5.1           2.0\n",
       "164            6.4           2.7            5.3           1.9\n",
       "165            7.3           2.9            6.3           1.8\n",
       "166            6.7           2.5            5.8           1.8\n",
       "\n",
       "[167 rows x 4 columns]"
      ]
     },
     "execution_count": 52,
     "metadata": {},
     "output_type": "execute_result"
    }
   ],
   "source": [
    "df = pd.read_csv(r\"C:\\Users\\madas\\Downloads\\Iris_clean_-_Copy.csv\")\n",
    "df"
   ]
  },
  {
   "cell_type": "code",
   "execution_count": 11,
   "id": "fa3a5f8c",
   "metadata": {},
   "outputs": [
    {
     "data": {
      "text/plain": [
       "SepalLengthCm     5\n",
       "SepalWidthCm      6\n",
       "PetalLengthCm    12\n",
       "PetalWidthCm      2\n",
       "dtype: int64"
      ]
     },
     "execution_count": 11,
     "metadata": {},
     "output_type": "execute_result"
    }
   ],
   "source": [
    "df.isna().sum()"
   ]
  },
  {
   "cell_type": "markdown",
   "id": "95b03fc8",
   "metadata": {},
   "source": [
    "## Dropping Missing values"
   ]
  },
  {
   "cell_type": "code",
   "execution_count": 14,
   "id": "059f12ff",
   "metadata": {},
   "outputs": [],
   "source": [
    "df.dropna(inplace = True)"
   ]
  },
  {
   "cell_type": "code",
   "execution_count": 15,
   "id": "adea8651",
   "metadata": {},
   "outputs": [
    {
     "data": {
      "text/plain": [
       "SepalLengthCm    0\n",
       "SepalWidthCm     0\n",
       "PetalLengthCm    0\n",
       "PetalWidthCm     0\n",
       "dtype: int64"
      ]
     },
     "execution_count": 15,
     "metadata": {},
     "output_type": "execute_result"
    }
   ],
   "source": [
    "df.isna().sum()"
   ]
  },
  {
   "cell_type": "code",
   "execution_count": 16,
   "id": "ca40a37a",
   "metadata": {},
   "outputs": [
    {
     "data": {
      "text/plain": [
       "(144, 4)"
      ]
     },
     "execution_count": 16,
     "metadata": {},
     "output_type": "execute_result"
    }
   ],
   "source": [
    "df.shape"
   ]
  },
  {
   "cell_type": "markdown",
   "id": "a8fbdae8",
   "metadata": {},
   "source": [
    "## Filling the Missing values"
   ]
  },
  {
   "cell_type": "markdown",
   "id": "6bb9a1b6",
   "metadata": {},
   "source": [
    "### statistical Measure"
   ]
  },
  {
   "cell_type": "code",
   "execution_count": 18,
   "id": "31fdf494",
   "metadata": {},
   "outputs": [],
   "source": [
    "df['SepalLengthCm'].fillna(df['SepalLengthCm'].mean(),inplace = True)"
   ]
  },
  {
   "cell_type": "code",
   "execution_count": 25,
   "id": "6d16f905",
   "metadata": {},
   "outputs": [
    {
     "data": {
      "text/plain": [
       "0       5.1\n",
       "1       4.9\n",
       "2       4.7\n",
       "3       4.6\n",
       "4      50.0\n",
       "       ... \n",
       "162     7.2\n",
       "163     6.5\n",
       "164     6.4\n",
       "165     7.3\n",
       "166     6.7\n",
       "Name: SepalLengthCm, Length: 167, dtype: float64"
      ]
     },
     "execution_count": 25,
     "metadata": {},
     "output_type": "execute_result"
    }
   ],
   "source": [
    "df['SepalLengthCm']"
   ]
  },
  {
   "cell_type": "code",
   "execution_count": 26,
   "id": "e86bb1ae",
   "metadata": {},
   "outputs": [],
   "source": [
    "df['SepalWidthCm'].fillna(df['SepalWidthCm'].median(),inplace = True)"
   ]
  },
  {
   "cell_type": "code",
   "execution_count": 27,
   "id": "729b074b",
   "metadata": {},
   "outputs": [],
   "source": [
    "df['PetalLengthCm'].fillna(df['PetalLengthCm'].median(),inplace = True)"
   ]
  },
  {
   "cell_type": "code",
   "execution_count": 28,
   "id": "d9088195",
   "metadata": {},
   "outputs": [],
   "source": [
    "df['PetalWidthCm'].fillna(df['PetalWidthCm'].median(),inplace = True)"
   ]
  },
  {
   "cell_type": "code",
   "execution_count": 29,
   "id": "c3b10967",
   "metadata": {},
   "outputs": [
    {
     "data": {
      "text/plain": [
       "SepalLengthCm    0\n",
       "SepalWidthCm     0\n",
       "PetalLengthCm    0\n",
       "PetalWidthCm     0\n",
       "dtype: int64"
      ]
     },
     "execution_count": 29,
     "metadata": {},
     "output_type": "execute_result"
    }
   ],
   "source": [
    "df.isna().sum()"
   ]
  },
  {
   "cell_type": "markdown",
   "id": "9d2ff668",
   "metadata": {},
   "source": [
    "## Single Values"
   ]
  },
  {
   "cell_type": "code",
   "execution_count": 53,
   "id": "fb631424",
   "metadata": {},
   "outputs": [
    {
     "data": {
      "text/plain": [
       "SepalLengthCm     5\n",
       "SepalWidthCm      6\n",
       "PetalLengthCm    12\n",
       "PetalWidthCm      2\n",
       "dtype: int64"
      ]
     },
     "execution_count": 53,
     "metadata": {},
     "output_type": "execute_result"
    }
   ],
   "source": [
    "df.isna().sum()"
   ]
  },
  {
   "cell_type": "code",
   "execution_count": 54,
   "id": "bf565658",
   "metadata": {},
   "outputs": [],
   "source": [
    "df['SepalLengthCm'].fillna(3,inplace = True)"
   ]
  },
  {
   "cell_type": "code",
   "execution_count": 55,
   "id": "3ccafa9d",
   "metadata": {},
   "outputs": [],
   "source": [
    "df['SepalWidthCm'].fillna(21,inplace = True)"
   ]
  },
  {
   "cell_type": "code",
   "execution_count": 56,
   "id": "2a851945",
   "metadata": {},
   "outputs": [],
   "source": [
    "df['PetalLengthCm'].fillna(12, inplace = True)"
   ]
  },
  {
   "cell_type": "code",
   "execution_count": 57,
   "id": "f2dff16b",
   "metadata": {},
   "outputs": [],
   "source": [
    "df['PetalWidthCm'].fillna(15,inplace = True)"
   ]
  },
  {
   "cell_type": "code",
   "execution_count": 58,
   "id": "fe517b66",
   "metadata": {},
   "outputs": [
    {
     "data": {
      "text/plain": [
       "SepalLengthCm    0\n",
       "SepalWidthCm     0\n",
       "PetalLengthCm    0\n",
       "PetalWidthCm     0\n",
       "dtype: int64"
      ]
     },
     "execution_count": 58,
     "metadata": {},
     "output_type": "execute_result"
    }
   ],
   "source": [
    "df.isna().sum()"
   ]
  },
  {
   "cell_type": "markdown",
   "id": "d6259ce3",
   "metadata": {},
   "source": [
    "### filling methods"
   ]
  },
  {
   "cell_type": "code",
   "execution_count": 33,
   "id": "7cf15796",
   "metadata": {},
   "outputs": [
    {
     "data": {
      "text/plain": [
       "SepalLengthCm     5\n",
       "SepalWidthCm      6\n",
       "PetalLengthCm    12\n",
       "PetalWidthCm      2\n",
       "dtype: int64"
      ]
     },
     "execution_count": 33,
     "metadata": {},
     "output_type": "execute_result"
    }
   ],
   "source": [
    "df.isna().sum()"
   ]
  },
  {
   "cell_type": "code",
   "execution_count": 43,
   "id": "637f9a4f",
   "metadata": {},
   "outputs": [],
   "source": [
    "import warnings\n",
    "warnings.filterwarnings(\"ignore\")"
   ]
  },
  {
   "cell_type": "code",
   "execution_count": 44,
   "id": "8cf1f9c5",
   "metadata": {},
   "outputs": [],
   "source": [
    "df['SepalLengthCm'].fillna(method = 'ffill',inplace = True)"
   ]
  },
  {
   "cell_type": "code",
   "execution_count": 45,
   "id": "8c8854c9",
   "metadata": {},
   "outputs": [],
   "source": [
    "df['SepalWidthCm'].fillna(method = 'ffill',inplace = True)"
   ]
  },
  {
   "cell_type": "code",
   "execution_count": 46,
   "id": "804608c6",
   "metadata": {},
   "outputs": [],
   "source": [
    "df['PetalLengthCm'].fillna(method = 'bfill',inplace = True)"
   ]
  },
  {
   "cell_type": "code",
   "execution_count": 47,
   "id": "84150624",
   "metadata": {},
   "outputs": [],
   "source": [
    "df['PetalWidthCm'].fillna(method = 'bfill',inplace = True)"
   ]
  },
  {
   "cell_type": "code",
   "execution_count": 48,
   "id": "8596c88e",
   "metadata": {},
   "outputs": [
    {
     "data": {
      "text/plain": [
       "SepalLengthCm    0\n",
       "SepalWidthCm     0\n",
       "PetalLengthCm    0\n",
       "PetalWidthCm     0\n",
       "dtype: int64"
      ]
     },
     "execution_count": 48,
     "metadata": {},
     "output_type": "execute_result"
    }
   ],
   "source": [
    "df.isna().sum()"
   ]
  },
  {
   "cell_type": "markdown",
   "id": "b34a6b5f",
   "metadata": {},
   "source": [
    "## Duplicate values"
   ]
  },
  {
   "cell_type": "code",
   "execution_count": 49,
   "id": "219e3b26",
   "metadata": {},
   "outputs": [
    {
     "data": {
      "text/plain": [
       "17"
      ]
     },
     "execution_count": 49,
     "metadata": {},
     "output_type": "execute_result"
    }
   ],
   "source": [
    "df.duplicated().sum()"
   ]
  },
  {
   "cell_type": "code",
   "execution_count": 50,
   "id": "92d4f1ad",
   "metadata": {},
   "outputs": [],
   "source": [
    "df.drop_duplicates(keep = 'first',inplace = True)"
   ]
  },
  {
   "cell_type": "code",
   "execution_count": 51,
   "id": "e712c081",
   "metadata": {},
   "outputs": [
    {
     "data": {
      "text/plain": [
       "(150, 4)"
      ]
     },
     "execution_count": 51,
     "metadata": {},
     "output_type": "execute_result"
    }
   ],
   "source": [
    "df.shape"
   ]
  },
  {
   "cell_type": "markdown",
   "id": "57f21e6a",
   "metadata": {},
   "source": [
    "## Outliers"
   ]
  },
  {
   "cell_type": "code",
   "execution_count": 60,
   "id": "36ddc582",
   "metadata": {},
   "outputs": [],
   "source": [
    "import numpy as np"
   ]
  },
  {
   "cell_type": "code",
   "execution_count": 61,
   "id": "9fe0ba02",
   "metadata": {},
   "outputs": [],
   "source": [
    "Q1 = np.percentile(df,25)\n",
    "Q3 = np.percentile(df,75) \n",
    "IQR = Q3-Q1\n",
    "low = Q1 - (1.5*IQR)\n",
    "upp = Q3 + (1.5*IQR)"
   ]
  },
  {
   "cell_type": "code",
   "execution_count": 86,
   "id": "eb22bb7b",
   "metadata": {},
   "outputs": [
    {
     "data": {
      "text/plain": [
       "1.9"
      ]
     },
     "execution_count": 86,
     "metadata": {},
     "output_type": "execute_result"
    }
   ],
   "source": [
    "Q1"
   ]
  },
  {
   "cell_type": "code",
   "execution_count": 62,
   "id": "6a28141c",
   "metadata": {},
   "outputs": [
    {
     "data": {
      "text/plain": [
       "3.6"
      ]
     },
     "execution_count": 62,
     "metadata": {},
     "output_type": "execute_result"
    }
   ],
   "source": [
    "IQR"
   ]
  },
  {
   "cell_type": "code",
   "execution_count": 63,
   "id": "1b433a63",
   "metadata": {},
   "outputs": [
    {
     "data": {
      "text/plain": [
       "-3.5000000000000004"
      ]
     },
     "execution_count": 63,
     "metadata": {},
     "output_type": "execute_result"
    }
   ],
   "source": [
    "low"
   ]
  },
  {
   "cell_type": "code",
   "execution_count": 64,
   "id": "25228d4f",
   "metadata": {},
   "outputs": [
    {
     "data": {
      "text/plain": [
       "10.9"
      ]
     },
     "execution_count": 64,
     "metadata": {},
     "output_type": "execute_result"
    }
   ],
   "source": [
    "upp"
   ]
  },
  {
   "cell_type": "code",
   "execution_count": 106,
   "id": "c0479e91",
   "metadata": {},
   "outputs": [
    {
     "data": {
      "text/html": [
       "<div>\n",
       "<style scoped>\n",
       "    .dataframe tbody tr th:only-of-type {\n",
       "        vertical-align: middle;\n",
       "    }\n",
       "\n",
       "    .dataframe tbody tr th {\n",
       "        vertical-align: top;\n",
       "    }\n",
       "\n",
       "    .dataframe thead th {\n",
       "        text-align: right;\n",
       "    }\n",
       "</style>\n",
       "<table border=\"1\" class=\"dataframe\">\n",
       "  <thead>\n",
       "    <tr style=\"text-align: right;\">\n",
       "      <th></th>\n",
       "      <th>SepalLengthCm</th>\n",
       "      <th>SepalWidthCm</th>\n",
       "      <th>PetalLengthCm</th>\n",
       "      <th>PetalWidthCm</th>\n",
       "    </tr>\n",
       "  </thead>\n",
       "  <tbody>\n",
       "    <tr>\n",
       "      <th>0</th>\n",
       "      <td>NaN</td>\n",
       "      <td>NaN</td>\n",
       "      <td>NaN</td>\n",
       "      <td>NaN</td>\n",
       "    </tr>\n",
       "    <tr>\n",
       "      <th>1</th>\n",
       "      <td>NaN</td>\n",
       "      <td>NaN</td>\n",
       "      <td>NaN</td>\n",
       "      <td>NaN</td>\n",
       "    </tr>\n",
       "    <tr>\n",
       "      <th>2</th>\n",
       "      <td>NaN</td>\n",
       "      <td>NaN</td>\n",
       "      <td>NaN</td>\n",
       "      <td>NaN</td>\n",
       "    </tr>\n",
       "    <tr>\n",
       "      <th>3</th>\n",
       "      <td>NaN</td>\n",
       "      <td>NaN</td>\n",
       "      <td>NaN</td>\n",
       "      <td>NaN</td>\n",
       "    </tr>\n",
       "    <tr>\n",
       "      <th>4</th>\n",
       "      <td>50.0</td>\n",
       "      <td>NaN</td>\n",
       "      <td>NaN</td>\n",
       "      <td>NaN</td>\n",
       "    </tr>\n",
       "    <tr>\n",
       "      <th>...</th>\n",
       "      <td>...</td>\n",
       "      <td>...</td>\n",
       "      <td>...</td>\n",
       "      <td>...</td>\n",
       "    </tr>\n",
       "    <tr>\n",
       "      <th>162</th>\n",
       "      <td>NaN</td>\n",
       "      <td>NaN</td>\n",
       "      <td>NaN</td>\n",
       "      <td>NaN</td>\n",
       "    </tr>\n",
       "    <tr>\n",
       "      <th>163</th>\n",
       "      <td>NaN</td>\n",
       "      <td>NaN</td>\n",
       "      <td>NaN</td>\n",
       "      <td>NaN</td>\n",
       "    </tr>\n",
       "    <tr>\n",
       "      <th>164</th>\n",
       "      <td>NaN</td>\n",
       "      <td>NaN</td>\n",
       "      <td>NaN</td>\n",
       "      <td>NaN</td>\n",
       "    </tr>\n",
       "    <tr>\n",
       "      <th>165</th>\n",
       "      <td>NaN</td>\n",
       "      <td>NaN</td>\n",
       "      <td>NaN</td>\n",
       "      <td>NaN</td>\n",
       "    </tr>\n",
       "    <tr>\n",
       "      <th>166</th>\n",
       "      <td>NaN</td>\n",
       "      <td>NaN</td>\n",
       "      <td>NaN</td>\n",
       "      <td>NaN</td>\n",
       "    </tr>\n",
       "  </tbody>\n",
       "</table>\n",
       "<p>167 rows × 4 columns</p>\n",
       "</div>"
      ],
      "text/plain": [
       "     SepalLengthCm  SepalWidthCm  PetalLengthCm  PetalWidthCm\n",
       "0              NaN           NaN            NaN           NaN\n",
       "1              NaN           NaN            NaN           NaN\n",
       "2              NaN           NaN            NaN           NaN\n",
       "3              NaN           NaN            NaN           NaN\n",
       "4             50.0           NaN            NaN           NaN\n",
       "..             ...           ...            ...           ...\n",
       "162            NaN           NaN            NaN           NaN\n",
       "163            NaN           NaN            NaN           NaN\n",
       "164            NaN           NaN            NaN           NaN\n",
       "165            NaN           NaN            NaN           NaN\n",
       "166            NaN           NaN            NaN           NaN\n",
       "\n",
       "[167 rows x 4 columns]"
      ]
     },
     "execution_count": 106,
     "metadata": {},
     "output_type": "execute_result"
    }
   ],
   "source": [
    "df[(df < low)|(df > upp)]"
   ]
  },
  {
   "cell_type": "code",
   "execution_count": 122,
   "id": "dd01378a",
   "metadata": {},
   "outputs": [
    {
     "data": {
      "text/html": [
       "<div>\n",
       "<style scoped>\n",
       "    .dataframe tbody tr th:only-of-type {\n",
       "        vertical-align: middle;\n",
       "    }\n",
       "\n",
       "    .dataframe tbody tr th {\n",
       "        vertical-align: top;\n",
       "    }\n",
       "\n",
       "    .dataframe thead th {\n",
       "        text-align: right;\n",
       "    }\n",
       "</style>\n",
       "<table border=\"1\" class=\"dataframe\">\n",
       "  <thead>\n",
       "    <tr style=\"text-align: right;\">\n",
       "      <th></th>\n",
       "      <th>SepalLengthCm</th>\n",
       "      <th>SepalWidthCm</th>\n",
       "      <th>PetalLengthCm</th>\n",
       "      <th>PetalWidthCm</th>\n",
       "    </tr>\n",
       "  </thead>\n",
       "  <tbody>\n",
       "    <tr>\n",
       "      <th>0</th>\n",
       "      <td>NaN</td>\n",
       "      <td>NaN</td>\n",
       "      <td>NaN</td>\n",
       "      <td>NaN</td>\n",
       "    </tr>\n",
       "    <tr>\n",
       "      <th>1</th>\n",
       "      <td>NaN</td>\n",
       "      <td>NaN</td>\n",
       "      <td>NaN</td>\n",
       "      <td>NaN</td>\n",
       "    </tr>\n",
       "    <tr>\n",
       "      <th>2</th>\n",
       "      <td>NaN</td>\n",
       "      <td>NaN</td>\n",
       "      <td>NaN</td>\n",
       "      <td>NaN</td>\n",
       "    </tr>\n",
       "    <tr>\n",
       "      <th>3</th>\n",
       "      <td>NaN</td>\n",
       "      <td>NaN</td>\n",
       "      <td>NaN</td>\n",
       "      <td>NaN</td>\n",
       "    </tr>\n",
       "    <tr>\n",
       "      <th>4</th>\n",
       "      <td>50.0</td>\n",
       "      <td>NaN</td>\n",
       "      <td>NaN</td>\n",
       "      <td>NaN</td>\n",
       "    </tr>\n",
       "  </tbody>\n",
       "</table>\n",
       "</div>"
      ],
      "text/plain": [
       "   SepalLengthCm  SepalWidthCm  PetalLengthCm  PetalWidthCm\n",
       "0            NaN           NaN            NaN           NaN\n",
       "1            NaN           NaN            NaN           NaN\n",
       "2            NaN           NaN            NaN           NaN\n",
       "3            NaN           NaN            NaN           NaN\n",
       "4           50.0           NaN            NaN           NaN"
      ]
     },
     "execution_count": 122,
     "metadata": {},
     "output_type": "execute_result"
    }
   ],
   "source": [
    "df[(df < low)|(df > upp)].head()"
   ]
  },
  {
   "cell_type": "code",
   "execution_count": 82,
   "id": "ca1a8134",
   "metadata": {},
   "outputs": [
    {
     "data": {
      "text/plain": [
       "4"
      ]
     },
     "execution_count": 82,
     "metadata": {},
     "output_type": "execute_result"
    }
   ],
   "source": [
    "sum(df['SepalLengthCm']> 10)"
   ]
  },
  {
   "cell_type": "code",
   "execution_count": 83,
   "id": "461829f7",
   "metadata": {},
   "outputs": [
    {
     "data": {
      "text/plain": [
       "9"
      ]
     },
     "execution_count": 83,
     "metadata": {},
     "output_type": "execute_result"
    }
   ],
   "source": [
    "sum(df['SepalWidthCm']>10)"
   ]
  },
  {
   "cell_type": "code",
   "execution_count": 84,
   "id": "c2ca42e0",
   "metadata": {},
   "outputs": [
    {
     "data": {
      "text/plain": [
       "14"
      ]
     },
     "execution_count": 84,
     "metadata": {},
     "output_type": "execute_result"
    }
   ],
   "source": [
    "sum(df['PetalLengthCm']>10)"
   ]
  },
  {
   "cell_type": "code",
   "execution_count": 85,
   "id": "cb22dbd7",
   "metadata": {},
   "outputs": [
    {
     "data": {
      "text/plain": [
       "7"
      ]
     },
     "execution_count": 85,
     "metadata": {},
     "output_type": "execute_result"
    }
   ],
   "source": [
    "sum(df['PetalWidthCm']>10)"
   ]
  },
  {
   "cell_type": "code",
   "execution_count": 90,
   "id": "cb2eb6c0",
   "metadata": {},
   "outputs": [],
   "source": [
    "Q = df['SepalLengthCm']"
   ]
  },
  {
   "cell_type": "code",
   "execution_count": 91,
   "id": "c244246c",
   "metadata": {},
   "outputs": [],
   "source": [
    "Q1 = np.percentile(Q,25)\n",
    "Q3 = np.percentile(Q,75) \n",
    "IQR = Q3-Q1\n",
    "low = Q1 - (1.5*IQR)\n",
    "upp = Q3 + (1.5*IQR)"
   ]
  },
  {
   "cell_type": "code",
   "execution_count": 92,
   "id": "d6a27f94",
   "metadata": {},
   "outputs": [
    {
     "data": {
      "text/plain": [
       "4       50.0\n",
       "16      50.4\n",
       "56     116.3\n",
       "129     70.2\n",
       "Name: SepalLengthCm, dtype: float64"
      ]
     },
     "execution_count": 92,
     "metadata": {},
     "output_type": "execute_result"
    }
   ],
   "source": [
    "Q[(Q < low)|(Q > upp)]"
   ]
  },
  {
   "cell_type": "code",
   "execution_count": 93,
   "id": "711aa9eb",
   "metadata": {},
   "outputs": [],
   "source": [
    "Q = df['SepalWidthCm']"
   ]
  },
  {
   "cell_type": "code",
   "execution_count": 94,
   "id": "39a4832f",
   "metadata": {},
   "outputs": [],
   "source": [
    "Q1 = np.percentile(Q,25)\n",
    "Q3 = np.percentile(Q,75) \n",
    "IQR = Q3-Q1\n",
    "low = Q1 - (1.5*IQR)\n",
    "upp = Q3 + (1.5*IQR)"
   ]
  },
  {
   "cell_type": "code",
   "execution_count": 95,
   "id": "e9a29461",
   "metadata": {},
   "outputs": [
    {
     "data": {
      "text/plain": [
       "5       21.0\n",
       "12     130.0\n",
       "15       4.4\n",
       "16      21.0\n",
       "26      34.0\n",
       "52      21.0\n",
       "73      21.0\n",
       "92     112.6\n",
       "137     21.0\n",
       "145     21.0\n",
       "Name: SepalWidthCm, dtype: float64"
      ]
     },
     "execution_count": 95,
     "metadata": {},
     "output_type": "execute_result"
    }
   ],
   "source": [
    "Q[(Q < low)|(Q > upp)]"
   ]
  },
  {
   "cell_type": "code",
   "execution_count": 102,
   "id": "36dfbfee",
   "metadata": {},
   "outputs": [],
   "source": [
    "Q = df['PetalLengthCm']"
   ]
  },
  {
   "cell_type": "code",
   "execution_count": 103,
   "id": "630728d2",
   "metadata": {},
   "outputs": [],
   "source": [
    "Q1 = np.percentile(Q,25)\n",
    "Q3 = np.percentile(Q,75) \n",
    "IQR = Q3-Q1\n",
    "low = Q1 - (1.5*IQR)\n",
    "upp = Q3 + (1.5*IQR)"
   ]
  },
  {
   "cell_type": "code",
   "execution_count": 105,
   "id": "31e7d559",
   "metadata": {},
   "outputs": [
    {
     "data": {
      "text/plain": [
       "9      12.0\n",
       "37     12.0\n",
       "41     13.0\n",
       "56     12.0\n",
       "63     12.0\n",
       "74     12.0\n",
       "80     13.8\n",
       "86     12.0\n",
       "91     12.0\n",
       "97     12.0\n",
       "112    12.0\n",
       "131    12.0\n",
       "140    12.0\n",
       "145    12.0\n",
       "Name: PetalLengthCm, dtype: float64"
      ]
     },
     "execution_count": 105,
     "metadata": {},
     "output_type": "execute_result"
    }
   ],
   "source": [
    "Q[(Q < low)|(Q > upp)]"
   ]
  },
  {
   "cell_type": "code",
   "execution_count": 99,
   "id": "cdaa3511",
   "metadata": {},
   "outputs": [],
   "source": [
    "Q = df['PetalWidthCm']"
   ]
  },
  {
   "cell_type": "code",
   "execution_count": 100,
   "id": "8eacb2e1",
   "metadata": {},
   "outputs": [],
   "source": [
    "Q1 = np.percentile(Q,25)\n",
    "Q3 = np.percentile(Q,75) \n",
    "IQR = Q3-Q1\n",
    "low = Q1 - (1.5*IQR)\n",
    "upp = Q3 + (1.5*IQR)"
   ]
  },
  {
   "cell_type": "code",
   "execution_count": 101,
   "id": "bd0f2902",
   "metadata": {},
   "outputs": [
    {
     "data": {
      "text/plain": [
       "3      10.2\n",
       "12     10.1\n",
       "18     15.0\n",
       "28    110.2\n",
       "42     15.0\n",
       "57     16.0\n",
       "98    111.1\n",
       "Name: PetalWidthCm, dtype: float64"
      ]
     },
     "execution_count": 101,
     "metadata": {},
     "output_type": "execute_result"
    }
   ],
   "source": [
    "Q[(Q < low)|(Q > upp)]"
   ]
  },
  {
   "cell_type": "code",
   "execution_count": 121,
   "id": "6b5539c9",
   "metadata": {},
   "outputs": [],
   "source": [
    "#z-core"
   ]
  },
  {
   "cell_type": "code",
   "execution_count": 110,
   "id": "66f3e4d8",
   "metadata": {},
   "outputs": [
    {
     "data": {
      "text/plain": [
       "12.094943019065527"
      ]
     },
     "execution_count": 110,
     "metadata": {},
     "output_type": "execute_result"
    }
   ],
   "source": [
    "df['PetalWidthCm'].std()"
   ]
  },
  {
   "cell_type": "code",
   "execution_count": 115,
   "id": "9b7f1e83",
   "metadata": {},
   "outputs": [
    {
     "data": {
      "text/plain": [
       "-2.7754491017964074"
      ]
     },
     "execution_count": 115,
     "metadata": {},
     "output_type": "execute_result"
    }
   ],
   "source": [
    " 0.2 -2.9754491017964075"
   ]
  },
  {
   "cell_type": "code",
   "execution_count": 116,
   "id": "c6f75a92",
   "metadata": {},
   "outputs": [
    {
     "data": {
      "text/plain": [
       "-0.2294718625314237"
      ]
     },
     "execution_count": 116,
     "metadata": {},
     "output_type": "execute_result"
    }
   ],
   "source": [
    "-2.7754491017964074/12.094943019065527"
   ]
  },
  {
   "cell_type": "code",
   "execution_count": 114,
   "id": "804a9892",
   "metadata": {},
   "outputs": [
    {
     "data": {
      "text/plain": [
       "0       0.2\n",
       "1       0.2\n",
       "2       0.2\n",
       "3      10.2\n",
       "4       0.2\n",
       "       ... \n",
       "162     2.5\n",
       "163     2.0\n",
       "164     1.9\n",
       "165     1.8\n",
       "166     1.8\n",
       "Name: PetalWidthCm, Length: 167, dtype: float64"
      ]
     },
     "execution_count": 114,
     "metadata": {},
     "output_type": "execute_result"
    }
   ],
   "source": [
    "df['PetalWidthCm']"
   ]
  },
  {
   "cell_type": "code",
   "execution_count": null,
   "id": "c213e471",
   "metadata": {},
   "outputs": [],
   "source": []
  }
 ],
 "metadata": {
  "kernelspec": {
   "display_name": "Python 3 (ipykernel)",
   "language": "python",
   "name": "python3"
  },
  "language_info": {
   "codemirror_mode": {
    "name": "ipython",
    "version": 3
   },
   "file_extension": ".py",
   "mimetype": "text/x-python",
   "name": "python",
   "nbconvert_exporter": "python",
   "pygments_lexer": "ipython3",
   "version": "3.11.4"
  }
 },
 "nbformat": 4,
 "nbformat_minor": 5
}
