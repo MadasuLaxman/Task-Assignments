{
 "cells": [
  {
   "cell_type": "markdown",
   "id": "f9cca2f0",
   "metadata": {},
   "source": [
    "**Task1: Append and Modify Elements**\n",
    "    \n",
    "* Create an empty list called numbers. Append the numbers 1, 2, and 3 to the list.\n",
    "* Modify the element at index 1 to be 4.\n",
    "* Print the updated list."
   ]
  },
  {
   "cell_type": "code",
   "execution_count": 2,
   "id": "77be5d93",
   "metadata": {},
   "outputs": [],
   "source": [
    "empty = []"
   ]
  },
  {
   "cell_type": "code",
   "execution_count": 3,
   "id": "e6c53544",
   "metadata": {},
   "outputs": [],
   "source": [
    "empty.append(1)\n",
    "empty.append(2)\n",
    "empty.append(3)"
   ]
  },
  {
   "cell_type": "code",
   "execution_count": 50,
   "id": "bd9b9283",
   "metadata": {},
   "outputs": [
    {
     "data": {
      "text/plain": [
       "0"
      ]
     },
     "execution_count": 50,
     "metadata": {},
     "output_type": "execute_result"
    }
   ],
   "source": [
    "empty.index(1)"
   ]
  },
  {
   "cell_type": "code",
   "execution_count": 10,
   "id": "12aeefb6",
   "metadata": {},
   "outputs": [
    {
     "data": {
      "text/plain": [
       "[1, 2, 3, 1, 2, 3]"
      ]
     },
     "execution_count": 10,
     "metadata": {},
     "output_type": "execute_result"
    }
   ],
   "source": [
    "empty"
   ]
  },
  {
   "cell_type": "markdown",
   "id": "7f607601",
   "metadata": {},
   "source": [
    "**Task2: Slicing and Concatenation**\n",
    "\n",
    "* Create a list called fruits with elements 'apple', 'banana', 'orange', 'mango', and 'kiwi'. \n",
    "* Create a new list  by slicing fruits to include only the citrus fruits ('orange' and 'mango\"). * Create a new list called tropical by slicing fruits to include only the tropical fruits ('banana\" and \"kiwi'). \n",
    "* Concatenate citrus and tropical lists to create a new list called combined. Print combined.\n"
   ]
  },
  {
   "cell_type": "code",
   "execution_count": 33,
   "id": "6ea48968",
   "metadata": {},
   "outputs": [],
   "source": [
    "fruits = ['apple','banana', 'orange', 'mango', 'kiwi']"
   ]
  },
  {
   "cell_type": "code",
   "execution_count": 34,
   "id": "bf10c83c",
   "metadata": {},
   "outputs": [
    {
     "data": {
      "text/plain": [
       "['apple', 'banana', 'orange', 'mango', 'kiwi']"
      ]
     },
     "execution_count": 34,
     "metadata": {},
     "output_type": "execute_result"
    }
   ],
   "source": [
    "fruits"
   ]
  },
  {
   "cell_type": "code",
   "execution_count": 30,
   "id": "26557ef6",
   "metadata": {},
   "outputs": [
    {
     "data": {
      "text/plain": [
       "['orange', 'mango']"
      ]
     },
     "execution_count": 30,
     "metadata": {},
     "output_type": "execute_result"
    }
   ],
   "source": [
    "citrus_fruits = fruits[2:4]\n",
    "citrus_fruits"
   ]
  },
  {
   "cell_type": "code",
   "execution_count": 29,
   "id": "2e0fa089",
   "metadata": {},
   "outputs": [
    {
     "data": {
      "text/plain": [
       "['banana', 'kiwi']"
      ]
     },
     "execution_count": 29,
     "metadata": {},
     "output_type": "execute_result"
    }
   ],
   "source": [
    "tropical_fruits = fruits[1:5:3]\n",
    "tropical_fruits"
   ]
  },
  {
   "cell_type": "code",
   "execution_count": 31,
   "id": "5ac96831",
   "metadata": {},
   "outputs": [],
   "source": [
    "combined = citrus_fruits + tropical_fruits"
   ]
  },
  {
   "cell_type": "code",
   "execution_count": 32,
   "id": "8a2c1d54",
   "metadata": {},
   "outputs": [
    {
     "data": {
      "text/plain": [
       "['orange', 'mango', 'banana', 'kiwi']"
      ]
     },
     "execution_count": 32,
     "metadata": {},
     "output_type": "execute_result"
    }
   ],
   "source": [
    "combined"
   ]
  },
  {
   "cell_type": "markdown",
   "id": "b23d5280",
   "metadata": {},
   "source": [
    "**Task3: Counting and Removing Elements**\n",
    "\n",
    "* Create a list called colors with repeated elements 'red', 'blue', 'red', 'green', 'red'. Print the number of occurrences of 'red' in the list. Remove all occurrences of 'red' from the list. Print the updated list.\n"
   ]
  },
  {
   "cell_type": "code",
   "execution_count": 35,
   "id": "6d5434fb",
   "metadata": {},
   "outputs": [],
   "source": [
    "colors = ['red', 'blue', 'red', 'green', 'red']"
   ]
  },
  {
   "cell_type": "code",
   "execution_count": 36,
   "id": "5972c8eb",
   "metadata": {},
   "outputs": [
    {
     "data": {
      "text/plain": [
       "['red', 'blue', 'red', 'green', 'red']"
      ]
     },
     "execution_count": 36,
     "metadata": {},
     "output_type": "execute_result"
    }
   ],
   "source": [
    "colors"
   ]
  },
  {
   "cell_type": "code",
   "execution_count": 37,
   "id": "1415f068",
   "metadata": {},
   "outputs": [
    {
     "data": {
      "text/plain": [
       "3"
      ]
     },
     "execution_count": 37,
     "metadata": {},
     "output_type": "execute_result"
    }
   ],
   "source": [
    "colors.count(\"red\")"
   ]
  },
  {
   "cell_type": "code",
   "execution_count": 41,
   "id": "34bedf93",
   "metadata": {},
   "outputs": [],
   "source": [
    "colors.remove('red')"
   ]
  },
  {
   "cell_type": "code",
   "execution_count": 42,
   "id": "146590b3",
   "metadata": {},
   "outputs": [
    {
     "data": {
      "text/plain": [
       "['blue', 'green']"
      ]
     },
     "execution_count": 42,
     "metadata": {},
     "output_type": "execute_result"
    }
   ],
   "source": [
    "colors"
   ]
  },
  {
   "cell_type": "markdown",
   "id": "fb9948f8",
   "metadata": {},
   "source": [
    "**Task 4: List Manipulation**\n",
    "\n",
    "* Add 'cheese' to the end of the list. Remove 'milk' from the list.\n",
    "* Create a list called groceries with initial items: 'bread', 'milk', 'eggs', 'butter'. Print the final list of groceries.\n",
    "* Insert 'yogurt' at index 1."
   ]
  },
  {
   "cell_type": "code",
   "execution_count": 43,
   "id": "883f74ea",
   "metadata": {},
   "outputs": [],
   "source": [
    "Groceries = ['bread', 'milk', 'eggs', 'butter']"
   ]
  },
  {
   "cell_type": "code",
   "execution_count": 44,
   "id": "5202680e",
   "metadata": {},
   "outputs": [
    {
     "data": {
      "text/plain": [
       "['bread', 'milk', 'eggs', 'butter']"
      ]
     },
     "execution_count": 44,
     "metadata": {},
     "output_type": "execute_result"
    }
   ],
   "source": [
    "Groceries"
   ]
  },
  {
   "cell_type": "code",
   "execution_count": 45,
   "id": "38baa5c5",
   "metadata": {},
   "outputs": [],
   "source": [
    "Groceries.append('cheese')\n",
    "Groceries.remove('milk')"
   ]
  },
  {
   "cell_type": "code",
   "execution_count": 46,
   "id": "00490ff8",
   "metadata": {},
   "outputs": [
    {
     "data": {
      "text/plain": [
       "['bread', 'eggs', 'butter', 'cheese']"
      ]
     },
     "execution_count": 46,
     "metadata": {},
     "output_type": "execute_result"
    }
   ],
   "source": [
    "Groceries"
   ]
  },
  {
   "cell_type": "code",
   "execution_count": 47,
   "id": "ef01f671",
   "metadata": {},
   "outputs": [],
   "source": [
    "Groceries.insert(1,'yogurt')"
   ]
  },
  {
   "cell_type": "code",
   "execution_count": 48,
   "id": "56ec4575",
   "metadata": {},
   "outputs": [
    {
     "data": {
      "text/plain": [
       "['bread', 'yogurt', 'eggs', 'butter', 'cheese']"
      ]
     },
     "execution_count": 48,
     "metadata": {},
     "output_type": "execute_result"
    }
   ],
   "source": [
    "Groceries"
   ]
  },
  {
   "cell_type": "code",
   "execution_count": null,
   "id": "b3fb267b",
   "metadata": {},
   "outputs": [],
   "source": []
  }
 ],
 "metadata": {
  "kernelspec": {
   "display_name": "Python 3 (ipykernel)",
   "language": "python",
   "name": "python3"
  },
  "language_info": {
   "codemirror_mode": {
    "name": "ipython",
    "version": 3
   },
   "file_extension": ".py",
   "mimetype": "text/x-python",
   "name": "python",
   "nbconvert_exporter": "python",
   "pygments_lexer": "ipython3",
   "version": "3.11.4"
  }
 },
 "nbformat": 4,
 "nbformat_minor": 5
}
