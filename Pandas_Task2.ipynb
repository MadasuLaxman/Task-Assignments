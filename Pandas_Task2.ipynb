{
 "cells": [
  {
   "cell_type": "markdown",
   "id": "72dd1591",
   "metadata": {},
   "source": [
    "1. Find all the attributes and Statistical  Measures  for each column in iris dataset"
   ]
  },
  {
   "cell_type": "code",
   "execution_count": 5,
   "id": "95b91b77",
   "metadata": {},
   "outputs": [],
   "source": [
    "import pandas as pd"
   ]
  },
  {
   "cell_type": "code",
   "execution_count": 6,
   "id": "22410167",
   "metadata": {},
   "outputs": [
    {
     "data": {
      "text/html": [
       "<div>\n",
       "<style scoped>\n",
       "    .dataframe tbody tr th:only-of-type {\n",
       "        vertical-align: middle;\n",
       "    }\n",
       "\n",
       "    .dataframe tbody tr th {\n",
       "        vertical-align: top;\n",
       "    }\n",
       "\n",
       "    .dataframe thead th {\n",
       "        text-align: right;\n",
       "    }\n",
       "</style>\n",
       "<table border=\"1\" class=\"dataframe\">\n",
       "  <thead>\n",
       "    <tr style=\"text-align: right;\">\n",
       "      <th></th>\n",
       "      <th>Id</th>\n",
       "      <th>SepalLengthCm</th>\n",
       "      <th>SepalWidthCm</th>\n",
       "      <th>PetalLengthCm</th>\n",
       "      <th>PetalWidthCm</th>\n",
       "      <th>Species</th>\n",
       "    </tr>\n",
       "  </thead>\n",
       "  <tbody>\n",
       "    <tr>\n",
       "      <th>0</th>\n",
       "      <td>1</td>\n",
       "      <td>5.1</td>\n",
       "      <td>3.5</td>\n",
       "      <td>1.4</td>\n",
       "      <td>0.2</td>\n",
       "      <td>Iris-setosa</td>\n",
       "    </tr>\n",
       "    <tr>\n",
       "      <th>1</th>\n",
       "      <td>2</td>\n",
       "      <td>4.9</td>\n",
       "      <td>3.0</td>\n",
       "      <td>1.4</td>\n",
       "      <td>0.2</td>\n",
       "      <td>Iris-setosa</td>\n",
       "    </tr>\n",
       "    <tr>\n",
       "      <th>2</th>\n",
       "      <td>3</td>\n",
       "      <td>4.7</td>\n",
       "      <td>3.2</td>\n",
       "      <td>1.3</td>\n",
       "      <td>0.2</td>\n",
       "      <td>Iris-setosa</td>\n",
       "    </tr>\n",
       "    <tr>\n",
       "      <th>3</th>\n",
       "      <td>4</td>\n",
       "      <td>4.6</td>\n",
       "      <td>3.1</td>\n",
       "      <td>1.5</td>\n",
       "      <td>10.2</td>\n",
       "      <td>Iris-setosa</td>\n",
       "    </tr>\n",
       "    <tr>\n",
       "      <th>4</th>\n",
       "      <td>5</td>\n",
       "      <td>50.0</td>\n",
       "      <td>3.6</td>\n",
       "      <td>1.4</td>\n",
       "      <td>0.2</td>\n",
       "      <td>Iris-setosa</td>\n",
       "    </tr>\n",
       "    <tr>\n",
       "      <th>...</th>\n",
       "      <td>...</td>\n",
       "      <td>...</td>\n",
       "      <td>...</td>\n",
       "      <td>...</td>\n",
       "      <td>...</td>\n",
       "      <td>...</td>\n",
       "    </tr>\n",
       "    <tr>\n",
       "      <th>160</th>\n",
       "      <td>161</td>\n",
       "      <td>7.7</td>\n",
       "      <td>2.8</td>\n",
       "      <td>6.7</td>\n",
       "      <td>2.0</td>\n",
       "      <td>NaN</td>\n",
       "    </tr>\n",
       "    <tr>\n",
       "      <th>161</th>\n",
       "      <td>162</td>\n",
       "      <td>6.3</td>\n",
       "      <td>2.7</td>\n",
       "      <td>4.9</td>\n",
       "      <td>1.8</td>\n",
       "      <td>Iris-virginica</td>\n",
       "    </tr>\n",
       "    <tr>\n",
       "      <th>162</th>\n",
       "      <td>163</td>\n",
       "      <td>7.2</td>\n",
       "      <td>3.6</td>\n",
       "      <td>6.1</td>\n",
       "      <td>2.5</td>\n",
       "      <td>Iris-virginica</td>\n",
       "    </tr>\n",
       "    <tr>\n",
       "      <th>163</th>\n",
       "      <td>164</td>\n",
       "      <td>6.5</td>\n",
       "      <td>3.2</td>\n",
       "      <td>5.1</td>\n",
       "      <td>2.0</td>\n",
       "      <td>Iris-virginica</td>\n",
       "    </tr>\n",
       "    <tr>\n",
       "      <th>164</th>\n",
       "      <td>165</td>\n",
       "      <td>6.4</td>\n",
       "      <td>2.7</td>\n",
       "      <td>5.3</td>\n",
       "      <td>1.9</td>\n",
       "      <td>Iris-virginica</td>\n",
       "    </tr>\n",
       "  </tbody>\n",
       "</table>\n",
       "<p>165 rows × 6 columns</p>\n",
       "</div>"
      ],
      "text/plain": [
       "      Id  SepalLengthCm  SepalWidthCm  PetalLengthCm  PetalWidthCm  \\\n",
       "0      1            5.1           3.5            1.4           0.2   \n",
       "1      2            4.9           3.0            1.4           0.2   \n",
       "2      3            4.7           3.2            1.3           0.2   \n",
       "3      4            4.6           3.1            1.5          10.2   \n",
       "4      5           50.0           3.6            1.4           0.2   \n",
       "..   ...            ...           ...            ...           ...   \n",
       "160  161            7.7           2.8            6.7           2.0   \n",
       "161  162            6.3           2.7            4.9           1.8   \n",
       "162  163            7.2           3.6            6.1           2.5   \n",
       "163  164            6.5           3.2            5.1           2.0   \n",
       "164  165            6.4           2.7            5.3           1.9   \n",
       "\n",
       "            Species  \n",
       "0       Iris-setosa  \n",
       "1       Iris-setosa  \n",
       "2       Iris-setosa  \n",
       "3       Iris-setosa  \n",
       "4       Iris-setosa  \n",
       "..              ...  \n",
       "160             NaN  \n",
       "161  Iris-virginica  \n",
       "162  Iris-virginica  \n",
       "163  Iris-virginica  \n",
       "164  Iris-virginica  \n",
       "\n",
       "[165 rows x 6 columns]"
      ]
     },
     "execution_count": 6,
     "metadata": {},
     "output_type": "execute_result"
    }
   ],
   "source": [
    "df = pd.read_csv(r\"C:\\Users\\madas\\Downloads\\Iris.csv\")\n",
    "df"
   ]
  },
  {
   "cell_type": "code",
   "execution_count": 8,
   "id": "338bb4f3",
   "metadata": {},
   "outputs": [
    {
     "data": {
      "text/plain": [
       "dtype('float64')"
      ]
     },
     "execution_count": 8,
     "metadata": {},
     "output_type": "execute_result"
    }
   ],
   "source": [
    "#attributes\n",
    "df['SepalLengthCm'].dtype"
   ]
  },
  {
   "cell_type": "code",
   "execution_count": 9,
   "id": "f21615ef",
   "metadata": {},
   "outputs": [
    {
     "data": {
      "text/plain": [
       "(165,)"
      ]
     },
     "execution_count": 9,
     "metadata": {},
     "output_type": "execute_result"
    }
   ],
   "source": [
    "df['SepalLengthCm'].shape"
   ]
  },
  {
   "cell_type": "code",
   "execution_count": 10,
   "id": "ba864e7c",
   "metadata": {},
   "outputs": [
    {
     "data": {
      "text/plain": [
       "0     5.1\n",
       "1     4.9\n",
       "2     4.7\n",
       "3     4.6\n",
       "4    50.0\n",
       "Name: SepalLengthCm, dtype: float64"
      ]
     },
     "execution_count": 10,
     "metadata": {},
     "output_type": "execute_result"
    }
   ],
   "source": [
    "df['SepalLengthCm'].head()"
   ]
  },
  {
   "cell_type": "code",
   "execution_count": 11,
   "id": "bca3187f",
   "metadata": {},
   "outputs": [
    {
     "data": {
      "text/plain": [
       "160    7.7\n",
       "161    6.3\n",
       "162    7.2\n",
       "163    6.5\n",
       "164    6.4\n",
       "Name: SepalLengthCm, dtype: float64"
      ]
     },
     "execution_count": 11,
     "metadata": {},
     "output_type": "execute_result"
    }
   ],
   "source": [
    "df['SepalLengthCm'].tail()"
   ]
  },
  {
   "cell_type": "code",
   "execution_count": 12,
   "id": "5d4d88b3",
   "metadata": {},
   "outputs": [
    {
     "name": "stdout",
     "output_type": "stream",
     "text": [
      "<class 'pandas.core.series.Series'>\n",
      "RangeIndex: 165 entries, 0 to 164\n",
      "Series name: SepalLengthCm\n",
      "Non-Null Count  Dtype  \n",
      "--------------  -----  \n",
      "161 non-null    float64\n",
      "dtypes: float64(1)\n",
      "memory usage: 1.4 KB\n"
     ]
    }
   ],
   "source": [
    "df['SepalLengthCm'].info()"
   ]
  },
  {
   "cell_type": "code",
   "execution_count": 13,
   "id": "b57f3bf3",
   "metadata": {},
   "outputs": [
    {
     "data": {
      "text/plain": [
       "count    161.000000\n",
       "mean       7.510559\n",
       "std       11.162995\n",
       "min        4.300000\n",
       "25%        5.100000\n",
       "50%        5.800000\n",
       "75%        6.500000\n",
       "max      116.300000\n",
       "Name: SepalLengthCm, dtype: float64"
      ]
     },
     "execution_count": 13,
     "metadata": {},
     "output_type": "execute_result"
    }
   ],
   "source": [
    "df['SepalLengthCm'].describe()"
   ]
  },
  {
   "cell_type": "code",
   "execution_count": 14,
   "id": "d09f4b33",
   "metadata": {},
   "outputs": [
    {
     "data": {
      "text/plain": [
       "dtype('float64')"
      ]
     },
     "execution_count": 14,
     "metadata": {},
     "output_type": "execute_result"
    }
   ],
   "source": [
    "df['SepalWidthCm'].dtype"
   ]
  },
  {
   "cell_type": "code",
   "execution_count": 15,
   "id": "4577c8dd",
   "metadata": {},
   "outputs": [
    {
     "data": {
      "text/plain": [
       "(165,)"
      ]
     },
     "execution_count": 15,
     "metadata": {},
     "output_type": "execute_result"
    }
   ],
   "source": [
    "df['SepalWidthCm'].shape"
   ]
  },
  {
   "cell_type": "code",
   "execution_count": 16,
   "id": "1222620f",
   "metadata": {},
   "outputs": [
    {
     "data": {
      "text/plain": [
       "0    3.5\n",
       "1    3.0\n",
       "2    3.2\n",
       "3    3.1\n",
       "4    3.6\n",
       "Name: SepalWidthCm, dtype: float64"
      ]
     },
     "execution_count": 16,
     "metadata": {},
     "output_type": "execute_result"
    }
   ],
   "source": [
    "df['SepalWidthCm'].head()"
   ]
  },
  {
   "cell_type": "code",
   "execution_count": 17,
   "id": "dcf07485",
   "metadata": {},
   "outputs": [
    {
     "data": {
      "text/plain": [
       "160    2.8\n",
       "161    2.7\n",
       "162    3.6\n",
       "163    3.2\n",
       "164    2.7\n",
       "Name: SepalWidthCm, dtype: float64"
      ]
     },
     "execution_count": 17,
     "metadata": {},
     "output_type": "execute_result"
    }
   ],
   "source": [
    "df['SepalWidthCm'].tail()"
   ]
  },
  {
   "cell_type": "code",
   "execution_count": 18,
   "id": "f7f99698",
   "metadata": {},
   "outputs": [
    {
     "name": "stdout",
     "output_type": "stream",
     "text": [
      "<class 'pandas.core.series.Series'>\n",
      "RangeIndex: 165 entries, 0 to 164\n",
      "Series name: SepalWidthCm\n",
      "Non-Null Count  Dtype  \n",
      "--------------  -----  \n",
      "159 non-null    float64\n",
      "dtypes: float64(1)\n",
      "memory usage: 1.4 KB\n"
     ]
    }
   ],
   "source": [
    "df['SepalWidthCm'].info()"
   ]
  },
  {
   "cell_type": "code",
   "execution_count": 19,
   "id": "391d9027",
   "metadata": {},
   "outputs": [
    {
     "data": {
      "text/plain": [
       "count    159.000000\n",
       "mean       4.713208\n",
       "std       13.468999\n",
       "min        2.000000\n",
       "25%        2.800000\n",
       "50%        3.000000\n",
       "75%        3.300000\n",
       "max      130.000000\n",
       "Name: SepalWidthCm, dtype: float64"
      ]
     },
     "execution_count": 19,
     "metadata": {},
     "output_type": "execute_result"
    }
   ],
   "source": [
    "df['SepalWidthCm'].describe()"
   ]
  },
  {
   "cell_type": "code",
   "execution_count": 20,
   "id": "079d6dc5",
   "metadata": {},
   "outputs": [
    {
     "data": {
      "text/plain": [
       "count    159.000000\n",
       "mean       4.022642\n",
       "std        2.052505\n",
       "min        1.000000\n",
       "25%        1.600000\n",
       "50%        4.500000\n",
       "75%        5.150000\n",
       "max       13.800000\n",
       "Name: PetalLengthCm, dtype: float64"
      ]
     },
     "execution_count": 20,
     "metadata": {},
     "output_type": "execute_result"
    }
   ],
   "source": [
    "df['PetalLengthCm'].describe()"
   ]
  },
  {
   "cell_type": "code",
   "execution_count": 21,
   "id": "f5b4e674",
   "metadata": {},
   "outputs": [
    {
     "data": {
      "text/plain": [
       "(165,)"
      ]
     },
     "execution_count": 21,
     "metadata": {},
     "output_type": "execute_result"
    }
   ],
   "source": [
    "df['PetalLengthCm'].shape"
   ]
  },
  {
   "cell_type": "code",
   "execution_count": 22,
   "id": "f46fd9b2",
   "metadata": {},
   "outputs": [
    {
     "data": {
      "text/plain": [
       "0    1.4\n",
       "1    1.4\n",
       "2    1.3\n",
       "3    1.5\n",
       "4    1.4\n",
       "Name: PetalLengthCm, dtype: float64"
      ]
     },
     "execution_count": 22,
     "metadata": {},
     "output_type": "execute_result"
    }
   ],
   "source": [
    "df['PetalLengthCm'].head()"
   ]
  },
  {
   "cell_type": "code",
   "execution_count": 23,
   "id": "a25606e7",
   "metadata": {},
   "outputs": [
    {
     "data": {
      "text/plain": [
       "160    6.7\n",
       "161    4.9\n",
       "162    6.1\n",
       "163    5.1\n",
       "164    5.3\n",
       "Name: PetalLengthCm, dtype: float64"
      ]
     },
     "execution_count": 23,
     "metadata": {},
     "output_type": "execute_result"
    }
   ],
   "source": [
    "df['PetalLengthCm'].tail()"
   ]
  },
  {
   "cell_type": "code",
   "execution_count": 30,
   "id": "75812ce7",
   "metadata": {},
   "outputs": [
    {
     "name": "stdout",
     "output_type": "stream",
     "text": [
      "<class 'pandas.core.series.Series'>\n",
      "RangeIndex: 165 entries, 0 to 164\n",
      "Series name: PetalLengthCm\n",
      "Non-Null Count  Dtype  \n",
      "--------------  -----  \n",
      "159 non-null    float64\n",
      "dtypes: float64(1)\n",
      "memory usage: 1.4 KB\n"
     ]
    }
   ],
   "source": [
    "df['PetalLengthCm'].info()"
   ]
  },
  {
   "cell_type": "code",
   "execution_count": 24,
   "id": "324160e9",
   "metadata": {},
   "outputs": [
    {
     "data": {
      "text/plain": [
       "count    165.000000\n",
       "mean       2.810909\n",
       "std       12.097722\n",
       "min        0.100000\n",
       "25%        0.400000\n",
       "50%        1.500000\n",
       "75%        1.900000\n",
       "max      111.100000\n",
       "Name: PetalWidthCm, dtype: float64"
      ]
     },
     "execution_count": 24,
     "metadata": {},
     "output_type": "execute_result"
    }
   ],
   "source": [
    "df['PetalWidthCm'].describe()"
   ]
  },
  {
   "cell_type": "code",
   "execution_count": 26,
   "id": "958cff77",
   "metadata": {},
   "outputs": [
    {
     "data": {
      "text/plain": [
       "(165,)"
      ]
     },
     "execution_count": 26,
     "metadata": {},
     "output_type": "execute_result"
    }
   ],
   "source": [
    "df['PetalWidthCm'].shape"
   ]
  },
  {
   "cell_type": "code",
   "execution_count": 27,
   "id": "76200c47",
   "metadata": {},
   "outputs": [
    {
     "name": "stdout",
     "output_type": "stream",
     "text": [
      "<class 'pandas.core.series.Series'>\n",
      "RangeIndex: 165 entries, 0 to 164\n",
      "Series name: PetalWidthCm\n",
      "Non-Null Count  Dtype  \n",
      "--------------  -----  \n",
      "165 non-null    float64\n",
      "dtypes: float64(1)\n",
      "memory usage: 1.4 KB\n"
     ]
    }
   ],
   "source": [
    "df['PetalWidthCm'].info()"
   ]
  },
  {
   "cell_type": "code",
   "execution_count": 28,
   "id": "fa83bb4f",
   "metadata": {},
   "outputs": [
    {
     "data": {
      "text/plain": [
       "0     0.2\n",
       "1     0.2\n",
       "2     0.2\n",
       "3    10.2\n",
       "4     0.2\n",
       "Name: PetalWidthCm, dtype: float64"
      ]
     },
     "execution_count": 28,
     "metadata": {},
     "output_type": "execute_result"
    }
   ],
   "source": [
    "df['PetalWidthCm'].head()"
   ]
  },
  {
   "cell_type": "code",
   "execution_count": 29,
   "id": "6ab75c82",
   "metadata": {},
   "outputs": [
    {
     "data": {
      "text/plain": [
       "160    2.0\n",
       "161    1.8\n",
       "162    2.5\n",
       "163    2.0\n",
       "164    1.9\n",
       "Name: PetalWidthCm, dtype: float64"
      ]
     },
     "execution_count": 29,
     "metadata": {},
     "output_type": "execute_result"
    }
   ],
   "source": [
    "df['PetalWidthCm'].tail()"
   ]
  },
  {
   "cell_type": "code",
   "execution_count": 31,
   "id": "4de1d423",
   "metadata": {},
   "outputs": [
    {
     "data": {
      "text/plain": [
       "count                160\n",
       "unique                 3\n",
       "top       Iris-virginica\n",
       "freq                  63\n",
       "Name: Species, dtype: object"
      ]
     },
     "execution_count": 31,
     "metadata": {},
     "output_type": "execute_result"
    }
   ],
   "source": [
    "df['Species'].describe()"
   ]
  },
  {
   "cell_type": "code",
   "execution_count": 32,
   "id": "0b3d00dd",
   "metadata": {},
   "outputs": [
    {
     "name": "stdout",
     "output_type": "stream",
     "text": [
      "<class 'pandas.core.series.Series'>\n",
      "RangeIndex: 165 entries, 0 to 164\n",
      "Series name: Species\n",
      "Non-Null Count  Dtype \n",
      "--------------  ----- \n",
      "160 non-null    object\n",
      "dtypes: object(1)\n",
      "memory usage: 1.4+ KB\n"
     ]
    }
   ],
   "source": [
    "df['Species'].info()"
   ]
  },
  {
   "cell_type": "code",
   "execution_count": 33,
   "id": "195867db",
   "metadata": {},
   "outputs": [
    {
     "data": {
      "text/plain": [
       "(165,)"
      ]
     },
     "execution_count": 33,
     "metadata": {},
     "output_type": "execute_result"
    }
   ],
   "source": [
    "df['Species'].shape"
   ]
  },
  {
   "cell_type": "code",
   "execution_count": 34,
   "id": "908c4b50",
   "metadata": {},
   "outputs": [
    {
     "data": {
      "text/plain": [
       "0    Iris-setosa\n",
       "1    Iris-setosa\n",
       "2    Iris-setosa\n",
       "3    Iris-setosa\n",
       "4    Iris-setosa\n",
       "Name: Species, dtype: object"
      ]
     },
     "execution_count": 34,
     "metadata": {},
     "output_type": "execute_result"
    }
   ],
   "source": [
    "df['Species'].head()"
   ]
  },
  {
   "cell_type": "code",
   "execution_count": 35,
   "id": "bea97168",
   "metadata": {},
   "outputs": [
    {
     "data": {
      "text/plain": [
       "160               NaN\n",
       "161    Iris-virginica\n",
       "162    Iris-virginica\n",
       "163    Iris-virginica\n",
       "164    Iris-virginica\n",
       "Name: Species, dtype: object"
      ]
     },
     "execution_count": 35,
     "metadata": {},
     "output_type": "execute_result"
    }
   ],
   "source": [
    "df['Species'].tail()"
   ]
  },
  {
   "cell_type": "markdown",
   "id": "5900f736",
   "metadata": {},
   "source": [
    "### Statistical Measures"
   ]
  },
  {
   "cell_type": "code",
   "execution_count": 36,
   "id": "b7a1c99b",
   "metadata": {},
   "outputs": [
    {
     "data": {
      "text/html": [
       "<div>\n",
       "<style scoped>\n",
       "    .dataframe tbody tr th:only-of-type {\n",
       "        vertical-align: middle;\n",
       "    }\n",
       "\n",
       "    .dataframe tbody tr th {\n",
       "        vertical-align: top;\n",
       "    }\n",
       "\n",
       "    .dataframe thead th {\n",
       "        text-align: right;\n",
       "    }\n",
       "</style>\n",
       "<table border=\"1\" class=\"dataframe\">\n",
       "  <thead>\n",
       "    <tr style=\"text-align: right;\">\n",
       "      <th></th>\n",
       "      <th>Id</th>\n",
       "      <th>SepalLengthCm</th>\n",
       "      <th>SepalWidthCm</th>\n",
       "      <th>PetalLengthCm</th>\n",
       "      <th>PetalWidthCm</th>\n",
       "      <th>Species</th>\n",
       "    </tr>\n",
       "  </thead>\n",
       "  <tbody>\n",
       "    <tr>\n",
       "      <th>0</th>\n",
       "      <td>1</td>\n",
       "      <td>5.1</td>\n",
       "      <td>3.5</td>\n",
       "      <td>1.4</td>\n",
       "      <td>0.2</td>\n",
       "      <td>Iris-setosa</td>\n",
       "    </tr>\n",
       "    <tr>\n",
       "      <th>1</th>\n",
       "      <td>2</td>\n",
       "      <td>4.9</td>\n",
       "      <td>3.0</td>\n",
       "      <td>1.4</td>\n",
       "      <td>0.2</td>\n",
       "      <td>Iris-setosa</td>\n",
       "    </tr>\n",
       "    <tr>\n",
       "      <th>2</th>\n",
       "      <td>3</td>\n",
       "      <td>4.7</td>\n",
       "      <td>3.2</td>\n",
       "      <td>1.3</td>\n",
       "      <td>0.2</td>\n",
       "      <td>Iris-setosa</td>\n",
       "    </tr>\n",
       "    <tr>\n",
       "      <th>3</th>\n",
       "      <td>4</td>\n",
       "      <td>4.6</td>\n",
       "      <td>3.1</td>\n",
       "      <td>1.5</td>\n",
       "      <td>10.2</td>\n",
       "      <td>Iris-setosa</td>\n",
       "    </tr>\n",
       "    <tr>\n",
       "      <th>4</th>\n",
       "      <td>5</td>\n",
       "      <td>50.0</td>\n",
       "      <td>3.6</td>\n",
       "      <td>1.4</td>\n",
       "      <td>0.2</td>\n",
       "      <td>Iris-setosa</td>\n",
       "    </tr>\n",
       "    <tr>\n",
       "      <th>...</th>\n",
       "      <td>...</td>\n",
       "      <td>...</td>\n",
       "      <td>...</td>\n",
       "      <td>...</td>\n",
       "      <td>...</td>\n",
       "      <td>...</td>\n",
       "    </tr>\n",
       "    <tr>\n",
       "      <th>160</th>\n",
       "      <td>161</td>\n",
       "      <td>7.7</td>\n",
       "      <td>2.8</td>\n",
       "      <td>6.7</td>\n",
       "      <td>2.0</td>\n",
       "      <td>NaN</td>\n",
       "    </tr>\n",
       "    <tr>\n",
       "      <th>161</th>\n",
       "      <td>162</td>\n",
       "      <td>6.3</td>\n",
       "      <td>2.7</td>\n",
       "      <td>4.9</td>\n",
       "      <td>1.8</td>\n",
       "      <td>Iris-virginica</td>\n",
       "    </tr>\n",
       "    <tr>\n",
       "      <th>162</th>\n",
       "      <td>163</td>\n",
       "      <td>7.2</td>\n",
       "      <td>3.6</td>\n",
       "      <td>6.1</td>\n",
       "      <td>2.5</td>\n",
       "      <td>Iris-virginica</td>\n",
       "    </tr>\n",
       "    <tr>\n",
       "      <th>163</th>\n",
       "      <td>164</td>\n",
       "      <td>6.5</td>\n",
       "      <td>3.2</td>\n",
       "      <td>5.1</td>\n",
       "      <td>2.0</td>\n",
       "      <td>Iris-virginica</td>\n",
       "    </tr>\n",
       "    <tr>\n",
       "      <th>164</th>\n",
       "      <td>165</td>\n",
       "      <td>6.4</td>\n",
       "      <td>2.7</td>\n",
       "      <td>5.3</td>\n",
       "      <td>1.9</td>\n",
       "      <td>Iris-virginica</td>\n",
       "    </tr>\n",
       "  </tbody>\n",
       "</table>\n",
       "<p>165 rows × 6 columns</p>\n",
       "</div>"
      ],
      "text/plain": [
       "      Id  SepalLengthCm  SepalWidthCm  PetalLengthCm  PetalWidthCm  \\\n",
       "0      1            5.1           3.5            1.4           0.2   \n",
       "1      2            4.9           3.0            1.4           0.2   \n",
       "2      3            4.7           3.2            1.3           0.2   \n",
       "3      4            4.6           3.1            1.5          10.2   \n",
       "4      5           50.0           3.6            1.4           0.2   \n",
       "..   ...            ...           ...            ...           ...   \n",
       "160  161            7.7           2.8            6.7           2.0   \n",
       "161  162            6.3           2.7            4.9           1.8   \n",
       "162  163            7.2           3.6            6.1           2.5   \n",
       "163  164            6.5           3.2            5.1           2.0   \n",
       "164  165            6.4           2.7            5.3           1.9   \n",
       "\n",
       "            Species  \n",
       "0       Iris-setosa  \n",
       "1       Iris-setosa  \n",
       "2       Iris-setosa  \n",
       "3       Iris-setosa  \n",
       "4       Iris-setosa  \n",
       "..              ...  \n",
       "160             NaN  \n",
       "161  Iris-virginica  \n",
       "162  Iris-virginica  \n",
       "163  Iris-virginica  \n",
       "164  Iris-virginica  \n",
       "\n",
       "[165 rows x 6 columns]"
      ]
     },
     "execution_count": 36,
     "metadata": {},
     "output_type": "execute_result"
    }
   ],
   "source": [
    "df"
   ]
  },
  {
   "cell_type": "code",
   "execution_count": 38,
   "id": "cc0d9ac4",
   "metadata": {},
   "outputs": [
    {
     "data": {
      "text/html": [
       "<div>\n",
       "<style scoped>\n",
       "    .dataframe tbody tr th:only-of-type {\n",
       "        vertical-align: middle;\n",
       "    }\n",
       "\n",
       "    .dataframe tbody tr th {\n",
       "        vertical-align: top;\n",
       "    }\n",
       "\n",
       "    .dataframe thead th {\n",
       "        text-align: right;\n",
       "    }\n",
       "</style>\n",
       "<table border=\"1\" class=\"dataframe\">\n",
       "  <thead>\n",
       "    <tr style=\"text-align: right;\">\n",
       "      <th></th>\n",
       "      <th>Id</th>\n",
       "      <th>SepalLengthCm</th>\n",
       "      <th>SepalWidthCm</th>\n",
       "      <th>PetalLengthCm</th>\n",
       "      <th>PetalWidthCm</th>\n",
       "      <th>Species</th>\n",
       "    </tr>\n",
       "  </thead>\n",
       "  <tbody>\n",
       "    <tr>\n",
       "      <th>count</th>\n",
       "      <td>165.000000</td>\n",
       "      <td>161.000000</td>\n",
       "      <td>159.000000</td>\n",
       "      <td>159.000000</td>\n",
       "      <td>165.000000</td>\n",
       "      <td>160</td>\n",
       "    </tr>\n",
       "    <tr>\n",
       "      <th>unique</th>\n",
       "      <td>NaN</td>\n",
       "      <td>NaN</td>\n",
       "      <td>NaN</td>\n",
       "      <td>NaN</td>\n",
       "      <td>NaN</td>\n",
       "      <td>3</td>\n",
       "    </tr>\n",
       "    <tr>\n",
       "      <th>top</th>\n",
       "      <td>NaN</td>\n",
       "      <td>NaN</td>\n",
       "      <td>NaN</td>\n",
       "      <td>NaN</td>\n",
       "      <td>NaN</td>\n",
       "      <td>Iris-virginica</td>\n",
       "    </tr>\n",
       "    <tr>\n",
       "      <th>freq</th>\n",
       "      <td>NaN</td>\n",
       "      <td>NaN</td>\n",
       "      <td>NaN</td>\n",
       "      <td>NaN</td>\n",
       "      <td>NaN</td>\n",
       "      <td>63</td>\n",
       "    </tr>\n",
       "    <tr>\n",
       "      <th>mean</th>\n",
       "      <td>83.000000</td>\n",
       "      <td>7.510559</td>\n",
       "      <td>4.713208</td>\n",
       "      <td>4.022642</td>\n",
       "      <td>2.810909</td>\n",
       "      <td>NaN</td>\n",
       "    </tr>\n",
       "    <tr>\n",
       "      <th>std</th>\n",
       "      <td>47.775517</td>\n",
       "      <td>11.162995</td>\n",
       "      <td>13.468999</td>\n",
       "      <td>2.052505</td>\n",
       "      <td>12.097722</td>\n",
       "      <td>NaN</td>\n",
       "    </tr>\n",
       "    <tr>\n",
       "      <th>min</th>\n",
       "      <td>1.000000</td>\n",
       "      <td>4.300000</td>\n",
       "      <td>2.000000</td>\n",
       "      <td>1.000000</td>\n",
       "      <td>0.100000</td>\n",
       "      <td>NaN</td>\n",
       "    </tr>\n",
       "    <tr>\n",
       "      <th>25%</th>\n",
       "      <td>42.000000</td>\n",
       "      <td>5.100000</td>\n",
       "      <td>2.800000</td>\n",
       "      <td>1.600000</td>\n",
       "      <td>0.400000</td>\n",
       "      <td>NaN</td>\n",
       "    </tr>\n",
       "    <tr>\n",
       "      <th>50%</th>\n",
       "      <td>83.000000</td>\n",
       "      <td>5.800000</td>\n",
       "      <td>3.000000</td>\n",
       "      <td>4.500000</td>\n",
       "      <td>1.500000</td>\n",
       "      <td>NaN</td>\n",
       "    </tr>\n",
       "    <tr>\n",
       "      <th>75%</th>\n",
       "      <td>124.000000</td>\n",
       "      <td>6.500000</td>\n",
       "      <td>3.300000</td>\n",
       "      <td>5.150000</td>\n",
       "      <td>1.900000</td>\n",
       "      <td>NaN</td>\n",
       "    </tr>\n",
       "    <tr>\n",
       "      <th>max</th>\n",
       "      <td>165.000000</td>\n",
       "      <td>116.300000</td>\n",
       "      <td>130.000000</td>\n",
       "      <td>13.800000</td>\n",
       "      <td>111.100000</td>\n",
       "      <td>NaN</td>\n",
       "    </tr>\n",
       "  </tbody>\n",
       "</table>\n",
       "</div>"
      ],
      "text/plain": [
       "                Id  SepalLengthCm  SepalWidthCm  PetalLengthCm  PetalWidthCm  \\\n",
       "count   165.000000     161.000000    159.000000     159.000000    165.000000   \n",
       "unique         NaN            NaN           NaN            NaN           NaN   \n",
       "top            NaN            NaN           NaN            NaN           NaN   \n",
       "freq           NaN            NaN           NaN            NaN           NaN   \n",
       "mean     83.000000       7.510559      4.713208       4.022642      2.810909   \n",
       "std      47.775517      11.162995     13.468999       2.052505     12.097722   \n",
       "min       1.000000       4.300000      2.000000       1.000000      0.100000   \n",
       "25%      42.000000       5.100000      2.800000       1.600000      0.400000   \n",
       "50%      83.000000       5.800000      3.000000       4.500000      1.500000   \n",
       "75%     124.000000       6.500000      3.300000       5.150000      1.900000   \n",
       "max     165.000000     116.300000    130.000000      13.800000    111.100000   \n",
       "\n",
       "               Species  \n",
       "count              160  \n",
       "unique               3  \n",
       "top     Iris-virginica  \n",
       "freq                63  \n",
       "mean               NaN  \n",
       "std                NaN  \n",
       "min                NaN  \n",
       "25%                NaN  \n",
       "50%                NaN  \n",
       "75%                NaN  \n",
       "max                NaN  "
      ]
     },
     "execution_count": 38,
     "metadata": {},
     "output_type": "execute_result"
    }
   ],
   "source": [
    "df.describe(include = 'all')"
   ]
  },
  {
   "cell_type": "markdown",
   "id": "d7047973",
   "metadata": {},
   "source": [
    "### Measure of central Tendancy"
   ]
  },
  {
   "cell_type": "code",
   "execution_count": 40,
   "id": "7bb9952f",
   "metadata": {},
   "outputs": [
    {
     "data": {
      "text/plain": [
       "7.510559006211181"
      ]
     },
     "execution_count": 40,
     "metadata": {},
     "output_type": "execute_result"
    }
   ],
   "source": [
    "#for SepalLengthCm\n",
    "df['SepalLengthCm'].mean()"
   ]
  },
  {
   "cell_type": "code",
   "execution_count": 42,
   "id": "c52067f3",
   "metadata": {},
   "outputs": [
    {
     "data": {
      "text/plain": [
       "5.8"
      ]
     },
     "execution_count": 42,
     "metadata": {},
     "output_type": "execute_result"
    }
   ],
   "source": [
    "df['SepalLengthCm'].median()"
   ]
  },
  {
   "cell_type": "code",
   "execution_count": 43,
   "id": "c672793d",
   "metadata": {},
   "outputs": [
    {
     "data": {
      "text/plain": [
       "0    5.0\n",
       "1    5.1\n",
       "2    6.3\n",
       "3    6.7\n",
       "Name: SepalLengthCm, dtype: float64"
      ]
     },
     "execution_count": 43,
     "metadata": {},
     "output_type": "execute_result"
    }
   ],
   "source": [
    "df['SepalLengthCm'].mode()"
   ]
  },
  {
   "cell_type": "code",
   "execution_count": 44,
   "id": "48893059",
   "metadata": {},
   "outputs": [
    {
     "data": {
      "text/plain": [
       "4.713207547169812"
      ]
     },
     "execution_count": 44,
     "metadata": {},
     "output_type": "execute_result"
    }
   ],
   "source": [
    "#for SepalWidthCm\n",
    "df['SepalWidthCm'].mean()"
   ]
  },
  {
   "cell_type": "code",
   "execution_count": 45,
   "id": "a01bab73",
   "metadata": {},
   "outputs": [
    {
     "data": {
      "text/plain": [
       "3.0"
      ]
     },
     "execution_count": 45,
     "metadata": {},
     "output_type": "execute_result"
    }
   ],
   "source": [
    "df['SepalWidthCm'].median()"
   ]
  },
  {
   "cell_type": "code",
   "execution_count": 46,
   "id": "85d88f14",
   "metadata": {},
   "outputs": [
    {
     "data": {
      "text/plain": [
       "0    3.0\n",
       "Name: SepalWidthCm, dtype: float64"
      ]
     },
     "execution_count": 46,
     "metadata": {},
     "output_type": "execute_result"
    }
   ],
   "source": [
    "df['SepalWidthCm'].mode()"
   ]
  },
  {
   "cell_type": "code",
   "execution_count": 47,
   "id": "fd6b84cd",
   "metadata": {},
   "outputs": [
    {
     "data": {
      "text/plain": [
       "4.022641509433963"
      ]
     },
     "execution_count": 47,
     "metadata": {},
     "output_type": "execute_result"
    }
   ],
   "source": [
    "#for PetalLengthCm\n",
    "df['PetalLengthCm'].mean()"
   ]
  },
  {
   "cell_type": "code",
   "execution_count": 48,
   "id": "9a1f83dc",
   "metadata": {},
   "outputs": [
    {
     "data": {
      "text/plain": [
       "4.5"
      ]
     },
     "execution_count": 48,
     "metadata": {},
     "output_type": "execute_result"
    }
   ],
   "source": [
    "df['PetalLengthCm'].median()"
   ]
  },
  {
   "cell_type": "code",
   "execution_count": 49,
   "id": "ab96f7fa",
   "metadata": {},
   "outputs": [
    {
     "data": {
      "text/plain": [
       "0    1.5\n",
       "Name: PetalLengthCm, dtype: float64"
      ]
     },
     "execution_count": 49,
     "metadata": {},
     "output_type": "execute_result"
    }
   ],
   "source": [
    "df['PetalLengthCm'].mode()"
   ]
  },
  {
   "cell_type": "code",
   "execution_count": 50,
   "id": "a0e7c078",
   "metadata": {},
   "outputs": [
    {
     "data": {
      "text/plain": [
       "2.810909090909091"
      ]
     },
     "execution_count": 50,
     "metadata": {},
     "output_type": "execute_result"
    }
   ],
   "source": [
    "#for PetalWidthCm\n",
    "df['PetalWidthCm'].mean()"
   ]
  },
  {
   "cell_type": "code",
   "execution_count": 51,
   "id": "a2be60ee",
   "metadata": {},
   "outputs": [
    {
     "data": {
      "text/plain": [
       "1.5"
      ]
     },
     "execution_count": 51,
     "metadata": {},
     "output_type": "execute_result"
    }
   ],
   "source": [
    "df['PetalWidthCm'].median()"
   ]
  },
  {
   "cell_type": "code",
   "execution_count": 52,
   "id": "ba46659c",
   "metadata": {},
   "outputs": [
    {
     "data": {
      "text/plain": [
       "0    0.2\n",
       "Name: PetalWidthCm, dtype: float64"
      ]
     },
     "execution_count": 52,
     "metadata": {},
     "output_type": "execute_result"
    }
   ],
   "source": [
    "df['PetalWidthCm'].mode()"
   ]
  },
  {
   "cell_type": "code",
   "execution_count": 55,
   "id": "a5c01b19",
   "metadata": {},
   "outputs": [
    {
     "data": {
      "text/plain": [
       "0    Iris-virginica\n",
       "Name: Species, dtype: object"
      ]
     },
     "execution_count": 55,
     "metadata": {},
     "output_type": "execute_result"
    }
   ],
   "source": [
    "#for Species\n",
    "df['Species'].mode()"
   ]
  },
  {
   "cell_type": "markdown",
   "id": "3b29344b",
   "metadata": {},
   "source": [
    "### Measure of Dispersion"
   ]
  },
  {
   "cell_type": "code",
   "execution_count": 56,
   "id": "7b45e681",
   "metadata": {},
   "outputs": [
    {
     "data": {
      "text/plain": [
       "4.3"
      ]
     },
     "execution_count": 56,
     "metadata": {},
     "output_type": "execute_result"
    }
   ],
   "source": [
    "#for SepalLengthCm\n",
    "df['SepalLengthCm'].min()"
   ]
  },
  {
   "cell_type": "code",
   "execution_count": 57,
   "id": "ee2fc74d",
   "metadata": {},
   "outputs": [
    {
     "data": {
      "text/plain": [
       "116.3"
      ]
     },
     "execution_count": 57,
     "metadata": {},
     "output_type": "execute_result"
    }
   ],
   "source": [
    "df['SepalLengthCm'].max()"
   ]
  },
  {
   "cell_type": "code",
   "execution_count": 58,
   "id": "e932ee07",
   "metadata": {},
   "outputs": [
    {
     "data": {
      "text/plain": [
       "112.0"
      ]
     },
     "execution_count": 58,
     "metadata": {},
     "output_type": "execute_result"
    }
   ],
   "source": [
    "rang = df['SepalLengthCm'].max() - df['SepalLengthCm'].min()\n",
    "rang"
   ]
  },
  {
   "cell_type": "code",
   "execution_count": 63,
   "id": "cf593891",
   "metadata": {},
   "outputs": [
    {
     "data": {
      "text/plain": [
       "124.61245031055901"
      ]
     },
     "execution_count": 63,
     "metadata": {},
     "output_type": "execute_result"
    }
   ],
   "source": [
    "df['SepalLengthCm'].var()"
   ]
  },
  {
   "cell_type": "code",
   "execution_count": 65,
   "id": "eee5ce5f",
   "metadata": {},
   "outputs": [
    {
     "data": {
      "text/plain": [
       "11.162994683800536"
      ]
     },
     "execution_count": 65,
     "metadata": {},
     "output_type": "execute_result"
    }
   ],
   "source": [
    "df['SepalLengthCm'].std()"
   ]
  },
  {
   "cell_type": "code",
   "execution_count": 107,
   "id": "0115dcd6",
   "metadata": {},
   "outputs": [
    {
     "data": {
      "text/plain": [
       "0       5.1\n",
       "1       4.9\n",
       "2       4.7\n",
       "3       4.6\n",
       "4      50.0\n",
       "       ... \n",
       "160     7.7\n",
       "161     6.3\n",
       "162     7.2\n",
       "163     6.5\n",
       "164     6.4\n",
       "Name: SepalLengthCm, Length: 165, dtype: float64"
      ]
     },
     "execution_count": 107,
     "metadata": {},
     "output_type": "execute_result"
    }
   ],
   "source": [
    "Q = df['SepalLengthCm']\n",
    "Q"
   ]
  },
  {
   "cell_type": "code",
   "execution_count": 108,
   "id": "ccb37de0",
   "metadata": {},
   "outputs": [
    {
     "data": {
      "text/plain": [
       "5.1"
      ]
     },
     "execution_count": 108,
     "metadata": {},
     "output_type": "execute_result"
    }
   ],
   "source": [
    "Q1 = df['SepalLengthCm'].quantile(0.25)\n",
    "Q1"
   ]
  },
  {
   "cell_type": "code",
   "execution_count": 109,
   "id": "0adb6df3",
   "metadata": {},
   "outputs": [
    {
     "data": {
      "text/plain": [
       "6.5"
      ]
     },
     "execution_count": 109,
     "metadata": {},
     "output_type": "execute_result"
    }
   ],
   "source": [
    "Q3 = df['SepalLengthCm'].quantile(0.75)\n",
    "Q3"
   ]
  },
  {
   "cell_type": "code",
   "execution_count": 110,
   "id": "6f46a8f7",
   "metadata": {},
   "outputs": [
    {
     "data": {
      "text/plain": [
       "1.4000000000000004"
      ]
     },
     "execution_count": 110,
     "metadata": {},
     "output_type": "execute_result"
    }
   ],
   "source": [
    "IQR = Q3 - Q1\n",
    "IQR"
   ]
  },
  {
   "cell_type": "code",
   "execution_count": 111,
   "id": "ef3c2979",
   "metadata": {},
   "outputs": [
    {
     "data": {
      "text/plain": [
       "2.999999999999999"
      ]
     },
     "execution_count": 111,
     "metadata": {},
     "output_type": "execute_result"
    }
   ],
   "source": [
    "lower = Q1 - 1.5*IQR\n",
    "lower"
   ]
  },
  {
   "cell_type": "code",
   "execution_count": 112,
   "id": "e599e8e1",
   "metadata": {},
   "outputs": [
    {
     "data": {
      "text/plain": [
       "8.600000000000001"
      ]
     },
     "execution_count": 112,
     "metadata": {},
     "output_type": "execute_result"
    }
   ],
   "source": [
    "upper = Q3 + 1.5*IQR\n",
    "upper"
   ]
  },
  {
   "cell_type": "code",
   "execution_count": 114,
   "id": "6d7519af",
   "metadata": {},
   "outputs": [
    {
     "data": {
      "text/plain": [
       "4       50.0\n",
       "16      50.4\n",
       "56     116.3\n",
       "129     70.2\n",
       "Name: SepalLengthCm, dtype: float64"
      ]
     },
     "execution_count": 114,
     "metadata": {},
     "output_type": "execute_result"
    }
   ],
   "source": [
    "#outliers\n",
    "Q[(Q<lower)|(Q>upper)]"
   ]
  },
  {
   "cell_type": "code",
   "execution_count": 59,
   "id": "1137ad37",
   "metadata": {},
   "outputs": [
    {
     "data": {
      "text/plain": [
       "2.0"
      ]
     },
     "execution_count": 59,
     "metadata": {},
     "output_type": "execute_result"
    }
   ],
   "source": [
    "#for SepalWidthCm\n",
    "df['SepalWidthCm'].min()"
   ]
  },
  {
   "cell_type": "code",
   "execution_count": 60,
   "id": "8b243f91",
   "metadata": {},
   "outputs": [
    {
     "data": {
      "text/plain": [
       "130.0"
      ]
     },
     "execution_count": 60,
     "metadata": {},
     "output_type": "execute_result"
    }
   ],
   "source": [
    "df['SepalWidthCm'].max()"
   ]
  },
  {
   "cell_type": "code",
   "execution_count": 61,
   "id": "c2ad311a",
   "metadata": {},
   "outputs": [
    {
     "data": {
      "text/plain": [
       "128.0"
      ]
     },
     "execution_count": 61,
     "metadata": {},
     "output_type": "execute_result"
    }
   ],
   "source": [
    "rang = df['SepalWidthCm'].max() - df['SepalWidthCm'].min()\n",
    "rang"
   ]
  },
  {
   "cell_type": "code",
   "execution_count": 82,
   "id": "7ad09fe9",
   "metadata": {},
   "outputs": [
    {
     "data": {
      "text/plain": [
       "181.41393838070218"
      ]
     },
     "execution_count": 82,
     "metadata": {},
     "output_type": "execute_result"
    }
   ],
   "source": [
    "df['SepalWidthCm'].var()"
   ]
  },
  {
   "cell_type": "code",
   "execution_count": 83,
   "id": "d40ed8c3",
   "metadata": {},
   "outputs": [
    {
     "data": {
      "text/plain": [
       "13.468999160320049"
      ]
     },
     "execution_count": 83,
     "metadata": {},
     "output_type": "execute_result"
    }
   ],
   "source": [
    "df['SepalWidthCm'].std()"
   ]
  },
  {
   "cell_type": "code",
   "execution_count": 115,
   "id": "85831250",
   "metadata": {},
   "outputs": [
    {
     "data": {
      "text/plain": [
       "0      3.5\n",
       "1      3.0\n",
       "2      3.2\n",
       "3      3.1\n",
       "4      3.6\n",
       "      ... \n",
       "160    2.8\n",
       "161    2.7\n",
       "162    3.6\n",
       "163    3.2\n",
       "164    2.7\n",
       "Name: SepalWidthCm, Length: 165, dtype: float64"
      ]
     },
     "execution_count": 115,
     "metadata": {},
     "output_type": "execute_result"
    }
   ],
   "source": [
    "Q = df['SepalWidthCm']\n",
    "Q"
   ]
  },
  {
   "cell_type": "code",
   "execution_count": 116,
   "id": "efd21564",
   "metadata": {},
   "outputs": [
    {
     "data": {
      "text/plain": [
       "2.8"
      ]
     },
     "execution_count": 116,
     "metadata": {},
     "output_type": "execute_result"
    }
   ],
   "source": [
    "Q1 = df['SepalWidthCm'].quantile(0.25)\n",
    "Q1"
   ]
  },
  {
   "cell_type": "code",
   "execution_count": 117,
   "id": "0c19baa3",
   "metadata": {},
   "outputs": [
    {
     "data": {
      "text/plain": [
       "3.3"
      ]
     },
     "execution_count": 117,
     "metadata": {},
     "output_type": "execute_result"
    }
   ],
   "source": [
    "Q3 = df['SepalWidthCm'].quantile(0.75)\n",
    "Q3"
   ]
  },
  {
   "cell_type": "code",
   "execution_count": 118,
   "id": "b45116da",
   "metadata": {},
   "outputs": [
    {
     "data": {
      "text/plain": [
       "0.5"
      ]
     },
     "execution_count": 118,
     "metadata": {},
     "output_type": "execute_result"
    }
   ],
   "source": [
    "IQR = Q3-Q1\n",
    "IQR"
   ]
  },
  {
   "cell_type": "code",
   "execution_count": 119,
   "id": "c5a362bb",
   "metadata": {},
   "outputs": [
    {
     "data": {
      "text/plain": [
       "2.05"
      ]
     },
     "execution_count": 119,
     "metadata": {},
     "output_type": "execute_result"
    }
   ],
   "source": [
    "lower = Q1 - 1.5*IQR\n",
    "lower"
   ]
  },
  {
   "cell_type": "code",
   "execution_count": 120,
   "id": "9f36cc04",
   "metadata": {},
   "outputs": [
    {
     "data": {
      "text/plain": [
       "4.05"
      ]
     },
     "execution_count": 120,
     "metadata": {},
     "output_type": "execute_result"
    }
   ],
   "source": [
    "upper = Q3 + 1.5*IQR\n",
    "upper"
   ]
  },
  {
   "cell_type": "code",
   "execution_count": 122,
   "id": "f6cd222e",
   "metadata": {},
   "outputs": [
    {
     "data": {
      "text/plain": [
       "12    130.0\n",
       "15      4.4\n",
       "26     34.0\n",
       "32      4.1\n",
       "33      4.2\n",
       "60      2.0\n",
       "92    112.6\n",
       "Name: SepalWidthCm, dtype: float64"
      ]
     },
     "execution_count": 122,
     "metadata": {},
     "output_type": "execute_result"
    }
   ],
   "source": [
    "#outliers\n",
    "Q[(Q<lower)|(Q>upper)]"
   ]
  },
  {
   "cell_type": "code",
   "execution_count": 92,
   "id": "9e434225",
   "metadata": {},
   "outputs": [
    {
     "data": {
      "text/plain": [
       "1.0"
      ]
     },
     "execution_count": 92,
     "metadata": {},
     "output_type": "execute_result"
    }
   ],
   "source": [
    "#for PetalLengthCm\n",
    "df['PetalLengthCm'].min()"
   ]
  },
  {
   "cell_type": "code",
   "execution_count": 93,
   "id": "872a3bf4",
   "metadata": {},
   "outputs": [
    {
     "data": {
      "text/plain": [
       "13.8"
      ]
     },
     "execution_count": 93,
     "metadata": {},
     "output_type": "execute_result"
    }
   ],
   "source": [
    "df['PetalLengthCm'].max()"
   ]
  },
  {
   "cell_type": "code",
   "execution_count": 94,
   "id": "5749ac5f",
   "metadata": {},
   "outputs": [
    {
     "data": {
      "text/plain": [
       "12.8"
      ]
     },
     "execution_count": 94,
     "metadata": {},
     "output_type": "execute_result"
    }
   ],
   "source": [
    "rang = df['PetalLengthCm'].max() - df['PetalLengthCm'].min()\n",
    "rang"
   ]
  },
  {
   "cell_type": "code",
   "execution_count": 138,
   "id": "d390ef48",
   "metadata": {},
   "outputs": [
    {
     "data": {
      "text/plain": [
       "0      1.4\n",
       "1      1.4\n",
       "2      1.3\n",
       "3      1.5\n",
       "4      1.4\n",
       "      ... \n",
       "160    6.7\n",
       "161    4.9\n",
       "162    6.1\n",
       "163    5.1\n",
       "164    5.3\n",
       "Name: PetalLengthCm, Length: 165, dtype: float64"
      ]
     },
     "execution_count": 138,
     "metadata": {},
     "output_type": "execute_result"
    }
   ],
   "source": [
    "Q = df['PetalLengthCm']\n",
    "Q"
   ]
  },
  {
   "cell_type": "code",
   "execution_count": 139,
   "id": "86b5daa4",
   "metadata": {},
   "outputs": [
    {
     "data": {
      "text/plain": [
       "1.6"
      ]
     },
     "execution_count": 139,
     "metadata": {},
     "output_type": "execute_result"
    }
   ],
   "source": [
    "Q1 = df['PetalLengthCm'].quantile(0.25)\n",
    "Q1"
   ]
  },
  {
   "cell_type": "code",
   "execution_count": 140,
   "id": "bb0951f6",
   "metadata": {},
   "outputs": [
    {
     "data": {
      "text/plain": [
       "5.15"
      ]
     },
     "execution_count": 140,
     "metadata": {},
     "output_type": "execute_result"
    }
   ],
   "source": [
    "Q3 = df['PetalLengthCm'].quantile(0.75)\n",
    "Q3"
   ]
  },
  {
   "cell_type": "code",
   "execution_count": 141,
   "id": "c71b5136",
   "metadata": {},
   "outputs": [
    {
     "data": {
      "text/plain": [
       "3.5500000000000003"
      ]
     },
     "execution_count": 141,
     "metadata": {},
     "output_type": "execute_result"
    }
   ],
   "source": [
    "IQR = Q3 -Q1\n",
    "IQR"
   ]
  },
  {
   "cell_type": "code",
   "execution_count": 142,
   "id": "41ce86a0",
   "metadata": {},
   "outputs": [
    {
     "data": {
      "text/plain": [
       "-3.725"
      ]
     },
     "execution_count": 142,
     "metadata": {},
     "output_type": "execute_result"
    }
   ],
   "source": [
    "lower = Q1 - 1.5*IQR\n",
    "lower"
   ]
  },
  {
   "cell_type": "code",
   "execution_count": 143,
   "id": "9c71826c",
   "metadata": {},
   "outputs": [
    {
     "data": {
      "text/plain": [
       "10.475000000000001"
      ]
     },
     "execution_count": 143,
     "metadata": {},
     "output_type": "execute_result"
    }
   ],
   "source": [
    "upper = Q3 + 1.5*IQR\n",
    "upper"
   ]
  },
  {
   "cell_type": "code",
   "execution_count": 144,
   "id": "a60d3718",
   "metadata": {},
   "outputs": [
    {
     "data": {
      "text/plain": [
       "41    13.0\n",
       "80    13.8\n",
       "Name: PetalLengthCm, dtype: float64"
      ]
     },
     "execution_count": 144,
     "metadata": {},
     "output_type": "execute_result"
    }
   ],
   "source": [
    "#outliers\n",
    "Q[(Q<lower)|(Q>upper)]"
   ]
  },
  {
   "cell_type": "code",
   "execution_count": 123,
   "id": "72e2cd7e",
   "metadata": {},
   "outputs": [
    {
     "data": {
      "text/plain": [
       "0.1"
      ]
     },
     "execution_count": 123,
     "metadata": {},
     "output_type": "execute_result"
    }
   ],
   "source": [
    "#for PetalWidthCm\n",
    "df['PetalWidthCm'].min()"
   ]
  },
  {
   "cell_type": "code",
   "execution_count": 124,
   "id": "dacee1cc",
   "metadata": {},
   "outputs": [
    {
     "data": {
      "text/plain": [
       "111.1"
      ]
     },
     "execution_count": 124,
     "metadata": {},
     "output_type": "execute_result"
    }
   ],
   "source": [
    "df['PetalWidthCm'].max()"
   ]
  },
  {
   "cell_type": "code",
   "execution_count": 125,
   "id": "5e4a80ef",
   "metadata": {},
   "outputs": [
    {
     "data": {
      "text/plain": [
       "111.0"
      ]
     },
     "execution_count": 125,
     "metadata": {},
     "output_type": "execute_result"
    }
   ],
   "source": [
    "rang = df['PetalWidthCm'].max() - df['PetalWidthCm'].min()\n",
    "rang"
   ]
  },
  {
   "cell_type": "code",
   "execution_count": 126,
   "id": "bbb9523e",
   "metadata": {},
   "outputs": [
    {
     "data": {
      "text/plain": [
       "146.35488026607536"
      ]
     },
     "execution_count": 126,
     "metadata": {},
     "output_type": "execute_result"
    }
   ],
   "source": [
    "df['PetalWidthCm'].var()"
   ]
  },
  {
   "cell_type": "code",
   "execution_count": 127,
   "id": "da77b7ba",
   "metadata": {},
   "outputs": [
    {
     "data": {
      "text/plain": [
       "12.097722110632041"
      ]
     },
     "execution_count": 127,
     "metadata": {},
     "output_type": "execute_result"
    }
   ],
   "source": [
    "df['PetalWidthCm'].std()"
   ]
  },
  {
   "cell_type": "code",
   "execution_count": 130,
   "id": "e5397693",
   "metadata": {},
   "outputs": [
    {
     "data": {
      "text/plain": [
       "0       0.2\n",
       "1       0.2\n",
       "2       0.2\n",
       "3      10.2\n",
       "4       0.2\n",
       "       ... \n",
       "160     2.0\n",
       "161     1.8\n",
       "162     2.5\n",
       "163     2.0\n",
       "164     1.9\n",
       "Name: PetalWidthCm, Length: 165, dtype: float64"
      ]
     },
     "execution_count": 130,
     "metadata": {},
     "output_type": "execute_result"
    }
   ],
   "source": [
    "Q = df['PetalWidthCm']\n",
    "Q"
   ]
  },
  {
   "cell_type": "code",
   "execution_count": 137,
   "id": "7c577ad1",
   "metadata": {},
   "outputs": [
    {
     "data": {
      "text/plain": [
       "count    165.000000\n",
       "mean       2.810909\n",
       "std       12.097722\n",
       "min        0.100000\n",
       "25%        0.400000\n",
       "50%        1.500000\n",
       "75%        1.900000\n",
       "max      111.100000\n",
       "Name: PetalWidthCm, dtype: float64"
      ]
     },
     "execution_count": 137,
     "metadata": {},
     "output_type": "execute_result"
    }
   ],
   "source": [
    "df['PetalWidthCm'].describe()"
   ]
  },
  {
   "cell_type": "code",
   "execution_count": 131,
   "id": "2ed2060e",
   "metadata": {},
   "outputs": [
    {
     "data": {
      "text/plain": [
       "0.4"
      ]
     },
     "execution_count": 131,
     "metadata": {},
     "output_type": "execute_result"
    }
   ],
   "source": [
    "Q1 = df['PetalWidthCm'].quantile(0.25)\n",
    "Q1"
   ]
  },
  {
   "cell_type": "code",
   "execution_count": 132,
   "id": "464faf48",
   "metadata": {},
   "outputs": [
    {
     "data": {
      "text/plain": [
       "1.9"
      ]
     },
     "execution_count": 132,
     "metadata": {},
     "output_type": "execute_result"
    }
   ],
   "source": [
    "Q3 = df['PetalWidthCm'].quantile(0.75)\n",
    "Q3"
   ]
  },
  {
   "cell_type": "code",
   "execution_count": 133,
   "id": "0fa57eab",
   "metadata": {},
   "outputs": [
    {
     "data": {
      "text/plain": [
       "1.5"
      ]
     },
     "execution_count": 133,
     "metadata": {},
     "output_type": "execute_result"
    }
   ],
   "source": [
    "IQR = Q3-Q1\n",
    "IQR"
   ]
  },
  {
   "cell_type": "code",
   "execution_count": 134,
   "id": "56ba7354",
   "metadata": {},
   "outputs": [
    {
     "data": {
      "text/plain": [
       "-1.85"
      ]
     },
     "execution_count": 134,
     "metadata": {},
     "output_type": "execute_result"
    }
   ],
   "source": [
    "lower = Q1 - 1.5*IQR\n",
    "lower"
   ]
  },
  {
   "cell_type": "code",
   "execution_count": 135,
   "id": "dfb11e15",
   "metadata": {},
   "outputs": [
    {
     "data": {
      "text/plain": [
       "4.15"
      ]
     },
     "execution_count": 135,
     "metadata": {},
     "output_type": "execute_result"
    }
   ],
   "source": [
    "upper = Q3+1.5*IQR\n",
    "upper"
   ]
  },
  {
   "cell_type": "code",
   "execution_count": 136,
   "id": "7f152927",
   "metadata": {},
   "outputs": [
    {
     "data": {
      "text/plain": [
       "3      10.2\n",
       "12     10.1\n",
       "28    110.2\n",
       "57     16.0\n",
       "98    111.1\n",
       "Name: PetalWidthCm, dtype: float64"
      ]
     },
     "execution_count": 136,
     "metadata": {},
     "output_type": "execute_result"
    }
   ],
   "source": [
    "Q[(Q<lower)|(Q>upper)]"
   ]
  },
  {
   "cell_type": "code",
   "execution_count": 146,
   "id": "ac94d8f3",
   "metadata": {},
   "outputs": [
    {
     "data": {
      "text/plain": [
       "0         Iris-setosa\n",
       "1         Iris-setosa\n",
       "2         Iris-setosa\n",
       "3         Iris-setosa\n",
       "4         Iris-setosa\n",
       "            ...      \n",
       "160               NaN\n",
       "161    Iris-virginica\n",
       "162    Iris-virginica\n",
       "163    Iris-virginica\n",
       "164    Iris-virginica\n",
       "Name: Species, Length: 165, dtype: object"
      ]
     },
     "execution_count": 146,
     "metadata": {},
     "output_type": "execute_result"
    }
   ],
   "source": [
    "#for Species\n",
    "df['Species']"
   ]
  },
  {
   "cell_type": "code",
   "execution_count": 147,
   "id": "7a85aaca",
   "metadata": {},
   "outputs": [
    {
     "data": {
      "text/plain": [
       "count                160\n",
       "unique                 3\n",
       "top       Iris-virginica\n",
       "freq                  63\n",
       "Name: Species, dtype: object"
      ]
     },
     "execution_count": 147,
     "metadata": {},
     "output_type": "execute_result"
    }
   ],
   "source": [
    "df['Species'].describe()"
   ]
  },
  {
   "cell_type": "markdown",
   "id": "b0053ef5",
   "metadata": {},
   "source": [
    "### Measure of Relationship"
   ]
  },
  {
   "cell_type": "code",
   "execution_count": 157,
   "id": "82120678",
   "metadata": {},
   "outputs": [
    {
     "data": {
      "text/html": [
       "<div>\n",
       "<style scoped>\n",
       "    .dataframe tbody tr th:only-of-type {\n",
       "        vertical-align: middle;\n",
       "    }\n",
       "\n",
       "    .dataframe tbody tr th {\n",
       "        vertical-align: top;\n",
       "    }\n",
       "\n",
       "    .dataframe thead th {\n",
       "        text-align: right;\n",
       "    }\n",
       "</style>\n",
       "<table border=\"1\" class=\"dataframe\">\n",
       "  <thead>\n",
       "    <tr style=\"text-align: right;\">\n",
       "      <th></th>\n",
       "      <th>Id</th>\n",
       "      <th>SepalLengthCm</th>\n",
       "      <th>SepalWidthCm</th>\n",
       "      <th>PetalLengthCm</th>\n",
       "      <th>PetalWidthCm</th>\n",
       "    </tr>\n",
       "  </thead>\n",
       "  <tbody>\n",
       "    <tr>\n",
       "      <th>Id</th>\n",
       "      <td>1.000000</td>\n",
       "      <td>-0.019255</td>\n",
       "      <td>-0.106661</td>\n",
       "      <td>0.715896</td>\n",
       "      <td>-0.008131</td>\n",
       "    </tr>\n",
       "    <tr>\n",
       "      <th>SepalLengthCm</th>\n",
       "      <td>-0.019255</td>\n",
       "      <td>1.000000</td>\n",
       "      <td>-0.021878</td>\n",
       "      <td>0.036284</td>\n",
       "      <td>-0.025505</td>\n",
       "    </tr>\n",
       "    <tr>\n",
       "      <th>SepalWidthCm</th>\n",
       "      <td>-0.106661</td>\n",
       "      <td>-0.021878</td>\n",
       "      <td>1.000000</td>\n",
       "      <td>-0.110401</td>\n",
       "      <td>0.023471</td>\n",
       "    </tr>\n",
       "    <tr>\n",
       "      <th>PetalLengthCm</th>\n",
       "      <td>0.715896</td>\n",
       "      <td>0.036284</td>\n",
       "      <td>-0.110401</td>\n",
       "      <td>1.000000</td>\n",
       "      <td>-0.068489</td>\n",
       "    </tr>\n",
       "    <tr>\n",
       "      <th>PetalWidthCm</th>\n",
       "      <td>-0.008131</td>\n",
       "      <td>-0.025505</td>\n",
       "      <td>0.023471</td>\n",
       "      <td>-0.068489</td>\n",
       "      <td>1.000000</td>\n",
       "    </tr>\n",
       "  </tbody>\n",
       "</table>\n",
       "</div>"
      ],
      "text/plain": [
       "                     Id  SepalLengthCm  SepalWidthCm  PetalLengthCm  \\\n",
       "Id             1.000000      -0.019255     -0.106661       0.715896   \n",
       "SepalLengthCm -0.019255       1.000000     -0.021878       0.036284   \n",
       "SepalWidthCm  -0.106661      -0.021878      1.000000      -0.110401   \n",
       "PetalLengthCm  0.715896       0.036284     -0.110401       1.000000   \n",
       "PetalWidthCm  -0.008131      -0.025505      0.023471      -0.068489   \n",
       "\n",
       "               PetalWidthCm  \n",
       "Id                -0.008131  \n",
       "SepalLengthCm     -0.025505  \n",
       "SepalWidthCm       0.023471  \n",
       "PetalLengthCm     -0.068489  \n",
       "PetalWidthCm       1.000000  "
      ]
     },
     "execution_count": 157,
     "metadata": {},
     "output_type": "execute_result"
    }
   ],
   "source": [
    "#for SepalLengthCm\n",
    "df.corr(numeric_only = True)"
   ]
  },
  {
   "cell_type": "code",
   "execution_count": null,
   "id": "38da5b5f",
   "metadata": {},
   "outputs": [],
   "source": []
  }
 ],
 "metadata": {
  "kernelspec": {
   "display_name": "Python 3 (ipykernel)",
   "language": "python",
   "name": "python3"
  },
  "language_info": {
   "codemirror_mode": {
    "name": "ipython",
    "version": 3
   },
   "file_extension": ".py",
   "mimetype": "text/x-python",
   "name": "python",
   "nbconvert_exporter": "python",
   "pygments_lexer": "ipython3",
   "version": "3.11.4"
  }
 },
 "nbformat": 4,
 "nbformat_minor": 5
}
