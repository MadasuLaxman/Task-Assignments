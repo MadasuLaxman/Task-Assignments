{
 "cells": [
  {
   "cell_type": "markdown",
   "id": "1cc223b7",
   "metadata": {},
   "source": [
    "**Assignment Task 1:** Tuple Basics\n",
    "Create a Python tuple containing the names of your favorite fruits. Write a Python program to print `each fruit` name from the tuple."
   ]
  },
  {
   "cell_type": "code",
   "execution_count": 4,
   "id": "15e487c8",
   "metadata": {},
   "outputs": [],
   "source": [
    "fruits = (\"apple\",\"banana\",\"orange\",\"mango\",\"pineapple\",\"papaya\")"
   ]
  },
  {
   "cell_type": "code",
   "execution_count": 6,
   "id": "484deef3",
   "metadata": {},
   "outputs": [
    {
     "data": {
      "text/plain": [
       "tuple"
      ]
     },
     "execution_count": 6,
     "metadata": {},
     "output_type": "execute_result"
    }
   ],
   "source": [
    "type(fruits)"
   ]
  },
  {
   "cell_type": "code",
   "execution_count": 7,
   "id": "ad92be82",
   "metadata": {},
   "outputs": [
    {
     "name": "stdout",
     "output_type": "stream",
     "text": [
      "('apple', 'banana', 'orange', 'mango', 'pineapple', 'papaya')\n"
     ]
    }
   ],
   "source": [
    "print(fruits)"
   ]
  },
  {
   "cell_type": "code",
   "execution_count": 76,
   "id": "be333675",
   "metadata": {},
   "outputs": [
    {
     "data": {
      "text/plain": [
       "'apple'"
      ]
     },
     "execution_count": 76,
     "metadata": {},
     "output_type": "execute_result"
    }
   ],
   "source": [
    "fruits[0]"
   ]
  },
  {
   "cell_type": "code",
   "execution_count": 77,
   "id": "04715d9d",
   "metadata": {},
   "outputs": [
    {
     "data": {
      "text/plain": [
       "'banana'"
      ]
     },
     "execution_count": 77,
     "metadata": {},
     "output_type": "execute_result"
    }
   ],
   "source": [
    "fruits[1]"
   ]
  },
  {
   "cell_type": "code",
   "execution_count": 78,
   "id": "1ba62d98",
   "metadata": {},
   "outputs": [
    {
     "data": {
      "text/plain": [
       "'orange'"
      ]
     },
     "execution_count": 78,
     "metadata": {},
     "output_type": "execute_result"
    }
   ],
   "source": [
    "fruits[2]"
   ]
  },
  {
   "cell_type": "code",
   "execution_count": 79,
   "id": "d3c54506",
   "metadata": {},
   "outputs": [
    {
     "data": {
      "text/plain": [
       "'mango'"
      ]
     },
     "execution_count": 79,
     "metadata": {},
     "output_type": "execute_result"
    }
   ],
   "source": [
    "fruits[3]"
   ]
  },
  {
   "cell_type": "code",
   "execution_count": 80,
   "id": "7effaad2",
   "metadata": {},
   "outputs": [
    {
     "data": {
      "text/plain": [
       "'pineapple'"
      ]
     },
     "execution_count": 80,
     "metadata": {},
     "output_type": "execute_result"
    }
   ],
   "source": [
    "fruits[4]"
   ]
  },
  {
   "cell_type": "code",
   "execution_count": 83,
   "id": "9a4aa626",
   "metadata": {},
   "outputs": [
    {
     "data": {
      "text/plain": [
       "'papaya'"
      ]
     },
     "execution_count": 83,
     "metadata": {},
     "output_type": "execute_result"
    }
   ],
   "source": [
    "fruits[5]"
   ]
  },
  {
   "cell_type": "markdown",
   "id": "5394fa7c",
   "metadata": {},
   "source": [
    "**Assignment Task 2:** Tuple Operations\n",
    "Given two tuples, write a Python program to `concatenate` them into a `single` tuple and then find the `length` of the resulting tuple."
   ]
  },
  {
   "cell_type": "code",
   "execution_count": 9,
   "id": "2e2770bb",
   "metadata": {},
   "outputs": [],
   "source": [
    "tuple1 = (1,2,3,4,5,6,7)\n",
    "tuple2 = (10,20,30,40,50)\n",
    "tuple3 = tuple1+tuple2"
   ]
  },
  {
   "cell_type": "code",
   "execution_count": 10,
   "id": "27ab9793",
   "metadata": {},
   "outputs": [
    {
     "data": {
      "text/plain": [
       "(1, 2, 3, 4, 5, 6, 7, 10, 20, 30, 40, 50)"
      ]
     },
     "execution_count": 10,
     "metadata": {},
     "output_type": "execute_result"
    }
   ],
   "source": [
    "tuple3"
   ]
  },
  {
   "cell_type": "code",
   "execution_count": 11,
   "id": "3a357e52",
   "metadata": {},
   "outputs": [
    {
     "data": {
      "text/plain": [
       "12"
      ]
     },
     "execution_count": 11,
     "metadata": {},
     "output_type": "execute_result"
    }
   ],
   "source": [
    "len(tuple3)"
   ]
  },
  {
   "cell_type": "markdown",
   "id": "70183b1f",
   "metadata": {},
   "source": [
    "**Assignment Task 3:** Set Creation\n",
    "Create a Python set containing the first 10 `even` numbers (2, 4, 6, ...). Write a program to `display` this set.\n"
   ]
  },
  {
   "cell_type": "code",
   "execution_count": 14,
   "id": "c7c1b7da",
   "metadata": {},
   "outputs": [],
   "source": [
    "set1 = {2,4,6,8,10,12,14,16,17,18}"
   ]
  },
  {
   "cell_type": "code",
   "execution_count": 15,
   "id": "86e82306",
   "metadata": {},
   "outputs": [
    {
     "data": {
      "text/plain": [
       "10"
      ]
     },
     "execution_count": 15,
     "metadata": {},
     "output_type": "execute_result"
    }
   ],
   "source": [
    "len(set1)"
   ]
  },
  {
   "cell_type": "code",
   "execution_count": 16,
   "id": "3c1d84ce",
   "metadata": {},
   "outputs": [
    {
     "name": "stdout",
     "output_type": "stream",
     "text": [
      "{2, 4, 6, 8, 10, 12, 14, 16, 17, 18}\n"
     ]
    }
   ],
   "source": [
    "print(set1)"
   ]
  },
  {
   "cell_type": "markdown",
   "id": "952d64b5",
   "metadata": {},
   "source": [
    "**Assignment Task 4:** Set Operations\n",
    "Given two sets, write a Python program to find the `union, intersection, and difference` of these sets.\n"
   ]
  },
  {
   "cell_type": "code",
   "execution_count": 17,
   "id": "2b537e84",
   "metadata": {},
   "outputs": [],
   "source": [
    "set1 = {1,2,3,4,5}\n",
    "set2 = {4,5,6,7,8}"
   ]
  },
  {
   "cell_type": "code",
   "execution_count": 19,
   "id": "baa030e9",
   "metadata": {},
   "outputs": [
    {
     "data": {
      "text/plain": [
       "{1, 2, 3, 4, 5, 6, 7, 8}"
      ]
     },
     "execution_count": 19,
     "metadata": {},
     "output_type": "execute_result"
    }
   ],
   "source": [
    "set1.union(set2)"
   ]
  },
  {
   "cell_type": "code",
   "execution_count": 20,
   "id": "e671cd80",
   "metadata": {},
   "outputs": [
    {
     "data": {
      "text/plain": [
       "{4, 5}"
      ]
     },
     "execution_count": 20,
     "metadata": {},
     "output_type": "execute_result"
    }
   ],
   "source": [
    "set1.intersection(set2)"
   ]
  },
  {
   "cell_type": "code",
   "execution_count": 21,
   "id": "edb1175b",
   "metadata": {},
   "outputs": [
    {
     "data": {
      "text/plain": [
       "{1, 2, 3}"
      ]
     },
     "execution_count": 21,
     "metadata": {},
     "output_type": "execute_result"
    }
   ],
   "source": [
    "set1.difference(set2)"
   ]
  },
  {
   "cell_type": "markdown",
   "id": "7564cbcb",
   "metadata": {},
   "source": [
    "\n",
    "**Assignment Task 5:** Tuple and Set Conversion\n",
    "Write a Python program that takes a `tuple` of integers and converts it into a `set`. Then, find and print the `maximum and minimum` values from the set.\n"
   ]
  },
  {
   "cell_type": "code",
   "execution_count": 69,
   "id": "e5fe34ca",
   "metadata": {},
   "outputs": [],
   "source": [
    "tuple1 = (1,2,3,4,5,6,7,8,9)"
   ]
  },
  {
   "cell_type": "code",
   "execution_count": 70,
   "id": "6c00e6e9",
   "metadata": {},
   "outputs": [
    {
     "data": {
      "text/plain": [
       "{1, 2, 3, 4, 5, 6, 7, 8, 9}"
      ]
     },
     "execution_count": 70,
     "metadata": {},
     "output_type": "execute_result"
    }
   ],
   "source": [
    "set(tuple1)"
   ]
  },
  {
   "cell_type": "code",
   "execution_count": 71,
   "id": "7137d067",
   "metadata": {},
   "outputs": [
    {
     "data": {
      "text/plain": [
       "9"
      ]
     },
     "execution_count": 71,
     "metadata": {},
     "output_type": "execute_result"
    }
   ],
   "source": [
    "len(set(tuple1))"
   ]
  },
  {
   "cell_type": "code",
   "execution_count": 72,
   "id": "9dedd90c",
   "metadata": {},
   "outputs": [
    {
     "data": {
      "text/plain": [
       "1"
      ]
     },
     "execution_count": 72,
     "metadata": {},
     "output_type": "execute_result"
    }
   ],
   "source": [
    "min(set(tuple1))"
   ]
  },
  {
   "cell_type": "code",
   "execution_count": 73,
   "id": "6297d417",
   "metadata": {},
   "outputs": [
    {
     "data": {
      "text/plain": [
       "9"
      ]
     },
     "execution_count": 73,
     "metadata": {},
     "output_type": "execute_result"
    }
   ],
   "source": [
    "max(set(tuple1))"
   ]
  },
  {
   "cell_type": "markdown",
   "id": "c43ce4df",
   "metadata": {},
   "source": [
    "**Assignment Task 6:** Tuple Immutability Explain the concept of immutability in Python tuples with examples. Discuss why tuples are considered immutable data structures."
   ]
  },
  {
   "cell_type": "markdown",
   "id": "97b6460a",
   "metadata": {},
   "source": [
    "The tuple is an immutable collection of elements. we can perform operations on tuple but we cannot remove or append elements in the tuple. We can't change the elements of a tuple, but we can execute a variety of actions on them such as count, index, type, etc."
   ]
  },
  {
   "cell_type": "markdown",
   "id": "165832c3",
   "metadata": {},
   "source": [
    "**Assignment Task 7:** Set Operations and Methods\n",
    "Write a Python program that takes a set of numbers and performs the following operations:\n",
    "   - Add a new number to the set.\n",
    "   - Remove a number from the set.\n",
    "   - Check if a specific number is in the set.\n",
    "   - Find the size of the set.\n"
   ]
  },
  {
   "cell_type": "code",
   "execution_count": 62,
   "id": "46daade1",
   "metadata": {},
   "outputs": [],
   "source": [
    "set1 = {1,2,3,4,5,6,7,8}"
   ]
  },
  {
   "cell_type": "code",
   "execution_count": 35,
   "id": "b04af0e6",
   "metadata": {},
   "outputs": [
    {
     "data": {
      "text/plain": [
       "{1, 2, 3, 4, 5, 6, 7, 8, 10}"
      ]
     },
     "execution_count": 35,
     "metadata": {},
     "output_type": "execute_result"
    }
   ],
   "source": [
    "set1.add(10)\n",
    "set1"
   ]
  },
  {
   "cell_type": "code",
   "execution_count": 36,
   "id": "77544784",
   "metadata": {},
   "outputs": [
    {
     "data": {
      "text/plain": [
       "{2, 3, 4, 5, 6, 7, 8, 10}"
      ]
     },
     "execution_count": 36,
     "metadata": {},
     "output_type": "execute_result"
    }
   ],
   "source": [
    "set1.remove(1)\n",
    "set1"
   ]
  },
  {
   "cell_type": "code",
   "execution_count": 63,
   "id": "716e1410",
   "metadata": {},
   "outputs": [
    {
     "data": {
      "text/plain": [
       "False"
      ]
     },
     "execution_count": 63,
     "metadata": {},
     "output_type": "execute_result"
    }
   ],
   "source": [
    "10 in set1"
   ]
  },
  {
   "cell_type": "code",
   "execution_count": 64,
   "id": "7321ee89",
   "metadata": {},
   "outputs": [
    {
     "data": {
      "text/plain": [
       "True"
      ]
     },
     "execution_count": 64,
     "metadata": {},
     "output_type": "execute_result"
    }
   ],
   "source": [
    "1 in set1"
   ]
  },
  {
   "cell_type": "code",
   "execution_count": 39,
   "id": "c92a22c8",
   "metadata": {},
   "outputs": [
    {
     "data": {
      "text/plain": [
       "8"
      ]
     },
     "execution_count": 39,
     "metadata": {},
     "output_type": "execute_result"
    }
   ],
   "source": [
    "len(set1)"
   ]
  },
  {
   "cell_type": "markdown",
   "id": "9e29dc12",
   "metadata": {},
   "source": [
    "**Assignment Task 8:** Tuple Slicing\n",
    "Given a tuple of 10 elements, write a Python program to print the elements from the `3rd to the 7th `position using slicing.\n"
   ]
  },
  {
   "cell_type": "code",
   "execution_count": 40,
   "id": "62bc3910",
   "metadata": {},
   "outputs": [],
   "source": [
    "tup1 = (0,1,2,3,4,5,6,7,8,9)"
   ]
  },
  {
   "cell_type": "code",
   "execution_count": 41,
   "id": "89597c34",
   "metadata": {},
   "outputs": [
    {
     "data": {
      "text/plain": [
       "(3, 4, 5, 6, 7)"
      ]
     },
     "execution_count": 41,
     "metadata": {},
     "output_type": "execute_result"
    }
   ],
   "source": [
    "tup1[3:8]"
   ]
  },
  {
   "cell_type": "code",
   "execution_count": 42,
   "id": "1567a62b",
   "metadata": {},
   "outputs": [
    {
     "data": {
      "text/plain": [
       "10"
      ]
     },
     "execution_count": 42,
     "metadata": {},
     "output_type": "execute_result"
    }
   ],
   "source": [
    "len(tup1)"
   ]
  },
  {
   "cell_type": "markdown",
   "id": "883e86b4",
   "metadata": {},
   "source": [
    "**Assignment Task 9:** Set Operations with Lists\n",
    "Create a Python list with duplicate elements and convert it into a set to remove duplicates. Then, write a program to count how many duplicates were removed."
   ]
  },
  {
   "cell_type": "code",
   "execution_count": 55,
   "id": "c33a1a1e",
   "metadata": {},
   "outputs": [],
   "source": [
    "list1 = [1,2,3,4,5,1,1,2,3,3,4]"
   ]
  },
  {
   "cell_type": "code",
   "execution_count": 56,
   "id": "3d6ea409",
   "metadata": {},
   "outputs": [
    {
     "data": {
      "text/plain": [
       "11"
      ]
     },
     "execution_count": 56,
     "metadata": {},
     "output_type": "execute_result"
    }
   ],
   "source": [
    "len(list1)"
   ]
  },
  {
   "cell_type": "code",
   "execution_count": 57,
   "id": "2de92020",
   "metadata": {},
   "outputs": [
    {
     "data": {
      "text/plain": [
       "{1, 2, 3, 4, 5}"
      ]
     },
     "execution_count": 57,
     "metadata": {},
     "output_type": "execute_result"
    }
   ],
   "source": [
    "set(list1)"
   ]
  },
  {
   "cell_type": "code",
   "execution_count": 58,
   "id": "84082dcd",
   "metadata": {},
   "outputs": [
    {
     "data": {
      "text/plain": [
       "5"
      ]
     },
     "execution_count": 58,
     "metadata": {},
     "output_type": "execute_result"
    }
   ],
   "source": [
    "len(set(list1)) #removed 6 duplicates"
   ]
  },
  {
   "cell_type": "markdown",
   "id": "e30e91f8",
   "metadata": {},
   "source": [
    "\n",
    "\n",
    "\n",
    "\n",
    "\n",
    "\n",
    "\n",
    "\n",
    "\n",
    "\n",
    "\n",
    "**Assignment Task 10:** Tuple and Set Combinations\n",
    "Create a `tuple` containing the names of your friend's favorite movies and a `set` containing the names of your favorite movies. Write a Python program to find and display common elements (movies that feature your "
   ]
  },
  {
   "cell_type": "code",
   "execution_count": 51,
   "id": "8cc9a049",
   "metadata": {},
   "outputs": [],
   "source": [
    "tupl1 = (\"legend\",\"bunny\",\"djtillu\",\"liger\",\"pokiri\",\"dasara\")\n",
    "set1 = {\"legend\",\"djtillu\",\"pokiri\",\"dasara\",\"kushi\",\"red\",\"ismart\"}"
   ]
  },
  {
   "cell_type": "code",
   "execution_count": 52,
   "id": "0d908ff9",
   "metadata": {},
   "outputs": [
    {
     "data": {
      "text/plain": [
       "{'dasara', 'djtillu', 'legend', 'pokiri'}"
      ]
     },
     "execution_count": 52,
     "metadata": {},
     "output_type": "execute_result"
    }
   ],
   "source": [
    "set1.intersection(tupl1)"
   ]
  },
  {
   "cell_type": "code",
   "execution_count": null,
   "id": "da763768",
   "metadata": {},
   "outputs": [],
   "source": []
  }
 ],
 "metadata": {
  "kernelspec": {
   "display_name": "Python 3 (ipykernel)",
   "language": "python",
   "name": "python3"
  },
  "language_info": {
   "codemirror_mode": {
    "name": "ipython",
    "version": 3
   },
   "file_extension": ".py",
   "mimetype": "text/x-python",
   "name": "python",
   "nbconvert_exporter": "python",
   "pygments_lexer": "ipython3",
   "version": "3.11.4"
  }
 },
 "nbformat": 4,
 "nbformat_minor": 5
}
