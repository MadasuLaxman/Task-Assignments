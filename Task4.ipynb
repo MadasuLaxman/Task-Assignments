{
 "cells": [
  {
   "cell_type": "markdown",
   "id": "b24867f7",
   "metadata": {},
   "source": [
    "**Assignment Tasks on String Methods, String Escape Characters:**\n",
    "\n",
    "**String Methods**\n",
    "\n",
    "\n",
    "\n",
    "\n",
    "   \n",
    "\n",
    "\n",
    "\n",
    "\n",
    "    \n",
    "    \n",
    "\n",
    "\n",
    "\n",
    "\n",
    "\n",
    "\n"
   ]
  },
  {
   "cell_type": "markdown",
   "id": "be2f9627",
   "metadata": {},
   "source": [
    "1. Ask user to  enter a  website name and check whether it is valid or not(True/False)\n"
   ]
  },
  {
   "cell_type": "code",
   "execution_count": 45,
   "id": "918a411f",
   "metadata": {},
   "outputs": [
    {
     "name": "stdout",
     "output_type": "stream",
     "text": [
      "Enter your favourite website::www.Innomatics online.com\n"
     ]
    },
    {
     "data": {
      "text/plain": [
       "True"
      ]
     },
     "execution_count": 45,
     "metadata": {},
     "output_type": "execute_result"
    }
   ],
   "source": [
    "web = input(\"Enter your favourite website::\")\n",
    "web.startswith((\"www.\",\"http://\"))\n",
    "web.endswith(\".com\")"
   ]
  },
  {
   "cell_type": "markdown",
   "id": "c6301868",
   "metadata": {},
   "source": [
    "2. name = \"Innomatics\", course = \"Data Science\"\n",
    "   write python code in `different ways` to show output as :\n",
    "   `\"Hello World I am learning Data Science in Innomatics\"`\n",
    "   "
   ]
  },
  {
   "cell_type": "code",
   "execution_count": 84,
   "id": "2b0fd457",
   "metadata": {},
   "outputs": [
    {
     "name": "stdout",
     "output_type": "stream",
     "text": [
      "Enter your institute name::Innomatics\n",
      "Enter your course name::Data science\n"
     ]
    }
   ],
   "source": [
    "institute = input(\"Enter your institute name::\")\n",
    "course = input(\"Enter your course name::\")"
   ]
  },
  {
   "cell_type": "code",
   "execution_count": 85,
   "id": "9c3d273a",
   "metadata": {},
   "outputs": [
    {
     "name": "stdout",
     "output_type": "stream",
     "text": [
      "Hello World I am learning Data Science in Innomatics\n"
     ]
    }
   ],
   "source": [
    "print(\"Hello World I am learning Data Science in Innomatics\" )"
   ]
  },
  {
   "cell_type": "code",
   "execution_count": 86,
   "id": "e4104e72",
   "metadata": {},
   "outputs": [
    {
     "name": "stdout",
     "output_type": "stream",
     "text": [
      "Hello World I am learning Data science in Innomatics\n"
     ]
    }
   ],
   "source": [
    "print(\"Hello World I am learning {} in {}\".format(course, institute))"
   ]
  },
  {
   "cell_type": "code",
   "execution_count": 87,
   "id": "7dfe0f4f",
   "metadata": {},
   "outputs": [
    {
     "name": "stdout",
     "output_type": "stream",
     "text": [
      "Hello World I am learning Data science in Innomatics\n"
     ]
    }
   ],
   "source": [
    "print(\"Hello World I am learning {1} in {0}\".format(institute,course) )"
   ]
  },
  {
   "cell_type": "code",
   "execution_count": 88,
   "id": "ef71d4e4",
   "metadata": {},
   "outputs": [
    {
     "name": "stdout",
     "output_type": "stream",
     "text": [
      "Hello World I am learning Data science in Innomatics\n"
     ]
    }
   ],
   "source": [
    "print(\"Hello World I am learning {0} in {1}\".format(course,institute) )"
   ]
  },
  {
   "cell_type": "code",
   "execution_count": 136,
   "id": "7972d952",
   "metadata": {},
   "outputs": [
    {
     "name": "stdout",
     "output_type": "stream",
     "text": [
      "Hello World I am learningData science inInnomatics\n"
     ]
    }
   ],
   "source": [
    "print(f\"Hello World I am learning{course} in{institute}\")"
   ]
  },
  {
   "cell_type": "code",
   "execution_count": 135,
   "id": "c8e009bc",
   "metadata": {},
   "outputs": [
    {
     "name": "stdout",
     "output_type": "stream",
     "text": [
      "Hello World I am learning Data science in Innomatics\n"
     ]
    }
   ],
   "source": [
    "print(\"Hello World I am learning\" ,course, \"in\" ,institute)"
   ]
  },
  {
   "cell_type": "code",
   "execution_count": 133,
   "id": "412d8fb2",
   "metadata": {},
   "outputs": [
    {
     "name": "stdout",
     "output_type": "stream",
     "text": [
      "Hello World I am learning Data science in Innomatics\n"
     ]
    }
   ],
   "source": [
    "print(\"Hello World I am learning \" +course+ \" in \" +institute)"
   ]
  },
  {
   "cell_type": "markdown",
   "id": "eb4ba078",
   "metadata": {},
   "source": [
    "3. Replace `Science` with `Analysis` in the above output."
   ]
  },
  {
   "cell_type": "code",
   "execution_count": 149,
   "id": "085b5211",
   "metadata": {},
   "outputs": [],
   "source": [
    "institute = \"Innomatics\"\n",
    "course = \"Data science\"\n",
    "R = (f\"Hello World I am learning {course} in {institute}\")"
   ]
  },
  {
   "cell_type": "code",
   "execution_count": 150,
   "id": "0802f618",
   "metadata": {},
   "outputs": [
    {
     "data": {
      "text/plain": [
       "'Hello World I am learning Data Analysis in Innomatics'"
      ]
     },
     "execution_count": 150,
     "metadata": {},
     "output_type": "execute_result"
    }
   ],
   "source": [
    "R.replace(\"science\",\"Analysis\")"
   ]
  },
  {
   "cell_type": "markdown",
   "id": "7829d6d1",
   "metadata": {},
   "source": [
    "4. `string = '     Hello World I am learning Python in Innomatics   '`\n",
    "\n",
    "    a. How many characters are there in the string.\n",
    "    \n",
    "    b. Slice only 'Python' from above string\n",
    "    \n",
    "    c. Remove white spaces on both sides then find no.of characters in the string.\n",
    "    \n",
    "    d. Convert the string in Upper case"
   ]
  },
  {
   "cell_type": "code",
   "execution_count": 98,
   "id": "d7afcecf",
   "metadata": {},
   "outputs": [
    {
     "data": {
      "text/plain": [
       "54"
      ]
     },
     "execution_count": 98,
     "metadata": {},
     "output_type": "execute_result"
    }
   ],
   "source": [
    "string = '     Hello World I am learning Python in Innomatics   '\n",
    "len(string)"
   ]
  },
  {
   "cell_type": "code",
   "execution_count": 154,
   "id": "5381af06",
   "metadata": {},
   "outputs": [
    {
     "data": {
      "text/plain": [
       "'Python'"
      ]
     },
     "execution_count": 154,
     "metadata": {},
     "output_type": "execute_result"
    }
   ],
   "source": [
    "string[31:37:1]"
   ]
  },
  {
   "cell_type": "code",
   "execution_count": 109,
   "id": "b65c3e60",
   "metadata": {},
   "outputs": [
    {
     "data": {
      "text/plain": [
       "'Hello World I am learning Python in Innomatics'"
      ]
     },
     "execution_count": 109,
     "metadata": {},
     "output_type": "execute_result"
    }
   ],
   "source": [
    "string = '     Hello World I am learning Python in Innomatics   '\n",
    "string.strip()"
   ]
  },
  {
   "cell_type": "code",
   "execution_count": 111,
   "id": "9885bbf5",
   "metadata": {},
   "outputs": [
    {
     "data": {
      "text/plain": [
       "46"
      ]
     },
     "execution_count": 111,
     "metadata": {},
     "output_type": "execute_result"
    }
   ],
   "source": [
    "str = \"Hello World I am learning Python in Innomatics\"\n",
    "len(str)"
   ]
  },
  {
   "cell_type": "code",
   "execution_count": 112,
   "id": "b0bad439",
   "metadata": {},
   "outputs": [
    {
     "data": {
      "text/plain": [
       "'HELLO WORLD I AM LEARNING PYTHON IN INNOMATICS'"
      ]
     },
     "execution_count": 112,
     "metadata": {},
     "output_type": "execute_result"
    }
   ],
   "source": [
    "str.upper()"
   ]
  },
  {
   "cell_type": "markdown",
   "id": "bf420e6d",
   "metadata": {},
   "source": [
    "5. What is the index number of 'World' in above string."
   ]
  },
  {
   "cell_type": "code",
   "execution_count": 120,
   "id": "29abf376",
   "metadata": {},
   "outputs": [
    {
     "data": {
      "text/plain": [
       "6"
      ]
     },
     "execution_count": 120,
     "metadata": {},
     "output_type": "execute_result"
    }
   ],
   "source": [
    "str.index(\"World\")"
   ]
  },
  {
   "cell_type": "markdown",
   "id": "0ea88e8e",
   "metadata": {},
   "source": [
    "6. Split the string with respect to `whitespace`.after that `store` that splitted into a variable and find the `data type`of that variable."
   ]
  },
  {
   "cell_type": "code",
   "execution_count": 125,
   "id": "65b39877",
   "metadata": {},
   "outputs": [
    {
     "data": {
      "text/plain": [
       "str"
      ]
     },
     "execution_count": 125,
     "metadata": {},
     "output_type": "execute_result"
    }
   ],
   "source": [
    "string = '     Hello World I am learning Python in Innomatics   '\n",
    "type(string)"
   ]
  },
  {
   "cell_type": "markdown",
   "id": "50d50590",
   "metadata": {},
   "source": [
    "7. How many times 'a' is `repeated` in above string."
   ]
  },
  {
   "cell_type": "code",
   "execution_count": 127,
   "id": "a80df3ac",
   "metadata": {},
   "outputs": [
    {
     "data": {
      "text/plain": [
       "3"
      ]
     },
     "execution_count": 127,
     "metadata": {},
     "output_type": "execute_result"
    }
   ],
   "source": [
    "string.count(\"a\")"
   ]
  },
  {
   "cell_type": "markdown",
   "id": "d9938143",
   "metadata": {},
   "source": [
    "**String Escape Characters:**\n",
    "\n",
    "**Task 1:**\n",
    "\n",
    "1. Create a string containing a sentence that includes both single and double quotes.\n",
    "2. Use escape characters to include quotes within the string.\n",
    "3. Print the modified string.\n",
    "\n",
    "\n",
    "\n"
   ]
  },
  {
   "cell_type": "code",
   "execution_count": 10,
   "id": "57ebdab4",
   "metadata": {},
   "outputs": [],
   "source": [
    "name = \"Hello World I am learning \\\"Data Science\\\" in Innomatics\" "
   ]
  },
  {
   "cell_type": "code",
   "execution_count": 11,
   "id": "2a9ecb74",
   "metadata": {},
   "outputs": [
    {
     "name": "stdout",
     "output_type": "stream",
     "text": [
      "Hello World I am learning \"Data Science\" in Innomatics\n"
     ]
    }
   ],
   "source": [
    "print(name)"
   ]
  },
  {
   "cell_type": "markdown",
   "id": "1eae1560",
   "metadata": {},
   "source": [
    "**Task 2:**\n",
    "\n",
    "1. Declare a string with a backslash \\ character in it.\n",
    "2. Demonstrate the use of the escape character to print the backslash itself.\n",
    "3. Print the resulting string"
   ]
  },
  {
   "cell_type": "code",
   "execution_count": 162,
   "id": "0e820cfb",
   "metadata": {},
   "outputs": [
    {
     "name": "stdout",
     "output_type": "stream",
     "text": [
      "Hello World I am learning \\ Data Science in Innomatics\n"
     ]
    }
   ],
   "source": [
    "n = \"Hello World I am learning \\\\ Data Science in Innomatics\"\n",
    "print(n)"
   ]
  },
  {
   "cell_type": "code",
   "execution_count": 163,
   "id": "86399947",
   "metadata": {},
   "outputs": [
    {
     "name": "stdout",
     "output_type": "stream",
     "text": [
      "Hello World I am learning a\\ Data Science in Innomatics\n"
     ]
    }
   ],
   "source": [
    "n = r\"Hello World I am learning a\\ Data Science in Innomatics\"\n",
    "print(n)"
   ]
  },
  {
   "cell_type": "markdown",
   "id": "7d759efc",
   "metadata": {},
   "source": [
    "**Task 3:**\n",
    "\n",
    "1. Construct a string containing newline and tab escape sequences.\n",
    "2. Print the string to display the formatted output."
   ]
  },
  {
   "cell_type": "code",
   "execution_count": 164,
   "id": "97a21998",
   "metadata": {},
   "outputs": [],
   "source": [
    "name = \"My name is laxman madasu \\n Iam \\tfrom Jagtial \\t.\""
   ]
  },
  {
   "cell_type": "code",
   "execution_count": 165,
   "id": "27699daf",
   "metadata": {},
   "outputs": [
    {
     "name": "stdout",
     "output_type": "stream",
     "text": [
      "My name is laxman madasu \n",
      " Iam \tfrom Jagtial \t.\n"
     ]
    }
   ],
   "source": [
    "print(name)"
   ]
  },
  {
   "cell_type": "code",
   "execution_count": null,
   "id": "ced8a4a3",
   "metadata": {},
   "outputs": [],
   "source": []
  }
 ],
 "metadata": {
  "kernelspec": {
   "display_name": "Python 3 (ipykernel)",
   "language": "python",
   "name": "python3"
  },
  "language_info": {
   "codemirror_mode": {
    "name": "ipython",
    "version": 3
   },
   "file_extension": ".py",
   "mimetype": "text/x-python",
   "name": "python",
   "nbconvert_exporter": "python",
   "pygments_lexer": "ipython3",
   "version": "3.11.4"
  }
 },
 "nbformat": 4,
 "nbformat_minor": 5
}
