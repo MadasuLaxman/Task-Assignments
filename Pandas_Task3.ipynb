{
 "cells": [
  {
   "cell_type": "markdown",
   "id": "c3d5c95e",
   "metadata": {},
   "source": [
    "### Data Manipulation"
   ]
  },
  {
   "cell_type": "raw",
   "id": "6083ac55",
   "metadata": {},
   "source": [
    "1. Find all Statistic Measures\n",
    "2. Which subject has highest average ?\n",
    "3. What are the Student IDs who got more tham 80% GPA?\n",
    "4. How many female students are there in the class?\n",
    "5. What is the ratio of male students and female students?\n",
    "6. What are the marks of male students in statistics ?\n",
    "7. What is the ID of the class topper ?\n",
    "8. What is the gender of probabilty topper?\n",
    "9. Create Pivot Table for gender and class?\n",
    "10. Which subject got least average marks.?\n",
    "11. How many male and female students are there ?\n",
    "12. How many female student are there from class A?\n",
    "13. Which class has more strength ?\n",
    "14. Sort the data as per algebra ?\n",
    "15. How many students got exactly 64 marks from functional analysis?"
   ]
  },
  {
   "cell_type": "code",
   "execution_count": 2,
   "id": "1501ddaa",
   "metadata": {},
   "outputs": [],
   "source": [
    "import pandas as pd"
   ]
  },
  {
   "cell_type": "code",
   "execution_count": 4,
   "id": "7173e769",
   "metadata": {},
   "outputs": [
    {
     "data": {
      "text/html": [
       "<div>\n",
       "<style scoped>\n",
       "    .dataframe tbody tr th:only-of-type {\n",
       "        vertical-align: middle;\n",
       "    }\n",
       "\n",
       "    .dataframe tbody tr th {\n",
       "        vertical-align: top;\n",
       "    }\n",
       "\n",
       "    .dataframe thead th {\n",
       "        text-align: right;\n",
       "    }\n",
       "</style>\n",
       "<table border=\"1\" class=\"dataframe\">\n",
       "  <thead>\n",
       "    <tr style=\"text-align: right;\">\n",
       "      <th></th>\n",
       "      <th>ID</th>\n",
       "      <th>class</th>\n",
       "      <th>gender</th>\n",
       "      <th>GPA</th>\n",
       "      <th>Algebra</th>\n",
       "      <th>Calculus1</th>\n",
       "      <th>Calculus2</th>\n",
       "      <th>Statistics</th>\n",
       "      <th>Probability</th>\n",
       "      <th>Measure</th>\n",
       "      <th>Functional_analysis</th>\n",
       "    </tr>\n",
       "  </thead>\n",
       "  <tbody>\n",
       "    <tr>\n",
       "      <th>0</th>\n",
       "      <td>1141</td>\n",
       "      <td>A</td>\n",
       "      <td>male</td>\n",
       "      <td>73.47</td>\n",
       "      <td>64</td>\n",
       "      <td>81</td>\n",
       "      <td>87</td>\n",
       "      <td>60</td>\n",
       "      <td>74</td>\n",
       "      <td>71</td>\n",
       "      <td>60</td>\n",
       "    </tr>\n",
       "    <tr>\n",
       "      <th>1</th>\n",
       "      <td>1142</td>\n",
       "      <td>A</td>\n",
       "      <td>female</td>\n",
       "      <td>71.22</td>\n",
       "      <td>57</td>\n",
       "      <td>50</td>\n",
       "      <td>51</td>\n",
       "      <td>51</td>\n",
       "      <td>55</td>\n",
       "      <td>62</td>\n",
       "      <td>61</td>\n",
       "    </tr>\n",
       "    <tr>\n",
       "      <th>2</th>\n",
       "      <td>1143</td>\n",
       "      <td>A</td>\n",
       "      <td>female</td>\n",
       "      <td>74.56</td>\n",
       "      <td>47</td>\n",
       "      <td>48</td>\n",
       "      <td>71</td>\n",
       "      <td>60</td>\n",
       "      <td>61</td>\n",
       "      <td>68</td>\n",
       "      <td>64</td>\n",
       "    </tr>\n",
       "    <tr>\n",
       "      <th>3</th>\n",
       "      <td>1144</td>\n",
       "      <td>A</td>\n",
       "      <td>female</td>\n",
       "      <td>72.89</td>\n",
       "      <td>46</td>\n",
       "      <td>72</td>\n",
       "      <td>38</td>\n",
       "      <td>60</td>\n",
       "      <td>29</td>\n",
       "      <td>54</td>\n",
       "      <td>51</td>\n",
       "    </tr>\n",
       "    <tr>\n",
       "      <th>4</th>\n",
       "      <td>1145</td>\n",
       "      <td>A</td>\n",
       "      <td>female</td>\n",
       "      <td>70.11</td>\n",
       "      <td>49</td>\n",
       "      <td>45</td>\n",
       "      <td>63</td>\n",
       "      <td>60</td>\n",
       "      <td>66</td>\n",
       "      <td>66</td>\n",
       "      <td>61</td>\n",
       "    </tr>\n",
       "    <tr>\n",
       "      <th>...</th>\n",
       "      <td>...</td>\n",
       "      <td>...</td>\n",
       "      <td>...</td>\n",
       "      <td>...</td>\n",
       "      <td>...</td>\n",
       "      <td>...</td>\n",
       "      <td>...</td>\n",
       "      <td>...</td>\n",
       "      <td>...</td>\n",
       "      <td>...</td>\n",
       "      <td>...</td>\n",
       "    </tr>\n",
       "    <tr>\n",
       "      <th>100</th>\n",
       "      <td>1241</td>\n",
       "      <td>A</td>\n",
       "      <td>female</td>\n",
       "      <td>88.34</td>\n",
       "      <td>87</td>\n",
       "      <td>83</td>\n",
       "      <td>92</td>\n",
       "      <td>98</td>\n",
       "      <td>93</td>\n",
       "      <td>86</td>\n",
       "      <td>90</td>\n",
       "    </tr>\n",
       "    <tr>\n",
       "      <th>101</th>\n",
       "      <td>1242</td>\n",
       "      <td>B</td>\n",
       "      <td>male</td>\n",
       "      <td>89.84</td>\n",
       "      <td>98</td>\n",
       "      <td>77</td>\n",
       "      <td>95</td>\n",
       "      <td>98</td>\n",
       "      <td>96</td>\n",
       "      <td>88</td>\n",
       "      <td>100</td>\n",
       "    </tr>\n",
       "    <tr>\n",
       "      <th>102</th>\n",
       "      <td>1243</td>\n",
       "      <td>B</td>\n",
       "      <td>male</td>\n",
       "      <td>88.82</td>\n",
       "      <td>83</td>\n",
       "      <td>80</td>\n",
       "      <td>91</td>\n",
       "      <td>98</td>\n",
       "      <td>93</td>\n",
       "      <td>95</td>\n",
       "      <td>71</td>\n",
       "    </tr>\n",
       "    <tr>\n",
       "      <th>103</th>\n",
       "      <td>1244</td>\n",
       "      <td>A</td>\n",
       "      <td>male</td>\n",
       "      <td>86.60</td>\n",
       "      <td>92</td>\n",
       "      <td>82</td>\n",
       "      <td>91</td>\n",
       "      <td>99</td>\n",
       "      <td>94</td>\n",
       "      <td>82</td>\n",
       "      <td>78</td>\n",
       "    </tr>\n",
       "    <tr>\n",
       "      <th>104</th>\n",
       "      <td>1245</td>\n",
       "      <td>A</td>\n",
       "      <td>male</td>\n",
       "      <td>93.71</td>\n",
       "      <td>93</td>\n",
       "      <td>97</td>\n",
       "      <td>99</td>\n",
       "      <td>100</td>\n",
       "      <td>97</td>\n",
       "      <td>90</td>\n",
       "      <td>90</td>\n",
       "    </tr>\n",
       "  </tbody>\n",
       "</table>\n",
       "<p>105 rows × 11 columns</p>\n",
       "</div>"
      ],
      "text/plain": [
       "       ID class  gender    GPA  Algebra  Calculus1  Calculus2  Statistics  \\\n",
       "0    1141     A    male  73.47       64         81         87          60   \n",
       "1    1142     A  female  71.22       57         50         51          51   \n",
       "2    1143     A  female  74.56       47         48         71          60   \n",
       "3    1144     A  female  72.89       46         72         38          60   \n",
       "4    1145     A  female  70.11       49         45         63          60   \n",
       "..    ...   ...     ...    ...      ...        ...        ...         ...   \n",
       "100  1241     A  female  88.34       87         83         92          98   \n",
       "101  1242     B    male  89.84       98         77         95          98   \n",
       "102  1243     B    male  88.82       83         80         91          98   \n",
       "103  1244     A    male  86.60       92         82         91          99   \n",
       "104  1245     A    male  93.71       93         97         99         100   \n",
       "\n",
       "     Probability  Measure  Functional_analysis  \n",
       "0             74       71                   60  \n",
       "1             55       62                   61  \n",
       "2             61       68                   64  \n",
       "3             29       54                   51  \n",
       "4             66       66                   61  \n",
       "..           ...      ...                  ...  \n",
       "100           93       86                   90  \n",
       "101           96       88                  100  \n",
       "102           93       95                   71  \n",
       "103           94       82                   78  \n",
       "104           97       90                   90  \n",
       "\n",
       "[105 rows x 11 columns]"
      ]
     },
     "execution_count": 4,
     "metadata": {},
     "output_type": "execute_result"
    }
   ],
   "source": [
    "df = pd.read_csv(r\"C:\\Users\\madas\\Downloads\\students_marks.csv\")\n",
    "df"
   ]
  },
  {
   "cell_type": "markdown",
   "id": "c73e3674",
   "metadata": {},
   "source": [
    "1. Find all Statistic Measures\n"
   ]
  },
  {
   "cell_type": "code",
   "execution_count": 5,
   "id": "dffacd6b",
   "metadata": {},
   "outputs": [
    {
     "data": {
      "text/html": [
       "<div>\n",
       "<style scoped>\n",
       "    .dataframe tbody tr th:only-of-type {\n",
       "        vertical-align: middle;\n",
       "    }\n",
       "\n",
       "    .dataframe tbody tr th {\n",
       "        vertical-align: top;\n",
       "    }\n",
       "\n",
       "    .dataframe thead th {\n",
       "        text-align: right;\n",
       "    }\n",
       "</style>\n",
       "<table border=\"1\" class=\"dataframe\">\n",
       "  <thead>\n",
       "    <tr style=\"text-align: right;\">\n",
       "      <th></th>\n",
       "      <th>ID</th>\n",
       "      <th>class</th>\n",
       "      <th>gender</th>\n",
       "      <th>GPA</th>\n",
       "      <th>Algebra</th>\n",
       "      <th>Calculus1</th>\n",
       "      <th>Calculus2</th>\n",
       "      <th>Statistics</th>\n",
       "      <th>Probability</th>\n",
       "      <th>Measure</th>\n",
       "      <th>Functional_analysis</th>\n",
       "    </tr>\n",
       "  </thead>\n",
       "  <tbody>\n",
       "    <tr>\n",
       "      <th>count</th>\n",
       "      <td>105.000000</td>\n",
       "      <td>105</td>\n",
       "      <td>105</td>\n",
       "      <td>105.000000</td>\n",
       "      <td>105.000000</td>\n",
       "      <td>105.000000</td>\n",
       "      <td>105.000000</td>\n",
       "      <td>105.000000</td>\n",
       "      <td>105.000000</td>\n",
       "      <td>105.000000</td>\n",
       "      <td>105.000000</td>\n",
       "    </tr>\n",
       "    <tr>\n",
       "      <th>unique</th>\n",
       "      <td>NaN</td>\n",
       "      <td>2</td>\n",
       "      <td>2</td>\n",
       "      <td>NaN</td>\n",
       "      <td>NaN</td>\n",
       "      <td>NaN</td>\n",
       "      <td>NaN</td>\n",
       "      <td>NaN</td>\n",
       "      <td>NaN</td>\n",
       "      <td>NaN</td>\n",
       "      <td>NaN</td>\n",
       "    </tr>\n",
       "    <tr>\n",
       "      <th>top</th>\n",
       "      <td>NaN</td>\n",
       "      <td>A</td>\n",
       "      <td>female</td>\n",
       "      <td>NaN</td>\n",
       "      <td>NaN</td>\n",
       "      <td>NaN</td>\n",
       "      <td>NaN</td>\n",
       "      <td>NaN</td>\n",
       "      <td>NaN</td>\n",
       "      <td>NaN</td>\n",
       "      <td>NaN</td>\n",
       "    </tr>\n",
       "    <tr>\n",
       "      <th>freq</th>\n",
       "      <td>NaN</td>\n",
       "      <td>76</td>\n",
       "      <td>68</td>\n",
       "      <td>NaN</td>\n",
       "      <td>NaN</td>\n",
       "      <td>NaN</td>\n",
       "      <td>NaN</td>\n",
       "      <td>NaN</td>\n",
       "      <td>NaN</td>\n",
       "      <td>NaN</td>\n",
       "      <td>NaN</td>\n",
       "    </tr>\n",
       "    <tr>\n",
       "      <th>mean</th>\n",
       "      <td>1193.000000</td>\n",
       "      <td>NaN</td>\n",
       "      <td>NaN</td>\n",
       "      <td>82.957048</td>\n",
       "      <td>76.057143</td>\n",
       "      <td>71.961905</td>\n",
       "      <td>78.942857</td>\n",
       "      <td>85.133333</td>\n",
       "      <td>83.876190</td>\n",
       "      <td>80.761905</td>\n",
       "      <td>75.323810</td>\n",
       "    </tr>\n",
       "    <tr>\n",
       "      <th>std</th>\n",
       "      <td>30.454885</td>\n",
       "      <td>NaN</td>\n",
       "      <td>NaN</td>\n",
       "      <td>6.053187</td>\n",
       "      <td>11.722618</td>\n",
       "      <td>12.197039</td>\n",
       "      <td>14.997326</td>\n",
       "      <td>10.269509</td>\n",
       "      <td>10.514363</td>\n",
       "      <td>10.296119</td>\n",
       "      <td>13.003324</td>\n",
       "    </tr>\n",
       "    <tr>\n",
       "      <th>min</th>\n",
       "      <td>1141.000000</td>\n",
       "      <td>NaN</td>\n",
       "      <td>NaN</td>\n",
       "      <td>63.490000</td>\n",
       "      <td>46.000000</td>\n",
       "      <td>38.000000</td>\n",
       "      <td>17.000000</td>\n",
       "      <td>51.000000</td>\n",
       "      <td>29.000000</td>\n",
       "      <td>54.000000</td>\n",
       "      <td>9.000000</td>\n",
       "    </tr>\n",
       "    <tr>\n",
       "      <th>25%</th>\n",
       "      <td>1167.000000</td>\n",
       "      <td>NaN</td>\n",
       "      <td>NaN</td>\n",
       "      <td>79.340000</td>\n",
       "      <td>67.000000</td>\n",
       "      <td>64.000000</td>\n",
       "      <td>71.000000</td>\n",
       "      <td>80.000000</td>\n",
       "      <td>79.000000</td>\n",
       "      <td>74.000000</td>\n",
       "      <td>67.000000</td>\n",
       "    </tr>\n",
       "    <tr>\n",
       "      <th>50%</th>\n",
       "      <td>1193.000000</td>\n",
       "      <td>NaN</td>\n",
       "      <td>NaN</td>\n",
       "      <td>84.110000</td>\n",
       "      <td>76.000000</td>\n",
       "      <td>73.000000</td>\n",
       "      <td>83.000000</td>\n",
       "      <td>87.000000</td>\n",
       "      <td>85.000000</td>\n",
       "      <td>81.000000</td>\n",
       "      <td>76.000000</td>\n",
       "    </tr>\n",
       "    <tr>\n",
       "      <th>75%</th>\n",
       "      <td>1219.000000</td>\n",
       "      <td>NaN</td>\n",
       "      <td>NaN</td>\n",
       "      <td>87.300000</td>\n",
       "      <td>84.000000</td>\n",
       "      <td>80.000000</td>\n",
       "      <td>91.000000</td>\n",
       "      <td>92.000000</td>\n",
       "      <td>92.000000</td>\n",
       "      <td>89.000000</td>\n",
       "      <td>85.000000</td>\n",
       "    </tr>\n",
       "    <tr>\n",
       "      <th>max</th>\n",
       "      <td>1245.000000</td>\n",
       "      <td>NaN</td>\n",
       "      <td>NaN</td>\n",
       "      <td>93.710000</td>\n",
       "      <td>98.000000</td>\n",
       "      <td>100.000000</td>\n",
       "      <td>99.000000</td>\n",
       "      <td>100.000000</td>\n",
       "      <td>97.000000</td>\n",
       "      <td>100.000000</td>\n",
       "      <td>100.000000</td>\n",
       "    </tr>\n",
       "  </tbody>\n",
       "</table>\n",
       "</div>"
      ],
      "text/plain": [
       "                 ID class  gender         GPA     Algebra   Calculus1  \\\n",
       "count    105.000000   105     105  105.000000  105.000000  105.000000   \n",
       "unique          NaN     2       2         NaN         NaN         NaN   \n",
       "top             NaN     A  female         NaN         NaN         NaN   \n",
       "freq            NaN    76      68         NaN         NaN         NaN   \n",
       "mean    1193.000000   NaN     NaN   82.957048   76.057143   71.961905   \n",
       "std       30.454885   NaN     NaN    6.053187   11.722618   12.197039   \n",
       "min     1141.000000   NaN     NaN   63.490000   46.000000   38.000000   \n",
       "25%     1167.000000   NaN     NaN   79.340000   67.000000   64.000000   \n",
       "50%     1193.000000   NaN     NaN   84.110000   76.000000   73.000000   \n",
       "75%     1219.000000   NaN     NaN   87.300000   84.000000   80.000000   \n",
       "max     1245.000000   NaN     NaN   93.710000   98.000000  100.000000   \n",
       "\n",
       "         Calculus2  Statistics  Probability     Measure  Functional_analysis  \n",
       "count   105.000000  105.000000   105.000000  105.000000           105.000000  \n",
       "unique         NaN         NaN          NaN         NaN                  NaN  \n",
       "top            NaN         NaN          NaN         NaN                  NaN  \n",
       "freq           NaN         NaN          NaN         NaN                  NaN  \n",
       "mean     78.942857   85.133333    83.876190   80.761905            75.323810  \n",
       "std      14.997326   10.269509    10.514363   10.296119            13.003324  \n",
       "min      17.000000   51.000000    29.000000   54.000000             9.000000  \n",
       "25%      71.000000   80.000000    79.000000   74.000000            67.000000  \n",
       "50%      83.000000   87.000000    85.000000   81.000000            76.000000  \n",
       "75%      91.000000   92.000000    92.000000   89.000000            85.000000  \n",
       "max      99.000000  100.000000    97.000000  100.000000           100.000000  "
      ]
     },
     "execution_count": 5,
     "metadata": {},
     "output_type": "execute_result"
    }
   ],
   "source": [
    "#Find all Statistic Measures\n",
    "df.describe(include ='all')"
   ]
  },
  {
   "cell_type": "code",
   "execution_count": 9,
   "id": "91c0cc1a",
   "metadata": {},
   "outputs": [
    {
     "data": {
      "text/plain": [
       "76.0"
      ]
     },
     "execution_count": 9,
     "metadata": {},
     "output_type": "execute_result"
    }
   ],
   "source": [
    "df['Algebra'].median()"
   ]
  },
  {
   "cell_type": "markdown",
   "id": "d5a4e4d9",
   "metadata": {},
   "source": [
    "2. Which subject has highest average ?\n"
   ]
  },
  {
   "cell_type": "code",
   "execution_count": 39,
   "id": "5a972b33",
   "metadata": {},
   "outputs": [
    {
     "name": "stdout",
     "output_type": "stream",
     "text": [
      "Algebra                76.057143\n",
      "Calculus1              71.961905\n",
      "Calculus2              78.942857\n",
      "Statistics             85.133333\n",
      "Probability            83.876190\n",
      "Measure                80.761905\n",
      "Functional_analysis    75.323810\n",
      "dtype: float64\n",
      "highest average is : Statistics\n"
     ]
    }
   ],
   "source": [
    "#Which subject has highest average\n",
    "average = df.iloc[:,4:].mean()\n",
    "print(average)\n",
    "print('highest average is :',average.idxmax())"
   ]
  },
  {
   "cell_type": "markdown",
   "id": "3cfd4487",
   "metadata": {},
   "source": [
    "3. What are the Student IDs who got more tham 80% GPA?\n"
   ]
  },
  {
   "cell_type": "code",
   "execution_count": 30,
   "id": "cc24f27f",
   "metadata": {},
   "outputs": [
    {
     "data": {
      "text/plain": [
       "11     1152\n",
       "13     1154\n",
       "14     1155\n",
       "15     1156\n",
       "17     1158\n",
       "       ... \n",
       "100    1241\n",
       "101    1242\n",
       "102    1243\n",
       "103    1244\n",
       "104    1245\n",
       "Name: ID, Length: 76, dtype: int64"
      ]
     },
     "execution_count": 30,
     "metadata": {},
     "output_type": "execute_result"
    }
   ],
   "source": [
    "#What are the Student IDs who got more tham 80% GPA?\n",
    "df[(df['GPA']>80)]['ID']"
   ]
  },
  {
   "cell_type": "markdown",
   "id": "a00e5e01",
   "metadata": {},
   "source": [
    "4. How many female students are there in the class?\n"
   ]
  },
  {
   "cell_type": "code",
   "execution_count": 19,
   "id": "0d29f190",
   "metadata": {},
   "outputs": [
    {
     "data": {
      "text/plain": [
       "gender\n",
       "female    68\n",
       "male      37\n",
       "Name: count, dtype: int64"
      ]
     },
     "execution_count": 19,
     "metadata": {},
     "output_type": "execute_result"
    }
   ],
   "source": [
    " # How many female students are there in the class?\n",
    "df['gender'].value_counts()"
   ]
  },
  {
   "cell_type": "code",
   "execution_count": 21,
   "id": "c9c53441",
   "metadata": {},
   "outputs": [
    {
     "data": {
      "text/plain": [
       "68"
      ]
     },
     "execution_count": 21,
     "metadata": {},
     "output_type": "execute_result"
    }
   ],
   "source": [
    "sum(df['gender'] == 'female')"
   ]
  },
  {
   "cell_type": "markdown",
   "id": "a6529121",
   "metadata": {},
   "source": [
    "5. What is the ratio of male students and female students?\n"
   ]
  },
  {
   "cell_type": "code",
   "execution_count": 43,
   "id": "36537d2e",
   "metadata": {},
   "outputs": [
    {
     "name": "stdout",
     "output_type": "stream",
     "text": [
      "37 : 68\n"
     ]
    }
   ],
   "source": [
    "#What is the ratio of male students and female students?\n",
    "print(f\"{sum((df['gender'] == 'male'))} : {sum((df['gender'] == 'female'))}\")"
   ]
  },
  {
   "cell_type": "markdown",
   "id": "096a6434",
   "metadata": {},
   "source": [
    "6. What are the marks of male students in statistics ?\n"
   ]
  },
  {
   "cell_type": "code",
   "execution_count": 28,
   "id": "c402a04c",
   "metadata": {},
   "outputs": [
    {
     "data": {
      "text/plain": [
       "0       60\n",
       "5       61\n",
       "6       63\n",
       "10      69\n",
       "13      73\n",
       "14      76\n",
       "16      76\n",
       "17      76\n",
       "18      76\n",
       "19      78\n",
       "20      78\n",
       "21      78\n",
       "24      80\n",
       "28      83\n",
       "31      83\n",
       "32      83\n",
       "33      83\n",
       "40      85\n",
       "47      87\n",
       "50      87\n",
       "59      89\n",
       "61      89\n",
       "65      90\n",
       "72      92\n",
       "78      92\n",
       "82      92\n",
       "89      94\n",
       "90      95\n",
       "92      95\n",
       "96      97\n",
       "97      97\n",
       "98      97\n",
       "99      97\n",
       "101     98\n",
       "102     98\n",
       "103     99\n",
       "104    100\n",
       "Name: Statistics, dtype: int64"
      ]
     },
     "execution_count": 28,
     "metadata": {},
     "output_type": "execute_result"
    }
   ],
   "source": [
    "#What are the marks of male students in statistics ?\n",
    "df[df['gender'] == 'male']['Statistics']"
   ]
  },
  {
   "cell_type": "markdown",
   "id": "ae0dda7a",
   "metadata": {},
   "source": [
    "7. What is the ID of the class topper ?\n"
   ]
  },
  {
   "cell_type": "code",
   "execution_count": 59,
   "id": "b1121135",
   "metadata": {},
   "outputs": [
    {
     "data": {
      "text/plain": [
       "93.71"
      ]
     },
     "execution_count": 59,
     "metadata": {},
     "output_type": "execute_result"
    }
   ],
   "source": [
    "#What is the ID of the class topper ?\n",
    "df['GPA'].max()"
   ]
  },
  {
   "cell_type": "code",
   "execution_count": 60,
   "id": "1308de91",
   "metadata": {},
   "outputs": [
    {
     "data": {
      "text/plain": [
       "104    1245\n",
       "Name: ID, dtype: int64"
      ]
     },
     "execution_count": 60,
     "metadata": {},
     "output_type": "execute_result"
    }
   ],
   "source": [
    "df[df['GPA'] == 93.71][\"ID\"]"
   ]
  },
  {
   "cell_type": "code",
   "execution_count": 83,
   "id": "3e46f605",
   "metadata": {},
   "outputs": [
    {
     "data": {
      "text/html": [
       "<div>\n",
       "<style scoped>\n",
       "    .dataframe tbody tr th:only-of-type {\n",
       "        vertical-align: middle;\n",
       "    }\n",
       "\n",
       "    .dataframe tbody tr th {\n",
       "        vertical-align: top;\n",
       "    }\n",
       "\n",
       "    .dataframe thead th {\n",
       "        text-align: right;\n",
       "    }\n",
       "</style>\n",
       "<table border=\"1\" class=\"dataframe\">\n",
       "  <thead>\n",
       "    <tr style=\"text-align: right;\">\n",
       "      <th></th>\n",
       "      <th>ID</th>\n",
       "      <th>class</th>\n",
       "      <th>gender</th>\n",
       "      <th>GPA</th>\n",
       "      <th>Algebra</th>\n",
       "      <th>Calculus1</th>\n",
       "      <th>Calculus2</th>\n",
       "      <th>Statistics</th>\n",
       "      <th>Probability</th>\n",
       "      <th>Measure</th>\n",
       "      <th>Functional_analysis</th>\n",
       "    </tr>\n",
       "  </thead>\n",
       "  <tbody>\n",
       "    <tr>\n",
       "      <th>0</th>\n",
       "      <td>1141</td>\n",
       "      <td>A</td>\n",
       "      <td>male</td>\n",
       "      <td>73.47</td>\n",
       "      <td>64</td>\n",
       "      <td>81</td>\n",
       "      <td>87</td>\n",
       "      <td>60</td>\n",
       "      <td>74</td>\n",
       "      <td>71</td>\n",
       "      <td>60</td>\n",
       "    </tr>\n",
       "    <tr>\n",
       "      <th>1</th>\n",
       "      <td>1142</td>\n",
       "      <td>A</td>\n",
       "      <td>female</td>\n",
       "      <td>71.22</td>\n",
       "      <td>57</td>\n",
       "      <td>50</td>\n",
       "      <td>51</td>\n",
       "      <td>51</td>\n",
       "      <td>55</td>\n",
       "      <td>62</td>\n",
       "      <td>61</td>\n",
       "    </tr>\n",
       "    <tr>\n",
       "      <th>2</th>\n",
       "      <td>1143</td>\n",
       "      <td>A</td>\n",
       "      <td>female</td>\n",
       "      <td>74.56</td>\n",
       "      <td>47</td>\n",
       "      <td>48</td>\n",
       "      <td>71</td>\n",
       "      <td>60</td>\n",
       "      <td>61</td>\n",
       "      <td>68</td>\n",
       "      <td>64</td>\n",
       "    </tr>\n",
       "    <tr>\n",
       "      <th>3</th>\n",
       "      <td>1144</td>\n",
       "      <td>A</td>\n",
       "      <td>female</td>\n",
       "      <td>72.89</td>\n",
       "      <td>46</td>\n",
       "      <td>72</td>\n",
       "      <td>38</td>\n",
       "      <td>60</td>\n",
       "      <td>29</td>\n",
       "      <td>54</td>\n",
       "      <td>51</td>\n",
       "    </tr>\n",
       "    <tr>\n",
       "      <th>4</th>\n",
       "      <td>1145</td>\n",
       "      <td>A</td>\n",
       "      <td>female</td>\n",
       "      <td>70.11</td>\n",
       "      <td>49</td>\n",
       "      <td>45</td>\n",
       "      <td>63</td>\n",
       "      <td>60</td>\n",
       "      <td>66</td>\n",
       "      <td>66</td>\n",
       "      <td>61</td>\n",
       "    </tr>\n",
       "    <tr>\n",
       "      <th>...</th>\n",
       "      <td>...</td>\n",
       "      <td>...</td>\n",
       "      <td>...</td>\n",
       "      <td>...</td>\n",
       "      <td>...</td>\n",
       "      <td>...</td>\n",
       "      <td>...</td>\n",
       "      <td>...</td>\n",
       "      <td>...</td>\n",
       "      <td>...</td>\n",
       "      <td>...</td>\n",
       "    </tr>\n",
       "    <tr>\n",
       "      <th>83</th>\n",
       "      <td>1224</td>\n",
       "      <td>A</td>\n",
       "      <td>female</td>\n",
       "      <td>85.00</td>\n",
       "      <td>76</td>\n",
       "      <td>75</td>\n",
       "      <td>83</td>\n",
       "      <td>93</td>\n",
       "      <td>85</td>\n",
       "      <td>75</td>\n",
       "      <td>89</td>\n",
       "    </tr>\n",
       "    <tr>\n",
       "      <th>84</th>\n",
       "      <td>1225</td>\n",
       "      <td>A</td>\n",
       "      <td>female</td>\n",
       "      <td>90.62</td>\n",
       "      <td>94</td>\n",
       "      <td>81</td>\n",
       "      <td>90</td>\n",
       "      <td>93</td>\n",
       "      <td>91</td>\n",
       "      <td>86</td>\n",
       "      <td>94</td>\n",
       "    </tr>\n",
       "    <tr>\n",
       "      <th>85</th>\n",
       "      <td>1226</td>\n",
       "      <td>B</td>\n",
       "      <td>female</td>\n",
       "      <td>87.12</td>\n",
       "      <td>92</td>\n",
       "      <td>73</td>\n",
       "      <td>87</td>\n",
       "      <td>94</td>\n",
       "      <td>94</td>\n",
       "      <td>96</td>\n",
       "      <td>89</td>\n",
       "    </tr>\n",
       "    <tr>\n",
       "      <th>86</th>\n",
       "      <td>1227</td>\n",
       "      <td>A</td>\n",
       "      <td>female</td>\n",
       "      <td>84.63</td>\n",
       "      <td>83</td>\n",
       "      <td>87</td>\n",
       "      <td>88</td>\n",
       "      <td>94</td>\n",
       "      <td>79</td>\n",
       "      <td>87</td>\n",
       "      <td>76</td>\n",
       "    </tr>\n",
       "    <tr>\n",
       "      <th>87</th>\n",
       "      <td>1228</td>\n",
       "      <td>A</td>\n",
       "      <td>female</td>\n",
       "      <td>88.62</td>\n",
       "      <td>95</td>\n",
       "      <td>65</td>\n",
       "      <td>97</td>\n",
       "      <td>94</td>\n",
       "      <td>97</td>\n",
       "      <td>85</td>\n",
       "      <td>85</td>\n",
       "    </tr>\n",
       "  </tbody>\n",
       "</table>\n",
       "<p>88 rows × 11 columns</p>\n",
       "</div>"
      ],
      "text/plain": [
       "      ID class  gender    GPA  Algebra  Calculus1  Calculus2  Statistics  \\\n",
       "0   1141     A    male  73.47       64         81         87          60   \n",
       "1   1142     A  female  71.22       57         50         51          51   \n",
       "2   1143     A  female  74.56       47         48         71          60   \n",
       "3   1144     A  female  72.89       46         72         38          60   \n",
       "4   1145     A  female  70.11       49         45         63          60   \n",
       "..   ...   ...     ...    ...      ...        ...        ...         ...   \n",
       "83  1224     A  female  85.00       76         75         83          93   \n",
       "84  1225     A  female  90.62       94         81         90          93   \n",
       "85  1226     B  female  87.12       92         73         87          94   \n",
       "86  1227     A  female  84.63       83         87         88          94   \n",
       "87  1228     A  female  88.62       95         65         97          94   \n",
       "\n",
       "    Probability  Measure  Functional_analysis  \n",
       "0            74       71                   60  \n",
       "1            55       62                   61  \n",
       "2            61       68                   64  \n",
       "3            29       54                   51  \n",
       "4            66       66                   61  \n",
       "..          ...      ...                  ...  \n",
       "83           85       75                   89  \n",
       "84           91       86                   94  \n",
       "85           94       96                   89  \n",
       "86           79       87                   76  \n",
       "87           97       85                   85  \n",
       "\n",
       "[88 rows x 11 columns]"
      ]
     },
     "execution_count": 83,
     "metadata": {},
     "output_type": "execute_result"
    }
   ],
   "source": [
    "df.head(88)"
   ]
  },
  {
   "cell_type": "markdown",
   "id": "75fbd7db",
   "metadata": {},
   "source": [
    "8. What is the gender of probabilty topper?\n"
   ]
  },
  {
   "cell_type": "code",
   "execution_count": 86,
   "id": "85d4fba8",
   "metadata": {},
   "outputs": [
    {
     "data": {
      "text/plain": [
       "97"
      ]
     },
     "execution_count": 86,
     "metadata": {},
     "output_type": "execute_result"
    }
   ],
   "source": [
    "#What is the gender of probabilty topper\n",
    "df['Probability'].max()"
   ]
  },
  {
   "cell_type": "code",
   "execution_count": 87,
   "id": "6302f38b",
   "metadata": {},
   "outputs": [
    {
     "data": {
      "text/plain": [
       "41     female\n",
       "72       male\n",
       "87     female\n",
       "104      male\n",
       "Name: gender, dtype: object"
      ]
     },
     "execution_count": 87,
     "metadata": {},
     "output_type": "execute_result"
    }
   ],
   "source": [
    "df[(df[\"Probability\"]==97)]['gender']"
   ]
  },
  {
   "cell_type": "markdown",
   "id": "d6fb7671",
   "metadata": {},
   "source": [
    "9. Create Pivot Table for gender and class?\n"
   ]
  },
  {
   "cell_type": "code",
   "execution_count": 114,
   "id": "84295964",
   "metadata": {},
   "outputs": [
    {
     "data": {
      "text/html": [
       "<div>\n",
       "<style scoped>\n",
       "    .dataframe tbody tr th:only-of-type {\n",
       "        vertical-align: middle;\n",
       "    }\n",
       "\n",
       "    .dataframe tbody tr th {\n",
       "        vertical-align: top;\n",
       "    }\n",
       "\n",
       "    .dataframe thead th {\n",
       "        text-align: right;\n",
       "    }\n",
       "</style>\n",
       "<table border=\"1\" class=\"dataframe\">\n",
       "  <thead>\n",
       "    <tr style=\"text-align: right;\">\n",
       "      <th>class</th>\n",
       "      <th>A</th>\n",
       "      <th>B</th>\n",
       "    </tr>\n",
       "    <tr>\n",
       "      <th>gender</th>\n",
       "      <th></th>\n",
       "      <th></th>\n",
       "    </tr>\n",
       "  </thead>\n",
       "  <tbody>\n",
       "    <tr>\n",
       "      <th>female</th>\n",
       "      <td>48</td>\n",
       "      <td>20</td>\n",
       "    </tr>\n",
       "    <tr>\n",
       "      <th>male</th>\n",
       "      <td>28</td>\n",
       "      <td>9</td>\n",
       "    </tr>\n",
       "  </tbody>\n",
       "</table>\n",
       "</div>"
      ],
      "text/plain": [
       "class    A   B\n",
       "gender        \n",
       "female  48  20\n",
       "male    28   9"
      ]
     },
     "execution_count": 114,
     "metadata": {},
     "output_type": "execute_result"
    }
   ],
   "source": [
    "#Create Pivot Table for gender and class?\n",
    "pd.crosstab(df[\"gender\"],df[\"class\"])"
   ]
  },
  {
   "cell_type": "markdown",
   "id": "183fbf26",
   "metadata": {},
   "source": [
    "10. Which subject got least average marks.?\n"
   ]
  },
  {
   "cell_type": "code",
   "execution_count": 92,
   "id": "643adbc5",
   "metadata": {},
   "outputs": [
    {
     "name": "stdout",
     "output_type": "stream",
     "text": [
      "Algebra                76.057143\n",
      "Calculus1              71.961905\n",
      "Calculus2              78.942857\n",
      "Statistics             85.133333\n",
      "Probability            83.876190\n",
      "Measure                80.761905\n",
      "Functional_analysis    75.323810\n",
      "dtype: float64\n",
      "least average marks are : Calculus1 71.96190476190476\n"
     ]
    }
   ],
   "source": [
    "#Which subject got least average marks.\n",
    "avg = df.iloc[:,4:].mean()\n",
    "print(avg)\n",
    "print(\"least average marks are :\",avg.idxmin(),avg.min())"
   ]
  },
  {
   "cell_type": "markdown",
   "id": "70d92681",
   "metadata": {},
   "source": [
    "11. How many male and female students are there ?\n"
   ]
  },
  {
   "cell_type": "code",
   "execution_count": 93,
   "id": "42b62eda",
   "metadata": {},
   "outputs": [
    {
     "data": {
      "text/plain": [
       "gender\n",
       "female    68\n",
       "male      37\n",
       "Name: count, dtype: int64"
      ]
     },
     "execution_count": 93,
     "metadata": {},
     "output_type": "execute_result"
    }
   ],
   "source": [
    "#How many male and female students are there ?\n",
    "df['gender'].value_counts()"
   ]
  },
  {
   "cell_type": "markdown",
   "id": "b8466441",
   "metadata": {},
   "source": [
    "12. How many female student are there from class A?\n"
   ]
  },
  {
   "cell_type": "code",
   "execution_count": 99,
   "id": "43711902",
   "metadata": {},
   "outputs": [
    {
     "data": {
      "text/plain": [
       "48"
      ]
     },
     "execution_count": 99,
     "metadata": {},
     "output_type": "execute_result"
    }
   ],
   "source": [
    "#How many female student are there from class A?\n",
    "sum(df[df['class']=='A']['gender']=='female')"
   ]
  },
  {
   "cell_type": "markdown",
   "id": "fe0cc513",
   "metadata": {},
   "source": [
    "13. Which class has more strength ?\n"
   ]
  },
  {
   "cell_type": "code",
   "execution_count": 100,
   "id": "cd138a0d",
   "metadata": {},
   "outputs": [
    {
     "data": {
      "text/plain": [
       "class\n",
       "A    76\n",
       "B    29\n",
       "Name: count, dtype: int64"
      ]
     },
     "execution_count": 100,
     "metadata": {},
     "output_type": "execute_result"
    }
   ],
   "source": [
    "# Which class has more strength ?\n",
    "df['class'].value_counts() #class A has more strength"
   ]
  },
  {
   "cell_type": "markdown",
   "id": "9fdf44b4",
   "metadata": {},
   "source": [
    "14. Sort the data as per algebra ?\n"
   ]
  },
  {
   "cell_type": "code",
   "execution_count": 110,
   "id": "0adddc5c",
   "metadata": {},
   "outputs": [
    {
     "data": {
      "text/plain": [
       "3      46\n",
       "2      47\n",
       "4      49\n",
       "1      57\n",
       "9      60\n",
       "       ..\n",
       "65     95\n",
       "75     95\n",
       "87     95\n",
       "97     98\n",
       "101    98\n",
       "Name: Algebra, Length: 105, dtype: int64"
      ]
     },
     "execution_count": 110,
     "metadata": {},
     "output_type": "execute_result"
    }
   ],
   "source": [
    "#Sort the data as per algebra ?\n",
    "df['Algebra'].sort_values()"
   ]
  },
  {
   "cell_type": "code",
   "execution_count": 112,
   "id": "a6aa0e2d",
   "metadata": {},
   "outputs": [
    {
     "data": {
      "text/html": [
       "<div>\n",
       "<style scoped>\n",
       "    .dataframe tbody tr th:only-of-type {\n",
       "        vertical-align: middle;\n",
       "    }\n",
       "\n",
       "    .dataframe tbody tr th {\n",
       "        vertical-align: top;\n",
       "    }\n",
       "\n",
       "    .dataframe thead th {\n",
       "        text-align: right;\n",
       "    }\n",
       "</style>\n",
       "<table border=\"1\" class=\"dataframe\">\n",
       "  <thead>\n",
       "    <tr style=\"text-align: right;\">\n",
       "      <th></th>\n",
       "      <th>ID</th>\n",
       "      <th>class</th>\n",
       "      <th>gender</th>\n",
       "      <th>GPA</th>\n",
       "      <th>Algebra</th>\n",
       "      <th>Calculus1</th>\n",
       "      <th>Calculus2</th>\n",
       "      <th>Statistics</th>\n",
       "      <th>Probability</th>\n",
       "      <th>Measure</th>\n",
       "      <th>Functional_analysis</th>\n",
       "    </tr>\n",
       "  </thead>\n",
       "  <tbody>\n",
       "    <tr>\n",
       "      <th>3</th>\n",
       "      <td>1144</td>\n",
       "      <td>A</td>\n",
       "      <td>female</td>\n",
       "      <td>72.89</td>\n",
       "      <td>46</td>\n",
       "      <td>72</td>\n",
       "      <td>38</td>\n",
       "      <td>60</td>\n",
       "      <td>29</td>\n",
       "      <td>54</td>\n",
       "      <td>51</td>\n",
       "    </tr>\n",
       "    <tr>\n",
       "      <th>2</th>\n",
       "      <td>1143</td>\n",
       "      <td>A</td>\n",
       "      <td>female</td>\n",
       "      <td>74.56</td>\n",
       "      <td>47</td>\n",
       "      <td>48</td>\n",
       "      <td>71</td>\n",
       "      <td>60</td>\n",
       "      <td>61</td>\n",
       "      <td>68</td>\n",
       "      <td>64</td>\n",
       "    </tr>\n",
       "    <tr>\n",
       "      <th>4</th>\n",
       "      <td>1145</td>\n",
       "      <td>A</td>\n",
       "      <td>female</td>\n",
       "      <td>70.11</td>\n",
       "      <td>49</td>\n",
       "      <td>45</td>\n",
       "      <td>63</td>\n",
       "      <td>60</td>\n",
       "      <td>66</td>\n",
       "      <td>66</td>\n",
       "      <td>61</td>\n",
       "    </tr>\n",
       "    <tr>\n",
       "      <th>1</th>\n",
       "      <td>1142</td>\n",
       "      <td>A</td>\n",
       "      <td>female</td>\n",
       "      <td>71.22</td>\n",
       "      <td>57</td>\n",
       "      <td>50</td>\n",
       "      <td>51</td>\n",
       "      <td>51</td>\n",
       "      <td>55</td>\n",
       "      <td>62</td>\n",
       "      <td>61</td>\n",
       "    </tr>\n",
       "    <tr>\n",
       "      <th>9</th>\n",
       "      <td>1150</td>\n",
       "      <td>A</td>\n",
       "      <td>female</td>\n",
       "      <td>76.50</td>\n",
       "      <td>60</td>\n",
       "      <td>61</td>\n",
       "      <td>60</td>\n",
       "      <td>69</td>\n",
       "      <td>73</td>\n",
       "      <td>60</td>\n",
       "      <td>62</td>\n",
       "    </tr>\n",
       "    <tr>\n",
       "      <th>...</th>\n",
       "      <td>...</td>\n",
       "      <td>...</td>\n",
       "      <td>...</td>\n",
       "      <td>...</td>\n",
       "      <td>...</td>\n",
       "      <td>...</td>\n",
       "      <td>...</td>\n",
       "      <td>...</td>\n",
       "      <td>...</td>\n",
       "      <td>...</td>\n",
       "      <td>...</td>\n",
       "    </tr>\n",
       "    <tr>\n",
       "      <th>65</th>\n",
       "      <td>1206</td>\n",
       "      <td>A</td>\n",
       "      <td>male</td>\n",
       "      <td>86.37</td>\n",
       "      <td>95</td>\n",
       "      <td>76</td>\n",
       "      <td>87</td>\n",
       "      <td>90</td>\n",
       "      <td>86</td>\n",
       "      <td>94</td>\n",
       "      <td>84</td>\n",
       "    </tr>\n",
       "    <tr>\n",
       "      <th>75</th>\n",
       "      <td>1216</td>\n",
       "      <td>A</td>\n",
       "      <td>female</td>\n",
       "      <td>91.90</td>\n",
       "      <td>95</td>\n",
       "      <td>86</td>\n",
       "      <td>96</td>\n",
       "      <td>92</td>\n",
       "      <td>95</td>\n",
       "      <td>90</td>\n",
       "      <td>95</td>\n",
       "    </tr>\n",
       "    <tr>\n",
       "      <th>87</th>\n",
       "      <td>1228</td>\n",
       "      <td>A</td>\n",
       "      <td>female</td>\n",
       "      <td>88.62</td>\n",
       "      <td>95</td>\n",
       "      <td>65</td>\n",
       "      <td>97</td>\n",
       "      <td>94</td>\n",
       "      <td>97</td>\n",
       "      <td>85</td>\n",
       "      <td>85</td>\n",
       "    </tr>\n",
       "    <tr>\n",
       "      <th>97</th>\n",
       "      <td>1238</td>\n",
       "      <td>A</td>\n",
       "      <td>male</td>\n",
       "      <td>91.14</td>\n",
       "      <td>98</td>\n",
       "      <td>90</td>\n",
       "      <td>98</td>\n",
       "      <td>97</td>\n",
       "      <td>83</td>\n",
       "      <td>93</td>\n",
       "      <td>89</td>\n",
       "    </tr>\n",
       "    <tr>\n",
       "      <th>101</th>\n",
       "      <td>1242</td>\n",
       "      <td>B</td>\n",
       "      <td>male</td>\n",
       "      <td>89.84</td>\n",
       "      <td>98</td>\n",
       "      <td>77</td>\n",
       "      <td>95</td>\n",
       "      <td>98</td>\n",
       "      <td>96</td>\n",
       "      <td>88</td>\n",
       "      <td>100</td>\n",
       "    </tr>\n",
       "  </tbody>\n",
       "</table>\n",
       "<p>105 rows × 11 columns</p>\n",
       "</div>"
      ],
      "text/plain": [
       "       ID class  gender    GPA  Algebra  Calculus1  Calculus2  Statistics  \\\n",
       "3    1144     A  female  72.89       46         72         38          60   \n",
       "2    1143     A  female  74.56       47         48         71          60   \n",
       "4    1145     A  female  70.11       49         45         63          60   \n",
       "1    1142     A  female  71.22       57         50         51          51   \n",
       "9    1150     A  female  76.50       60         61         60          69   \n",
       "..    ...   ...     ...    ...      ...        ...        ...         ...   \n",
       "65   1206     A    male  86.37       95         76         87          90   \n",
       "75   1216     A  female  91.90       95         86         96          92   \n",
       "87   1228     A  female  88.62       95         65         97          94   \n",
       "97   1238     A    male  91.14       98         90         98          97   \n",
       "101  1242     B    male  89.84       98         77         95          98   \n",
       "\n",
       "     Probability  Measure  Functional_analysis  \n",
       "3             29       54                   51  \n",
       "2             61       68                   64  \n",
       "4             66       66                   61  \n",
       "1             55       62                   61  \n",
       "9             73       60                   62  \n",
       "..           ...      ...                  ...  \n",
       "65            86       94                   84  \n",
       "75            95       90                   95  \n",
       "87            97       85                   85  \n",
       "97            83       93                   89  \n",
       "101           96       88                  100  \n",
       "\n",
       "[105 rows x 11 columns]"
      ]
     },
     "execution_count": 112,
     "metadata": {},
     "output_type": "execute_result"
    }
   ],
   "source": [
    "df.sort_values('Algebra')"
   ]
  },
  {
   "cell_type": "markdown",
   "id": "9afada7b",
   "metadata": {},
   "source": [
    "15. How many students got exactly 64 marks from functional analysis?"
   ]
  },
  {
   "cell_type": "code",
   "execution_count": 108,
   "id": "84bf5e3b",
   "metadata": {},
   "outputs": [
    {
     "data": {
      "text/plain": [
       "8"
      ]
     },
     "execution_count": 108,
     "metadata": {},
     "output_type": "execute_result"
    }
   ],
   "source": [
    "#How many students got exactly 64 marks from functional analysis?\n",
    "sum(df['Functional_analysis']==64)"
   ]
  },
  {
   "cell_type": "code",
   "execution_count": 109,
   "id": "cc222124",
   "metadata": {},
   "outputs": [
    {
     "data": {
      "text/plain": [
       "0    64\n",
       "Name: Functional_analysis, dtype: int64"
      ]
     },
     "execution_count": 109,
     "metadata": {},
     "output_type": "execute_result"
    }
   ],
   "source": [
    "df['Functional_analysis'].mode()"
   ]
  },
  {
   "cell_type": "code",
   "execution_count": null,
   "id": "0eece8c3",
   "metadata": {},
   "outputs": [],
   "source": []
  }
 ],
 "metadata": {
  "kernelspec": {
   "display_name": "Python 3 (ipykernel)",
   "language": "python",
   "name": "python3"
  },
  "language_info": {
   "codemirror_mode": {
    "name": "ipython",
    "version": 3
   },
   "file_extension": ".py",
   "mimetype": "text/x-python",
   "name": "python",
   "nbconvert_exporter": "python",
   "pygments_lexer": "ipython3",
   "version": "3.11.4"
  }
 },
 "nbformat": 4,
 "nbformat_minor": 5
}
