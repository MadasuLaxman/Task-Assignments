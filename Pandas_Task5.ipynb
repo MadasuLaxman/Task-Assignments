{
 "cells": [
  {
   "cell_type": "code",
   "execution_count": 2,
   "id": "33b47339",
   "metadata": {},
   "outputs": [],
   "source": [
    "import pandas as pd\n",
    "import numpy as np"
   ]
  },
  {
   "cell_type": "code",
   "execution_count": 24,
   "id": "07a29796",
   "metadata": {},
   "outputs": [
    {
     "data": {
      "text/html": [
       "<div>\n",
       "<style scoped>\n",
       "    .dataframe tbody tr th:only-of-type {\n",
       "        vertical-align: middle;\n",
       "    }\n",
       "\n",
       "    .dataframe tbody tr th {\n",
       "        vertical-align: top;\n",
       "    }\n",
       "\n",
       "    .dataframe thead th {\n",
       "        text-align: right;\n",
       "    }\n",
       "</style>\n",
       "<table border=\"1\" class=\"dataframe\">\n",
       "  <thead>\n",
       "    <tr style=\"text-align: right;\">\n",
       "      <th></th>\n",
       "      <th>ID</th>\n",
       "      <th>class</th>\n",
       "      <th>gender</th>\n",
       "      <th>GPA</th>\n",
       "      <th>Algebra</th>\n",
       "      <th>Calculus1</th>\n",
       "      <th>Calculus2</th>\n",
       "      <th>Statistics</th>\n",
       "      <th>Probability</th>\n",
       "      <th>Measure</th>\n",
       "      <th>Functional_analysis</th>\n",
       "    </tr>\n",
       "  </thead>\n",
       "  <tbody>\n",
       "    <tr>\n",
       "      <th>0</th>\n",
       "      <td>1141</td>\n",
       "      <td>A</td>\n",
       "      <td>male</td>\n",
       "      <td>73.47</td>\n",
       "      <td>64.0</td>\n",
       "      <td>81</td>\n",
       "      <td>87.0</td>\n",
       "      <td>60</td>\n",
       "      <td>74.0</td>\n",
       "      <td>71.0</td>\n",
       "      <td>60.0</td>\n",
       "    </tr>\n",
       "    <tr>\n",
       "      <th>1</th>\n",
       "      <td>1142</td>\n",
       "      <td>A</td>\n",
       "      <td>female</td>\n",
       "      <td>71.22</td>\n",
       "      <td>57.0</td>\n",
       "      <td>50</td>\n",
       "      <td>51.0</td>\n",
       "      <td>51</td>\n",
       "      <td>55.0</td>\n",
       "      <td>62.0</td>\n",
       "      <td>61.0</td>\n",
       "    </tr>\n",
       "    <tr>\n",
       "      <th>2</th>\n",
       "      <td>1143</td>\n",
       "      <td>A</td>\n",
       "      <td>female</td>\n",
       "      <td>74.56</td>\n",
       "      <td>47.0</td>\n",
       "      <td>48</td>\n",
       "      <td>71.0</td>\n",
       "      <td>60</td>\n",
       "      <td>161.0</td>\n",
       "      <td>68.0</td>\n",
       "      <td>64.0</td>\n",
       "    </tr>\n",
       "    <tr>\n",
       "      <th>3</th>\n",
       "      <td>1144</td>\n",
       "      <td>A</td>\n",
       "      <td>female</td>\n",
       "      <td>72.89</td>\n",
       "      <td>46.0</td>\n",
       "      <td>72</td>\n",
       "      <td>38.0</td>\n",
       "      <td>60</td>\n",
       "      <td>29.0</td>\n",
       "      <td>54.0</td>\n",
       "      <td>51.0</td>\n",
       "    </tr>\n",
       "    <tr>\n",
       "      <th>4</th>\n",
       "      <td>1145</td>\n",
       "      <td>A</td>\n",
       "      <td>female</td>\n",
       "      <td>70.11</td>\n",
       "      <td>49.0</td>\n",
       "      <td>45</td>\n",
       "      <td>63.0</td>\n",
       "      <td>60</td>\n",
       "      <td>66.0</td>\n",
       "      <td>66.0</td>\n",
       "      <td>61.0</td>\n",
       "    </tr>\n",
       "    <tr>\n",
       "      <th>...</th>\n",
       "      <td>...</td>\n",
       "      <td>...</td>\n",
       "      <td>...</td>\n",
       "      <td>...</td>\n",
       "      <td>...</td>\n",
       "      <td>...</td>\n",
       "      <td>...</td>\n",
       "      <td>...</td>\n",
       "      <td>...</td>\n",
       "      <td>...</td>\n",
       "      <td>...</td>\n",
       "    </tr>\n",
       "    <tr>\n",
       "      <th>100</th>\n",
       "      <td>1241</td>\n",
       "      <td>A</td>\n",
       "      <td>female</td>\n",
       "      <td>88.34</td>\n",
       "      <td>87.0</td>\n",
       "      <td>83</td>\n",
       "      <td>92.0</td>\n",
       "      <td>98</td>\n",
       "      <td>93.0</td>\n",
       "      <td>86.0</td>\n",
       "      <td>90.0</td>\n",
       "    </tr>\n",
       "    <tr>\n",
       "      <th>101</th>\n",
       "      <td>1242</td>\n",
       "      <td>B</td>\n",
       "      <td>male</td>\n",
       "      <td>89.84</td>\n",
       "      <td>98.0</td>\n",
       "      <td>77</td>\n",
       "      <td>95.0</td>\n",
       "      <td>98</td>\n",
       "      <td>96.0</td>\n",
       "      <td>88.0</td>\n",
       "      <td>100.0</td>\n",
       "    </tr>\n",
       "    <tr>\n",
       "      <th>102</th>\n",
       "      <td>1243</td>\n",
       "      <td>B</td>\n",
       "      <td>male</td>\n",
       "      <td>88.82</td>\n",
       "      <td>83.0</td>\n",
       "      <td>80</td>\n",
       "      <td>91.0</td>\n",
       "      <td>98</td>\n",
       "      <td>93.0</td>\n",
       "      <td>95.0</td>\n",
       "      <td>71.0</td>\n",
       "    </tr>\n",
       "    <tr>\n",
       "      <th>103</th>\n",
       "      <td>1244</td>\n",
       "      <td>A</td>\n",
       "      <td>male</td>\n",
       "      <td>86.60</td>\n",
       "      <td>92.0</td>\n",
       "      <td>82</td>\n",
       "      <td>91.0</td>\n",
       "      <td>99</td>\n",
       "      <td>94.0</td>\n",
       "      <td>82.0</td>\n",
       "      <td>78.0</td>\n",
       "    </tr>\n",
       "    <tr>\n",
       "      <th>104</th>\n",
       "      <td>1245</td>\n",
       "      <td>A</td>\n",
       "      <td>male</td>\n",
       "      <td>93.71</td>\n",
       "      <td>93.0</td>\n",
       "      <td>97</td>\n",
       "      <td>99.0</td>\n",
       "      <td>-56</td>\n",
       "      <td>197.0</td>\n",
       "      <td>90.0</td>\n",
       "      <td>90.0</td>\n",
       "    </tr>\n",
       "  </tbody>\n",
       "</table>\n",
       "<p>105 rows × 11 columns</p>\n",
       "</div>"
      ],
      "text/plain": [
       "       ID class  gender    GPA  Algebra  Calculus1  Calculus2  Statistics  \\\n",
       "0    1141     A    male  73.47     64.0         81       87.0          60   \n",
       "1    1142     A  female  71.22     57.0         50       51.0          51   \n",
       "2    1143     A  female  74.56     47.0         48       71.0          60   \n",
       "3    1144     A  female  72.89     46.0         72       38.0          60   \n",
       "4    1145     A  female  70.11     49.0         45       63.0          60   \n",
       "..    ...   ...     ...    ...      ...        ...        ...         ...   \n",
       "100  1241     A  female  88.34     87.0         83       92.0          98   \n",
       "101  1242     B    male  89.84     98.0         77       95.0          98   \n",
       "102  1243     B    male  88.82     83.0         80       91.0          98   \n",
       "103  1244     A    male  86.60     92.0         82       91.0          99   \n",
       "104  1245     A    male  93.71     93.0         97       99.0         -56   \n",
       "\n",
       "     Probability  Measure  Functional_analysis  \n",
       "0           74.0     71.0                 60.0  \n",
       "1           55.0     62.0                 61.0  \n",
       "2          161.0     68.0                 64.0  \n",
       "3           29.0     54.0                 51.0  \n",
       "4           66.0     66.0                 61.0  \n",
       "..           ...      ...                  ...  \n",
       "100         93.0     86.0                 90.0  \n",
       "101         96.0     88.0                100.0  \n",
       "102         93.0     95.0                 71.0  \n",
       "103         94.0     82.0                 78.0  \n",
       "104        197.0     90.0                 90.0  \n",
       "\n",
       "[105 rows x 11 columns]"
      ]
     },
     "execution_count": 24,
     "metadata": {},
     "output_type": "execute_result"
    }
   ],
   "source": [
    "df = pd.read_csv(r\"C:\\Users\\madas\\Downloads\\student_data.csv\")\n",
    "df"
   ]
  },
  {
   "cell_type": "markdown",
   "id": "78fc4e7c",
   "metadata": {},
   "source": [
    "## Clean the data for above dataset."
   ]
  },
  {
   "cell_type": "markdown",
   "id": "4965dbcc",
   "metadata": {},
   "source": [
    "### Missing Data "
   ]
  },
  {
   "cell_type": "code",
   "execution_count": 25,
   "id": "1271a759",
   "metadata": {},
   "outputs": [
    {
     "data": {
      "text/plain": [
       "ID                     0\n",
       "class                  3\n",
       "gender                 4\n",
       "GPA                    2\n",
       "Algebra                3\n",
       "Calculus1              0\n",
       "Calculus2              7\n",
       "Statistics             0\n",
       "Probability            4\n",
       "Measure                7\n",
       "Functional_analysis    5\n",
       "dtype: int64"
      ]
     },
     "execution_count": 25,
     "metadata": {},
     "output_type": "execute_result"
    }
   ],
   "source": [
    "df.isna().sum()"
   ]
  },
  {
   "cell_type": "markdown",
   "id": "19623bbf",
   "metadata": {},
   "source": [
    "### filling methods"
   ]
  },
  {
   "cell_type": "code",
   "execution_count": 30,
   "id": "338d259c",
   "metadata": {},
   "outputs": [],
   "source": [
    "import warnings\n",
    "warnings.filterwarnings('ignore')"
   ]
  },
  {
   "cell_type": "code",
   "execution_count": 31,
   "id": "e34c7244",
   "metadata": {},
   "outputs": [],
   "source": [
    "df['class'].fillna(method = 'ffill',inplace = True)"
   ]
  },
  {
   "cell_type": "code",
   "execution_count": 33,
   "id": "96e87d5a",
   "metadata": {},
   "outputs": [],
   "source": [
    "df['gender'].fillna(method = 'ffill',inplace = True)"
   ]
  },
  {
   "cell_type": "code",
   "execution_count": 35,
   "id": "d766338d",
   "metadata": {},
   "outputs": [],
   "source": [
    "df['GPA'].fillna(method = 'bfill',inplace = True)"
   ]
  },
  {
   "cell_type": "code",
   "execution_count": 36,
   "id": "0991974d",
   "metadata": {},
   "outputs": [],
   "source": [
    "df['Algebra'].fillna(method = 'bfill',inplace = True)"
   ]
  },
  {
   "cell_type": "code",
   "execution_count": 37,
   "id": "b4ef924b",
   "metadata": {},
   "outputs": [],
   "source": [
    "df['Calculus2'].fillna(method = 'bfill',inplace = True)"
   ]
  },
  {
   "cell_type": "code",
   "execution_count": 38,
   "id": "6057b1fe",
   "metadata": {},
   "outputs": [],
   "source": [
    "df['Probability'].fillna(method = 'ffill',inplace = True)"
   ]
  },
  {
   "cell_type": "code",
   "execution_count": 39,
   "id": "aebcd24c",
   "metadata": {},
   "outputs": [],
   "source": [
    "df['Measure'].fillna(method = 'ffill',inplace = True)"
   ]
  },
  {
   "cell_type": "code",
   "execution_count": 40,
   "id": "4cd2f8a3",
   "metadata": {},
   "outputs": [],
   "source": [
    "df['Functional_analysis'].fillna(method = 'ffill',inplace = True)"
   ]
  },
  {
   "cell_type": "code",
   "execution_count": 41,
   "id": "b0b87b87",
   "metadata": {},
   "outputs": [
    {
     "data": {
      "text/plain": [
       "ID                     0\n",
       "class                  0\n",
       "gender                 0\n",
       "GPA                    0\n",
       "Algebra                0\n",
       "Calculus1              0\n",
       "Calculus2              0\n",
       "Statistics             0\n",
       "Probability            0\n",
       "Measure                0\n",
       "Functional_analysis    0\n",
       "dtype: int64"
      ]
     },
     "execution_count": 41,
     "metadata": {},
     "output_type": "execute_result"
    }
   ],
   "source": [
    "df.isna().sum()"
   ]
  },
  {
   "cell_type": "markdown",
   "id": "0c45233c",
   "metadata": {},
   "source": [
    "### Duplicates"
   ]
  },
  {
   "cell_type": "code",
   "execution_count": 43,
   "id": "6cf7f1a1",
   "metadata": {},
   "outputs": [
    {
     "data": {
      "text/plain": [
       "0"
      ]
     },
     "execution_count": 43,
     "metadata": {},
     "output_type": "execute_result"
    }
   ],
   "source": [
    "df.duplicated().sum()"
   ]
  },
  {
   "cell_type": "code",
   "execution_count": 45,
   "id": "ac0d9e60",
   "metadata": {},
   "outputs": [],
   "source": [
    "df.drop_duplicates(keep = 'first',inplace = True)"
   ]
  },
  {
   "cell_type": "code",
   "execution_count": 46,
   "id": "296f706f",
   "metadata": {},
   "outputs": [
    {
     "data": {
      "text/plain": [
       "0"
      ]
     },
     "execution_count": 46,
     "metadata": {},
     "output_type": "execute_result"
    }
   ],
   "source": [
    "df.duplicated().sum()"
   ]
  },
  {
   "cell_type": "markdown",
   "id": "f3e380fe",
   "metadata": {},
   "source": [
    "### outliers"
   ]
  },
  {
   "cell_type": "code",
   "execution_count": 48,
   "id": "07ed0019",
   "metadata": {},
   "outputs": [
    {
     "data": {
      "text/html": [
       "<div>\n",
       "<style scoped>\n",
       "    .dataframe tbody tr th:only-of-type {\n",
       "        vertical-align: middle;\n",
       "    }\n",
       "\n",
       "    .dataframe tbody tr th {\n",
       "        vertical-align: top;\n",
       "    }\n",
       "\n",
       "    .dataframe thead th {\n",
       "        text-align: right;\n",
       "    }\n",
       "</style>\n",
       "<table border=\"1\" class=\"dataframe\">\n",
       "  <thead>\n",
       "    <tr style=\"text-align: right;\">\n",
       "      <th></th>\n",
       "      <th>ID</th>\n",
       "      <th>class</th>\n",
       "      <th>gender</th>\n",
       "      <th>GPA</th>\n",
       "      <th>Algebra</th>\n",
       "      <th>Calculus1</th>\n",
       "      <th>Calculus2</th>\n",
       "      <th>Statistics</th>\n",
       "      <th>Probability</th>\n",
       "      <th>Measure</th>\n",
       "      <th>Functional_analysis</th>\n",
       "    </tr>\n",
       "  </thead>\n",
       "  <tbody>\n",
       "    <tr>\n",
       "      <th>0</th>\n",
       "      <td>1141</td>\n",
       "      <td>A</td>\n",
       "      <td>male</td>\n",
       "      <td>73.47</td>\n",
       "      <td>64.0</td>\n",
       "      <td>81</td>\n",
       "      <td>87.0</td>\n",
       "      <td>60</td>\n",
       "      <td>74.0</td>\n",
       "      <td>71.0</td>\n",
       "      <td>60.0</td>\n",
       "    </tr>\n",
       "    <tr>\n",
       "      <th>1</th>\n",
       "      <td>1142</td>\n",
       "      <td>A</td>\n",
       "      <td>female</td>\n",
       "      <td>71.22</td>\n",
       "      <td>57.0</td>\n",
       "      <td>50</td>\n",
       "      <td>51.0</td>\n",
       "      <td>51</td>\n",
       "      <td>55.0</td>\n",
       "      <td>62.0</td>\n",
       "      <td>61.0</td>\n",
       "    </tr>\n",
       "    <tr>\n",
       "      <th>2</th>\n",
       "      <td>1143</td>\n",
       "      <td>A</td>\n",
       "      <td>female</td>\n",
       "      <td>74.56</td>\n",
       "      <td>47.0</td>\n",
       "      <td>48</td>\n",
       "      <td>71.0</td>\n",
       "      <td>60</td>\n",
       "      <td>161.0</td>\n",
       "      <td>68.0</td>\n",
       "      <td>64.0</td>\n",
       "    </tr>\n",
       "  </tbody>\n",
       "</table>\n",
       "</div>"
      ],
      "text/plain": [
       "     ID class  gender    GPA  Algebra  Calculus1  Calculus2  Statistics  \\\n",
       "0  1141     A    male  73.47     64.0         81       87.0          60   \n",
       "1  1142     A  female  71.22     57.0         50       51.0          51   \n",
       "2  1143     A  female  74.56     47.0         48       71.0          60   \n",
       "\n",
       "   Probability  Measure  Functional_analysis  \n",
       "0         74.0     71.0                 60.0  \n",
       "1         55.0     62.0                 61.0  \n",
       "2        161.0     68.0                 64.0  "
      ]
     },
     "execution_count": 48,
     "metadata": {},
     "output_type": "execute_result"
    }
   ],
   "source": [
    "df.head(3)"
   ]
  },
  {
   "cell_type": "code",
   "execution_count": 49,
   "id": "8cd6a625",
   "metadata": {},
   "outputs": [],
   "source": [
    "q1 = df['GPA'].quantile(0.25)"
   ]
  },
  {
   "cell_type": "code",
   "execution_count": 50,
   "id": "1edcdb95",
   "metadata": {},
   "outputs": [],
   "source": [
    "q3 = df['GPA'].quantile(0.75)"
   ]
  },
  {
   "cell_type": "code",
   "execution_count": 52,
   "id": "b377a9c7",
   "metadata": {},
   "outputs": [],
   "source": [
    "IQR = q3 - q1\n",
    "Lower = q1 - 1.5*IQR\n",
    "upper = q3 + 1.5*IQR"
   ]
  },
  {
   "cell_type": "code",
   "execution_count": 54,
   "id": "0cd91f5b",
   "metadata": {},
   "outputs": [
    {
     "data": {
      "text/html": [
       "<div>\n",
       "<style scoped>\n",
       "    .dataframe tbody tr th:only-of-type {\n",
       "        vertical-align: middle;\n",
       "    }\n",
       "\n",
       "    .dataframe tbody tr th {\n",
       "        vertical-align: top;\n",
       "    }\n",
       "\n",
       "    .dataframe thead th {\n",
       "        text-align: right;\n",
       "    }\n",
       "</style>\n",
       "<table border=\"1\" class=\"dataframe\">\n",
       "  <thead>\n",
       "    <tr style=\"text-align: right;\">\n",
       "      <th></th>\n",
       "      <th>ID</th>\n",
       "      <th>class</th>\n",
       "      <th>gender</th>\n",
       "      <th>GPA</th>\n",
       "      <th>Algebra</th>\n",
       "      <th>Calculus1</th>\n",
       "      <th>Calculus2</th>\n",
       "      <th>Statistics</th>\n",
       "      <th>Probability</th>\n",
       "      <th>Measure</th>\n",
       "      <th>Functional_analysis</th>\n",
       "    </tr>\n",
       "  </thead>\n",
       "  <tbody>\n",
       "    <tr>\n",
       "      <th>5</th>\n",
       "      <td>1146</td>\n",
       "      <td>A</td>\n",
       "      <td>male</td>\n",
       "      <td>65.04</td>\n",
       "      <td>60.0</td>\n",
       "      <td>60</td>\n",
       "      <td>39.0</td>\n",
       "      <td>61</td>\n",
       "      <td>65.0</td>\n",
       "      <td>74.0</td>\n",
       "      <td>60.0</td>\n",
       "    </tr>\n",
       "    <tr>\n",
       "      <th>7</th>\n",
       "      <td>1148</td>\n",
       "      <td>A</td>\n",
       "      <td>female</td>\n",
       "      <td>64.75</td>\n",
       "      <td>60.0</td>\n",
       "      <td>38</td>\n",
       "      <td>60.0</td>\n",
       "      <td>63</td>\n",
       "      <td>70.0</td>\n",
       "      <td>68.0</td>\n",
       "      <td>51.0</td>\n",
       "    </tr>\n",
       "    <tr>\n",
       "      <th>58</th>\n",
       "      <td>1199</td>\n",
       "      <td>B</td>\n",
       "      <td>female</td>\n",
       "      <td>188.35</td>\n",
       "      <td>193.0</td>\n",
       "      <td>71</td>\n",
       "      <td>85.0</td>\n",
       "      <td>88</td>\n",
       "      <td>91.0</td>\n",
       "      <td>92.0</td>\n",
       "      <td>86.0</td>\n",
       "    </tr>\n",
       "    <tr>\n",
       "      <th>78</th>\n",
       "      <td>1219</td>\n",
       "      <td>A</td>\n",
       "      <td>male</td>\n",
       "      <td>63.49</td>\n",
       "      <td>81.0</td>\n",
       "      <td>61</td>\n",
       "      <td>17.0</td>\n",
       "      <td>92</td>\n",
       "      <td>88.0</td>\n",
       "      <td>69.0</td>\n",
       "      <td>9.0</td>\n",
       "    </tr>\n",
       "    <tr>\n",
       "      <th>99</th>\n",
       "      <td>1240</td>\n",
       "      <td>B</td>\n",
       "      <td>male</td>\n",
       "      <td>188.10</td>\n",
       "      <td>87.0</td>\n",
       "      <td>70</td>\n",
       "      <td>95.0</td>\n",
       "      <td>97</td>\n",
       "      <td>91.0</td>\n",
       "      <td>93.0</td>\n",
       "      <td>82.0</td>\n",
       "    </tr>\n",
       "  </tbody>\n",
       "</table>\n",
       "</div>"
      ],
      "text/plain": [
       "      ID class  gender     GPA  Algebra  Calculus1  Calculus2  Statistics  \\\n",
       "5   1146     A    male   65.04     60.0         60       39.0          61   \n",
       "7   1148     A  female   64.75     60.0         38       60.0          63   \n",
       "58  1199     B  female  188.35    193.0         71       85.0          88   \n",
       "78  1219     A    male   63.49     81.0         61       17.0          92   \n",
       "99  1240     B    male  188.10     87.0         70       95.0          97   \n",
       "\n",
       "    Probability  Measure  Functional_analysis  \n",
       "5          65.0     74.0                 60.0  \n",
       "7          70.0     68.0                 51.0  \n",
       "58         91.0     92.0                 86.0  \n",
       "78         88.0     69.0                  9.0  \n",
       "99         91.0     93.0                 82.0  "
      ]
     },
     "execution_count": 54,
     "metadata": {},
     "output_type": "execute_result"
    }
   ],
   "source": [
    "df[(df['GPA'] < Lower)|(df['GPA'] > upper)]"
   ]
  },
  {
   "cell_type": "code",
   "execution_count": 63,
   "id": "ddb217fb",
   "metadata": {},
   "outputs": [
    {
     "data": {
      "text/html": [
       "<div>\n",
       "<style scoped>\n",
       "    .dataframe tbody tr th:only-of-type {\n",
       "        vertical-align: middle;\n",
       "    }\n",
       "\n",
       "    .dataframe tbody tr th {\n",
       "        vertical-align: top;\n",
       "    }\n",
       "\n",
       "    .dataframe thead th {\n",
       "        text-align: right;\n",
       "    }\n",
       "</style>\n",
       "<table border=\"1\" class=\"dataframe\">\n",
       "  <thead>\n",
       "    <tr style=\"text-align: right;\">\n",
       "      <th></th>\n",
       "      <th>ID</th>\n",
       "      <th>class</th>\n",
       "      <th>gender</th>\n",
       "      <th>GPA</th>\n",
       "      <th>Algebra</th>\n",
       "      <th>Calculus1</th>\n",
       "      <th>Calculus2</th>\n",
       "      <th>Statistics</th>\n",
       "      <th>Probability</th>\n",
       "      <th>Measure</th>\n",
       "      <th>Functional_analysis</th>\n",
       "    </tr>\n",
       "  </thead>\n",
       "  <tbody>\n",
       "    <tr>\n",
       "      <th>58</th>\n",
       "      <td>1199</td>\n",
       "      <td>B</td>\n",
       "      <td>female</td>\n",
       "      <td>188.35</td>\n",
       "      <td>193.0</td>\n",
       "      <td>71</td>\n",
       "      <td>85.0</td>\n",
       "      <td>88</td>\n",
       "      <td>91.0</td>\n",
       "      <td>92.0</td>\n",
       "      <td>86.0</td>\n",
       "    </tr>\n",
       "    <tr>\n",
       "      <th>99</th>\n",
       "      <td>1240</td>\n",
       "      <td>B</td>\n",
       "      <td>male</td>\n",
       "      <td>188.10</td>\n",
       "      <td>87.0</td>\n",
       "      <td>70</td>\n",
       "      <td>95.0</td>\n",
       "      <td>97</td>\n",
       "      <td>91.0</td>\n",
       "      <td>93.0</td>\n",
       "      <td>82.0</td>\n",
       "    </tr>\n",
       "  </tbody>\n",
       "</table>\n",
       "</div>"
      ],
      "text/plain": [
       "      ID class  gender     GPA  Algebra  Calculus1  Calculus2  Statistics  \\\n",
       "58  1199     B  female  188.35    193.0         71       85.0          88   \n",
       "99  1240     B    male  188.10     87.0         70       95.0          97   \n",
       "\n",
       "    Probability  Measure  Functional_analysis  \n",
       "58         91.0     92.0                 86.0  \n",
       "99         91.0     93.0                 82.0  "
      ]
     },
     "execution_count": 63,
     "metadata": {},
     "output_type": "execute_result"
    }
   ],
   "source": [
    "df[(df['GPA'] < 0)|(df['GPA'] > 100)]"
   ]
  },
  {
   "cell_type": "code",
   "execution_count": 65,
   "id": "1c2fe12a",
   "metadata": {},
   "outputs": [],
   "source": [
    "cond = (df['GPA'] < 0)|(df['GPA'] > 100)"
   ]
  },
  {
   "cell_type": "code",
   "execution_count": 66,
   "id": "bc5008d9",
   "metadata": {},
   "outputs": [],
   "source": [
    "df['GPA'] = np.where(cond,(65.04),df['GPA'])"
   ]
  },
  {
   "cell_type": "code",
   "execution_count": 67,
   "id": "3121d630",
   "metadata": {},
   "outputs": [
    {
     "data": {
      "text/html": [
       "<div>\n",
       "<style scoped>\n",
       "    .dataframe tbody tr th:only-of-type {\n",
       "        vertical-align: middle;\n",
       "    }\n",
       "\n",
       "    .dataframe tbody tr th {\n",
       "        vertical-align: top;\n",
       "    }\n",
       "\n",
       "    .dataframe thead th {\n",
       "        text-align: right;\n",
       "    }\n",
       "</style>\n",
       "<table border=\"1\" class=\"dataframe\">\n",
       "  <thead>\n",
       "    <tr style=\"text-align: right;\">\n",
       "      <th></th>\n",
       "      <th>ID</th>\n",
       "      <th>class</th>\n",
       "      <th>gender</th>\n",
       "      <th>GPA</th>\n",
       "      <th>Algebra</th>\n",
       "      <th>Calculus1</th>\n",
       "      <th>Calculus2</th>\n",
       "      <th>Statistics</th>\n",
       "      <th>Probability</th>\n",
       "      <th>Measure</th>\n",
       "      <th>Functional_analysis</th>\n",
       "    </tr>\n",
       "  </thead>\n",
       "  <tbody>\n",
       "  </tbody>\n",
       "</table>\n",
       "</div>"
      ],
      "text/plain": [
       "Empty DataFrame\n",
       "Columns: [ID, class, gender, GPA, Algebra, Calculus1, Calculus2, Statistics, Probability, Measure, Functional_analysis]\n",
       "Index: []"
      ]
     },
     "execution_count": 67,
     "metadata": {},
     "output_type": "execute_result"
    }
   ],
   "source": [
    "df[(df['GPA'] < 0)|(df['GPA'] > 100)]"
   ]
  },
  {
   "cell_type": "code",
   "execution_count": 68,
   "id": "bd0a88fc",
   "metadata": {},
   "outputs": [
    {
     "data": {
      "text/html": [
       "<div>\n",
       "<style scoped>\n",
       "    .dataframe tbody tr th:only-of-type {\n",
       "        vertical-align: middle;\n",
       "    }\n",
       "\n",
       "    .dataframe tbody tr th {\n",
       "        vertical-align: top;\n",
       "    }\n",
       "\n",
       "    .dataframe thead th {\n",
       "        text-align: right;\n",
       "    }\n",
       "</style>\n",
       "<table border=\"1\" class=\"dataframe\">\n",
       "  <thead>\n",
       "    <tr style=\"text-align: right;\">\n",
       "      <th></th>\n",
       "      <th>ID</th>\n",
       "      <th>class</th>\n",
       "      <th>gender</th>\n",
       "      <th>GPA</th>\n",
       "      <th>Algebra</th>\n",
       "      <th>Calculus1</th>\n",
       "      <th>Calculus2</th>\n",
       "      <th>Statistics</th>\n",
       "      <th>Probability</th>\n",
       "      <th>Measure</th>\n",
       "      <th>Functional_analysis</th>\n",
       "    </tr>\n",
       "  </thead>\n",
       "  <tbody>\n",
       "    <tr>\n",
       "      <th>58</th>\n",
       "      <td>1199</td>\n",
       "      <td>B</td>\n",
       "      <td>female</td>\n",
       "      <td>65.04</td>\n",
       "      <td>193.0</td>\n",
       "      <td>71</td>\n",
       "      <td>85.0</td>\n",
       "      <td>88</td>\n",
       "      <td>91.0</td>\n",
       "      <td>92.0</td>\n",
       "      <td>86.0</td>\n",
       "    </tr>\n",
       "  </tbody>\n",
       "</table>\n",
       "</div>"
      ],
      "text/plain": [
       "      ID class  gender    GPA  Algebra  Calculus1  Calculus2  Statistics  \\\n",
       "58  1199     B  female  65.04    193.0         71       85.0          88   \n",
       "\n",
       "    Probability  Measure  Functional_analysis  \n",
       "58         91.0     92.0                 86.0  "
      ]
     },
     "execution_count": 68,
     "metadata": {},
     "output_type": "execute_result"
    }
   ],
   "source": [
    "df[(df['Algebra'] < 0)|(df['Algebra'] > 100)]"
   ]
  },
  {
   "cell_type": "code",
   "execution_count": 71,
   "id": "52fabd0e",
   "metadata": {},
   "outputs": [
    {
     "data": {
      "text/html": [
       "<div>\n",
       "<style scoped>\n",
       "    .dataframe tbody tr th:only-of-type {\n",
       "        vertical-align: middle;\n",
       "    }\n",
       "\n",
       "    .dataframe tbody tr th {\n",
       "        vertical-align: top;\n",
       "    }\n",
       "\n",
       "    .dataframe thead th {\n",
       "        text-align: right;\n",
       "    }\n",
       "</style>\n",
       "<table border=\"1\" class=\"dataframe\">\n",
       "  <thead>\n",
       "    <tr style=\"text-align: right;\">\n",
       "      <th></th>\n",
       "      <th>ID</th>\n",
       "      <th>class</th>\n",
       "      <th>gender</th>\n",
       "      <th>GPA</th>\n",
       "      <th>Algebra</th>\n",
       "      <th>Calculus1</th>\n",
       "      <th>Calculus2</th>\n",
       "      <th>Statistics</th>\n",
       "      <th>Probability</th>\n",
       "      <th>Measure</th>\n",
       "      <th>Functional_analysis</th>\n",
       "    </tr>\n",
       "  </thead>\n",
       "  <tbody>\n",
       "  </tbody>\n",
       "</table>\n",
       "</div>"
      ],
      "text/plain": [
       "Empty DataFrame\n",
       "Columns: [ID, class, gender, GPA, Algebra, Calculus1, Calculus2, Statistics, Probability, Measure, Functional_analysis]\n",
       "Index: []"
      ]
     },
     "execution_count": 71,
     "metadata": {},
     "output_type": "execute_result"
    }
   ],
   "source": [
    "cond = (df['Algebra'] < 0)|(df['Algebra'] > 100)\n",
    "df['Algebra'] = np.where(cond,87.0,df['Algebra'])\n",
    "df[(df['Algebra'] < 0)|(df['Algebra'] > 100)]"
   ]
  },
  {
   "cell_type": "code",
   "execution_count": 72,
   "id": "a1731d38",
   "metadata": {},
   "outputs": [
    {
     "data": {
      "text/html": [
       "<div>\n",
       "<style scoped>\n",
       "    .dataframe tbody tr th:only-of-type {\n",
       "        vertical-align: middle;\n",
       "    }\n",
       "\n",
       "    .dataframe tbody tr th {\n",
       "        vertical-align: top;\n",
       "    }\n",
       "\n",
       "    .dataframe thead th {\n",
       "        text-align: right;\n",
       "    }\n",
       "</style>\n",
       "<table border=\"1\" class=\"dataframe\">\n",
       "  <thead>\n",
       "    <tr style=\"text-align: right;\">\n",
       "      <th></th>\n",
       "      <th>ID</th>\n",
       "      <th>class</th>\n",
       "      <th>gender</th>\n",
       "      <th>GPA</th>\n",
       "      <th>Algebra</th>\n",
       "      <th>Calculus1</th>\n",
       "      <th>Calculus2</th>\n",
       "      <th>Statistics</th>\n",
       "      <th>Probability</th>\n",
       "      <th>Measure</th>\n",
       "      <th>Functional_analysis</th>\n",
       "    </tr>\n",
       "  </thead>\n",
       "  <tbody>\n",
       "  </tbody>\n",
       "</table>\n",
       "</div>"
      ],
      "text/plain": [
       "Empty DataFrame\n",
       "Columns: [ID, class, gender, GPA, Algebra, Calculus1, Calculus2, Statistics, Probability, Measure, Functional_analysis]\n",
       "Index: []"
      ]
     },
     "execution_count": 72,
     "metadata": {},
     "output_type": "execute_result"
    }
   ],
   "source": [
    "df[(df['Calculus1'] < 0)|(df['Calculus1'] > 100)]"
   ]
  },
  {
   "cell_type": "code",
   "execution_count": 73,
   "id": "54742d0e",
   "metadata": {},
   "outputs": [
    {
     "data": {
      "text/html": [
       "<div>\n",
       "<style scoped>\n",
       "    .dataframe tbody tr th:only-of-type {\n",
       "        vertical-align: middle;\n",
       "    }\n",
       "\n",
       "    .dataframe tbody tr th {\n",
       "        vertical-align: top;\n",
       "    }\n",
       "\n",
       "    .dataframe thead th {\n",
       "        text-align: right;\n",
       "    }\n",
       "</style>\n",
       "<table border=\"1\" class=\"dataframe\">\n",
       "  <thead>\n",
       "    <tr style=\"text-align: right;\">\n",
       "      <th></th>\n",
       "      <th>ID</th>\n",
       "      <th>class</th>\n",
       "      <th>gender</th>\n",
       "      <th>GPA</th>\n",
       "      <th>Algebra</th>\n",
       "      <th>Calculus1</th>\n",
       "      <th>Calculus2</th>\n",
       "      <th>Statistics</th>\n",
       "      <th>Probability</th>\n",
       "      <th>Measure</th>\n",
       "      <th>Functional_analysis</th>\n",
       "    </tr>\n",
       "  </thead>\n",
       "  <tbody>\n",
       "    <tr>\n",
       "      <th>95</th>\n",
       "      <td>1236</td>\n",
       "      <td>A</td>\n",
       "      <td>female</td>\n",
       "      <td>87.63</td>\n",
       "      <td>82.0</td>\n",
       "      <td>81</td>\n",
       "      <td>-23.0</td>\n",
       "      <td>97</td>\n",
       "      <td>88.0</td>\n",
       "      <td>91.0</td>\n",
       "      <td>68.0</td>\n",
       "    </tr>\n",
       "  </tbody>\n",
       "</table>\n",
       "</div>"
      ],
      "text/plain": [
       "      ID class  gender    GPA  Algebra  Calculus1  Calculus2  Statistics  \\\n",
       "95  1236     A  female  87.63     82.0         81      -23.0          97   \n",
       "\n",
       "    Probability  Measure  Functional_analysis  \n",
       "95         88.0     91.0                 68.0  "
      ]
     },
     "execution_count": 73,
     "metadata": {},
     "output_type": "execute_result"
    }
   ],
   "source": [
    "df[(df['Calculus2'] < 0)|(df['Calculus2'] > 100)]"
   ]
  },
  {
   "cell_type": "code",
   "execution_count": 74,
   "id": "e21043c3",
   "metadata": {},
   "outputs": [
    {
     "data": {
      "text/html": [
       "<div>\n",
       "<style scoped>\n",
       "    .dataframe tbody tr th:only-of-type {\n",
       "        vertical-align: middle;\n",
       "    }\n",
       "\n",
       "    .dataframe tbody tr th {\n",
       "        vertical-align: top;\n",
       "    }\n",
       "\n",
       "    .dataframe thead th {\n",
       "        text-align: right;\n",
       "    }\n",
       "</style>\n",
       "<table border=\"1\" class=\"dataframe\">\n",
       "  <thead>\n",
       "    <tr style=\"text-align: right;\">\n",
       "      <th></th>\n",
       "      <th>ID</th>\n",
       "      <th>class</th>\n",
       "      <th>gender</th>\n",
       "      <th>GPA</th>\n",
       "      <th>Algebra</th>\n",
       "      <th>Calculus1</th>\n",
       "      <th>Calculus2</th>\n",
       "      <th>Statistics</th>\n",
       "      <th>Probability</th>\n",
       "      <th>Measure</th>\n",
       "      <th>Functional_analysis</th>\n",
       "    </tr>\n",
       "  </thead>\n",
       "  <tbody>\n",
       "  </tbody>\n",
       "</table>\n",
       "</div>"
      ],
      "text/plain": [
       "Empty DataFrame\n",
       "Columns: [ID, class, gender, GPA, Algebra, Calculus1, Calculus2, Statistics, Probability, Measure, Functional_analysis]\n",
       "Index: []"
      ]
     },
     "execution_count": 74,
     "metadata": {},
     "output_type": "execute_result"
    }
   ],
   "source": [
    "cond = (df['Calculus2'] < 0)|(df['Calculus2'] > 100)\n",
    "df['Calculus2'] = np.where(cond,85.0,df['Calculus2'])\n",
    "df[(df['Calculus2'] < 0)|(df['Calculus2'] > 100)]"
   ]
  },
  {
   "cell_type": "code",
   "execution_count": 75,
   "id": "9858f143",
   "metadata": {},
   "outputs": [
    {
     "data": {
      "text/html": [
       "<div>\n",
       "<style scoped>\n",
       "    .dataframe tbody tr th:only-of-type {\n",
       "        vertical-align: middle;\n",
       "    }\n",
       "\n",
       "    .dataframe tbody tr th {\n",
       "        vertical-align: top;\n",
       "    }\n",
       "\n",
       "    .dataframe thead th {\n",
       "        text-align: right;\n",
       "    }\n",
       "</style>\n",
       "<table border=\"1\" class=\"dataframe\">\n",
       "  <thead>\n",
       "    <tr style=\"text-align: right;\">\n",
       "      <th></th>\n",
       "      <th>ID</th>\n",
       "      <th>class</th>\n",
       "      <th>gender</th>\n",
       "      <th>GPA</th>\n",
       "      <th>Algebra</th>\n",
       "      <th>Calculus1</th>\n",
       "      <th>Calculus2</th>\n",
       "      <th>Statistics</th>\n",
       "      <th>Probability</th>\n",
       "      <th>Measure</th>\n",
       "      <th>Functional_analysis</th>\n",
       "    </tr>\n",
       "  </thead>\n",
       "  <tbody>\n",
       "    <tr>\n",
       "      <th>27</th>\n",
       "      <td>1168</td>\n",
       "      <td>A</td>\n",
       "      <td>female</td>\n",
       "      <td>83.06</td>\n",
       "      <td>68.0</td>\n",
       "      <td>72</td>\n",
       "      <td>71.0</td>\n",
       "      <td>801</td>\n",
       "      <td>86.0</td>\n",
       "      <td>81.0</td>\n",
       "      <td>64.0</td>\n",
       "    </tr>\n",
       "    <tr>\n",
       "      <th>57</th>\n",
       "      <td>1198</td>\n",
       "      <td>B</td>\n",
       "      <td>female</td>\n",
       "      <td>85.72</td>\n",
       "      <td>75.0</td>\n",
       "      <td>80</td>\n",
       "      <td>64.0</td>\n",
       "      <td>888</td>\n",
       "      <td>86.0</td>\n",
       "      <td>86.0</td>\n",
       "      <td>69.0</td>\n",
       "    </tr>\n",
       "    <tr>\n",
       "      <th>104</th>\n",
       "      <td>1245</td>\n",
       "      <td>A</td>\n",
       "      <td>male</td>\n",
       "      <td>93.71</td>\n",
       "      <td>93.0</td>\n",
       "      <td>97</td>\n",
       "      <td>99.0</td>\n",
       "      <td>-56</td>\n",
       "      <td>197.0</td>\n",
       "      <td>90.0</td>\n",
       "      <td>90.0</td>\n",
       "    </tr>\n",
       "  </tbody>\n",
       "</table>\n",
       "</div>"
      ],
      "text/plain": [
       "       ID class  gender    GPA  Algebra  Calculus1  Calculus2  Statistics  \\\n",
       "27   1168     A  female  83.06     68.0         72       71.0         801   \n",
       "57   1198     B  female  85.72     75.0         80       64.0         888   \n",
       "104  1245     A    male  93.71     93.0         97       99.0         -56   \n",
       "\n",
       "     Probability  Measure  Functional_analysis  \n",
       "27          86.0     81.0                 64.0  \n",
       "57          86.0     86.0                 69.0  \n",
       "104        197.0     90.0                 90.0  "
      ]
     },
     "execution_count": 75,
     "metadata": {},
     "output_type": "execute_result"
    }
   ],
   "source": [
    "df[(df['Statistics'] < 0)|(df['Statistics'] > 100)]"
   ]
  },
  {
   "cell_type": "code",
   "execution_count": 76,
   "id": "79436b36",
   "metadata": {},
   "outputs": [
    {
     "data": {
      "text/html": [
       "<div>\n",
       "<style scoped>\n",
       "    .dataframe tbody tr th:only-of-type {\n",
       "        vertical-align: middle;\n",
       "    }\n",
       "\n",
       "    .dataframe tbody tr th {\n",
       "        vertical-align: top;\n",
       "    }\n",
       "\n",
       "    .dataframe thead th {\n",
       "        text-align: right;\n",
       "    }\n",
       "</style>\n",
       "<table border=\"1\" class=\"dataframe\">\n",
       "  <thead>\n",
       "    <tr style=\"text-align: right;\">\n",
       "      <th></th>\n",
       "      <th>ID</th>\n",
       "      <th>class</th>\n",
       "      <th>gender</th>\n",
       "      <th>GPA</th>\n",
       "      <th>Algebra</th>\n",
       "      <th>Calculus1</th>\n",
       "      <th>Calculus2</th>\n",
       "      <th>Statistics</th>\n",
       "      <th>Probability</th>\n",
       "      <th>Measure</th>\n",
       "      <th>Functional_analysis</th>\n",
       "    </tr>\n",
       "  </thead>\n",
       "  <tbody>\n",
       "  </tbody>\n",
       "</table>\n",
       "</div>"
      ],
      "text/plain": [
       "Empty DataFrame\n",
       "Columns: [ID, class, gender, GPA, Algebra, Calculus1, Calculus2, Statistics, Probability, Measure, Functional_analysis]\n",
       "Index: []"
      ]
     },
     "execution_count": 76,
     "metadata": {},
     "output_type": "execute_result"
    }
   ],
   "source": [
    "cond = (df['Statistics'] < 0)|(df['Statistics'] > 100)\n",
    "df['Statistics'] = np.where(cond,97,df['Statistics'])\n",
    "df[(df['Statistics'] < 0)|(df['Statistics'] > 100)]"
   ]
  },
  {
   "cell_type": "code",
   "execution_count": 77,
   "id": "9a2f486e",
   "metadata": {},
   "outputs": [
    {
     "data": {
      "text/html": [
       "<div>\n",
       "<style scoped>\n",
       "    .dataframe tbody tr th:only-of-type {\n",
       "        vertical-align: middle;\n",
       "    }\n",
       "\n",
       "    .dataframe tbody tr th {\n",
       "        vertical-align: top;\n",
       "    }\n",
       "\n",
       "    .dataframe thead th {\n",
       "        text-align: right;\n",
       "    }\n",
       "</style>\n",
       "<table border=\"1\" class=\"dataframe\">\n",
       "  <thead>\n",
       "    <tr style=\"text-align: right;\">\n",
       "      <th></th>\n",
       "      <th>ID</th>\n",
       "      <th>class</th>\n",
       "      <th>gender</th>\n",
       "      <th>GPA</th>\n",
       "      <th>Algebra</th>\n",
       "      <th>Calculus1</th>\n",
       "      <th>Calculus2</th>\n",
       "      <th>Statistics</th>\n",
       "      <th>Probability</th>\n",
       "      <th>Measure</th>\n",
       "      <th>Functional_analysis</th>\n",
       "    </tr>\n",
       "  </thead>\n",
       "  <tbody>\n",
       "    <tr>\n",
       "      <th>2</th>\n",
       "      <td>1143</td>\n",
       "      <td>A</td>\n",
       "      <td>female</td>\n",
       "      <td>74.56</td>\n",
       "      <td>47.0</td>\n",
       "      <td>48</td>\n",
       "      <td>71.0</td>\n",
       "      <td>60</td>\n",
       "      <td>161.0</td>\n",
       "      <td>68.0</td>\n",
       "      <td>64.0</td>\n",
       "    </tr>\n",
       "    <tr>\n",
       "      <th>8</th>\n",
       "      <td>1149</td>\n",
       "      <td>B</td>\n",
       "      <td>female</td>\n",
       "      <td>77.92</td>\n",
       "      <td>61.0</td>\n",
       "      <td>60</td>\n",
       "      <td>60.0</td>\n",
       "      <td>68</td>\n",
       "      <td>1800.0</td>\n",
       "      <td>78.0</td>\n",
       "      <td>71.0</td>\n",
       "    </tr>\n",
       "    <tr>\n",
       "      <th>104</th>\n",
       "      <td>1245</td>\n",
       "      <td>A</td>\n",
       "      <td>male</td>\n",
       "      <td>93.71</td>\n",
       "      <td>93.0</td>\n",
       "      <td>97</td>\n",
       "      <td>99.0</td>\n",
       "      <td>97</td>\n",
       "      <td>197.0</td>\n",
       "      <td>90.0</td>\n",
       "      <td>90.0</td>\n",
       "    </tr>\n",
       "  </tbody>\n",
       "</table>\n",
       "</div>"
      ],
      "text/plain": [
       "       ID class  gender    GPA  Algebra  Calculus1  Calculus2  Statistics  \\\n",
       "2    1143     A  female  74.56     47.0         48       71.0          60   \n",
       "8    1149     B  female  77.92     61.0         60       60.0          68   \n",
       "104  1245     A    male  93.71     93.0         97       99.0          97   \n",
       "\n",
       "     Probability  Measure  Functional_analysis  \n",
       "2          161.0     68.0                 64.0  \n",
       "8         1800.0     78.0                 71.0  \n",
       "104        197.0     90.0                 90.0  "
      ]
     },
     "execution_count": 77,
     "metadata": {},
     "output_type": "execute_result"
    }
   ],
   "source": [
    "df[(df['Probability'] < 0)|(df['Probability'] > 100)]"
   ]
  },
  {
   "cell_type": "code",
   "execution_count": 78,
   "id": "359c5a1e",
   "metadata": {},
   "outputs": [
    {
     "data": {
      "text/html": [
       "<div>\n",
       "<style scoped>\n",
       "    .dataframe tbody tr th:only-of-type {\n",
       "        vertical-align: middle;\n",
       "    }\n",
       "\n",
       "    .dataframe tbody tr th {\n",
       "        vertical-align: top;\n",
       "    }\n",
       "\n",
       "    .dataframe thead th {\n",
       "        text-align: right;\n",
       "    }\n",
       "</style>\n",
       "<table border=\"1\" class=\"dataframe\">\n",
       "  <thead>\n",
       "    <tr style=\"text-align: right;\">\n",
       "      <th></th>\n",
       "      <th>ID</th>\n",
       "      <th>class</th>\n",
       "      <th>gender</th>\n",
       "      <th>GPA</th>\n",
       "      <th>Algebra</th>\n",
       "      <th>Calculus1</th>\n",
       "      <th>Calculus2</th>\n",
       "      <th>Statistics</th>\n",
       "      <th>Probability</th>\n",
       "      <th>Measure</th>\n",
       "      <th>Functional_analysis</th>\n",
       "    </tr>\n",
       "  </thead>\n",
       "  <tbody>\n",
       "  </tbody>\n",
       "</table>\n",
       "</div>"
      ],
      "text/plain": [
       "Empty DataFrame\n",
       "Columns: [ID, class, gender, GPA, Algebra, Calculus1, Calculus2, Statistics, Probability, Measure, Functional_analysis]\n",
       "Index: []"
      ]
     },
     "execution_count": 78,
     "metadata": {},
     "output_type": "execute_result"
    }
   ],
   "source": [
    "cond = (df['Probability'] < 0)|(df['Probability'] > 100)\n",
    "df['Probability'] = np.where(cond,86.0,df['Probability'])\n",
    "df[(df['Probability'] < 0)|(df['Probability'] > 100)]"
   ]
  },
  {
   "cell_type": "code",
   "execution_count": 79,
   "id": "0ee9fadc",
   "metadata": {},
   "outputs": [
    {
     "data": {
      "text/html": [
       "<div>\n",
       "<style scoped>\n",
       "    .dataframe tbody tr th:only-of-type {\n",
       "        vertical-align: middle;\n",
       "    }\n",
       "\n",
       "    .dataframe tbody tr th {\n",
       "        vertical-align: top;\n",
       "    }\n",
       "\n",
       "    .dataframe thead th {\n",
       "        text-align: right;\n",
       "    }\n",
       "</style>\n",
       "<table border=\"1\" class=\"dataframe\">\n",
       "  <thead>\n",
       "    <tr style=\"text-align: right;\">\n",
       "      <th></th>\n",
       "      <th>ID</th>\n",
       "      <th>class</th>\n",
       "      <th>gender</th>\n",
       "      <th>GPA</th>\n",
       "      <th>Algebra</th>\n",
       "      <th>Calculus1</th>\n",
       "      <th>Calculus2</th>\n",
       "      <th>Statistics</th>\n",
       "      <th>Probability</th>\n",
       "      <th>Measure</th>\n",
       "      <th>Functional_analysis</th>\n",
       "    </tr>\n",
       "  </thead>\n",
       "  <tbody>\n",
       "    <tr>\n",
       "      <th>97</th>\n",
       "      <td>1238</td>\n",
       "      <td>A</td>\n",
       "      <td>male</td>\n",
       "      <td>91.14</td>\n",
       "      <td>98.0</td>\n",
       "      <td>90</td>\n",
       "      <td>98.0</td>\n",
       "      <td>97</td>\n",
       "      <td>83.0</td>\n",
       "      <td>193.0</td>\n",
       "      <td>89.0</td>\n",
       "    </tr>\n",
       "  </tbody>\n",
       "</table>\n",
       "</div>"
      ],
      "text/plain": [
       "      ID class gender    GPA  Algebra  Calculus1  Calculus2  Statistics  \\\n",
       "97  1238     A   male  91.14     98.0         90       98.0          97   \n",
       "\n",
       "    Probability  Measure  Functional_analysis  \n",
       "97         83.0    193.0                 89.0  "
      ]
     },
     "execution_count": 79,
     "metadata": {},
     "output_type": "execute_result"
    }
   ],
   "source": [
    "df[(df['Measure'] < 0)|(df['Measure'] > 100)]"
   ]
  },
  {
   "cell_type": "code",
   "execution_count": 80,
   "id": "97846b1c",
   "metadata": {},
   "outputs": [
    {
     "data": {
      "text/html": [
       "<div>\n",
       "<style scoped>\n",
       "    .dataframe tbody tr th:only-of-type {\n",
       "        vertical-align: middle;\n",
       "    }\n",
       "\n",
       "    .dataframe tbody tr th {\n",
       "        vertical-align: top;\n",
       "    }\n",
       "\n",
       "    .dataframe thead th {\n",
       "        text-align: right;\n",
       "    }\n",
       "</style>\n",
       "<table border=\"1\" class=\"dataframe\">\n",
       "  <thead>\n",
       "    <tr style=\"text-align: right;\">\n",
       "      <th></th>\n",
       "      <th>ID</th>\n",
       "      <th>class</th>\n",
       "      <th>gender</th>\n",
       "      <th>GPA</th>\n",
       "      <th>Algebra</th>\n",
       "      <th>Calculus1</th>\n",
       "      <th>Calculus2</th>\n",
       "      <th>Statistics</th>\n",
       "      <th>Probability</th>\n",
       "      <th>Measure</th>\n",
       "      <th>Functional_analysis</th>\n",
       "    </tr>\n",
       "  </thead>\n",
       "  <tbody>\n",
       "  </tbody>\n",
       "</table>\n",
       "</div>"
      ],
      "text/plain": [
       "Empty DataFrame\n",
       "Columns: [ID, class, gender, GPA, Algebra, Calculus1, Calculus2, Statistics, Probability, Measure, Functional_analysis]\n",
       "Index: []"
      ]
     },
     "execution_count": 80,
     "metadata": {},
     "output_type": "execute_result"
    }
   ],
   "source": [
    "cond = (df['Measure'] < 0)|(df['Measure'] > 100)\n",
    "df['Measure'] = np.where(cond,90.0,df['Measure'])\n",
    "df[(df['Measure'] < 0)|(df['Measure'] > 100)]"
   ]
  },
  {
   "cell_type": "code",
   "execution_count": 81,
   "id": "7403be80",
   "metadata": {},
   "outputs": [
    {
     "data": {
      "text/html": [
       "<div>\n",
       "<style scoped>\n",
       "    .dataframe tbody tr th:only-of-type {\n",
       "        vertical-align: middle;\n",
       "    }\n",
       "\n",
       "    .dataframe tbody tr th {\n",
       "        vertical-align: top;\n",
       "    }\n",
       "\n",
       "    .dataframe thead th {\n",
       "        text-align: right;\n",
       "    }\n",
       "</style>\n",
       "<table border=\"1\" class=\"dataframe\">\n",
       "  <thead>\n",
       "    <tr style=\"text-align: right;\">\n",
       "      <th></th>\n",
       "      <th>ID</th>\n",
       "      <th>class</th>\n",
       "      <th>gender</th>\n",
       "      <th>GPA</th>\n",
       "      <th>Algebra</th>\n",
       "      <th>Calculus1</th>\n",
       "      <th>Calculus2</th>\n",
       "      <th>Statistics</th>\n",
       "      <th>Probability</th>\n",
       "      <th>Measure</th>\n",
       "      <th>Functional_analysis</th>\n",
       "    </tr>\n",
       "  </thead>\n",
       "  <tbody>\n",
       "  </tbody>\n",
       "</table>\n",
       "</div>"
      ],
      "text/plain": [
       "Empty DataFrame\n",
       "Columns: [ID, class, gender, GPA, Algebra, Calculus1, Calculus2, Statistics, Probability, Measure, Functional_analysis]\n",
       "Index: []"
      ]
     },
     "execution_count": 81,
     "metadata": {},
     "output_type": "execute_result"
    }
   ],
   "source": [
    "df[(df['Functional_analysis'] < 0)|(df['Functional_analysis'] > 100)]"
   ]
  },
  {
   "cell_type": "markdown",
   "id": "255f725c",
   "metadata": {},
   "source": [
    "### Transformation"
   ]
  },
  {
   "cell_type": "code",
   "execution_count": 105,
   "id": "d2fed19f",
   "metadata": {},
   "outputs": [],
   "source": [
    "import matplotlib.pyplot as plt"
   ]
  },
  {
   "cell_type": "code",
   "execution_count": 124,
   "id": "c13c36db",
   "metadata": {},
   "outputs": [
    {
     "data": {
      "text/plain": [
       "<Axes: ylabel='Density'>"
      ]
     },
     "execution_count": 124,
     "metadata": {},
     "output_type": "execute_result"
    },
    {
     "data": {
      "image/png": "[encoded data removed]",
      "text/plain": [
       "<Figure size 640x480 with 8 Axes>"
      ]
     },
     "metadata": {},
     "output_type": "display_data"
    }
   ],
   "source": [
    "plt.subplot(331)\n",
    "df[\"GPA\"].plot(kind = 'density')\n",
    "\n",
    "plt.subplot(332)\n",
    "df['Algebra'].plot(kind = 'density')\n",
    "\n",
    "plt.subplot(333)\n",
    "df[\"Calculus1\"].plot(kind = 'density')\n",
    "\n",
    "plt.subplot(334)\n",
    "df[\"Calculus2\"].plot(kind = 'density')\n",
    "\n",
    "plt.subplot(335)\n",
    "df[\"Statistics\"].plot(kind = 'density')\n",
    "\n",
    "plt.subplot(336)\n",
    "df[\"Probability\"].plot(kind = 'density')\n",
    "\n",
    "plt.subplot(337)\n",
    "df[\"Measure\"].plot(kind = 'density')\n",
    "\n",
    "plt.subplot(338)\n",
    "df[\"Functional_analysis\"].plot(kind = 'density')\n"
   ]
  },
  {
   "cell_type": "code",
   "execution_count": 84,
   "id": "39850846",
   "metadata": {},
   "outputs": [
    {
     "data": {
      "text/plain": [
       "(82.49095238095238, 84.01)"
      ]
     },
     "execution_count": 84,
     "metadata": {},
     "output_type": "execute_result"
    }
   ],
   "source": [
    "df['GPA'].mean(),df['GPA'].median()"
   ]
  },
  {
   "cell_type": "code",
   "execution_count": 83,
   "id": "afef05c4",
   "metadata": {},
   "outputs": [
    {
     "data": {
      "text/plain": [
       "<Axes: ylabel='Density'>"
      ]
     },
     "execution_count": 83,
     "metadata": {},
     "output_type": "execute_result"
    },
    {
     "data": {
      "image/png": "[encoded data removed]",
      "text/plain": [
       "<Figure size 640x480 with 1 Axes>"
      ]
     },
     "metadata": {},
     "output_type": "display_data"
    }
   ],
   "source": [
    "df['GPA'].plot(kind = 'density')"
   ]
  },
  {
   "cell_type": "code",
   "execution_count": 87,
   "id": "b299a833",
   "metadata": {},
   "outputs": [
    {
     "data": {
      "text/plain": [
       "(75.88571428571429, 76.0)"
      ]
     },
     "execution_count": 87,
     "metadata": {},
     "output_type": "execute_result"
    }
   ],
   "source": [
    "df['Algebra'].mean(),df['Algebra'].median()"
   ]
  },
  {
   "cell_type": "code",
   "execution_count": 88,
   "id": "d4ef172a",
   "metadata": {},
   "outputs": [
    {
     "data": {
      "text/plain": [
       "<Axes: ylabel='Density'>"
      ]
     },
     "execution_count": 88,
     "metadata": {},
     "output_type": "execute_result"
    },
    {
     "data": {
      "image/png": "[encoded data removed]",
      "text/plain": [
       "<Figure size 640x480 with 1 Axes>"
      ]
     },
     "metadata": {},
     "output_type": "display_data"
    }
   ],
   "source": [
    "df['Algebra'].plot(kind = 'density')"
   ]
  },
  {
   "cell_type": "code",
   "execution_count": 89,
   "id": "9c0e61a3",
   "metadata": {},
   "outputs": [
    {
     "data": {
      "text/plain": [
       "(71.96190476190476, 73.0)"
      ]
     },
     "execution_count": 89,
     "metadata": {},
     "output_type": "execute_result"
    }
   ],
   "source": [
    "df['Calculus1'].mean(),df['Calculus1'].median()"
   ]
  },
  {
   "cell_type": "code",
   "execution_count": 90,
   "id": "2b9b3628",
   "metadata": {},
   "outputs": [
    {
     "data": {
      "text/plain": [
       "<Axes: ylabel='Density'>"
      ]
     },
     "execution_count": 90,
     "metadata": {},
     "output_type": "execute_result"
    },
    {
     "data": {
      "image/png": "[encoded data removed]",
      "text/plain": [
       "<Figure size 640x480 with 1 Axes>"
      ]
     },
     "metadata": {},
     "output_type": "display_data"
    }
   ],
   "source": [
    "df['Calculus1'].plot(kind = 'density')"
   ]
  },
  {
   "cell_type": "code",
   "execution_count": 91,
   "id": "eb5d8851",
   "metadata": {},
   "outputs": [
    {
     "data": {
      "text/plain": [
       "(78.46666666666667, 83.0)"
      ]
     },
     "execution_count": 91,
     "metadata": {},
     "output_type": "execute_result"
    }
   ],
   "source": [
    "df['Calculus2'].mean(),df['Calculus2'].median()"
   ]
  },
  {
   "cell_type": "code",
   "execution_count": 92,
   "id": "af71fff8",
   "metadata": {},
   "outputs": [
    {
     "data": {
      "text/plain": [
       "<Axes: ylabel='Density'>"
      ]
     },
     "execution_count": 92,
     "metadata": {},
     "output_type": "execute_result"
    },
    {
     "data": {
      "image/png": "[encoded data removed]",
      "text/plain": [
       "<Figure size 640x480 with 1 Axes>"
      ]
     },
     "metadata": {},
     "output_type": "display_data"
    }
   ],
   "source": [
    "df['Calculus2'].plot(kind = 'density')"
   ]
  },
  {
   "cell_type": "code",
   "execution_count": 93,
   "id": "b3ebdc29",
   "metadata": {},
   "outputs": [
    {
     "data": {
      "text/plain": [
       "(85.34285714285714, 87.0)"
      ]
     },
     "execution_count": 93,
     "metadata": {},
     "output_type": "execute_result"
    }
   ],
   "source": [
    "df['Statistics'].mean(),df['Statistics'].median()"
   ]
  },
  {
   "cell_type": "code",
   "execution_count": 94,
   "id": "301ce42a",
   "metadata": {},
   "outputs": [
    {
     "data": {
      "text/plain": [
       "<Axes: ylabel='Density'>"
      ]
     },
     "execution_count": 94,
     "metadata": {},
     "output_type": "execute_result"
    },
    {
     "data": {
      "image/png": "[encoded data removed]",
      "text/plain": [
       "<Figure size 640x480 with 1 Axes>"
      ]
     },
     "metadata": {},
     "output_type": "display_data"
    }
   ],
   "source": [
    "df['Statistics'].plot(kind = 'density')"
   ]
  },
  {
   "cell_type": "code",
   "execution_count": 95,
   "id": "ab0e34f1",
   "metadata": {},
   "outputs": [
    {
     "data": {
      "text/plain": [
       "(84.18095238095238, 84.18095238095238)"
      ]
     },
     "execution_count": 95,
     "metadata": {},
     "output_type": "execute_result"
    }
   ],
   "source": [
    "df['Probability'].mean(),df['Probability'].mean()"
   ]
  },
  {
   "cell_type": "code",
   "execution_count": 97,
   "id": "3ce3bf7a",
   "metadata": {},
   "outputs": [
    {
     "data": {
      "text/plain": [
       "<Axes: ylabel='Density'>"
      ]
     },
     "execution_count": 97,
     "metadata": {},
     "output_type": "execute_result"
    },
    {
     "data": {
      "image/png": "[encoded data removed]",
      "text/plain": [
       "<Figure size 640x480 with 1 Axes>"
      ]
     },
     "metadata": {},
     "output_type": "display_data"
    }
   ],
   "source": [
    "df['Probability'].plot(kind = 'density')"
   ]
  },
  {
   "cell_type": "code",
   "execution_count": 98,
   "id": "ffd0fea9",
   "metadata": {},
   "outputs": [
    {
     "data": {
      "text/plain": [
       "(81.96190476190476, 83.0)"
      ]
     },
     "execution_count": 98,
     "metadata": {},
     "output_type": "execute_result"
    }
   ],
   "source": [
    "df['Measure'].mean(),df['Measure'].median()"
   ]
  },
  {
   "cell_type": "code",
   "execution_count": 99,
   "id": "77967997",
   "metadata": {},
   "outputs": [
    {
     "data": {
      "text/plain": [
       "<Axes: ylabel='Density'>"
      ]
     },
     "execution_count": 99,
     "metadata": {},
     "output_type": "execute_result"
    },
    {
     "data": {
      "image/png": "[encoded data removed]",
      "text/plain": [
       "<Figure size 640x480 with 1 Axes>"
      ]
     },
     "metadata": {},
     "output_type": "display_data"
    }
   ],
   "source": [
    "df['Measure'].plot(kind = 'density')"
   ]
  },
  {
   "cell_type": "code",
   "execution_count": 100,
   "id": "4c37e668",
   "metadata": {},
   "outputs": [
    {
     "data": {
      "text/plain": [
       "(75.93333333333334, 78.0)"
      ]
     },
     "execution_count": 100,
     "metadata": {},
     "output_type": "execute_result"
    }
   ],
   "source": [
    "df['Functional_analysis'].mean(),df['Functional_analysis'].median()"
   ]
  },
  {
   "cell_type": "code",
   "execution_count": 104,
   "id": "32cf413b",
   "metadata": {},
   "outputs": [
    {
     "data": {
      "text/plain": [
       "<Axes: ylabel='Density'>"
      ]
     },
     "execution_count": 104,
     "metadata": {},
     "output_type": "execute_result"
    },
    {
     "data": {
      "image/png": "[encoded data removed]",
      "text/plain": [
       "<Figure size 640x480 with 1 Axes>"
      ]
     },
     "metadata": {},
     "output_type": "display_data"
    }
   ],
   "source": [
    "df['Functional_analysis'].plot(kind = 'density')"
   ]
  },
  {
   "cell_type": "markdown",
   "id": "bb654f2c",
   "metadata": {},
   "source": [
    "### Type casting"
   ]
  },
  {
   "cell_type": "code",
   "execution_count": 127,
   "id": "92dfc8fa",
   "metadata": {},
   "outputs": [
    {
     "data": {
      "text/plain": [
       "dtype('float64')"
      ]
     },
     "execution_count": 127,
     "metadata": {},
     "output_type": "execute_result"
    }
   ],
   "source": [
    "df['Functional_analysis'].dtype"
   ]
  },
  {
   "cell_type": "code",
   "execution_count": 129,
   "id": "dcb8a26b",
   "metadata": {},
   "outputs": [],
   "source": [
    "df['Functional_analysis'] = df['Functional_analysis'].astype('float32')"
   ]
  },
  {
   "cell_type": "code",
   "execution_count": 130,
   "id": "4b04d202",
   "metadata": {},
   "outputs": [
    {
     "name": "stdout",
     "output_type": "stream",
     "text": [
      "<class 'pandas.core.frame.DataFrame'>\n",
      "RangeIndex: 105 entries, 0 to 104\n",
      "Data columns (total 11 columns):\n",
      " #   Column               Non-Null Count  Dtype  \n",
      "---  ------               --------------  -----  \n",
      " 0   ID                   105 non-null    int64  \n",
      " 1   class                105 non-null    object \n",
      " 2   gender               105 non-null    object \n",
      " 3   GPA                  105 non-null    float64\n",
      " 4   Algebra              105 non-null    float64\n",
      " 5   Calculus1            105 non-null    int64  \n",
      " 6   Calculus2            105 non-null    float64\n",
      " 7   Statistics           105 non-null    int64  \n",
      " 8   Probability          105 non-null    float64\n",
      " 9   Measure              105 non-null    float64\n",
      " 10  Functional_analysis  105 non-null    float32\n",
      "dtypes: float32(1), float64(5), int64(3), object(2)\n",
      "memory usage: 8.7+ KB\n"
     ]
    }
   ],
   "source": [
    "df.info()"
   ]
  },
  {
   "cell_type": "markdown",
   "id": "5f9bd71d",
   "metadata": {},
   "source": [
    "### variance"
   ]
  },
  {
   "cell_type": "code",
   "execution_count": 132,
   "id": "72c03caa",
   "metadata": {},
   "outputs": [
    {
     "data": {
      "text/plain": [
       "35"
      ]
     },
     "execution_count": 132,
     "metadata": {},
     "output_type": "execute_result"
    }
   ],
   "source": [
    "df['Functional_analysis'].nunique()"
   ]
  },
  {
   "cell_type": "code",
   "execution_count": 133,
   "id": "8532940f",
   "metadata": {},
   "outputs": [
    {
     "data": {
      "text/plain": [
       "99"
      ]
     },
     "execution_count": 133,
     "metadata": {},
     "output_type": "execute_result"
    }
   ],
   "source": [
    "df['GPA'].nunique()"
   ]
  },
  {
   "cell_type": "code",
   "execution_count": 134,
   "id": "aedac320",
   "metadata": {},
   "outputs": [
    {
     "data": {
      "text/plain": [
       "39"
      ]
     },
     "execution_count": 134,
     "metadata": {},
     "output_type": "execute_result"
    }
   ],
   "source": [
    "df['Algebra'].nunique()"
   ]
  },
  {
   "cell_type": "code",
   "execution_count": 135,
   "id": "451619cc",
   "metadata": {},
   "outputs": [
    {
     "data": {
      "text/plain": [
       "35"
      ]
     },
     "execution_count": 135,
     "metadata": {},
     "output_type": "execute_result"
    }
   ],
   "source": [
    "df['Probability'].nunique()"
   ]
  },
  {
   "cell_type": "code",
   "execution_count": 136,
   "id": "cb596798",
   "metadata": {},
   "outputs": [
    {
     "data": {
      "text/plain": [
       "37"
      ]
     },
     "execution_count": 136,
     "metadata": {},
     "output_type": "execute_result"
    }
   ],
   "source": [
    "df['Calculus1'].nunique()"
   ]
  },
  {
   "cell_type": "markdown",
   "id": "3c7c8cc6",
   "metadata": {},
   "source": [
    "### Dummy variables"
   ]
  },
  {
   "cell_type": "code",
   "execution_count": 137,
   "id": "7c2955b7",
   "metadata": {},
   "outputs": [
    {
     "data": {
      "text/html": [
       "<div>\n",
       "<style scoped>\n",
       "    .dataframe tbody tr th:only-of-type {\n",
       "        vertical-align: middle;\n",
       "    }\n",
       "\n",
       "    .dataframe tbody tr th {\n",
       "        vertical-align: top;\n",
       "    }\n",
       "\n",
       "    .dataframe thead th {\n",
       "        text-align: right;\n",
       "    }\n",
       "</style>\n",
       "<table border=\"1\" class=\"dataframe\">\n",
       "  <thead>\n",
       "    <tr style=\"text-align: right;\">\n",
       "      <th></th>\n",
       "      <th>ID</th>\n",
       "      <th>class</th>\n",
       "      <th>gender</th>\n",
       "      <th>GPA</th>\n",
       "      <th>Algebra</th>\n",
       "      <th>Calculus1</th>\n",
       "      <th>Calculus2</th>\n",
       "      <th>Statistics</th>\n",
       "      <th>Probability</th>\n",
       "      <th>Measure</th>\n",
       "      <th>Functional_analysis</th>\n",
       "    </tr>\n",
       "  </thead>\n",
       "  <tbody>\n",
       "    <tr>\n",
       "      <th>0</th>\n",
       "      <td>1141</td>\n",
       "      <td>A</td>\n",
       "      <td>male</td>\n",
       "      <td>73.47</td>\n",
       "      <td>64.0</td>\n",
       "      <td>81</td>\n",
       "      <td>87.0</td>\n",
       "      <td>60</td>\n",
       "      <td>74.0</td>\n",
       "      <td>71.0</td>\n",
       "      <td>60.0</td>\n",
       "    </tr>\n",
       "    <tr>\n",
       "      <th>1</th>\n",
       "      <td>1142</td>\n",
       "      <td>A</td>\n",
       "      <td>female</td>\n",
       "      <td>71.22</td>\n",
       "      <td>57.0</td>\n",
       "      <td>50</td>\n",
       "      <td>51.0</td>\n",
       "      <td>51</td>\n",
       "      <td>55.0</td>\n",
       "      <td>62.0</td>\n",
       "      <td>61.0</td>\n",
       "    </tr>\n",
       "    <tr>\n",
       "      <th>2</th>\n",
       "      <td>1143</td>\n",
       "      <td>A</td>\n",
       "      <td>female</td>\n",
       "      <td>74.56</td>\n",
       "      <td>47.0</td>\n",
       "      <td>48</td>\n",
       "      <td>71.0</td>\n",
       "      <td>60</td>\n",
       "      <td>86.0</td>\n",
       "      <td>68.0</td>\n",
       "      <td>64.0</td>\n",
       "    </tr>\n",
       "  </tbody>\n",
       "</table>\n",
       "</div>"
      ],
      "text/plain": [
       "     ID class  gender    GPA  Algebra  Calculus1  Calculus2  Statistics  \\\n",
       "0  1141     A    male  73.47     64.0         81       87.0          60   \n",
       "1  1142     A  female  71.22     57.0         50       51.0          51   \n",
       "2  1143     A  female  74.56     47.0         48       71.0          60   \n",
       "\n",
       "   Probability  Measure  Functional_analysis  \n",
       "0         74.0     71.0                 60.0  \n",
       "1         55.0     62.0                 61.0  \n",
       "2         86.0     68.0                 64.0  "
      ]
     },
     "execution_count": 137,
     "metadata": {},
     "output_type": "execute_result"
    }
   ],
   "source": [
    "df.head(3)"
   ]
  },
  {
   "cell_type": "code",
   "execution_count": 138,
   "id": "fbaa63d5",
   "metadata": {},
   "outputs": [],
   "source": [
    "def gen(n):\n",
    "    if n == 'male':\n",
    "        return 0\n",
    "    else:\n",
    "        return 1"
   ]
  },
  {
   "cell_type": "code",
   "execution_count": 139,
   "id": "f21d9bdb",
   "metadata": {},
   "outputs": [],
   "source": [
    "df['gender'] = df['gender'].apply(gen)"
   ]
  },
  {
   "cell_type": "code",
   "execution_count": 140,
   "id": "260523c2",
   "metadata": {},
   "outputs": [
    {
     "data": {
      "text/html": [
       "<div>\n",
       "<style scoped>\n",
       "    .dataframe tbody tr th:only-of-type {\n",
       "        vertical-align: middle;\n",
       "    }\n",
       "\n",
       "    .dataframe tbody tr th {\n",
       "        vertical-align: top;\n",
       "    }\n",
       "\n",
       "    .dataframe thead th {\n",
       "        text-align: right;\n",
       "    }\n",
       "</style>\n",
       "<table border=\"1\" class=\"dataframe\">\n",
       "  <thead>\n",
       "    <tr style=\"text-align: right;\">\n",
       "      <th></th>\n",
       "      <th>ID</th>\n",
       "      <th>class</th>\n",
       "      <th>gender</th>\n",
       "      <th>GPA</th>\n",
       "      <th>Algebra</th>\n",
       "      <th>Calculus1</th>\n",
       "      <th>Calculus2</th>\n",
       "      <th>Statistics</th>\n",
       "      <th>Probability</th>\n",
       "      <th>Measure</th>\n",
       "      <th>Functional_analysis</th>\n",
       "    </tr>\n",
       "  </thead>\n",
       "  <tbody>\n",
       "    <tr>\n",
       "      <th>0</th>\n",
       "      <td>1141</td>\n",
       "      <td>A</td>\n",
       "      <td>0</td>\n",
       "      <td>73.47</td>\n",
       "      <td>64.0</td>\n",
       "      <td>81</td>\n",
       "      <td>87.0</td>\n",
       "      <td>60</td>\n",
       "      <td>74.0</td>\n",
       "      <td>71.0</td>\n",
       "      <td>60.0</td>\n",
       "    </tr>\n",
       "    <tr>\n",
       "      <th>1</th>\n",
       "      <td>1142</td>\n",
       "      <td>A</td>\n",
       "      <td>1</td>\n",
       "      <td>71.22</td>\n",
       "      <td>57.0</td>\n",
       "      <td>50</td>\n",
       "      <td>51.0</td>\n",
       "      <td>51</td>\n",
       "      <td>55.0</td>\n",
       "      <td>62.0</td>\n",
       "      <td>61.0</td>\n",
       "    </tr>\n",
       "    <tr>\n",
       "      <th>2</th>\n",
       "      <td>1143</td>\n",
       "      <td>A</td>\n",
       "      <td>1</td>\n",
       "      <td>74.56</td>\n",
       "      <td>47.0</td>\n",
       "      <td>48</td>\n",
       "      <td>71.0</td>\n",
       "      <td>60</td>\n",
       "      <td>86.0</td>\n",
       "      <td>68.0</td>\n",
       "      <td>64.0</td>\n",
       "    </tr>\n",
       "  </tbody>\n",
       "</table>\n",
       "</div>"
      ],
      "text/plain": [
       "     ID class  gender    GPA  Algebra  Calculus1  Calculus2  Statistics  \\\n",
       "0  1141     A       0  73.47     64.0         81       87.0          60   \n",
       "1  1142     A       1  71.22     57.0         50       51.0          51   \n",
       "2  1143     A       1  74.56     47.0         48       71.0          60   \n",
       "\n",
       "   Probability  Measure  Functional_analysis  \n",
       "0         74.0     71.0                 60.0  \n",
       "1         55.0     62.0                 61.0  \n",
       "2         86.0     68.0                 64.0  "
      ]
     },
     "execution_count": 140,
     "metadata": {},
     "output_type": "execute_result"
    }
   ],
   "source": [
    "df.head(3)"
   ]
  },
  {
   "cell_type": "markdown",
   "id": "3fd5c570",
   "metadata": {},
   "source": [
    "### Discretization"
   ]
  },
  {
   "cell_type": "code",
   "execution_count": 161,
   "id": "1afafdb8",
   "metadata": {},
   "outputs": [],
   "source": [
    "def GPA(n):\n",
    "    if n != 50:\n",
    "        return 'Pass'\n",
    "    else:\n",
    "        return 'Fail'"
   ]
  },
  {
   "cell_type": "code",
   "execution_count": 162,
   "id": "ff2e0326",
   "metadata": {},
   "outputs": [],
   "source": [
    "df['GPA'] = df['GPA'].apply(GPA)"
   ]
  },
  {
   "cell_type": "code",
   "execution_count": 163,
   "id": "b28a296f",
   "metadata": {},
   "outputs": [
    {
     "data": {
      "text/html": [
       "<div>\n",
       "<style scoped>\n",
       "    .dataframe tbody tr th:only-of-type {\n",
       "        vertical-align: middle;\n",
       "    }\n",
       "\n",
       "    .dataframe tbody tr th {\n",
       "        vertical-align: top;\n",
       "    }\n",
       "\n",
       "    .dataframe thead th {\n",
       "        text-align: right;\n",
       "    }\n",
       "</style>\n",
       "<table border=\"1\" class=\"dataframe\">\n",
       "  <thead>\n",
       "    <tr style=\"text-align: right;\">\n",
       "      <th></th>\n",
       "      <th>ID</th>\n",
       "      <th>class</th>\n",
       "      <th>gender</th>\n",
       "      <th>GPA</th>\n",
       "      <th>Algebra</th>\n",
       "      <th>Calculus1</th>\n",
       "      <th>Calculus2</th>\n",
       "      <th>Statistics</th>\n",
       "      <th>Probability</th>\n",
       "      <th>Measure</th>\n",
       "      <th>Functional_analysis</th>\n",
       "    </tr>\n",
       "  </thead>\n",
       "  <tbody>\n",
       "    <tr>\n",
       "      <th>0</th>\n",
       "      <td>1141</td>\n",
       "      <td>A</td>\n",
       "      <td>0</td>\n",
       "      <td>Pass</td>\n",
       "      <td>64.0</td>\n",
       "      <td>81</td>\n",
       "      <td>87.0</td>\n",
       "      <td>60</td>\n",
       "      <td>74.0</td>\n",
       "      <td>71.0</td>\n",
       "      <td>60.0</td>\n",
       "    </tr>\n",
       "    <tr>\n",
       "      <th>1</th>\n",
       "      <td>1142</td>\n",
       "      <td>A</td>\n",
       "      <td>1</td>\n",
       "      <td>Pass</td>\n",
       "      <td>57.0</td>\n",
       "      <td>50</td>\n",
       "      <td>51.0</td>\n",
       "      <td>51</td>\n",
       "      <td>55.0</td>\n",
       "      <td>62.0</td>\n",
       "      <td>61.0</td>\n",
       "    </tr>\n",
       "    <tr>\n",
       "      <th>2</th>\n",
       "      <td>1143</td>\n",
       "      <td>A</td>\n",
       "      <td>1</td>\n",
       "      <td>Pass</td>\n",
       "      <td>47.0</td>\n",
       "      <td>48</td>\n",
       "      <td>71.0</td>\n",
       "      <td>60</td>\n",
       "      <td>86.0</td>\n",
       "      <td>68.0</td>\n",
       "      <td>64.0</td>\n",
       "    </tr>\n",
       "  </tbody>\n",
       "</table>\n",
       "</div>"
      ],
      "text/plain": [
       "     ID class  gender   GPA  Algebra  Calculus1  Calculus2  Statistics  \\\n",
       "0  1141     A       0  Pass     64.0         81       87.0          60   \n",
       "1  1142     A       1  Pass     57.0         50       51.0          51   \n",
       "2  1143     A       1  Pass     47.0         48       71.0          60   \n",
       "\n",
       "   Probability  Measure  Functional_analysis  \n",
       "0         74.0     71.0                 60.0  \n",
       "1         55.0     62.0                 61.0  \n",
       "2         86.0     68.0                 64.0  "
      ]
     },
     "execution_count": 163,
     "metadata": {},
     "output_type": "execute_result"
    }
   ],
   "source": [
    "df.head(3)"
   ]
  },
  {
   "cell_type": "markdown",
   "id": "2d3d1ff7",
   "metadata": {},
   "source": [
    "### scaling"
   ]
  },
  {
   "cell_type": "code",
   "execution_count": 168,
   "id": "a080b8da",
   "metadata": {},
   "outputs": [],
   "source": [
    "#Normalization\n",
    "def norm(x):\n",
    "    n = (x - x.min())/(x.max() - x.min())\n",
    "    return n"
   ]
  },
  {
   "cell_type": "code",
   "execution_count": 169,
   "id": "f77bee5e",
   "metadata": {},
   "outputs": [
    {
     "data": {
      "text/plain": [
       "0      0.346154\n",
       "1      0.211538\n",
       "2      0.019231\n",
       "3      0.000000\n",
       "4      0.057692\n",
       "         ...   \n",
       "100    0.788462\n",
       "101    1.000000\n",
       "102    0.711538\n",
       "103    0.884615\n",
       "104    0.903846\n",
       "Name: Algebra, Length: 105, dtype: float64"
      ]
     },
     "execution_count": 169,
     "metadata": {},
     "output_type": "execute_result"
    }
   ],
   "source": [
    "norm(df['Algebra'])"
   ]
  },
  {
   "cell_type": "code",
   "execution_count": 171,
   "id": "ad036652",
   "metadata": {},
   "outputs": [
    {
     "data": {
      "text/plain": [
       "(0, 0)"
      ]
     },
     "execution_count": 171,
     "metadata": {},
     "output_type": "execute_result"
    }
   ],
   "source": [
    "sum(norm(df['Algebra'])>1),sum(norm(df['Algebra'])<-1)"
   ]
  },
  {
   "cell_type": "code",
   "execution_count": 172,
   "id": "ce231422",
   "metadata": {},
   "outputs": [],
   "source": [
    "#standard\n",
    "def stnd(x):\n",
    "    n = (x - x.mean())/(x.std())\n",
    "    return n"
   ]
  },
  {
   "cell_type": "code",
   "execution_count": 173,
   "id": "c5fb84f1",
   "metadata": {},
   "outputs": [
    {
     "data": {
      "text/plain": [
       "0     -1.016085\n",
       "1     -1.614500\n",
       "2     -2.469379\n",
       "3     -2.554867\n",
       "4     -2.298403\n",
       "         ...   \n",
       "100    0.950137\n",
       "101    1.890504\n",
       "102    0.608185\n",
       "103    1.377576\n",
       "104    1.463064\n",
       "Name: Algebra, Length: 105, dtype: float64"
      ]
     },
     "execution_count": 173,
     "metadata": {},
     "output_type": "execute_result"
    }
   ],
   "source": [
    "stnd(df['Algebra'])"
   ]
  },
  {
   "cell_type": "code",
   "execution_count": 174,
   "id": "4b526184",
   "metadata": {},
   "outputs": [
    {
     "data": {
      "text/plain": [
       "(0, 0)"
      ]
     },
     "execution_count": 174,
     "metadata": {},
     "output_type": "execute_result"
    }
   ],
   "source": [
    "sum(stnd(df['Algebra'])>3),sum(stnd(df['Algebra'])<-3)"
   ]
  },
  {
   "cell_type": "code",
   "execution_count": null,
   "id": "b8c31715",
   "metadata": {},
   "outputs": [],
   "source": []
  }
 ],
 "metadata": {
  "kernelspec": {
   "display_name": "Python 3 (ipykernel)",
   "language": "python",
   "name": "python3"
  },
  "language_info": {
   "codemirror_mode": {
    "name": "ipython",
    "version": 3
   },
   "file_extension": ".py",
   "mimetype": "text/x-python",
   "name": "python",
   "nbconvert_exporter": "python",
   "pygments_lexer": "ipython3",
   "version": "3.11.4"
  }
 },
 "nbformat": 4,
 "nbformat_minor": 5
}
