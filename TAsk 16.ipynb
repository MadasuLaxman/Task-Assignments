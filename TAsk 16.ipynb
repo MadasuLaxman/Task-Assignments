{
 "cells": [
  {
   "cell_type": "markdown",
   "id": "fd99fb02",
   "metadata": {},
   "source": [
    "**Task 1**:\n",
    "1. Load the file 'about_python.txt'into your jupyter notebook.\n",
    "    \n",
    "    a. Correct wrong statements about python features\n",
    "    \n",
    "    b. How many charactaers present in the data\n",
    "    \n",
    "    c. How many times 'Python' word is repeated.\n",
    "    \n",
    "    d. after correcting all ..print complete valid features of the python.\n",
    "    \n",
    "**Task2**:\n",
    "\n",
    "2. Create a file 'File.txt'which expalains python file handling whatever you have learnt today(creating,reading,wring and appending...etc) in detail.That reaload the saved file(i.e File.txt) to jupyter notebook."
   ]
  },
  {
   "cell_type": "code",
   "execution_count": 61,
   "id": "ae6e729f",
   "metadata": {},
   "outputs": [],
   "source": [
    "file = open(r\"C:\\Users\\madas\\Downloads\\about_python.txt\",'w')"
   ]
  },
  {
   "cell_type": "code",
   "execution_count": 7,
   "id": "245d64a2",
   "metadata": {},
   "outputs": [
    {
     "name": "stdout",
     "output_type": "stream",
     "text": [
      "Python supports object-oriented programming (OOP) concepts.\n",
      "Python is a compiled language.\n",
      "Python has a rich ecosystem of third-party libraries.\n",
      "Python is a paid programming language\n",
      "Python uses indentation for code block structuring.\n",
      "Python is statically Typed Language\n",
      "Python only supports double quotes for string literals.\n",
      "Python can only be used for web development.\n",
      "Python was created by Elon Musk.\n"
     ]
    }
   ],
   "source": [
    "print(file.read())"
   ]
  },
  {
   "cell_type": "code",
   "execution_count": 62,
   "id": "17ab9d8a",
   "metadata": {},
   "outputs": [
    {
     "data": {
      "text/plain": [
       "997"
      ]
     },
     "execution_count": 62,
     "metadata": {},
     "output_type": "execute_result"
    }
   ],
   "source": [
    "file.write('Python supports object-oriented programming along with other programming paradigms.\\nPython is an interpreted language, which means it is not compiled into machine code like languages such as C++ or Java.\\nPython has a vast and rich ecosystem of third-party libraries and packages, making it a popular choice for a wide range of applications.\\nPython is open-source and free to use. There are no licensing fees associated with Python.\\nPython uses indentation to define code blocks and enforce a consistent and readable coding style.\\nPython is dynamically typed, which means you don\"t need to declare the data type of a variable explicitly.\\nPython allows you to define string literals using either single quotes ('') or double quotes (\"\").\\nPython is a general-purpose programming language and can be used for a wide variety of applications, including web development, data analysis, scientific computing, desktop applications, and more.\\nPython was created by Guido van Rossum and first released in 1991.')"
   ]
  },
  {
   "cell_type": "code",
   "execution_count": 63,
   "id": "614c9e78",
   "metadata": {},
   "outputs": [],
   "source": [
    "file.close()"
   ]
  },
  {
   "cell_type": "code",
   "execution_count": 64,
   "id": "b8863ddd",
   "metadata": {},
   "outputs": [],
   "source": [
    "file = open(r\"C:\\Users\\madas\\Downloads\\about_python.txt\",'r')"
   ]
  },
  {
   "cell_type": "code",
   "execution_count": 65,
   "id": "b03682cf",
   "metadata": {},
   "outputs": [],
   "source": [
    "file.seek(0)\n",
    "data = file.read()"
   ]
  },
  {
   "cell_type": "code",
   "execution_count": 66,
   "id": "21deefaf",
   "metadata": {},
   "outputs": [
    {
     "data": {
      "text/plain": [
       "997"
      ]
     },
     "execution_count": 66,
     "metadata": {},
     "output_type": "execute_result"
    }
   ],
   "source": [
    "len(data)"
   ]
  },
  {
   "cell_type": "code",
   "execution_count": 67,
   "id": "e9cd8029",
   "metadata": {},
   "outputs": [
    {
     "data": {
      "text/plain": [
       "10"
      ]
     },
     "execution_count": 67,
     "metadata": {},
     "output_type": "execute_result"
    }
   ],
   "source": [
    "data.count('Python')"
   ]
  },
  {
   "cell_type": "code",
   "execution_count": 68,
   "id": "f870705f",
   "metadata": {},
   "outputs": [
    {
     "name": "stdout",
     "output_type": "stream",
     "text": [
      "Python supports object-oriented programming along with other programming paradigms.\n",
      "Python is an interpreted language, which means it is not compiled into machine code like languages such as C++ or Java.\n",
      "Python has a vast and rich ecosystem of third-party libraries and packages, making it a popular choice for a wide range of applications.\n",
      "Python is open-source and free to use. There are no licensing fees associated with Python.\n",
      "Python uses indentation to define code blocks and enforce a consistent and readable coding style.\n",
      "Python is dynamically typed, which means you don\"t need to declare the data type of a variable explicitly.\n",
      "Python allows you to define string literals using either single quotes () or double quotes (\"\").\n",
      "Python is a general-purpose programming language and can be used for a wide variety of applications, including web development, data analysis, scientific computing, desktop applications, and more.\n",
      "Python was created by Guido van Rossum and first released in 1991.\n"
     ]
    }
   ],
   "source": [
    "print(data) ##valid features of the python."
   ]
  },
  {
   "cell_type": "markdown",
   "id": "dec4990d",
   "metadata": {},
   "source": [
    "**Task2**:\n",
    "\n",
    "2. Create a file 'File.txt'which expalains python file handling whatever you have learnt today(creating,reading,wring and appending...etc) in detail.That reaload the saved file(i.e File.txt) to jupyter notebook."
   ]
  },
  {
   "cell_type": "code",
   "execution_count": 69,
   "id": "75f434a0",
   "metadata": {},
   "outputs": [],
   "source": [
    "features = open('File.txt','w') "
   ]
  },
  {
   "cell_type": "code",
   "execution_count": 70,
   "id": "0a380207",
   "metadata": {},
   "outputs": [
    {
     "data": {
      "text/plain": [
       "707"
      ]
     },
     "execution_count": 70,
     "metadata": {},
     "output_type": "execute_result"
    }
   ],
   "source": [
    "features.write('File Handling : \\n1. File Path\\n2. File Name\\nFile Name it checks Files in the current working directory.\\nreading to the file\\n#reads the files\\nmode = \" r \"\\nif there is no file then we exists an FileNotFoundError.\\nWriting to the Files\\n#adding the data\\nif you made some changes/writing the data old data is overidden/replace by new data.\\nif you want to add data, use write function then to make changes you need to close the file.\\nFile exists -- if overwrite the past data.\\nFile not exists-- it creates automatically.\\nmode = \"w\".\\nappending to the File.\\nappend -- To join the data to existing data\\nmode =\"a\"\\ncreate -- creates new file.\\nif the file already existed, it will return to FileExistsError.\\nmode = \" x \" ')"
   ]
  },
  {
   "cell_type": "code",
   "execution_count": 71,
   "id": "a0728354",
   "metadata": {},
   "outputs": [],
   "source": [
    "features.close()"
   ]
  },
  {
   "cell_type": "code",
   "execution_count": 72,
   "id": "fb5188d6",
   "metadata": {},
   "outputs": [],
   "source": [
    "features = open('File.txt','r') "
   ]
  },
  {
   "cell_type": "code",
   "execution_count": 73,
   "id": "60aa86a2",
   "metadata": {},
   "outputs": [
    {
     "name": "stdout",
     "output_type": "stream",
     "text": [
      "File Handling : \n",
      "1. File Path\n",
      "2. File Name\n",
      "File Name it checks Files in the current working directory.\n",
      "reading to the file\n",
      "#reads the files\n",
      "mode = \" r \"\n",
      "if there is no file then we exists an FileNotFoundError.\n",
      "Writing to the Files\n",
      "#adding the data\n",
      "if you made some changes/writing the data old data is overidden/replace by new data.\n",
      "if you want to add data, use write function then to make changes you need to close the file.\n",
      "File exists -- if overwrite the past data.\n",
      "File not exists-- it creates automatically.\n",
      "mode = \"w\".\n",
      "appending to the File.\n",
      "append -- To join the data to existing data\n",
      "mode =\"a\"\n",
      "create -- creates new file.\n",
      "if the file already existed, it will return to FileExistsError.\n",
      "mode = \" x \" \n"
     ]
    }
   ],
   "source": [
    "print(features.read())"
   ]
  },
  {
   "cell_type": "code",
   "execution_count": 74,
   "id": "56154da9",
   "metadata": {},
   "outputs": [
    {
     "name": "stdout",
     "output_type": "stream",
     "text": [
      "File Handling : \n",
      "1. File Path\n",
      "2. File Name\n",
      "File Name it checks Files in the current working directory.\n",
      "reading to the file\n",
      "#reads the files\n",
      "mode = \" r \"\n",
      "if there is no file then we exists an FileNotFoundError.\n",
      "Writing to the Files\n",
      "#adding the data\n",
      "if you made some changes/writing the data old data is overidden/replace by new data.\n",
      "if you want to add data, use write function then to make changes you need to close the file.\n",
      "File exists -- if overwrite the past data.\n",
      "File not exists-- it creates automatically.\n",
      "mode = \"w\".\n",
      "appending to the File.\n",
      "append -- To join the data to existing data\n",
      "mode =\"a\"\n",
      "create -- creates new file.\n",
      "if the file already existed, it will return to FileExistsError.\n",
      "mode = \" x \" \n"
     ]
    }
   ],
   "source": [
    "with open('File.txt', 'r') as file:\n",
    "    content = file.read()\n",
    "print(content)\n"
   ]
  },
  {
   "cell_type": "code",
   "execution_count": null,
   "id": "ffcd9fbf",
   "metadata": {},
   "outputs": [],
   "source": []
  }
 ],
 "metadata": {
  "kernelspec": {
   "display_name": "Python 3 (ipykernel)",
   "language": "python",
   "name": "python3"
  },
  "language_info": {
   "codemirror_mode": {
    "name": "ipython",
    "version": 3
   },
   "file_extension": ".py",
   "mimetype": "text/x-python",
   "name": "python",
   "nbconvert_exporter": "python",
   "pygments_lexer": "ipython3",
   "version": "3.11.4"
  }
 },
 "nbformat": 4,
 "nbformat_minor": 5
}
