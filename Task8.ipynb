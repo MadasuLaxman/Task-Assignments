{
 "cells": [
  {
   "cell_type": "markdown",
   "id": "21c2b7b2",
   "metadata": {},
   "source": [
    "\n",
    "\n",
    "\n",
    "\n",
    "\n",
    "\n",
    "\n",
    "\n",
    "\n",
    "\n",
    "\n"
   ]
  },
  {
   "cell_type": "markdown",
   "id": "57af6881",
   "metadata": {},
   "source": [
    "**Task 1: Basic If-Else Statements**\n",
    "Write a Python program that takes an `integer as input` from the user and prints whether it is `multiple of 3 or not` using if-else statements."
   ]
  },
  {
   "cell_type": "code",
   "execution_count": 46,
   "id": "0c04e7c6",
   "metadata": {},
   "outputs": [
    {
     "name": "stdout",
     "output_type": "stream",
     "text": [
      "Enter a number::36\n",
      " it is multiple of 3 \n"
     ]
    }
   ],
   "source": [
    "n = int(input(\"Enter a number::\"))\n",
    "\n",
    "if (n % 3 == 0):\n",
    "    print(\" it is multiple of 3 \")\n",
    "else:\n",
    "    print(\"it is not multiple of 3\")"
   ]
  },
  {
   "cell_type": "markdown",
   "id": "71e2b460",
   "metadata": {},
   "source": [
    "**Task 2: Nested If Statements**\n",
    "Create a program that `asks the user` for their `age` and `nationality`. Depending on their age and nationality, display a different message using nested if statements. For example, if they are under 18 and from the USA, display `\"You are a minor from the USA.\"`\n"
   ]
  },
  {
   "cell_type": "code",
   "execution_count": 1,
   "id": "dda33a6d",
   "metadata": {},
   "outputs": [
    {
     "name": "stdout",
     "output_type": "stream",
     "text": [
      "Enter your age : 21\n",
      "Enter your Nationality : india\n",
      "You are a major from india\n"
     ]
    }
   ],
   "source": [
    "age = int(input(\"Enter your age : \"))\n",
    "nation = input(\"Enter your Nationality : \")\n",
    "\n",
    "if (age < 18 ) :\n",
    "    if nation == \"USA\":\n",
    "    \n",
    "        print(f\"You are a minor from {nation} \")\n",
    "    print(f\"You are minor from {nation}\")\n",
    "else :\n",
    "    print(f\"You are a major from {nation}\")"
   ]
  },
  {
   "cell_type": "markdown",
   "id": "76361982",
   "metadata": {},
   "source": [
    "**Task 3: Grade Calculator**\n",
    "Write a program that takes a student's score as input and converts it to a letter grade (A, B, C, D, or F) using if-elif-else statements. Use the following grading scale:\n",
    "- A: 90-100\n",
    "- B: 80-89\n",
    "- C: 70-79\n",
    "- D: 60-69\n",
    "- F: Below 60"
   ]
  },
  {
   "cell_type": "code",
   "execution_count": 22,
   "id": "bbf826a1",
   "metadata": {},
   "outputs": [
    {
     "name": "stdout",
     "output_type": "stream",
     "text": [
      "Enter your marks :: 59\n",
      "Fail\n"
     ]
    }
   ],
   "source": [
    "marks = int(input(\"Enter your marks :: \"))\n",
    "if (marks >= 90) and (marks < 100):\n",
    "    print(\"A Grade\")\n",
    "    \n",
    "elif (marks >= 80) and (marks < 90):\n",
    "    print(\"B Grade\")\n",
    "    \n",
    "elif (marks >= 70) and (marks < 80):\n",
    "    print(\"C Grade\")\n",
    "    \n",
    "elif (marks >= 60) and (marks < 70):\n",
    "    print(\"D Grade\")\n",
    "    \n",
    "elif (marks >100)   or  (marks<0):\n",
    "    print(\"Enter valid marks\")\n",
    "    \n",
    "else:\n",
    "    print(\"Fail\")"
   ]
  },
  {
   "cell_type": "markdown",
   "id": "b2ccc691",
   "metadata": {},
   "source": [
    "**Task 4: Leap Year Checker**\n",
    "Create a Python program that checks if a given year is a leap year or not. Use conditional statements to determine whether the year is divisible by 4, 100, and 400 to decide if it's a leap year.\n"
   ]
  },
  {
   "cell_type": "code",
   "execution_count": 35,
   "id": "9823c512",
   "metadata": {},
   "outputs": [
    {
     "name": "stdout",
     "output_type": "stream",
     "text": [
      "Enter a year : 2020\n",
      "It is a leap Year \n"
     ]
    }
   ],
   "source": [
    "year = int(input(\"Enter a year : \"))\n",
    "\n",
    "\n",
    "if ((year % 4 == 0) and (year % 100 != 0)) or (year % 400 == 0):\n",
    "    print(\"It is a leap Year \")\n",
    "    \n",
    "else :\n",
    "    print(\"It is not a leap year\")"
   ]
  },
  {
   "cell_type": "code",
   "execution_count": 34,
   "id": "541cea55",
   "metadata": {},
   "outputs": [
    {
     "name": "stdout",
     "output_type": "stream",
     "text": [
      "Enter a Year::2021\n",
      "It is not a leap year\n"
     ]
    }
   ],
   "source": [
    "year = int(input(\"Enter a Year::\"))\n",
    "\n",
    "if (year % 4 == 0):\n",
    "    print(\"It is a leap year\")\n",
    "    \n",
    "elif(year % 100 == 0):\n",
    "    print(\"It is not a leap year\")\n",
    "    \n",
    "elif(year % 400 == 0):\n",
    "    print(\"It is a leap year\")\n",
    "    \n",
    "else:\n",
    "    print(\"It is not a leap year\")"
   ]
  },
  {
   "cell_type": "markdown",
   "id": "17d78bf4",
   "metadata": {},
   "source": [
    "**Task 5: BMI Calculator**\n",
    "Write a program that calculates a person's Body Mass Index (BMI) based on their height and weight. Then, use conditional statements to categorize the BMI as Underweight, Normal, Overweight, or Obese. Provide guidance on the healthy range for BMI.(use BMI Formula)\n"
   ]
  },
  {
   "cell_type": "code",
   "execution_count": 36,
   "id": "f4a7b61b",
   "metadata": {},
   "outputs": [
    {
     "name": "stdout",
     "output_type": "stream",
     "text": [
      "Enter your Height in feets : 5.5\n",
      "Enter your weight in KG's : 55\n",
      "19.570747464727273\n",
      "Normal\n"
     ]
    }
   ],
   "source": [
    "Height = float(input(\"Enter your Height in feets : \"))\n",
    "\n",
    "weight = int(input(\"Enter your weight in KG's : \"))\n",
    "\n",
    "Height_in_meters = Height/3.28084\n",
    "\n",
    "bmi = weight/Height_in_meters**2\n",
    "print(bmi)\n",
    "\n",
    "if (bmi<18.5) :\n",
    "    print(\"you are considered underweight\")\n",
    "    \n",
    "elif (bmi>=18.5) and (bmi<=24.9) :\n",
    "    print(\"Normal\")\n",
    "    \n",
    "elif (bmi>=25.0) and (bmi<=29.9) :\n",
    "    print(\"Overweight\")\n",
    "\n",
    "else :\n",
    "    print(\"Obese\")"
   ]
  },
  {
   "cell_type": "markdown",
   "id": "167dba00",
   "metadata": {},
   "source": [
    "**Task 6: Calculator with Menu**\n",
    "Build a simple calculator program that provides a menu with options for addition, subtraction, multiplication, and division. `Take user input for two numbers`and an `operation choice`. Use conditional statements to perform the selected operation and display the result."
   ]
  },
  {
   "cell_type": "code",
   "execution_count": 39,
   "id": "86f52454",
   "metadata": {},
   "outputs": [
    {
     "name": "stdout",
     "output_type": "stream",
     "text": [
      "Enter a number : 10\n",
      "Enter a number : 10\n",
      "operators\n",
      "addition\n",
      "subtraction\n",
      "multiplication\n",
      "division\n",
      "Enter  a operation from above menu: addition\n",
      "The addition of Two numbers is 20.0\n"
     ]
    }
   ],
   "source": [
    "num1 = float(input(\"Enter a number : \"))\n",
    "num2 = float(input(\"Enter a number : \"))\n",
    "\n",
    "print (\"operators\")\n",
    "\n",
    "print(\"addition\")\n",
    "print(\"subtraction\")\n",
    "print(\"multiplication\")\n",
    "print(\"division\")\n",
    "\n",
    "operation = input(\"Enter  a operation from above menu: \")\n",
    "\n",
    "if (operation == \"addition\") :\n",
    "    addition = num1 + num2\n",
    "    print(\"The addition of Two numbers is\" , addition)\n",
    "    \n",
    "elif (operation == \"subtraction\") :\n",
    "    subtraction = num1 - num2\n",
    "    print(\"The subtraction of Two numbers is\" , subtraction)\n",
    "\n",
    "elif (operation == \"multiplication\") :\n",
    "    multiplication = num1 * num2\n",
    "    print(\"The multiplication of Two numbers is\" , multiplication)\n",
    "    \n",
    "elif (operation == \"division\") :\n",
    "    division = num1 / num2\n",
    "    print(\"The division of Two numbers is\" , division)\n",
    "else :\n",
    "    print(\"Enter a valid operation\")"
   ]
  },
  {
   "cell_type": "markdown",
   "id": "9fe8d6cb",
   "metadata": {},
   "source": [
    "**Task 7: Temperature Converter**\n",
    "Write a program that `converts temperatures between Celsius and Fahrenhei`t. Allow the user to `choose` the conversion direction and input the temperature value. Use conditional statements to perform the conversion based on the `user's choice`.(Do with conversion formula)"
   ]
  },
  {
   "cell_type": "code",
   "execution_count": 44,
   "id": "3ac3e6e9",
   "metadata": {},
   "outputs": [
    {
     "name": "stdout",
     "output_type": "stream",
     "text": [
      "Enter Conversion Fahrenheit\n",
      "Enter temperature in celsius : 100\n",
      "Celsius converted into Fahrenheit : 212.0\n"
     ]
    }
   ],
   "source": [
    "conv = input(\"Enter Conversion \")\n",
    "\n",
    "\n",
    "if conv == \"Fahrenheit\":\n",
    "    celsius = float(input(\"Enter temperature in celsius : \"))\n",
    "    formula = celsius*1.8+32\n",
    "    print(f\"Celsius converted into Fahrenheit : {formula}\")\n",
    "\n",
    "elif conv == \"Celsius\" :\n",
    "    fahrenheit = float(input(\"Enter temperature in fahrenheit : \"))\n",
    "    formula_1 = (fahrenheit-32)/1.8\n",
    "    print(f\"Fahrenheit converted into Celsius : {formula_1}\")\n",
    "    \n",
    "else :\n",
    "    print(\"Choose Correct Conversion\")"
   ]
  },
  {
   "cell_type": "code",
   "execution_count": null,
   "id": "e9ff55e2",
   "metadata": {},
   "outputs": [],
   "source": []
  }
 ],
 "metadata": {
  "kernelspec": {
   "display_name": "Python 3 (ipykernel)",
   "language": "python",
   "name": "python3"
  },
  "language_info": {
   "codemirror_mode": {
    "name": "ipython",
    "version": 3
   },
   "file_extension": ".py",
   "mimetype": "text/x-python",
   "name": "python",
   "nbconvert_exporter": "python",
   "pygments_lexer": "ipython3",
   "version": "3.11.4"
  }
 },
 "nbformat": 4,
 "nbformat_minor": 5
}
