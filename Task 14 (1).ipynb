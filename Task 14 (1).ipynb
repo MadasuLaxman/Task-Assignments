{
 "cells": [
  {
   "cell_type": "markdown",
   "id": "b74577a2",
   "metadata": {},
   "source": [
    "1. \n",
    "\n",
    "   - Create a lambda function that takes two arguments and returns their sum.\n",
    "   - Create another lambda function that takes a single argument and returns its square.\n",
    "   - Use the `lambda` functions to calculate the sum and square of various numbers and print the results.\n"
   ]
  },
  {
   "cell_type": "code",
   "execution_count": 6,
   "id": "1eaaf292",
   "metadata": {},
   "outputs": [
    {
     "data": {
      "text/plain": [
       "30"
      ]
     },
     "execution_count": 6,
     "metadata": {},
     "output_type": "execute_result"
    }
   ],
   "source": [
    "add = lambda a,b : a+b\n",
    "\n",
    "add(10,20)"
   ]
  },
  {
   "cell_type": "code",
   "execution_count": 10,
   "id": "d0bb5c1a",
   "metadata": {},
   "outputs": [
    {
     "data": {
      "text/plain": [
       "25"
      ]
     },
     "execution_count": 10,
     "metadata": {},
     "output_type": "execute_result"
    }
   ],
   "source": [
    "square = lambda i : i**2\n",
    "square(5)"
   ]
  },
  {
   "cell_type": "code",
   "execution_count": 92,
   "id": "e1e1c1a7",
   "metadata": {},
   "outputs": [
    {
     "name": "stdout",
     "output_type": "stream",
     "text": [
      "Sum of 5 and 7 is: 12\n",
      "Square of 5 is: 25\n"
     ]
    }
   ],
   "source": [
    "sum_lambda = lambda x, y: x + y\n",
    "square_lambda = lambda x: x**2\n",
    "\n",
    "num1 = 5\n",
    "num2 = 7\n",
    "\n",
    "result_sum = sum_lambda(num1, num2)\n",
    "\n",
    "result_square = square_lambda(num1)\n",
    "\n",
    "print(f\"Sum of {num1} and {num2} is: {result_sum}\")\n",
    "print(f\"Square of {num1} is: {result_square}\")\n"
   ]
  },
  {
   "cell_type": "markdown",
   "id": "485fd310",
   "metadata": {},
   "source": [
    "2. \n",
    "   - Define a list of integers.\n",
    "   - Use the `filter` function to create a new list that contains only the even numbers from the original list.\n",
    "   - Use the `filter` function again to create a new list that contains only numbers greater than 10 from the original list.\n",
    "   - Print both filtered lists."
   ]
  },
  {
   "cell_type": "code",
   "execution_count": 18,
   "id": "ed5de244",
   "metadata": {},
   "outputs": [],
   "source": [
    "list1 = [1,2,3,4,5,6,10,20,30,40]"
   ]
  },
  {
   "cell_type": "code",
   "execution_count": 20,
   "id": "7c28917e",
   "metadata": {},
   "outputs": [
    {
     "data": {
      "text/plain": [
       "[2, 4, 6, 10, 20, 30, 40]"
      ]
     },
     "execution_count": 20,
     "metadata": {},
     "output_type": "execute_result"
    }
   ],
   "source": [
    "def even(n):\n",
    "    if n%2 == 0:\n",
    "        return n\n",
    "    \n",
    "list(filter(even,list1))"
   ]
  },
  {
   "cell_type": "code",
   "execution_count": 22,
   "id": "69c2b51e",
   "metadata": {},
   "outputs": [
    {
     "data": {
      "text/plain": [
       "[20, 30, 40]"
      ]
     },
     "execution_count": 22,
     "metadata": {},
     "output_type": "execute_result"
    }
   ],
   "source": [
    "def even(n):\n",
    "    if n > 10:\n",
    "        return n\n",
    "    \n",
    "list(filter(even,list1))"
   ]
  },
  {
   "cell_type": "markdown",
   "id": "b9eb8f80",
   "metadata": {},
   "source": [
    "3. \n",
    "   - Define a list of strings where each string represents a number (e.g., `[\"1\", \"2\", \"3\"]`).\n",
    "   - Use the `map` function to convert each string to an integer and store the result in a new list.\n",
    "   - Use the `map` function again to square each integer in the new list and store the result in another new list.\n",
    "   - Print both new lists."
   ]
  },
  {
   "cell_type": "code",
   "execution_count": 13,
   "id": "4e47f6aa",
   "metadata": {},
   "outputs": [],
   "source": [
    "list2 = [\"1\", \"2\", \"3\",\"4\",\"5\"]"
   ]
  },
  {
   "cell_type": "code",
   "execution_count": 14,
   "id": "ffcb648a",
   "metadata": {},
   "outputs": [
    {
     "name": "stdout",
     "output_type": "stream",
     "text": [
      "[1, 2, 3, 4, 5]\n"
     ]
    }
   ],
   "source": [
    "numbers = list(map(int,list2))\n",
    "print(numbers)"
   ]
  },
  {
   "cell_type": "code",
   "execution_count": 16,
   "id": "e45741ee",
   "metadata": {},
   "outputs": [
    {
     "data": {
      "text/plain": [
       "[1, 4, 9, 16, 25]"
      ]
     },
     "execution_count": 16,
     "metadata": {},
     "output_type": "execute_result"
    }
   ],
   "source": [
    "square = lambda i : i**2 \n",
    "list(map(square,numbers))"
   ]
  },
  {
   "cell_type": "markdown",
   "id": "6577e2ba",
   "metadata": {},
   "source": [
    "4. \n",
    "   - Create a list of dictionaries, where each dictionary represents a person with keys \"name\" and \"age\". Example: ` [{\"name\": \"Alice\", \"age\": 30}, {\"name\": \"Bob\", \"age\": 25}, ...]`\n",
    "   - Use the `filter` function to create a new list that contains only the people who are older than 25.\n",
    "   - Use the `map` function to create a new list that contains the names of the filtered people.\n",
    "   - Print the list of names."
   ]
  },
  {
   "cell_type": "code",
   "execution_count": 53,
   "id": "1176ce37",
   "metadata": {},
   "outputs": [
    {
     "data": {
      "text/plain": [
       "[{'name': 'aditya', 'age': 26}, {'name': 'charan', 'age': 27}]"
      ]
     },
     "execution_count": 53,
     "metadata": {},
     "output_type": "execute_result"
    }
   ],
   "source": [
    "names = [{'name': 'Laxman','age':24},\n",
    "        {'name': 'Sathish','age':25},\n",
    "        {'name': 'aditya', 'age':26},\n",
    "        {'name': 'charan','age':27}]\n",
    "\n",
    "def ages(n):\n",
    "    if n['age']> 25:\n",
    "        return n\n",
    "\n",
    "list(filter(ages,names))\n"
   ]
  },
  {
   "cell_type": "code",
   "execution_count": 64,
   "id": "952adc4c",
   "metadata": {},
   "outputs": [
    {
     "data": {
      "text/plain": [
       "[{'Laxman'}, {'Sathish'}, {'aditya'}, {'charan'}]"
      ]
     },
     "execution_count": 64,
     "metadata": {},
     "output_type": "execute_result"
    }
   ],
   "source": [
    "\n",
    "def ages(n):\n",
    "    return {n['name']}\n",
    "\n",
    "list(map(ages,names))\n"
   ]
  },
  {
   "cell_type": "markdown",
   "id": "6c11d12c",
   "metadata": {},
   "source": [
    "5. \n",
    "   - Create a program that reads a list of numbers from the user (you can use the `input` function for this).\n",
    "   - Use `map` and `filter` functions to perform the following operations:\n",
    "     - Square each number.\n",
    "     - Filter out numbers that are not divisible by 3.\n",
    "   - Print the result."
   ]
  },
  {
   "cell_type": "code",
   "execution_count": 68,
   "id": "59d15e93",
   "metadata": {},
   "outputs": [
    {
     "name": "stdout",
     "output_type": "stream",
     "text": [
      "How many numbers you want to enter :: 5\n",
      "Enter an number :: 1\n",
      "Enter an number :: 2\n",
      "Enter an number :: 3\n",
      "Enter an number :: 4\n",
      "Enter an number :: 5\n",
      "Original List :  [1, 2, 3, 4, 5]\n",
      "Square of the numbers :  [1, 4, 9, 16, 25]\n",
      "Numbers that are not divisible by 3 :  [1, 2, 4, 5]\n"
     ]
    }
   ],
   "source": [
    "def square(n) :\n",
    "    return n*n\n",
    "list_1 = []\n",
    "num = int(input(\"How many numbers you want to enter :: \"))\n",
    "for i in range(0,num) :\n",
    "    num_1 = int(input(\"Enter an number :: \"))\n",
    "    list_1.append(num_1)\n",
    "print(\"Original List : \",list_1)\n",
    "a = list(map(square,list_1))\n",
    "print(\"Square of the numbers : \",a)\n",
    "def divide(n) :\n",
    "    return n%3!=0\n",
    "b = list(filter(divide,list_1))\n",
    "print(\"Numbers that are not divisible by 3 : \",b)"
   ]
  },
  {
   "cell_type": "code",
   "execution_count": null,
   "id": "e89d1305",
   "metadata": {},
   "outputs": [],
   "source": []
  }
 ],
 "metadata": {
  "kernelspec": {
   "display_name": "Python 3 (ipykernel)",
   "language": "python",
   "name": "python3"
  },
  "language_info": {
   "codemirror_mode": {
    "name": "ipython",
    "version": 3
   },
   "file_extension": ".py",
   "mimetype": "text/x-python",
   "name": "python",
   "nbconvert_exporter": "python",
   "pygments_lexer": "ipython3",
   "version": "3.11.4"
  }
 },
 "nbformat": 4,
 "nbformat_minor": 5
}
