{
 "cells": [
  {
   "cell_type": "markdown",
   "id": "d2326a53",
   "metadata": {},
   "source": [
    "\n",
    "1. Write a Python code that takes a student's score as input (an integer) and returns their corresponding grade based on the following grading scale:\n",
    "   - 90 or above: 'A'\n",
    "   - 80 to 89: 'B'\n",
    "   - 70 to 79: 'C'\n",
    "   - 60 to 69: 'D'\n",
    "   - Below 60: 'F'\n",
    "\n",
    "   Use nested `if...elif...else` statements to implement this grading system\n",
    "\n",
    "\n",
    "\n"
   ]
  },
  {
   "cell_type": "code",
   "execution_count": 20,
   "id": "1c6e9cd4",
   "metadata": {},
   "outputs": [
    {
     "name": "stdout",
     "output_type": "stream",
     "text": [
      "Enter your marks:: 99\n",
      "A grade\n"
     ]
    }
   ],
   "source": [
    "marks = int(input(\"Enter your marks:: \"))\n",
    "\n",
    "if (marks > 0):\n",
    "    if (marks >= 90) and(marks <= 100):\n",
    "        print('A grade')\n",
    "    elif (marks >=80) and (marks < 89):\n",
    "        print('B grade')\n",
    "\n",
    "    elif (marks >= 70) and (marks< 79):\n",
    "        print(\"C grade\")\n",
    "\n",
    "    elif (marks>=60) and (marks< 69):\n",
    "        print('D grade')\n",
    "        \n",
    "    elif(marks < 60):\n",
    "        print(\"Fail\")\n",
    "\n",
    "    elif (marks >100)   or  (marks<0):\n",
    "        print(\"Enter valid marks\")\n",
    "\n",
    "else :\n",
    "    print(\"Fail\")"
   ]
  },
  {
   "cell_type": "markdown",
   "id": "ad831de3",
   "metadata": {},
   "source": [
    "2. write python code to compare given three numbers(normal method)"
   ]
  },
  {
   "cell_type": "code",
   "execution_count": 35,
   "id": "4af701cb",
   "metadata": {},
   "outputs": [
    {
     "name": "stdout",
     "output_type": "stream",
     "text": [
      "Enter the first number:45\n",
      "Enter the second number:54\n",
      "Enter the third number:65\n",
      "num_3 is the largest number\n"
     ]
    }
   ],
   "source": [
    "num_1 = int(input(\"Enter the first number:\"))\n",
    "num_2 = int(input(\"Enter the second number:\"))\n",
    "num_3 = int(input(\"Enter the third number:\"))\n",
    "\n",
    "if num_1 >= num_2:\n",
    "    print(\"num_1 is the largest number\")\n",
    "elif num_2 >= num_3:\n",
    "    print(\"num_2 is the largest number\")\n",
    "else:\n",
    "    print(\"num_3 is the largest number\")\n",
    "    "
   ]
  },
  {
   "cell_type": "markdown",
   "id": "4fadfe98",
   "metadata": {},
   "source": [
    "3. Write python code to compare given two number by using normal method and ternary operator."
   ]
  },
  {
   "cell_type": "code",
   "execution_count": 36,
   "id": "fbafbaf5",
   "metadata": {},
   "outputs": [
    {
     "name": "stdout",
     "output_type": "stream",
     "text": [
      "Enter the first number:54\n",
      "Enter the second number:347\n",
      "num_2 is the largest number\n"
     ]
    }
   ],
   "source": [
    "num_1 = int(input(\"Enter the first number:\"))\n",
    "num_2 = int(input(\"Enter the second number:\"))\n",
    "\n",
    "if num_1 >= num_2:\n",
    "    print(\"num_1 is the largest number\")\n",
    "else:\n",
    "    print(\"num_2 is the largest number\")"
   ]
  },
  {
   "cell_type": "code",
   "execution_count": 37,
   "id": "d2c646af",
   "metadata": {},
   "outputs": [
    {
     "data": {
      "text/plain": [
       "'num_2 is the largest number'"
      ]
     },
     "execution_count": 37,
     "metadata": {},
     "output_type": "execute_result"
    }
   ],
   "source": [
    "[\"num_2 is the largest number\" , \"num_1 is the largest number\"] [ num_1 > num_2]"
   ]
  },
  {
   "cell_type": "code",
   "execution_count": 38,
   "id": "01231820",
   "metadata": {},
   "outputs": [
    {
     "data": {
      "text/plain": [
       "'num_2 is the largest number'"
      ]
     },
     "execution_count": 38,
     "metadata": {},
     "output_type": "execute_result"
    }
   ],
   "source": [
    "\"num_1 is the largest number\" if num_1 > num_2 else \"num_2 is the largest number\""
   ]
  },
  {
   "cell_type": "markdown",
   "id": "5ca153f5",
   "metadata": {},
   "source": [
    "\n",
    "\n",
    "4. Write python code to to verify age by the user input whether they are adult(>18) or children(<18) by using normal method and ternary operator."
   ]
  },
  {
   "cell_type": "code",
   "execution_count": 30,
   "id": "ccf521cb",
   "metadata": {},
   "outputs": [
    {
     "name": "stdout",
     "output_type": "stream",
     "text": [
      "Enter your age::18\n",
      "you are an adult\n"
     ]
    }
   ],
   "source": [
    "age = int(input(\"Enter your age::\"))\n",
    "\n",
    "if age < 18:\n",
    "    print(\"you are an children\")\n",
    "else:\n",
    "    print(\"you are an adult\")"
   ]
  },
  {
   "cell_type": "code",
   "execution_count": 32,
   "id": "6689160c",
   "metadata": {},
   "outputs": [
    {
     "data": {
      "text/plain": [
       "'you are an adult'"
      ]
     },
     "execution_count": 32,
     "metadata": {},
     "output_type": "execute_result"
    }
   ],
   "source": [
    "[\"you are an adult\" , \"you are an children\"] [age < 18]"
   ]
  },
  {
   "cell_type": "code",
   "execution_count": 33,
   "id": "2f8ef04a",
   "metadata": {},
   "outputs": [
    {
     "data": {
      "text/plain": [
       "'you are an adult'"
      ]
     },
     "execution_count": 33,
     "metadata": {},
     "output_type": "execute_result"
    }
   ],
   "source": [
    "\"you are an children\" if age < 18 else \"you are an adult\""
   ]
  },
  {
   "cell_type": "code",
   "execution_count": null,
   "id": "00d77475",
   "metadata": {},
   "outputs": [],
   "source": []
  }
 ],
 "metadata": {
  "kernelspec": {
   "display_name": "Python 3 (ipykernel)",
   "language": "python",
   "name": "python3"
  },
  "language_info": {
   "codemirror_mode": {
    "name": "ipython",
    "version": 3
   },
   "file_extension": ".py",
   "mimetype": "text/x-python",
   "name": "python",
   "nbconvert_exporter": "python",
   "pygments_lexer": "ipython3",
   "version": "3.11.4"
  }
 },
 "nbformat": 4,
 "nbformat_minor": 5
}
