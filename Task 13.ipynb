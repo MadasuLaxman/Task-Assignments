{
 "cells": [
  {
   "cell_type": "markdown",
   "id": "75b6f100",
   "metadata": {},
   "source": [
    "1. Write a function called \"add_numbers\" that takes two integers as input and returns their sum.\n"
   ]
  },
  {
   "cell_type": "code",
   "execution_count": 6,
   "id": "b4534305",
   "metadata": {},
   "outputs": [
    {
     "data": {
      "text/plain": [
       "20"
      ]
     },
     "execution_count": 6,
     "metadata": {},
     "output_type": "execute_result"
    }
   ],
   "source": [
    "def add_numbers(a,b):\n",
    "    return a+b\n",
    "add_numbers(10,10)"
   ]
  },
  {
   "cell_type": "code",
   "execution_count": 28,
   "id": "e6c56331",
   "metadata": {},
   "outputs": [
    {
     "name": "stdout",
     "output_type": "stream",
     "text": [
      "Enter the first number::112\n",
      "Enter the second number::12\n",
      "124\n"
     ]
    }
   ],
   "source": [
    "def add(a,b):\n",
    "    print(a+b)\n",
    "a = int(input(\"Enter the first number::\"))\n",
    "b = int(input(\"Enter the second number::\"))\n",
    "add(a,b)"
   ]
  },
  {
   "cell_type": "markdown",
   "id": "96622114",
   "metadata": {},
   "source": [
    "2. Write a function called \"multiply_numbers\" that takes two integers as input and returns their product.\n"
   ]
  },
  {
   "cell_type": "code",
   "execution_count": null,
   "id": "16dfc4a9",
   "metadata": {},
   "outputs": [],
   "source": [
    "def multiply_numbers(x,y):\n",
    "    return x*y\n",
    "multiply_numbers(15,5)"
   ]
  },
  {
   "cell_type": "code",
   "execution_count": 29,
   "id": "677fe307",
   "metadata": {},
   "outputs": [
    {
     "name": "stdout",
     "output_type": "stream",
     "text": [
      "Enter the first number::2\n",
      "Enter the second number::2\n"
     ]
    },
    {
     "data": {
      "text/plain": [
       "4"
      ]
     },
     "execution_count": 29,
     "metadata": {},
     "output_type": "execute_result"
    }
   ],
   "source": [
    "def multiply_numbers(x,y):\n",
    "    return x*y\n",
    "multiply_numbers(x = int(input(\"Enter the first number::\")),y = int(input(\"Enter the second number::\")))"
   ]
  },
  {
   "cell_type": "markdown",
   "id": "e1729a18",
   "metadata": {},
   "source": [
    "3. Write a function called \"calculate_average\" that takes a list of numbers as input and returns the average of those numbers.\n"
   ]
  },
  {
   "cell_type": "code",
   "execution_count": 87,
   "id": "e270ab80",
   "metadata": {},
   "outputs": [
    {
     "name": "stdout",
     "output_type": "stream",
     "text": [
      "17.5\n"
     ]
    }
   ],
   "source": [
    "def calculate_average(a,b,c,d):\n",
    "    print(sum(a+b+c+d)/len(a+b+c+d))\n",
    "calculate_average([10,20,30,10],[10,20,30,10],[10,20,30,10],[10,20,30,10])"
   ]
  },
  {
   "cell_type": "markdown",
   "id": "56b3f6ae",
   "metadata": {},
   "source": [
    "4. Write a function called \"is_even\" that takes an integer as input and returns True if the number is even, and False otherwise.\n"
   ]
  },
  {
   "cell_type": "code",
   "execution_count": 27,
   "id": "17df9daf",
   "metadata": {},
   "outputs": [
    {
     "name": "stdout",
     "output_type": "stream",
     "text": [
      "Enter an number::6\n",
      "True\n"
     ]
    }
   ],
   "source": [
    "def is_even(a):\n",
    "    if a%2== 0:\n",
    "        print(\"True\")\n",
    "    else:\n",
    "        print(\"False\")\n",
    "is_even(a = int(input(\"Enter an number::\")))"
   ]
  },
  {
   "cell_type": "code",
   "execution_count": 23,
   "id": "8563c6d6",
   "metadata": {},
   "outputs": [
    {
     "name": "stdout",
     "output_type": "stream",
     "text": [
      "True\n"
     ]
    }
   ],
   "source": [
    "def is_even(a):\n",
    "    if a%2== 0:\n",
    "        print(\"True\")\n",
    "    else:\n",
    "        print(\"False\")\n",
    "is_even(10)"
   ]
  },
  {
   "cell_type": "markdown",
   "id": "bbe4a07e",
   "metadata": {},
   "source": [
    "5. Write a function called \"reverse_string\" that takes a string as input and returns the reverse of that string."
   ]
  },
  {
   "cell_type": "code",
   "execution_count": 80,
   "id": "1284911e",
   "metadata": {},
   "outputs": [
    {
     "name": "stdout",
     "output_type": "stream",
     "text": [
      "Original String: Hello, World!\n",
      "Reversed String: !dlroW ,olleH\n"
     ]
    }
   ],
   "source": [
    "def reverse_string(input_string):\n",
    "    return input_string[::-1]\n",
    "\n",
    "original_string = \"Hello, World!\"\n",
    "reversed_string = reverse_string(original_string)\n",
    "print(\"Original String:\", original_string)\n",
    "print(\"Reversed String:\", reversed_string)\n"
   ]
  },
  {
   "cell_type": "markdown",
   "id": "88cfe536",
   "metadata": {},
   "source": [
    "6. Write a function called \"count_vowels\" that takes a string as input and returns the number of vowels (a, e, i, o, u) in that string."
   ]
  },
  {
   "cell_type": "code",
   "execution_count": 89,
   "id": "acaeb415",
   "metadata": {},
   "outputs": [
    {
     "name": "stdout",
     "output_type": "stream",
     "text": [
      "The number of vowels are 8\n"
     ]
    }
   ],
   "source": [
    "vowel = ['a','e','i','o','u']\n",
    "def count_vowels(name):\n",
    "    if count_vowels in vowel:\n",
    "        vowel_count = vowel_count+1\n",
    "       \n",
    "        vowel_count = 0\n",
    "print('The number of vowels are',vowel_count)\n",
    "count_vowels(\"innomatics research labs\")"
   ]
  },
  {
   "cell_type": "markdown",
   "id": "ca2064fb",
   "metadata": {},
   "source": [
    "7. Write a function called \"find_max\" that takes a list of numbers as input and returns the maximum value in that list.\n"
   ]
  },
  {
   "cell_type": "code",
   "execution_count": 81,
   "id": "ff82e553",
   "metadata": {},
   "outputs": [
    {
     "name": "stdout",
     "output_type": "stream",
     "text": [
      "19\n"
     ]
    }
   ],
   "source": [
    "def find_max(a,b,c):\n",
    "    print(max(a,b,c))\n",
    "    \n",
    "find_max(12,15,19)"
   ]
  },
  {
   "cell_type": "markdown",
   "id": "02af87e1",
   "metadata": {},
   "source": [
    "8. Write a function called \"find_min\" that takes a list of numbers as input and returns the minimum value in that list."
   ]
  },
  {
   "cell_type": "code",
   "execution_count": 82,
   "id": "920de249",
   "metadata": {},
   "outputs": [
    {
     "name": "stdout",
     "output_type": "stream",
     "text": [
      "12\n"
     ]
    }
   ],
   "source": [
    "def find_min(a,b,c):\n",
    "    print(min(a,b,c))\n",
    "    \n",
    "find_min(12,15,19)"
   ]
  },
  {
   "cell_type": "code",
   "execution_count": null,
   "id": "aa58f720",
   "metadata": {},
   "outputs": [],
   "source": []
  }
 ],
 "metadata": {
  "kernelspec": {
   "display_name": "Python 3 (ipykernel)",
   "language": "python",
   "name": "python3"
  },
  "language_info": {
   "codemirror_mode": {
    "name": "ipython",
    "version": 3
   },
   "file_extension": ".py",
   "mimetype": "text/x-python",
   "name": "python",
   "nbconvert_exporter": "python",
   "pygments_lexer": "ipython3",
   "version": "3.11.4"
  }
 },
 "nbformat": 4,
 "nbformat_minor": 5
}
