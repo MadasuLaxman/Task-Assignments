{
 "cells": [
  {
   "cell_type": "markdown",
   "id": "b8536ea7",
   "metadata": {},
   "source": [
    "* Write a program that calculates the `sum, difference, product, and quotient` of two numbers: 10 and 5.\n",
    "\n",
    "* Create a program that calculates the `area of a circle` with a radius of 4.5 units."
   ]
  },
  {
   "cell_type": "markdown",
   "id": "3f81b9d8",
   "metadata": {},
   "source": [
    "*  Write a program that `swaps` the values of two variables: x with a value of 5 and \"y\" with a value of 10.\n",
    "* Create a program that calculates `compound interest` for a principal amount of $1000, an interest rate of 5%, and a time period of 3 years."
   ]
  },
  {
   "cell_type": "markdown",
   "id": "768483d0",
   "metadata": {},
   "source": [
    "* Write a program that `compares` two numbers: 7 and 12, and determines whether the first number is greater than, less than, or equal to the second number.\n",
    "* Create a program that `checks` if a person of age 18 is eligible to vote based on the voting age requirement.(True/False)"
   ]
  },
  {
   "cell_type": "markdown",
   "id": "7881a204",
   "metadata": {},
   "source": [
    "* Create a program that `swaps` the values of two integers: `a` with a value of 10 and `b` with a value of 20 using\n",
    " *  bitwise XOR (^) operator.\n",
    " * Logical AND\n",
    " * Logical OR\n",
    " * Logical NOT"
   ]
  },
  {
   "cell_type": "markdown",
   "id": "1844e65c",
   "metadata": {},
   "source": [
    "*  Create a Python program that calculates the `area of a rectangle`. Prompt the `user to enter` the length and width of the rectangle, `store them` in variables, and compute the area using the formula:area length width.Finally, `print the calculated area.\n",
    "\n",
    "* Create a Python program that calculates the `average` of three exam scores. Prompt the user to enter the scores, `store them` in variables, calculate the average, and print the result.\n",
    "\n",
    "* Write a Python program that `converts` temperature from Celsius to Fahrenheit. Prompt the user to enter a temperature in Celsius, store it in a variable, and convert it to Fahrenheit using the formula: `Fahrenheit = (Celsius* 9/5)+32`, and print the converted temperature.\n",
    "\n",
    "* What are the `logical operators` in Python? Explain `each one` with an example.\n",
    "\n",
    "* What are the `membership` operators in Python? Explain their usage with examples\n",
    "\n",
    "* List and briefly explain the `basic data types` available in Python.\n",
    "\n",
    "* Write a Python code snippet that `assigns a value to a variable `and determines its `data type` using the type() function."
   ]
  },
  {
   "cell_type": "markdown",
   "id": "95ed62b5",
   "metadata": {},
   "source": [
    "Assignment: Basic Python Operators\n",
    "\n",
    "**Task 1: Arithmetic Operators**\n",
    "1. Write a Python program that takes two user-input numbers and displays their sum using the addition operator.\n",
    "2. Create a program to calculate the area of a rectangle. Prompt the user for the length and width, then use multiplication to find the area.\n",
    "3. Implement a program that converts temperature from Celsius to Fahrenheit using the formula: Fahrenheit = (Celsius * 9/5) + 32.\n",
    "\n",
    "**Task 2: Comparison Operators**\n",
    "1. Write a program that compares two user-input numbers and prints whether the first number is greater than the second number or not.\n",
    "2. Create a program that determines whether a user-input year is a leap year or not. A leap year is divisible by 4 and not divisible by 100, unless it is also divisible by 400.\n",
    "3. Implement a simple guessing game. Generate a random number between 1 and 100 and have the user guess the number. Provide feedback if their guess is too high or too low, and let them know when they've guessed correctly.\n",
    "\n",
    "**Task 3: Logical Operators**\n",
    "1. Write a program that checks whether a user-input number is positive and even using logical AND (`and`) operator.\n",
    "2. Create a login system where you define a correct username and password. Ask the user for their input and compare it with the correct credentials using logical OR (`or`) operator. Provide access if either the username or password is correct.\n",
    "3. Implement a program that determines whether a given year is a leap year and divisible by 7 using logical NOT (`not`) operator.\n",
    "\n",
    "**Task 4: Assignment Operators**\n",
    "1. Write a program to calculate the square of a number using the exponentiation operator (`**`) and assign it back to the same variable.\n",
    "2. Create a program that keeps track of the total score in a game. Prompt the user for their latest score and update the total score using the addition assignment operator (`+=`).\n",
    "3. Implement a program to convert seconds into hours, minutes, and remaining seconds using both division and modulo operators, and then assign each value using assignment operators.\n",
    "\n",
    "**Task 5: Bitwise Operators**\n",
    "1. Write a program that performs a bitwise AND operation between two user-input numbers and displays the result.\n",
    "2. Create a program to toggle the nth bit of a given number. Ask the user for the number and the value of n, then use bitwise XOR (^) operator to toggle the bit.\n",
    "3. Implement a program to swap the values of two variables without using a temporary variable, only using bitwise XOR (^) operator.\n",
    "\n"
   ]
  },
  {
   "cell_type": "markdown",
   "id": "de44af54",
   "metadata": {},
   "source": [
    "# Task 3"
   ]
  },
  {
   "cell_type": "markdown",
   "id": "7ca9700a",
   "metadata": {},
   "source": [
    "1. Write a program that calculates the sum, difference, product, and quotient of two numbers: 10 and 5"
   ]
  },
  {
   "cell_type": "code",
   "execution_count": 1,
   "id": "64cdc7b6",
   "metadata": {},
   "outputs": [],
   "source": [
    "a = 10\n",
    "b = 5"
   ]
  },
  {
   "cell_type": "code",
   "execution_count": 4,
   "id": "5f7ae607",
   "metadata": {},
   "outputs": [
    {
     "name": "stdout",
     "output_type": "stream",
     "text": [
      "15\n",
      "5\n",
      "50\n",
      "2\n"
     ]
    }
   ],
   "source": [
    "print(a + b)\n",
    "print(a - b)\n",
    "print(a * b)\n",
    "print(a // b)"
   ]
  },
  {
   "cell_type": "markdown",
   "id": "0d51b731",
   "metadata": {},
   "source": [
    "2. Create a program that calculates the area of a circle with a radius of 4.5 units."
   ]
  },
  {
   "cell_type": "code",
   "execution_count": null,
   "id": "5c5d1ec8",
   "metadata": {},
   "outputs": [],
   "source": []
  },
  {
   "cell_type": "markdown",
   "id": "efabf027",
   "metadata": {},
   "source": [
    "3. Write a program that swaps the values of two variables: x with a value of 5 and \"y\" with a value of 10."
   ]
  },
  {
   "cell_type": "code",
   "execution_count": 8,
   "id": "6a607149",
   "metadata": {},
   "outputs": [
    {
     "name": "stdout",
     "output_type": "stream",
     "text": [
      "10\n",
      "5\n"
     ]
    }
   ],
   "source": [
    "x = 5\n",
    "y = 10 \n",
    "a = x\n",
    "x = y\n",
    "y = a\n",
    "print(x)\n",
    "print(y)"
   ]
  },
  {
   "cell_type": "markdown",
   "id": "9b6e17ce",
   "metadata": {},
   "source": [
    "4.Create a program that calculates compound interest for a principal amount of $1000, an interest rate of 5%, and a time period of 3 years."
   ]
  },
  {
   "cell_type": "code",
   "execution_count": 10,
   "id": "20302a1b",
   "metadata": {},
   "outputs": [
    {
     "name": "stdout",
     "output_type": "stream",
     "text": [
      "150.0\n"
     ]
    }
   ],
   "source": [
    "#principal amount = 1000\n",
    "#interest rate = 5%\n",
    "#time = 3\n",
    "pit = 1000*0.05*3\n",
    "print(pit)"
   ]
  },
  {
   "cell_type": "markdown",
   "id": "0a68abf4",
   "metadata": {},
   "source": [
    "5. Write a program that compares two numbers: 7 and 12, and determines whether the first number is greater than, less than, or equal to the second number."
   ]
  },
  {
   "cell_type": "code",
   "execution_count": 14,
   "id": "e912002e",
   "metadata": {},
   "outputs": [],
   "source": [
    "a = 7\n",
    "b =12"
   ]
  },
  {
   "cell_type": "code",
   "execution_count": 15,
   "id": "1e5fe439",
   "metadata": {},
   "outputs": [
    {
     "name": "stdout",
     "output_type": "stream",
     "text": [
      "False\n",
      "True\n",
      "False\n"
     ]
    }
   ],
   "source": [
    "print(a > b)\n",
    "print(a < b)\n",
    "print(a == b)\n"
   ]
  },
  {
   "cell_type": "markdown",
   "id": "60dd0f77",
   "metadata": {},
   "source": [
    "6.Create a program that checks if a person of age 18 is eligible to vote based on the voting age requirement.(True/False)"
   ]
  },
  {
   "cell_type": "code",
   "execution_count": 25,
   "id": "370924c5",
   "metadata": {},
   "outputs": [
    {
     "name": "stdout",
     "output_type": "stream",
     "text": [
      "Enter a number below 18 :15\n",
      "Enter a number above 18 :21\n",
      "False\n",
      "True\n"
     ]
    }
   ],
   "source": [
    "age1 = int(input(\"Enter a number below 18 :\"))\n",
    "age2 = int(input(\"Enter a number above 18 :\"))\n",
    "print(age1==age2)\n",
    "print(age2<=age2)"
   ]
  },
  {
   "cell_type": "markdown",
   "id": "986b6ed2",
   "metadata": {},
   "source": [
    "7. Create a program that swaps the values of two integers: a with a value of 10 and b with a value of 20 using.\n",
    "+ bitwise XOR (^) operator.\n",
    "+ Logical AND\n",
    "+ Logical OR\n",
    "+ Logical NOT"
   ]
  },
  {
   "cell_type": "code",
   "execution_count": 29,
   "id": "68929865",
   "metadata": {},
   "outputs": [
    {
     "name": "stdout",
     "output_type": "stream",
     "text": [
      "0\n",
      "10\n",
      "10\n",
      "False\n"
     ]
    }
   ],
   "source": [
    "a = 10\n",
    "b =20\n",
    "x = a\n",
    "b = x\n",
    "b = a\n",
    "print(a ^ b)\n",
    "print(a and b)\n",
    "print(a or b)\n",
    "print(not b)"
   ]
  },
  {
   "cell_type": "markdown",
   "id": "7f98202d",
   "metadata": {},
   "source": [
    "8. Create a Python program that calculates the area of a rectangle. Prompt the user to enter the length and width of the rectangle, store them in variables, and compute the area using the formula:area length width.Finally, `print the calculated area."
   ]
  },
  {
   "cell_type": "code",
   "execution_count": 31,
   "id": "01977a47",
   "metadata": {},
   "outputs": [
    {
     "name": "stdout",
     "output_type": "stream",
     "text": [
      "Enter the length :17\n",
      "Enter the width :7\n",
      "119\n"
     ]
    }
   ],
   "source": [
    "L = int(input(\"Enter the length :\"))\n",
    "W = int(input(\"Enter the width :\"))\n",
    "A = L*W\n",
    "print(A)"
   ]
  },
  {
   "cell_type": "markdown",
   "id": "3ca5b81a",
   "metadata": {},
   "source": [
    "9. Create a Python program that calculates the average of three exam scores. Prompt the user to enter the scores, store them in variables, calculate the average, and print the result."
   ]
  },
  {
   "cell_type": "code",
   "execution_count": 34,
   "id": "2370d3a5",
   "metadata": {},
   "outputs": [
    {
     "name": "stdout",
     "output_type": "stream",
     "text": [
      "Enter the score : 12\n",
      "Enter the score : 15\n",
      "Enter the score : 15\n",
      "14.0\n"
     ]
    }
   ],
   "source": [
    "English = int(input(\"Enter the score : \"))\n",
    "Telugu = int(input(\"Enter the score : \"))\n",
    "Hindi = int(input(\"Enter the score : \"))\n",
    "total_score = English+Telugu+Hindi\n",
    "avarage = total_score/3\n",
    "print(avarage)"
   ]
  },
  {
   "cell_type": "markdown",
   "id": "0a400cb5",
   "metadata": {},
   "source": [
    "10. Write a Python program that converts temperature from Celsius to Fahrenheit. Prompt the user to enter a temperature in Celsius, store it in a variable, and convert it to Fahrenheit using the formula: Fahrenheit = (Celsius* 9/5)+32, and print the converted temperature."
   ]
  },
  {
   "cell_type": "code",
   "execution_count": 37,
   "id": "b93af131",
   "metadata": {},
   "outputs": [
    {
     "name": "stdout",
     "output_type": "stream",
     "text": [
      "Enter the temperature : 177\n",
      "350.6\n"
     ]
    }
   ],
   "source": [
    "celsius = int(input(\"Enter the temperature : \"))\n",
    "fahrenheit = (celsius*9/5)+32\n",
    "print(fahrenheit) "
   ]
  },
  {
   "cell_type": "markdown",
   "id": "3c176219",
   "metadata": {},
   "source": [
    "11. What are the logical operators in Python? Explain each one with an example."
   ]
  },
  {
   "cell_type": "markdown",
   "id": "3b178dc2",
   "metadata": {},
   "source": [
    "# Logical operators"
   ]
  },
  {
   "cell_type": "markdown",
   "id": "dddc929e",
   "metadata": {},
   "source": [
    "### And operator"
   ]
  },
  {
   "cell_type": "markdown",
   "id": "10c36449",
   "metadata": {},
   "source": [
    "In **AND** Operator\n",
    "* If any condition is False, then the output is also False.\n",
    "* If values are given, it will take Last value as output."
   ]
  },
  {
   "cell_type": "code",
   "execution_count": 40,
   "id": "8ade744d",
   "metadata": {},
   "outputs": [
    {
     "data": {
      "text/plain": [
       "True"
      ]
     },
     "execution_count": 40,
     "metadata": {},
     "output_type": "execute_result"
    }
   ],
   "source": [
    "A = 20\n",
    "B = 30\n",
    "(A < B) and (B > A)"
   ]
  },
  {
   "cell_type": "code",
   "execution_count": 41,
   "id": "3b0b5678",
   "metadata": {},
   "outputs": [
    {
     "data": {
      "text/plain": [
       "17"
      ]
     },
     "execution_count": 41,
     "metadata": {},
     "output_type": "execute_result"
    }
   ],
   "source": [
    "100 and 12 and 25 and 17"
   ]
  },
  {
   "cell_type": "markdown",
   "id": "2919df44",
   "metadata": {},
   "source": [
    "### OR operator"
   ]
  },
  {
   "cell_type": "markdown",
   "id": "45aece1e",
   "metadata": {},
   "source": [
    "In **OR** Operator\n",
    "* If any condition is True, then the output is also True.\n",
    "* If values are given, it will take first value as output."
   ]
  },
  {
   "cell_type": "code",
   "execution_count": 42,
   "id": "ab25ba50",
   "metadata": {},
   "outputs": [
    {
     "data": {
      "text/plain": [
       "True"
      ]
     },
     "execution_count": 42,
     "metadata": {},
     "output_type": "execute_result"
    }
   ],
   "source": [
    "A = 20\n",
    "B = 30\n",
    "(A < B) or (B > A)"
   ]
  },
  {
   "cell_type": "code",
   "execution_count": 43,
   "id": "1d4017e7",
   "metadata": {},
   "outputs": [
    {
     "data": {
      "text/plain": [
       "12"
      ]
     },
     "execution_count": 43,
     "metadata": {},
     "output_type": "execute_result"
    }
   ],
   "source": [
    "12 or 123 or 17"
   ]
  },
  {
   "cell_type": "markdown",
   "id": "201b69c0",
   "metadata": {},
   "source": [
    "### Not operator"
   ]
  },
  {
   "cell_type": "markdown",
   "id": "c6f3833a",
   "metadata": {},
   "source": [
    "In **Not** operator opposite words\n",
    "* True = False \n",
    "+ False = True \n",
    "* integer (0)\n",
    "* float (0.0)\n",
    "* Empty string('')\n",
    "* False\n",
    "\n",
    "+ **Except above all are True in python** "
   ]
  },
  {
   "cell_type": "code",
   "execution_count": 44,
   "id": "a06a5c51",
   "metadata": {},
   "outputs": [
    {
     "data": {
      "text/plain": [
       "True"
      ]
     },
     "execution_count": 44,
     "metadata": {},
     "output_type": "execute_result"
    }
   ],
   "source": [
    "a = 10\n",
    "b = 20\n",
    "not (a > b)"
   ]
  },
  {
   "cell_type": "code",
   "execution_count": 45,
   "id": "23a969a8",
   "metadata": {},
   "outputs": [
    {
     "data": {
      "text/plain": [
       "False"
      ]
     },
     "execution_count": 45,
     "metadata": {},
     "output_type": "execute_result"
    }
   ],
   "source": [
    "not True"
   ]
  },
  {
   "cell_type": "code",
   "execution_count": 46,
   "id": "a8cec1a9",
   "metadata": {},
   "outputs": [
    {
     "data": {
      "text/plain": [
       "True"
      ]
     },
     "execution_count": 46,
     "metadata": {},
     "output_type": "execute_result"
    }
   ],
   "source": [
    "not False"
   ]
  },
  {
   "cell_type": "code",
   "execution_count": 47,
   "id": "b1a16dcc",
   "metadata": {},
   "outputs": [
    {
     "data": {
      "text/plain": [
       "True"
      ]
     },
     "execution_count": 47,
     "metadata": {},
     "output_type": "execute_result"
    }
   ],
   "source": [
    "not 0"
   ]
  },
  {
   "cell_type": "code",
   "execution_count": 48,
   "id": "f352d09e",
   "metadata": {},
   "outputs": [
    {
     "data": {
      "text/plain": [
       "True"
      ]
     },
     "execution_count": 48,
     "metadata": {},
     "output_type": "execute_result"
    }
   ],
   "source": [
    "not 0.0"
   ]
  },
  {
   "cell_type": "markdown",
   "id": "68768fcb",
   "metadata": {},
   "source": [
    "12. What are the `membership` operators in Python? Explain their usage with examples\n"
   ]
  },
  {
   "cell_type": "markdown",
   "id": "65812a33",
   "metadata": {},
   "source": [
    "## **in**,**not in**"
   ]
  },
  {
   "cell_type": "code",
   "execution_count": 49,
   "id": "a3ef8eb9",
   "metadata": {},
   "outputs": [
    {
     "data": {
      "text/plain": [
       "True"
      ]
     },
     "execution_count": 49,
     "metadata": {},
     "output_type": "execute_result"
    }
   ],
   "source": [
    "a = \"Laxman\"\n",
    "\"L\" in a"
   ]
  },
  {
   "cell_type": "code",
   "execution_count": 50,
   "id": "bf01c486",
   "metadata": {},
   "outputs": [
    {
     "data": {
      "text/plain": [
       "True"
      ]
     },
     "execution_count": 50,
     "metadata": {},
     "output_type": "execute_result"
    }
   ],
   "source": [
    "'l' not in a"
   ]
  },
  {
   "cell_type": "code",
   "execution_count": 51,
   "id": "3b46546e",
   "metadata": {},
   "outputs": [
    {
     "data": {
      "text/plain": [
       "False"
      ]
     },
     "execution_count": 51,
     "metadata": {},
     "output_type": "execute_result"
    }
   ],
   "source": [
    "'l' in a"
   ]
  },
  {
   "cell_type": "markdown",
   "id": "da9961de",
   "metadata": {},
   "source": [
    "13. List and briefly explain the `basic data types` available in Python.\n"
   ]
  },
  {
   "cell_type": "markdown",
   "id": "f7f083a2",
   "metadata": {},
   "source": [
    "**Basic datatypes are**\n",
    "\n",
    "+ Integer\n",
    "+ Float\n",
    "+ Boolean\n",
    "+ string"
   ]
  },
  {
   "cell_type": "markdown",
   "id": "a89a8b92",
   "metadata": {},
   "source": [
    "### integer"
   ]
  },
  {
   "cell_type": "markdown",
   "id": "d99c31e6",
   "metadata": {},
   "source": [
    "We can use int datatype to represent numbers(integral values)"
   ]
  },
  {
   "cell_type": "code",
   "execution_count": 54,
   "id": "b4a74eb0",
   "metadata": {},
   "outputs": [
    {
     "data": {
      "text/plain": [
       "int"
      ]
     },
     "execution_count": 54,
     "metadata": {},
     "output_type": "execute_result"
    }
   ],
   "source": [
    "a = 17\n",
    "type(a)"
   ]
  },
  {
   "cell_type": "markdown",
   "id": "a96e36d2",
   "metadata": {},
   "source": [
    "### Float"
   ]
  },
  {
   "cell_type": "markdown",
   "id": "1d523f65",
   "metadata": {},
   "source": [
    "we can use float to represent decimal values"
   ]
  },
  {
   "cell_type": "code",
   "execution_count": 58,
   "id": "efd2592b",
   "metadata": {},
   "outputs": [
    {
     "data": {
      "text/plain": [
       "float"
      ]
     },
     "execution_count": 58,
     "metadata": {},
     "output_type": "execute_result"
    }
   ],
   "source": [
    "a = 17.7\n",
    "type(a)"
   ]
  },
  {
   "cell_type": "markdown",
   "id": "8b1a413c",
   "metadata": {},
   "source": [
    "### Boolean"
   ]
  },
  {
   "cell_type": "markdown",
   "id": "3524105c",
   "metadata": {},
   "source": [
    "it represents the True and False"
   ]
  },
  {
   "cell_type": "code",
   "execution_count": 57,
   "id": "dacf92f3",
   "metadata": {},
   "outputs": [
    {
     "data": {
      "text/plain": [
       "bool"
      ]
     },
     "execution_count": 57,
     "metadata": {},
     "output_type": "execute_result"
    }
   ],
   "source": [
    "a = True\n",
    "type(a)"
   ]
  },
  {
   "cell_type": "markdown",
   "id": "70b32ff9",
   "metadata": {},
   "source": [
    "### String"
   ]
  },
  {
   "cell_type": "markdown",
   "id": "7366d54e",
   "metadata": {},
   "source": [
    "string is a sequence of charecters or single character (text data) inside single/double quotes.\n",
    "\n"
   ]
  },
  {
   "cell_type": "code",
   "execution_count": 59,
   "id": "0dd97e20",
   "metadata": {},
   "outputs": [
    {
     "data": {
      "text/plain": [
       "str"
      ]
     },
     "execution_count": 59,
     "metadata": {},
     "output_type": "execute_result"
    }
   ],
   "source": [
    "x = \"laxman\"\n",
    "type(x)"
   ]
  },
  {
   "cell_type": "markdown",
   "id": "0347ab71",
   "metadata": {},
   "source": [
    "14. Write a Python code snippet that `assigns a value to a variable `and determines its `data type` using the type() function."
   ]
  },
  {
   "cell_type": "code",
   "execution_count": 63,
   "id": "b3e36077",
   "metadata": {},
   "outputs": [
    {
     "data": {
      "text/plain": [
       "int"
      ]
     },
     "execution_count": 63,
     "metadata": {},
     "output_type": "execute_result"
    }
   ],
   "source": [
    "val = 17\n",
    "a = 17.7\n",
    "s = \"l\"\n",
    "type(val)"
   ]
  },
  {
   "cell_type": "markdown",
   "id": "8c1e33a3",
   "metadata": {},
   "source": [
    "**Task 3: Arithmetic Operators**\n",
    "1. Write a Python program that takes two user-input numbers and displays their sum using the addition operator."
   ]
  },
  {
   "cell_type": "code",
   "execution_count": 70,
   "id": "3307db32",
   "metadata": {},
   "outputs": [
    {
     "name": "stdout",
     "output_type": "stream",
     "text": [
      "Enter a value :10\n",
      "Enter a value :20\n",
      "30\n"
     ]
    }
   ],
   "source": [
    "a = int(input(\"Enter a value :\"))\n",
    "b = int(input(\"Enter a value :\"))\n",
    "x = a+b\n",
    "print(x)"
   ]
  },
  {
   "cell_type": "markdown",
   "id": "27c864cb",
   "metadata": {},
   "source": [
    "2. Create a program to calculate the area of a rectangle. Prompt the user for the length and width, then use multiplication to find the area."
   ]
  },
  {
   "cell_type": "code",
   "execution_count": 71,
   "id": "eb0210a1",
   "metadata": {},
   "outputs": [
    {
     "name": "stdout",
     "output_type": "stream",
     "text": [
      "Enter the length :24\n",
      "Enter the width :24\n",
      "576\n"
     ]
    }
   ],
   "source": [
    "L = int(input(\"Enter the length :\"))\n",
    "W = int(input(\"Enter the width :\"))\n",
    "A = L*W\n",
    "print(A)"
   ]
  },
  {
   "cell_type": "markdown",
   "id": "60759443",
   "metadata": {},
   "source": [
    "3. Implement a program that converts temperature from Celsius to Fahrenheit using the formula: Fahrenheit = (Celsius * 9/5) + 32."
   ]
  },
  {
   "cell_type": "code",
   "execution_count": 72,
   "id": "075ba9d8",
   "metadata": {},
   "outputs": [
    {
     "name": "stdout",
     "output_type": "stream",
     "text": [
      "Enter the temperature : 12\n",
      "53.6\n"
     ]
    }
   ],
   "source": [
    "celsius = int(input(\"Enter the temperature : \"))\n",
    "fahrenheit = (celsius*9/5)+32\n",
    "print(fahrenheit) "
   ]
  },
  {
   "cell_type": "markdown",
   "id": "e4c6bc96",
   "metadata": {},
   "source": [
    "**Task 2: Comparison Operators**\n",
    "1. Write a program that compares two user-input numbers and prints whether the first number is greater than the second number or not."
   ]
  },
  {
   "cell_type": "code",
   "execution_count": 75,
   "id": "df0dca37",
   "metadata": {},
   "outputs": [
    {
     "name": "stdout",
     "output_type": "stream",
     "text": [
      "Enter a value :40\n",
      "Enter a value :30\n",
      "True\n"
     ]
    }
   ],
   "source": [
    "a = int(input(\"Enter a value :\"))\n",
    "b = int(input(\"Enter a value :\"))\n",
    "x = a>b\n",
    "print(x)"
   ]
  },
  {
   "cell_type": "markdown",
   "id": "85aec585",
   "metadata": {},
   "source": [
    "2. Create a program that determines whether a user-input year is a leap year or not. A leap year is divisible by 4 and not divisible by 100, unless it is also divisible by 400."
   ]
  },
  {
   "cell_type": "code",
   "execution_count": 1,
   "id": "7e498467",
   "metadata": {},
   "outputs": [
    {
     "name": "stdout",
     "output_type": "stream",
     "text": [
      "Enter a year : 2021\n",
      "It is not a leap year\n"
     ]
    }
   ],
   "source": [
    "year = int(input(\"Enter a year : \"))\n",
    "\n",
    "\n",
    "if ((year % 4 == 0) and (year % 100 != 0)) or (year % 400 == 0):\n",
    "    print(\"It is a leap Year \")\n",
    "    \n",
    "else :\n",
    "    print(\"It is not a leap year\")"
   ]
  },
  {
   "cell_type": "markdown",
   "id": "3aa22075",
   "metadata": {},
   "source": [
    "3. Implement a simple guessing game. Generate a random number between 1 and 100 and have the user guess the number. Provide feedback if their guess is too high or too low, and let them know when they've guessed correctly."
   ]
  },
  {
   "cell_type": "code",
   "execution_count": null,
   "id": "2e3120af",
   "metadata": {},
   "outputs": [],
   "source": []
  },
  {
   "cell_type": "markdown",
   "id": "6aa3f60c",
   "metadata": {},
   "source": [
    "**Task 3: Logical Operators**\n",
    "1. Write a program that checks whether a user-input number is positive and even using logical AND (`and`) operator."
   ]
  },
  {
   "cell_type": "code",
   "execution_count": null,
   "id": "3c59fe7a",
   "metadata": {},
   "outputs": [],
   "source": [
    "a = int(input(\"Enter a number :\"))\n"
   ]
  },
  {
   "cell_type": "markdown",
   "id": "27125b4d",
   "metadata": {},
   "source": [
    "2. Create a login system where you define a correct username and password. Ask the user for their input and compare it with the correct credentials using logical OR (`or`) operator. Provide access if either the username or password is correct."
   ]
  },
  {
   "cell_type": "code",
   "execution_count": null,
   "id": "b8e700e0",
   "metadata": {},
   "outputs": [],
   "source": []
  },
  {
   "cell_type": "code",
   "execution_count": null,
   "id": "29b296ee",
   "metadata": {},
   "outputs": [],
   "source": []
  },
  {
   "cell_type": "markdown",
   "id": "5f196f19",
   "metadata": {},
   "source": [
    "**Task 4: Assignment Operators**\n",
    "1. Write a program to calculate the square of a number using the exponentiation operator (`**`) and assign it back to the same variable."
   ]
  },
  {
   "cell_type": "code",
   "execution_count": 2,
   "id": "50f1919b",
   "metadata": {},
   "outputs": [
    {
     "name": "stdout",
     "output_type": "stream",
     "text": [
      "16\n"
     ]
    }
   ],
   "source": [
    "a=4\n",
    "b = a**2\n",
    "print(b)"
   ]
  },
  {
   "cell_type": "markdown",
   "id": "012a97fd",
   "metadata": {},
   "source": [
    "**Task 5: Bitwise Operators**\n",
    "1. Write a program that performs a bitwise AND operation between two user-input numbers and displays the result.`"
   ]
  },
  {
   "cell_type": "code",
   "execution_count": 3,
   "id": "874e2ba9",
   "metadata": {},
   "outputs": [
    {
     "name": "stdout",
     "output_type": "stream",
     "text": [
      "Enter a number : 12\n",
      "Enter a number : 13\n",
      "12\n"
     ]
    }
   ],
   "source": [
    "num1 = int(input(\"Enter a number : \"))\n",
    "num2 = int(input(\"Enter a number : \"))\n",
    "print(num1 & num2)"
   ]
  },
  {
   "cell_type": "markdown",
   "id": "a0abdbcc",
   "metadata": {},
   "source": [
    "2. Create a program to toggle the nth bit of a given number. Ask the user for the number and the value of n, then use bitwise XOR (^) operator to toggle the bit."
   ]
  },
  {
   "cell_type": "code",
   "execution_count": null,
   "id": "83d4830e",
   "metadata": {},
   "outputs": [],
   "source": []
  },
  {
   "cell_type": "markdown",
   "id": "68081e41",
   "metadata": {},
   "source": [
    "3. Implement a program to swap the values of two variables without using a temporary variable, only using bitwise XOR (^) operator."
   ]
  },
  {
   "cell_type": "code",
   "execution_count": null,
   "id": "98a63949",
   "metadata": {},
   "outputs": [],
   "source": []
  }
 ],
 "metadata": {
  "kernelspec": {
   "display_name": "Python 3 (ipykernel)",
   "language": "python",
   "name": "python3"
  },
  "language_info": {
   "codemirror_mode": {
    "name": "ipython",
    "version": 3
   },
   "file_extension": ".py",
   "mimetype": "text/x-python",
   "name": "python",
   "nbconvert_exporter": "python",
   "pygments_lexer": "ipython3",
   "version": "3.11.4"
  }
 },
 "nbformat": 4,
 "nbformat_minor": 5
}
