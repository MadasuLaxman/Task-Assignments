{
 "cells": [
  {
   "cell_type": "markdown",
   "id": "ed6bb209",
   "metadata": {},
   "source": [
    "# Task-1"
   ]
  },
  {
   "cell_type": "markdown",
   "id": "5efd181d",
   "metadata": {},
   "source": [
    "## Check the valid Identifiers and invalid identifers using Python"
   ]
  },
  {
   "cell_type": "markdown",
   "id": "aebe5a40",
   "metadata": {},
   "source": [
    "1. **Run all the identifiers and seprate valid and Invalid Identifiers?**\n",
    "\n",
    "2. **Why Python treating them as invalid Identifers.Explain?**"
   ]
  },
  {
   "cell_type": "markdown",
   "id": "17c723bf",
   "metadata": {},
   "source": [
    "* my_variable = 25\n",
    "\n",
    "\n",
    "* counter = 40.7\n",
    "\n",
    "\n",
    "* _total = \"Hello\"\n",
    "\n",
    "\n",
    " - 123abc   = 34      \n",
    " \n",
    " - my variable   =6.7\n",
    " \n",
    " - @count  = \"hi\"      \n",
    " \n",
    " - for   = \"True\"\n",
    " \n",
    "\n",
    "* Name123 = 136\n",
    "\n",
    "* myFunction = True\n",
    "\n",
    "* _data = False\n",
    "- if_condition? = \"Innomatics\"\n",
    "- class = \"Hyderabad\""
   ]
  },
  {
   "cell_type": "markdown",
   "id": "176efbc7",
   "metadata": {},
   "source": [
    "## Valid Identifiers"
   ]
  },
  {
   "cell_type": "code",
   "execution_count": 1,
   "id": "bb4235ef",
   "metadata": {},
   "outputs": [],
   "source": [
    "My_variable = 25"
   ]
  },
  {
   "cell_type": "code",
   "execution_count": 3,
   "id": "0d71c24c",
   "metadata": {},
   "outputs": [],
   "source": [
    "Counter = 40.7"
   ]
  },
  {
   "cell_type": "code",
   "execution_count": 4,
   "id": "4e52955a",
   "metadata": {},
   "outputs": [],
   "source": [
    "_total = \"Hello\""
   ]
  },
  {
   "cell_type": "code",
   "execution_count": 5,
   "id": "34836aa0",
   "metadata": {},
   "outputs": [],
   "source": [
    "Name123 = \"136\""
   ]
  },
  {
   "cell_type": "code",
   "execution_count": 7,
   "id": "2f57c5a0",
   "metadata": {},
   "outputs": [],
   "source": [
    "myFunction = True"
   ]
  },
  {
   "cell_type": "code",
   "execution_count": 8,
   "id": "598453e3",
   "metadata": {},
   "outputs": [],
   "source": [
    "_data = False"
   ]
  },
  {
   "cell_type": "markdown",
   "id": "1e6bd339",
   "metadata": {},
   "source": [
    "## Invalid Identifiers"
   ]
  },
  {
   "cell_type": "code",
   "execution_count": 9,
   "id": "6bddf6c1",
   "metadata": {},
   "outputs": [
    {
     "ename": "SyntaxError",
     "evalue": "invalid decimal literal (2594609077.py, line 1)",
     "output_type": "error",
     "traceback": [
      "\u001b[1;36m  Cell \u001b[1;32mIn[9], line 1\u001b[1;36m\u001b[0m\n\u001b[1;33m    123abc = 34\u001b[0m\n\u001b[1;37m      ^\u001b[0m\n\u001b[1;31mSyntaxError\u001b[0m\u001b[1;31m:\u001b[0m invalid decimal literal\n"
     ]
    }
   ],
   "source": [
    "123abc = 34 #The variable name should not start with number."
   ]
  },
  {
   "cell_type": "code",
   "execution_count": 10,
   "id": "d44aa94e",
   "metadata": {},
   "outputs": [
    {
     "ename": "SyntaxError",
     "evalue": "invalid syntax (4132032776.py, line 1)",
     "output_type": "error",
     "traceback": [
      "\u001b[1;36m  Cell \u001b[1;32mIn[10], line 1\u001b[1;36m\u001b[0m\n\u001b[1;33m    my variable =6.7\u001b[0m\n\u001b[1;37m       ^\u001b[0m\n\u001b[1;31mSyntaxError\u001b[0m\u001b[1;31m:\u001b[0m invalid syntax\n"
     ]
    }
   ],
   "source": [
    "my variable =6.7  #The variable should not contain spaces."
   ]
  },
  {
   "cell_type": "code",
   "execution_count": 11,
   "id": "87f67d01",
   "metadata": {},
   "outputs": [
    {
     "ename": "SyntaxError",
     "evalue": "invalid syntax. Maybe you meant '==' or ':=' instead of '='? (388528748.py, line 1)",
     "output_type": "error",
     "traceback": [
      "\u001b[1;36m  Cell \u001b[1;32mIn[11], line 1\u001b[1;36m\u001b[0m\n\u001b[1;33m    @count = \"hi\"\u001b[0m\n\u001b[1;37m     ^\u001b[0m\n\u001b[1;31mSyntaxError\u001b[0m\u001b[1;31m:\u001b[0m invalid syntax. Maybe you meant '==' or ':=' instead of '='?\n"
     ]
    }
   ],
   "source": [
    "@count = \"hi\" #The Variable should not contain special charecter except Underscore. "
   ]
  },
  {
   "cell_type": "code",
   "execution_count": 12,
   "id": "9fa68cba",
   "metadata": {},
   "outputs": [
    {
     "ename": "SyntaxError",
     "evalue": "invalid syntax (3895380788.py, line 1)",
     "output_type": "error",
     "traceback": [
      "\u001b[1;36m  Cell \u001b[1;32mIn[12], line 1\u001b[1;36m\u001b[0m\n\u001b[1;33m    for = \"True\"\u001b[0m\n\u001b[1;37m        ^\u001b[0m\n\u001b[1;31mSyntaxError\u001b[0m\u001b[1;31m:\u001b[0m invalid syntax\n"
     ]
    }
   ],
   "source": [
    "for = \"True\" #The variable should not be a keyword."
   ]
  },
  {
   "cell_type": "code",
   "execution_count": 13,
   "id": "e4c25b4c",
   "metadata": {},
   "outputs": [
    {
     "ename": "SyntaxError",
     "evalue": "invalid syntax (51595175.py, line 1)",
     "output_type": "error",
     "traceback": [
      "\u001b[1;36m  Cell \u001b[1;32mIn[13], line 1\u001b[1;36m\u001b[0m\n\u001b[1;33m    if_condition? = \"Innomatics\"\u001b[0m\n\u001b[1;37m                ^\u001b[0m\n\u001b[1;31mSyntaxError\u001b[0m\u001b[1;31m:\u001b[0m invalid syntax\n"
     ]
    }
   ],
   "source": [
    "if_condition? = \"Innomatics\" #The Variable should not contain special symbol except Underscore. "
   ]
  },
  {
   "cell_type": "code",
   "execution_count": 14,
   "id": "40cc0b66",
   "metadata": {},
   "outputs": [
    {
     "ename": "SyntaxError",
     "evalue": "invalid syntax (423682886.py, line 1)",
     "output_type": "error",
     "traceback": [
      "\u001b[1;36m  Cell \u001b[1;32mIn[14], line 1\u001b[1;36m\u001b[0m\n\u001b[1;33m    class = \"Hyderabad\"\u001b[0m\n\u001b[1;37m          ^\u001b[0m\n\u001b[1;31mSyntaxError\u001b[0m\u001b[1;31m:\u001b[0m invalid syntax\n"
     ]
    }
   ],
   "source": [
    "class = \"Hyderabad\" #The variable should not be a keyword."
   ]
  },
  {
   "cell_type": "markdown",
   "id": "35c32a6f",
   "metadata": {},
   "source": [
    "### Use different identifiers and assign the below values"
   ]
  },
  {
   "cell_type": "markdown",
   "id": "d606e5ac",
   "metadata": {},
   "source": [
    "10\n",
    "\n",
    "-5\n",
    "\n",
    "3.14159\n",
    "\n",
    "-0.12345\n",
    "\n",
    "1000\n",
    "\n",
    "\"Hello, World!\"\n",
    "\n",
    "\"Python\"\n",
    "\n",
    "\"I am learning\"\n",
    "\n",
    "\"Text type\"\n",
    "\n",
    "\"String\"\n",
    "\n",
    "True\n",
    "\n",
    "False\n",
    "\n",
    "True\n",
    "\n",
    "False\n",
    "\n",
    "True\n",
    "\n"
   ]
  },
  {
   "cell_type": "code",
   "execution_count": 15,
   "id": "773315dc",
   "metadata": {},
   "outputs": [],
   "source": [
    "val17 = 10"
   ]
  },
  {
   "cell_type": "code",
   "execution_count": 16,
   "id": "73e6c480",
   "metadata": {},
   "outputs": [],
   "source": [
    "num_ = -5"
   ]
  },
  {
   "cell_type": "code",
   "execution_count": 17,
   "id": "e5111d26",
   "metadata": {},
   "outputs": [],
   "source": [
    "true = 3.14159"
   ]
  },
  {
   "cell_type": "code",
   "execution_count": 20,
   "id": "1e01de67",
   "metadata": {},
   "outputs": [],
   "source": [
    " _false = -0.12345"
   ]
  },
  {
   "cell_type": "code",
   "execution_count": 21,
   "id": "e915a6c4",
   "metadata": {},
   "outputs": [],
   "source": [
    "_17 = 1000"
   ]
  },
  {
   "cell_type": "code",
   "execution_count": 23,
   "id": "d2202818",
   "metadata": {},
   "outputs": [],
   "source": [
    " _17_ = \"Hello, World\""
   ]
  },
  {
   "cell_type": "code",
   "execution_count": 24,
   "id": "9a993070",
   "metadata": {},
   "outputs": [],
   "source": [
    "learn_me = \"python\""
   ]
  },
  {
   "cell_type": "code",
   "execution_count": 26,
   "id": "073c45aa",
   "metadata": {},
   "outputs": [],
   "source": [
    "python_3114 = \"I am learning\""
   ]
  },
  {
   "cell_type": "code",
   "execution_count": 27,
   "id": "5e6ee5b4",
   "metadata": {},
   "outputs": [],
   "source": [
    "HTML = \"Text type\""
   ]
  },
  {
   "cell_type": "code",
   "execution_count": 28,
   "id": "ea54b15c",
   "metadata": {},
   "outputs": [],
   "source": [
    "PyThOn = \"String\""
   ]
  },
  {
   "cell_type": "code",
   "execution_count": 29,
   "id": "3e01435d",
   "metadata": {},
   "outputs": [],
   "source": [
    "faLse0 = \"True\""
   ]
  },
  {
   "cell_type": "code",
   "execution_count": 30,
   "id": "35663a8e",
   "metadata": {},
   "outputs": [],
   "source": [
    "_truE17 = \"False\""
   ]
  },
  {
   "cell_type": "code",
   "execution_count": 31,
   "id": "21b27ec1",
   "metadata": {},
   "outputs": [],
   "source": [
    "DATA17 = \"True\""
   ]
  },
  {
   "cell_type": "code",
   "execution_count": 32,
   "id": "18ba9aaa",
   "metadata": {},
   "outputs": [],
   "source": [
    "TATA_17 = \"False\""
   ]
  },
  {
   "cell_type": "code",
   "execution_count": 33,
   "id": "b449952a",
   "metadata": {},
   "outputs": [],
   "source": [
    "_Enter_17_ = \"True\""
   ]
  },
  {
   "cell_type": "code",
   "execution_count": null,
   "id": "114abaa6",
   "metadata": {},
   "outputs": [],
   "source": []
  }
 ],
 "metadata": {
  "kernelspec": {
   "display_name": "Python 3 (ipykernel)",
   "language": "python",
   "name": "python3"
  },
  "language_info": {
   "codemirror_mode": {
    "name": "ipython",
    "version": 3
   },
   "file_extension": ".py",
   "mimetype": "text/x-python",
   "name": "python",
   "nbconvert_exporter": "python",
   "pygments_lexer": "ipython3",
   "version": "3.11.4"
  }
 },
 "nbformat": 4,
 "nbformat_minor": 5
}
