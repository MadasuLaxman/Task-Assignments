{
 "cells": [
  {
   "cell_type": "markdown",
   "id": "8dc8a778",
   "metadata": {},
   "source": [
    "\n",
    "`use context manager`\n",
    "\n",
    "**Create a file**\n",
    "Write a Python program that creates a text file named \"data.txt\" and add data about python programming (should contain at least 5 lines)\n",
    "\n",
    "**Read and Display File Contents**\n",
    "Write a Python program that reads a text file named \"data.txt\" and displays its contents on the screen.\n",
    "\n",
    "**Count Words in a File**\n",
    "Write a Python program that reads a text file named \"data.txt\" and counts the total number of words in the file. Display the word count on the screen.\n",
    "\n",
    "**Search and Replace**\n",
    "Create a Python program that reads a text file named \"data.txt\" and asks the user to enter a word to search for. If the word is found in the file, replace all occurrences of the word with a new word provided by the user.\n",
    "\n",
    "**Append to a File**\n",
    "Write a Python program that prompts the user to enter a sentence. Append this sentence to an existing file named \"notes.txt\". Make sure the newly added sentence starts on a new line.\n",
    "\n",
    "\n"
   ]
  },
  {
   "cell_type": "markdown",
   "id": "a74703df",
   "metadata": {},
   "source": [
    "**Create a file**\n",
    "Write a Python program that creates a text file named \"data.txt\" and add data about python programming (should contain at least 5 lines)"
   ]
  },
  {
   "cell_type": "code",
   "execution_count": 61,
   "id": "fe7f3004",
   "metadata": {},
   "outputs": [],
   "source": [
    "file = open('data.txt','w')"
   ]
  },
  {
   "cell_type": "code",
   "execution_count": 62,
   "id": "d6a02e38",
   "metadata": {},
   "outputs": [
    {
     "data": {
      "text/plain": [
       "997"
      ]
     },
     "execution_count": 62,
     "metadata": {},
     "output_type": "execute_result"
    }
   ],
   "source": [
    "file.write('Python supports object-oriented programming along with other programming paradigms.\\nPython is an interpreted language, which means it is not compiled into machine code like languages such as C++ or Java.\\nPython has a vast and rich ecosystem of third-party libraries and packages, making it a popular choice for a wide range of applications.\\nPython is open-source and free to use. There are no licensing fees associated with Python.\\nPython uses indentation to define code blocks and enforce a consistent and readable coding style.\\nPython is dynamically typed, which means you don\"t need to declare the data type of a variable explicitly.\\nPython allows you to define string literals using either single quotes ('') or double quotes (\"\").\\nPython is a general-purpose programming language and can be used for a wide variety of applications, including web development, data analysis, scientific computing, desktop applications, and more.\\nPython was created by Guido van Rossum and first released in 1991.')"
   ]
  },
  {
   "cell_type": "code",
   "execution_count": 63,
   "id": "d547e596",
   "metadata": {},
   "outputs": [],
   "source": [
    "file.close()"
   ]
  },
  {
   "cell_type": "markdown",
   "id": "4d863750",
   "metadata": {},
   "source": [
    "**Read and Display File Contents**\n",
    "Write a Python program that reads a text file named \"data.txt\" and displays its contents on the screen.\n"
   ]
  },
  {
   "cell_type": "code",
   "execution_count": 24,
   "id": "6d5d6064",
   "metadata": {},
   "outputs": [],
   "source": [
    "file = open('data.txt','r')"
   ]
  },
  {
   "cell_type": "code",
   "execution_count": 25,
   "id": "f9c2efb5",
   "metadata": {},
   "outputs": [
    {
     "name": "stdout",
     "output_type": "stream",
     "text": [
      "Python supports object-oriented programming along with other programming paradigms.\n",
      "Python is an interpreted language, which means it is not compiled into machine code like languages such as C++ or Java.\n",
      "Python has a vast and rich ecosystem of third-party libraries and packages, making it a popular choice for a wide range of applications.\n",
      "Python is open-source and free to use. There are no licensing fees associated with Python.\n",
      "Python uses indentation to define code blocks and enforce a consistent and readable coding style.\n",
      "Python is dynamically typed, which means you don\"t need to declare the data type of a variable explicitly.\n",
      "Python allows you to define string literals using either single quotes () or double quotes (\"\").\n",
      "Python is a general-purpose programming language and can be used for a wide variety of applications, including web development, data analysis, scientific computing, desktop applications, and more.\n",
      "Python was created by Guido van Rossum and first released in 1991.\n"
     ]
    }
   ],
   "source": [
    "file.seek(0)\n",
    "print(file.read())"
   ]
  },
  {
   "cell_type": "markdown",
   "id": "f71fa2e6",
   "metadata": {},
   "source": [
    "**Count Words in a File**\n",
    "Write a Python program that reads a text file named \"data.txt\" and counts the total number of words in the file. Display the word count on the screen."
   ]
  },
  {
   "cell_type": "code",
   "execution_count": 26,
   "id": "8b7201db",
   "metadata": {},
   "outputs": [],
   "source": [
    "file = open('data.txt','r')"
   ]
  },
  {
   "cell_type": "code",
   "execution_count": 27,
   "id": "20a9ff66",
   "metadata": {},
   "outputs": [],
   "source": [
    "File1 = file.read()"
   ]
  },
  {
   "cell_type": "code",
   "execution_count": 28,
   "id": "6efa3d96",
   "metadata": {},
   "outputs": [
    {
     "data": {
      "text/plain": [
       "['Python',\n",
       " 'supports',\n",
       " 'object-oriented',\n",
       " 'programming',\n",
       " 'along',\n",
       " 'with',\n",
       " 'other',\n",
       " 'programming',\n",
       " 'paradigms.',\n",
       " 'Python',\n",
       " 'is',\n",
       " 'an',\n",
       " 'interpreted',\n",
       " 'language,',\n",
       " 'which',\n",
       " 'means',\n",
       " 'it',\n",
       " 'is',\n",
       " 'not',\n",
       " 'compiled',\n",
       " 'into',\n",
       " 'machine',\n",
       " 'code',\n",
       " 'like',\n",
       " 'languages',\n",
       " 'such',\n",
       " 'as',\n",
       " 'C++',\n",
       " 'or',\n",
       " 'Java.',\n",
       " 'Python',\n",
       " 'has',\n",
       " 'a',\n",
       " 'vast',\n",
       " 'and',\n",
       " 'rich',\n",
       " 'ecosystem',\n",
       " 'of',\n",
       " 'third-party',\n",
       " 'libraries',\n",
       " 'and',\n",
       " 'packages,',\n",
       " 'making',\n",
       " 'it',\n",
       " 'a',\n",
       " 'popular',\n",
       " 'choice',\n",
       " 'for',\n",
       " 'a',\n",
       " 'wide',\n",
       " 'range',\n",
       " 'of',\n",
       " 'applications.',\n",
       " 'Python',\n",
       " 'is',\n",
       " 'open-source',\n",
       " 'and',\n",
       " 'free',\n",
       " 'to',\n",
       " 'use.',\n",
       " 'There',\n",
       " 'are',\n",
       " 'no',\n",
       " 'licensing',\n",
       " 'fees',\n",
       " 'associated',\n",
       " 'with',\n",
       " 'Python.',\n",
       " 'Python',\n",
       " 'uses',\n",
       " 'indentation',\n",
       " 'to',\n",
       " 'define',\n",
       " 'code',\n",
       " 'blocks',\n",
       " 'and',\n",
       " 'enforce',\n",
       " 'a',\n",
       " 'consistent',\n",
       " 'and',\n",
       " 'readable',\n",
       " 'coding',\n",
       " 'style.',\n",
       " 'Python',\n",
       " 'is',\n",
       " 'dynamically',\n",
       " 'typed,',\n",
       " 'which',\n",
       " 'means',\n",
       " 'you',\n",
       " 'don\"t',\n",
       " 'need',\n",
       " 'to',\n",
       " 'declare',\n",
       " 'the',\n",
       " 'data',\n",
       " 'type',\n",
       " 'of',\n",
       " 'a',\n",
       " 'variable',\n",
       " 'explicitly.',\n",
       " 'Python',\n",
       " 'allows',\n",
       " 'you',\n",
       " 'to',\n",
       " 'define',\n",
       " 'string',\n",
       " 'literals',\n",
       " 'using',\n",
       " 'either',\n",
       " 'single',\n",
       " 'quotes',\n",
       " '()',\n",
       " 'or',\n",
       " 'double',\n",
       " 'quotes',\n",
       " '(\"\").',\n",
       " 'Python',\n",
       " 'is',\n",
       " 'a',\n",
       " 'general-purpose',\n",
       " 'programming',\n",
       " 'language',\n",
       " 'and',\n",
       " 'can',\n",
       " 'be',\n",
       " 'used',\n",
       " 'for',\n",
       " 'a',\n",
       " 'wide',\n",
       " 'variety',\n",
       " 'of',\n",
       " 'applications,',\n",
       " 'including',\n",
       " 'web',\n",
       " 'development,',\n",
       " 'data',\n",
       " 'analysis,',\n",
       " 'scientific',\n",
       " 'computing,',\n",
       " 'desktop',\n",
       " 'applications,',\n",
       " 'and',\n",
       " 'more.',\n",
       " 'Python',\n",
       " 'was',\n",
       " 'created',\n",
       " 'by',\n",
       " 'Guido',\n",
       " 'van',\n",
       " 'Rossum',\n",
       " 'and',\n",
       " 'first',\n",
       " 'released',\n",
       " 'in',\n",
       " '1991.']"
      ]
     },
     "execution_count": 28,
     "metadata": {},
     "output_type": "execute_result"
    }
   ],
   "source": [
    "File1.split()"
   ]
  },
  {
   "cell_type": "code",
   "execution_count": 29,
   "id": "45d47027",
   "metadata": {},
   "outputs": [
    {
     "data": {
      "text/plain": [
       "156"
      ]
     },
     "execution_count": 29,
     "metadata": {},
     "output_type": "execute_result"
    }
   ],
   "source": [
    "len(File1.split())"
   ]
  },
  {
   "cell_type": "markdown",
   "id": "25114777",
   "metadata": {},
   "source": [
    "**Search and Replace**\n",
    "Create a Python program that reads a text file named \"data.txt\" and asks the user to enter a word to search for. If the word is found in the file, replace all occurrences of the word with a new word provided by the user.\n"
   ]
  },
  {
   "cell_type": "code",
   "execution_count": 65,
   "id": "ded3bf95",
   "metadata": {},
   "outputs": [],
   "source": [
    "file = open('data.txt','r')"
   ]
  },
  {
   "cell_type": "code",
   "execution_count": 66,
   "id": "dd0f16c6",
   "metadata": {},
   "outputs": [
    {
     "name": "stdout",
     "output_type": "stream",
     "text": [
      "Python supports object-oriented programming along with other programming paradigms.\n",
      "Python is an interpreted language, which means it is not compiled into machine code like languages such as C++ or Java.\n",
      "Python has a vast and rich ecosystem of third-party libraries and packages, making it a popular choice for a wide range of applications.\n",
      "Python is open-source and free to use. There are no licensing fees associated with Python.\n",
      "Python uses indentation to define code blocks and enforce a consistent and readable coding style.\n",
      "Python is dynamically typed, which means you don\"t need to declare the data type of a variable explicitly.\n",
      "Python allows you to define string literals using either single quotes () or double quotes (\"\").\n",
      "Python is a general-purpose programming language and can be used for a wide variety of applications, including web development, data analysis, scientific computing, desktop applications, and more.\n",
      "Python was created by Guido van Rossum and first released in 1991.\n"
     ]
    }
   ],
   "source": [
    "file.seek(0)\n",
    "data = file.read()\n",
    "print(data)"
   ]
  },
  {
   "cell_type": "code",
   "execution_count": 67,
   "id": "50b050de",
   "metadata": {},
   "outputs": [
    {
     "data": {
      "text/plain": [
       "True"
      ]
     },
     "execution_count": 67,
     "metadata": {},
     "output_type": "execute_result"
    }
   ],
   "source": [
    "'Python' in data"
   ]
  },
  {
   "cell_type": "code",
   "execution_count": 69,
   "id": "c7d07e32",
   "metadata": {},
   "outputs": [
    {
     "name": "stdout",
     "output_type": "stream",
     "text": [
      "Enter a word to search::Python\n",
      "Found the Python\n",
      "Enter the new word to replace it in the data: py\n",
      "Search and replace completed successfully.\n"
     ]
    }
   ],
   "source": [
    "search = input(\"Enter a word to search::\")\n",
    "if search in data:\n",
    "    print(f\"Found the {search}\")\n",
    "    new = input(\"Enter the new word to replace it in the data: \")\n",
    "    replace = data.replace(search,new)\n",
    "    with open(r\"data.txt\", \"w\") as file:\n",
    "        file.write(replace)\n",
    "else:\n",
    "    print(\"The word not found\")\n",
    "print(\"Search and replace completed successfully.\")"
   ]
  },
  {
   "cell_type": "code",
   "execution_count": 70,
   "id": "f154221c",
   "metadata": {},
   "outputs": [],
   "source": [
    "file = open('data.txt','r')"
   ]
  },
  {
   "cell_type": "code",
   "execution_count": 71,
   "id": "e65594e7",
   "metadata": {},
   "outputs": [
    {
     "name": "stdout",
     "output_type": "stream",
     "text": [
      "py supports object-oriented programming along with other programming paradigms.\n",
      "py is an interpreted language, which means it is not compiled into machine code like languages such as C++ or Java.\n",
      "py has a vast and rich ecosystem of third-party libraries and packages, making it a popular choice for a wide range of applications.\n",
      "py is open-source and free to use. There are no licensing fees associated with py.\n",
      "py uses indentation to define code blocks and enforce a consistent and readable coding style.\n",
      "py is dynamically typed, which means you don\"t need to declare the data type of a variable explicitly.\n",
      "py allows you to define string literals using either single quotes () or double quotes (\"\").\n",
      "py is a general-purpose programming language and can be used for a wide variety of applications, including web development, data analysis, scientific computing, desktop applications, and more.\n",
      "py was created by Guido van Rossum and first released in 1991.\n"
     ]
    }
   ],
   "source": [
    "print(file.read())"
   ]
  },
  {
   "cell_type": "markdown",
   "id": "d6a8792a",
   "metadata": {},
   "source": [
    "**Append to a File**\n",
    "Write a Python program that prompts the user to enter a sentence. Append this sentence to an existing file named \"notes.txt\". Make sure the newly added sentence starts on a new line.\n"
   ]
  },
  {
   "cell_type": "code",
   "execution_count": 86,
   "id": "48d527e2",
   "metadata": {},
   "outputs": [
    {
     "name": "stdout",
     "output_type": "stream",
     "text": [
      "Enter a word to append::python was created by Guido van Rossum.\n",
      "sentence appended to 'notes.txt' successfully.\n"
     ]
    }
   ],
   "source": [
    "sentence = input(\"Enter a word to append::\")\n",
    "with open(\"notes.txt\", \"a\") as file:\n",
    "    file.write(\"\\n\" + add)\n",
    "print(\"sentence appended to 'notes.txt' successfully.\")"
   ]
  },
  {
   "cell_type": "code",
   "execution_count": 90,
   "id": "66fa8fe4",
   "metadata": {},
   "outputs": [],
   "source": [
    "file= open('notes.txt')"
   ]
  },
  {
   "cell_type": "code",
   "execution_count": 91,
   "id": "bc4e78b8",
   "metadata": {},
   "outputs": [
    {
     "name": "stdout",
     "output_type": "stream",
     "text": [
      "\n",
      "python was created by Guido van Rossum.\n"
     ]
    }
   ],
   "source": [
    "print(file.read())"
   ]
  },
  {
   "cell_type": "code",
   "execution_count": 92,
   "id": "db6b5ef9",
   "metadata": {},
   "outputs": [
    {
     "name": "stdout",
     "output_type": "stream",
     "text": [
      "Enter a word to append::python was created by Guido van Rossum.\n",
      "sentence appended to 'data.txt' successfully.\n"
     ]
    }
   ],
   "source": [
    "sentence = input(\"Enter a word to append::\")\n",
    "with open(\"data.txt\", \"a\") as file:\n",
    "    file.write(\"\\n\" + add)\n",
    "print(\"sentence appended to 'data.txt' successfully.\")"
   ]
  },
  {
   "cell_type": "code",
   "execution_count": 93,
   "id": "07909c90",
   "metadata": {},
   "outputs": [],
   "source": [
    "file= open('data.txt')"
   ]
  },
  {
   "cell_type": "code",
   "execution_count": 94,
   "id": "d088b575",
   "metadata": {},
   "outputs": [
    {
     "name": "stdout",
     "output_type": "stream",
     "text": [
      "py supports object-oriented programming along with other programming paradigms.\n",
      "py is an interpreted language, which means it is not compiled into machine code like languages such as C++ or Java.\n",
      "py has a vast and rich ecosystem of third-party libraries and packages, making it a popular choice for a wide range of applications.\n",
      "py is open-source and free to use. There are no licensing fees associated with py.\n",
      "py uses indentation to define code blocks and enforce a consistent and readable coding style.\n",
      "py is dynamically typed, which means you don\"t need to declare the data type of a variable explicitly.\n",
      "py allows you to define string literals using either single quotes () or double quotes (\"\").\n",
      "py is a general-purpose programming language and can be used for a wide variety of applications, including web development, data analysis, scientific computing, desktop applications, and more.\n",
      "py was created by Guido van Rossum and first released in 1991.\n",
      "\n",
      "python was created by Guido van Rossum.\n"
     ]
    }
   ],
   "source": [
    "print(file.read())"
   ]
  },
  {
   "cell_type": "code",
   "execution_count": null,
   "id": "9d0ce4a8",
   "metadata": {},
   "outputs": [],
   "source": []
  }
 ],
 "metadata": {
  "kernelspec": {
   "display_name": "Python 3 (ipykernel)",
   "language": "python",
   "name": "python3"
  },
  "language_info": {
   "codemirror_mode": {
    "name": "ipython",
    "version": 3
   },
   "file_extension": ".py",
   "mimetype": "text/x-python",
   "name": "python",
   "nbconvert_exporter": "python",
   "pygments_lexer": "ipython3",
   "version": "3.11.4"
  }
 },
 "nbformat": 4,
 "nbformat_minor": 5
}
