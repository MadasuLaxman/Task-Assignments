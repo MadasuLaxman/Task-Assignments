{
 "cells": [
  {
   "cell_type": "markdown",
   "id": "985dd64b",
   "metadata": {},
   "source": [
    "Task 1: **Leap Year Checker**\n",
    "\n",
    "Write a program that takes a year as input and determines whether it is a leap year or not. A leap year is a year that is divisible by 4, but not divisible by 100, unless it is also divisible by 400. Display an appropriate message indicating whether the year is a leap year or not.\n",
    "\n",
    "Task 2: **Grade Calculator**\n",
    "\n",
    "Write a program that takes a student's score as input (out of 100) and determines their grade based on the following conditions:\n",
    "If the score is 90 or above, the grade is 'A'.\n",
    "If the score is between 80 and 89, the grade is 'B'.\n",
    "If the score is between 70 and 79, the grade is 'C'.\n",
    "If the score is between 60 and 69, the grade is 'D'. If the score is below 60, the grade is 'F'.\n",
    "Display the grade corresponding to the entered score.\n",
    "\n",
    "Task 3: **Calculator**\n",
    "Write a program that takes two numbers as input and performs a mathematical operation (+, -, *, /) based on the user's choice. Use a conditional statement to determine the operation to be performed. Display the result of the calculation.\n",
    "\n",
    "Task 4: **Reverse String**\n",
    "Write a Python function to reverse a string.\n",
    "\n",
    "Task 5: **Palindrome**\n",
    "Write a Python function that checks whether a passed string is a palindrome or not.\n",
    "\n",
    "Task 6: **Counting**\n",
    "Write a Python function that accepts a string and counts the number of upper and lower case letters.\n"
   ]
  },
  {
   "cell_type": "markdown",
   "id": "4d588771",
   "metadata": {},
   "source": [
    "Task 1: **Leap Year Checker**\n",
    "\n",
    "Write a program that takes a year as input and determines whether it is a leap year or not. A leap year is a year that is divisible by 4, but not divisible by 100, unless it is also divisible by 400. Display an appropriate message indicating whether the year is a leap year or not.\n"
   ]
  },
  {
   "cell_type": "code",
   "execution_count": 25,
   "id": "59cc89b5",
   "metadata": {},
   "outputs": [
    {
     "name": "stdout",
     "output_type": "stream",
     "text": [
      "Enter a Year :: 2024\n",
      "It is a leap year\n"
     ]
    }
   ],
   "source": [
    "def leap():\n",
    "    year = int(input(\"Enter a Year :: \"))\n",
    "    if (year%4==0) and (year%100!=0) or (year%400==0):\n",
    "        print(\"It is a leap year\")\n",
    "    else :\n",
    "        print(\"It is not leap year \")\n",
    "leap()  "
   ]
  },
  {
   "cell_type": "markdown",
   "id": "a8c5faa6",
   "metadata": {},
   "source": [
    "Task 2: **Grade Calculator**\n",
    "\n",
    "Write a program that takes a student's score as input (out of 100) and determines their grade based on the following conditions:\n",
    "\n",
    "If the score is 90 or above, the grade is 'A'.\n",
    "\n",
    "If the score is between 80 and 89, the grade is 'B'.\n",
    "\n",
    "If the score is between 70 and 79, the grade is 'C'.\n",
    "\n",
    "If the score is between 60 and 69, the grade is 'D'. If the score is below 60, the grade is 'F'.\n",
    "\n",
    "Display the grade corresponding to the entered score."
   ]
  },
  {
   "cell_type": "code",
   "execution_count": 26,
   "id": "2e93f1eb",
   "metadata": {},
   "outputs": [
    {
     "name": "stdout",
     "output_type": "stream",
     "text": [
      "Enter your marks:: 67\n",
      "D grade\n"
     ]
    }
   ],
   "source": [
    "def marks():\n",
    "    marks = int(input(\"Enter your marks:: \"))\n",
    "\n",
    "    if (marks >= 90) and (marks <= 100):\n",
    "        print('A grade')\n",
    "\n",
    "    elif (marks >=80) and (marks < 90):\n",
    "        print('B grade')\n",
    "\n",
    "    elif (marks >= 70) and (marks< 80):\n",
    "        print(\"C grade\")\n",
    "\n",
    "    elif (marks>=60) and (marks< 70):\n",
    "        print('D grade')\n",
    "\n",
    "    elif (marks< 60):\n",
    "        print('Fail')\n",
    "\n",
    "    elif (marks >100)   or  (marks<0):\n",
    "        print(\"Enter valid marks\")\n",
    "marks()"
   ]
  },
  {
   "cell_type": "markdown",
   "id": "0f3cfe55",
   "metadata": {},
   "source": [
    "Task 3: **Calculator**\n",
    "Write a program that takes two numbers as input and performs a mathematical operation (+, -, *, /) based on the user's choice. Use a conditional statement to determine the operation to be performed. Display the result of the calculation."
   ]
  },
  {
   "cell_type": "code",
   "execution_count": 33,
   "id": "291272da",
   "metadata": {},
   "outputs": [
    {
     "name": "stdout",
     "output_type": "stream",
     "text": [
      "choose an operation : (+, -, *, /):: -\n",
      "-10\n"
     ]
    }
   ],
   "source": [
    "def cal(a,b):\n",
    "    user = input('choose an operation : (+, -, *, /):: ')\n",
    "    if (user == \"+\") :\n",
    "        print(a+b)\n",
    "    elif user == \"-\" :\n",
    "        print(a-b)\n",
    "    elif user == \"*\" :\n",
    "        print(a*b)\n",
    "    elif user == \"/\" :\n",
    "        print(a/b)\n",
    "    else :\n",
    "        print(\"Enter a valid operation\")\n",
    "cal(10,20)"
   ]
  },
  {
   "cell_type": "markdown",
   "id": "766b2b7e",
   "metadata": {},
   "source": [
    "Task 4: **Reverse String**\n",
    "Write a Python function to reverse a string."
   ]
  },
  {
   "cell_type": "code",
   "execution_count": 34,
   "id": "af8cc17e",
   "metadata": {},
   "outputs": [
    {
     "name": "stdout",
     "output_type": "stream",
     "text": [
      "Enter a name : Laxman\n"
     ]
    },
    {
     "data": {
      "text/plain": [
       "'namxaL'"
      ]
     },
     "execution_count": 34,
     "metadata": {},
     "output_type": "execute_result"
    }
   ],
   "source": [
    "def rev():\n",
    "    name = input(\"Enter a name : \")\n",
    "    return name[::-1]\n",
    "rev()"
   ]
  },
  {
   "cell_type": "markdown",
   "id": "712a1286",
   "metadata": {},
   "source": [
    "Task 5: **Palindrome**\n",
    "Write a Python function that checks whether a passed string is a palindrome or not."
   ]
  },
  {
   "cell_type": "code",
   "execution_count": 36,
   "id": "a4d852a3",
   "metadata": {},
   "outputs": [
    {
     "name": "stdout",
     "output_type": "stream",
     "text": [
      "Enter a name::rrr\n",
      "it is palindrome\n"
     ]
    }
   ],
   "source": [
    "def user():\n",
    "    user = input(\"Enter a name::\").upper()\n",
    "    reverse = user[::-1]\n",
    "\n",
    "    if user == reverse :\n",
    "        print(\"it is palindrome\")\n",
    "    else:\n",
    "        print(\"it is not palindrome\")\n",
    "user()"
   ]
  },
  {
   "cell_type": "markdown",
   "id": "511b1478",
   "metadata": {},
   "source": [
    "Task 6: **Counting**\n",
    "Write a Python function that accepts a string and counts the number of upper and lower case letters."
   ]
  },
  {
   "cell_type": "code",
   "execution_count": 39,
   "id": "1fdb09af",
   "metadata": {},
   "outputs": [
    {
     "name": "stdout",
     "output_type": "stream",
     "text": [
      "Enter a name::LaaMAAxxxMMMaaaNNN\n",
      "No. of Upper case characters : 10\n",
      "No. of Lower case Characters : 8\n"
     ]
    }
   ],
   "source": [
    "def up_low(s):\n",
    "    # code here\n",
    "    u_count = 0\n",
    "    l_count = 0\n",
    "    for i in s:\n",
    "        if i.isupper():\n",
    "            u_count += 1\n",
    "        elif i.islower():\n",
    "            l_count += 1\n",
    "    return u_count,l_count\n",
    "upper,lower = up_low(input(\"Enter a name::\"))\n",
    "\n",
    "print(\"No. of Upper case characters :\",upper)\n",
    "print(\"No. of Lower case Characters :\",lower)"
   ]
  },
  {
   "cell_type": "code",
   "execution_count": null,
   "id": "3202f6f1",
   "metadata": {},
   "outputs": [],
   "source": []
  }
 ],
 "metadata": {
  "kernelspec": {
   "display_name": "Python 3 (ipykernel)",
   "language": "python",
   "name": "python3"
  },
  "language_info": {
   "codemirror_mode": {
    "name": "ipython",
    "version": 3
   },
   "file_extension": ".py",
   "mimetype": "text/x-python",
   "name": "python",
   "nbconvert_exporter": "python",
   "pygments_lexer": "ipython3",
   "version": "3.11.4"
  }
 },
 "nbformat": 4,
 "nbformat_minor": 5
}
